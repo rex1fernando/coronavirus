{
 "cells": [
  {
   "cell_type": "markdown",
   "metadata": {},
   "source": [
    "- Prediction: By april 3, number of new cases in Italy will be decreasing. The number of new cases started stagnating on March 20, and it took 14 days for Wuhan/Hubei to go from stagnating to decreasing.\n",
    "- Switzerland: same\n",
    "- France: check back on April 1, see if number of daily new cases has passed 3,900\n",
    "- Santa Clara: By April 3, number of cases will be decreasing. The number of cases reached the 80s by March 20, but hasn't reached 90 since then."
   ]
  },
  {
   "cell_type": "code",
   "execution_count": 68,
   "metadata": {},
   "outputs": [],
   "source": [
    "import pandas\n",
    "import altair as alt\n",
    "from scipy.optimize import curve_fit\n",
    "import numpy\n",
    "import datetime"
   ]
  },
  {
   "cell_type": "code",
   "execution_count": 69,
   "metadata": {},
   "outputs": [],
   "source": [
    "data = pandas.read_csv(\"virus.csv\")\n",
    "data['Date'] =  pandas.to_datetime(data['Date'])"
   ]
  },
  {
   "cell_type": "code",
   "execution_count": 70,
   "metadata": {},
   "outputs": [
    {
     "data": {
      "text/plain": [
       "9"
      ]
     },
     "execution_count": 70,
     "metadata": {},
     "output_type": "execute_result"
    }
   ],
   "source": [
    "(pandas.to_datetime(\"2020-03-10\") - pandas.to_datetime(\"2020-03-01\")).days"
   ]
  },
  {
   "cell_type": "code",
   "execution_count": 71,
   "metadata": {},
   "outputs": [],
   "source": [
    "data = data[['Date', 'Number of cases']].sort_values('Date')\n",
    "data['Days_since'] = (data['Date'] - pandas.to_datetime(\"2020-01-31\"))\n",
    "data['Days_since'] = data['Days_since'].apply(lambda x: x.days)\n",
    "data = data.sort_values('Date')\n",
    "data['New cases'] = data['Number of cases'].diff()"
   ]
  },
  {
   "cell_type": "code",
   "execution_count": 72,
   "metadata": {},
   "outputs": [
    {
     "data": {
      "text/html": [
       "<div>\n",
       "<style scoped>\n",
       "    .dataframe tbody tr th:only-of-type {\n",
       "        vertical-align: middle;\n",
       "    }\n",
       "\n",
       "    .dataframe tbody tr th {\n",
       "        vertical-align: top;\n",
       "    }\n",
       "\n",
       "    .dataframe thead th {\n",
       "        text-align: right;\n",
       "    }\n",
       "</style>\n",
       "<table border=\"1\" class=\"dataframe\">\n",
       "  <thead>\n",
       "    <tr style=\"text-align: right;\">\n",
       "      <th></th>\n",
       "      <th>Date</th>\n",
       "      <th>Number of cases</th>\n",
       "      <th>Days_since</th>\n",
       "      <th>New cases</th>\n",
       "    </tr>\n",
       "  </thead>\n",
       "  <tbody>\n",
       "    <tr>\n",
       "      <td>24</td>\n",
       "      <td>2020-01-31</td>\n",
       "      <td>1</td>\n",
       "      <td>0</td>\n",
       "      <td>NaN</td>\n",
       "    </tr>\n",
       "    <tr>\n",
       "      <td>23</td>\n",
       "      <td>2020-02-04</td>\n",
       "      <td>2</td>\n",
       "      <td>4</td>\n",
       "      <td>1.0</td>\n",
       "    </tr>\n",
       "    <tr>\n",
       "      <td>22</td>\n",
       "      <td>2020-02-29</td>\n",
       "      <td>3</td>\n",
       "      <td>29</td>\n",
       "      <td>1.0</td>\n",
       "    </tr>\n",
       "    <tr>\n",
       "      <td>21</td>\n",
       "      <td>2020-03-04</td>\n",
       "      <td>14</td>\n",
       "      <td>33</td>\n",
       "      <td>11.0</td>\n",
       "    </tr>\n",
       "    <tr>\n",
       "      <td>20</td>\n",
       "      <td>2020-03-05</td>\n",
       "      <td>20</td>\n",
       "      <td>34</td>\n",
       "      <td>6.0</td>\n",
       "    </tr>\n",
       "    <tr>\n",
       "      <td>19</td>\n",
       "      <td>2020-03-09</td>\n",
       "      <td>43</td>\n",
       "      <td>38</td>\n",
       "      <td>23.0</td>\n",
       "    </tr>\n",
       "    <tr>\n",
       "      <td>18</td>\n",
       "      <td>2020-03-11</td>\n",
       "      <td>48</td>\n",
       "      <td>40</td>\n",
       "      <td>5.0</td>\n",
       "    </tr>\n",
       "    <tr>\n",
       "      <td>17</td>\n",
       "      <td>2020-03-12</td>\n",
       "      <td>66</td>\n",
       "      <td>41</td>\n",
       "      <td>18.0</td>\n",
       "    </tr>\n",
       "    <tr>\n",
       "      <td>16</td>\n",
       "      <td>2020-03-13</td>\n",
       "      <td>79</td>\n",
       "      <td>42</td>\n",
       "      <td>13.0</td>\n",
       "    </tr>\n",
       "    <tr>\n",
       "      <td>15</td>\n",
       "      <td>2020-03-14</td>\n",
       "      <td>91</td>\n",
       "      <td>43</td>\n",
       "      <td>12.0</td>\n",
       "    </tr>\n",
       "    <tr>\n",
       "      <td>14</td>\n",
       "      <td>2020-03-15</td>\n",
       "      <td>114</td>\n",
       "      <td>44</td>\n",
       "      <td>23.0</td>\n",
       "    </tr>\n",
       "    <tr>\n",
       "      <td>13</td>\n",
       "      <td>2020-03-16</td>\n",
       "      <td>138</td>\n",
       "      <td>45</td>\n",
       "      <td>24.0</td>\n",
       "    </tr>\n",
       "    <tr>\n",
       "      <td>12</td>\n",
       "      <td>2020-03-17</td>\n",
       "      <td>155</td>\n",
       "      <td>46</td>\n",
       "      <td>17.0</td>\n",
       "    </tr>\n",
       "    <tr>\n",
       "      <td>11</td>\n",
       "      <td>2020-03-18</td>\n",
       "      <td>175</td>\n",
       "      <td>47</td>\n",
       "      <td>20.0</td>\n",
       "    </tr>\n",
       "    <tr>\n",
       "      <td>10</td>\n",
       "      <td>2020-03-19</td>\n",
       "      <td>189</td>\n",
       "      <td>48</td>\n",
       "      <td>14.0</td>\n",
       "    </tr>\n",
       "    <tr>\n",
       "      <td>9</td>\n",
       "      <td>2020-03-20</td>\n",
       "      <td>196</td>\n",
       "      <td>49</td>\n",
       "      <td>7.0</td>\n",
       "    </tr>\n",
       "    <tr>\n",
       "      <td>8</td>\n",
       "      <td>2020-03-21</td>\n",
       "      <td>263</td>\n",
       "      <td>50</td>\n",
       "      <td>67.0</td>\n",
       "    </tr>\n",
       "    <tr>\n",
       "      <td>7</td>\n",
       "      <td>2020-03-22</td>\n",
       "      <td>302</td>\n",
       "      <td>51</td>\n",
       "      <td>39.0</td>\n",
       "    </tr>\n",
       "    <tr>\n",
       "      <td>6</td>\n",
       "      <td>2020-03-23</td>\n",
       "      <td>321</td>\n",
       "      <td>52</td>\n",
       "      <td>19.0</td>\n",
       "    </tr>\n",
       "    <tr>\n",
       "      <td>5</td>\n",
       "      <td>2020-03-24</td>\n",
       "      <td>375</td>\n",
       "      <td>53</td>\n",
       "      <td>54.0</td>\n",
       "    </tr>\n",
       "    <tr>\n",
       "      <td>4</td>\n",
       "      <td>2020-03-25</td>\n",
       "      <td>459</td>\n",
       "      <td>54</td>\n",
       "      <td>84.0</td>\n",
       "    </tr>\n",
       "    <tr>\n",
       "      <td>3</td>\n",
       "      <td>2020-03-26</td>\n",
       "      <td>542</td>\n",
       "      <td>55</td>\n",
       "      <td>83.0</td>\n",
       "    </tr>\n",
       "    <tr>\n",
       "      <td>2</td>\n",
       "      <td>2020-03-27</td>\n",
       "      <td>574</td>\n",
       "      <td>56</td>\n",
       "      <td>32.0</td>\n",
       "    </tr>\n",
       "    <tr>\n",
       "      <td>1</td>\n",
       "      <td>2020-03-28</td>\n",
       "      <td>591</td>\n",
       "      <td>57</td>\n",
       "      <td>17.0</td>\n",
       "    </tr>\n",
       "    <tr>\n",
       "      <td>0</td>\n",
       "      <td>2020-03-29</td>\n",
       "      <td>646</td>\n",
       "      <td>58</td>\n",
       "      <td>55.0</td>\n",
       "    </tr>\n",
       "  </tbody>\n",
       "</table>\n",
       "</div>"
      ],
      "text/plain": [
       "         Date  Number of cases  Days_since  New cases\n",
       "24 2020-01-31                1           0        NaN\n",
       "23 2020-02-04                2           4        1.0\n",
       "22 2020-02-29                3          29        1.0\n",
       "21 2020-03-04               14          33       11.0\n",
       "20 2020-03-05               20          34        6.0\n",
       "19 2020-03-09               43          38       23.0\n",
       "18 2020-03-11               48          40        5.0\n",
       "17 2020-03-12               66          41       18.0\n",
       "16 2020-03-13               79          42       13.0\n",
       "15 2020-03-14               91          43       12.0\n",
       "14 2020-03-15              114          44       23.0\n",
       "13 2020-03-16              138          45       24.0\n",
       "12 2020-03-17              155          46       17.0\n",
       "11 2020-03-18              175          47       20.0\n",
       "10 2020-03-19              189          48       14.0\n",
       "9  2020-03-20              196          49        7.0\n",
       "8  2020-03-21              263          50       67.0\n",
       "7  2020-03-22              302          51       39.0\n",
       "6  2020-03-23              321          52       19.0\n",
       "5  2020-03-24              375          53       54.0\n",
       "4  2020-03-25              459          54       84.0\n",
       "3  2020-03-26              542          55       83.0\n",
       "2  2020-03-27              574          56       32.0\n",
       "1  2020-03-28              591          57       17.0\n",
       "0  2020-03-29              646          58       55.0"
      ]
     },
     "execution_count": 72,
     "metadata": {},
     "output_type": "execute_result"
    }
   ],
   "source": [
    "data"
   ]
  },
  {
   "cell_type": "code",
   "execution_count": 73,
   "metadata": {},
   "outputs": [
    {
     "data": {
      "application/vnd.vegalite.v3+json": {
       "$schema": "https://vega.github.io/schema/vega-lite/v3.4.0.json",
       "config": {
        "mark": {
         "tooltip": null
        },
        "view": {
         "height": 300,
         "width": 400
        }
       },
       "datasets": {
        "data-4670cd11b42593d994096f6e28bad584": [
         {
          "Date": "2020-01-31T00:00:00",
          "Number of cases": 1
         },
         {
          "Date": "2020-02-04T00:00:00",
          "Number of cases": 2
         },
         {
          "Date": "2020-02-29T00:00:00",
          "Number of cases": 3
         },
         {
          "Date": "2020-03-04T00:00:00",
          "Number of cases": 14
         },
         {
          "Date": "2020-03-05T00:00:00",
          "Number of cases": 20
         },
         {
          "Date": "2020-03-09T00:00:00",
          "Number of cases": 43
         },
         {
          "Date": "2020-03-11T00:00:00",
          "Number of cases": 48
         },
         {
          "Date": "2020-03-12T00:00:00",
          "Number of cases": 66
         },
         {
          "Date": "2020-03-13T00:00:00",
          "Number of cases": 79
         },
         {
          "Date": "2020-03-14T00:00:00",
          "Number of cases": 91
         },
         {
          "Date": "2020-03-15T00:00:00",
          "Number of cases": 114
         },
         {
          "Date": "2020-03-16T00:00:00",
          "Number of cases": 138
         },
         {
          "Date": "2020-03-17T00:00:00",
          "Number of cases": 155
         },
         {
          "Date": "2020-03-18T00:00:00",
          "Number of cases": 175
         },
         {
          "Date": "2020-03-19T00:00:00",
          "Number of cases": 189
         },
         {
          "Date": "2020-03-20T00:00:00",
          "Number of cases": 196
         },
         {
          "Date": "2020-03-21T00:00:00",
          "Number of cases": 263
         },
         {
          "Date": "2020-03-22T00:00:00",
          "Number of cases": 302
         },
         {
          "Date": "2020-03-23T00:00:00",
          "Number of cases": 321
         },
         {
          "Date": "2020-03-24T00:00:00",
          "Number of cases": 375
         },
         {
          "Date": "2020-03-25T00:00:00",
          "Number of cases": 459
         },
         {
          "Date": "2020-03-26T00:00:00",
          "Number of cases": 542
         },
         {
          "Date": "2020-03-27T00:00:00",
          "Number of cases": 574
         },
         {
          "Date": "2020-03-28T00:00:00",
          "Number of cases": 591
         },
         {
          "Date": "2020-03-29T00:00:00",
          "Number of cases": 646
         }
        ],
        "data-65a599e77cd72a942b05739fd694d35a": [
         {
          "Date": "2020-01-31T00:00:00",
          "New cases": null
         },
         {
          "Date": "2020-02-04T00:00:00",
          "New cases": 1
         },
         {
          "Date": "2020-02-29T00:00:00",
          "New cases": 1
         },
         {
          "Date": "2020-03-04T00:00:00",
          "New cases": 11
         },
         {
          "Date": "2020-03-05T00:00:00",
          "New cases": 6
         },
         {
          "Date": "2020-03-09T00:00:00",
          "New cases": 23
         },
         {
          "Date": "2020-03-11T00:00:00",
          "New cases": 5
         },
         {
          "Date": "2020-03-12T00:00:00",
          "New cases": 18
         },
         {
          "Date": "2020-03-13T00:00:00",
          "New cases": 13
         },
         {
          "Date": "2020-03-14T00:00:00",
          "New cases": 12
         },
         {
          "Date": "2020-03-15T00:00:00",
          "New cases": 23
         },
         {
          "Date": "2020-03-16T00:00:00",
          "New cases": 24
         },
         {
          "Date": "2020-03-17T00:00:00",
          "New cases": 17
         },
         {
          "Date": "2020-03-18T00:00:00",
          "New cases": 20
         },
         {
          "Date": "2020-03-19T00:00:00",
          "New cases": 14
         },
         {
          "Date": "2020-03-20T00:00:00",
          "New cases": 7
         },
         {
          "Date": "2020-03-21T00:00:00",
          "New cases": 67
         },
         {
          "Date": "2020-03-22T00:00:00",
          "New cases": 39
         },
         {
          "Date": "2020-03-23T00:00:00",
          "New cases": 19
         },
         {
          "Date": "2020-03-24T00:00:00",
          "New cases": 54
         },
         {
          "Date": "2020-03-25T00:00:00",
          "New cases": 84
         },
         {
          "Date": "2020-03-26T00:00:00",
          "New cases": 83
         },
         {
          "Date": "2020-03-27T00:00:00",
          "New cases": 32
         },
         {
          "Date": "2020-03-28T00:00:00",
          "New cases": 17
         },
         {
          "Date": "2020-03-29T00:00:00",
          "New cases": 55
         }
        ]
       },
       "layer": [
        {
         "data": {
          "name": "data-4670cd11b42593d994096f6e28bad584"
         },
         "encoding": {
          "x": {
           "field": "Date",
           "type": "temporal"
          },
          "y": {
           "field": "Number of cases",
           "type": "quantitative"
          }
         },
         "mark": "line"
        },
        {
         "data": {
          "name": "data-65a599e77cd72a942b05739fd694d35a"
         },
         "encoding": {
          "x": {
           "field": "Date",
           "type": "temporal"
          },
          "y": {
           "field": "New cases",
           "type": "quantitative"
          }
         },
         "mark": "bar",
         "title": "Coronavirus in California"
        }
       ]
      },
      "image/png": "[encoded data removed]",
      "text/plain": [
       "<VegaLite 3 object>\n",
       "\n",
       "If you see this message, it means the renderer has not been properly enabled\n",
       "for the frontend that you are using. For more information, see\n",
       "https://altair-viz.github.io/user_guide/troubleshooting.html\n"
      ]
     },
     "execution_count": 73,
     "metadata": {},
     "output_type": "execute_result"
    }
   ],
   "source": [
    "alt.Chart(data[['Date', 'Number of cases']]).mark_line().encode(\n",
    "    x='Date',\n",
    "    y='Number of cases'\n",
    ") + alt.Chart(data[['Date', 'New cases']]).mark_bar().encode(\n",
    "    x='Date',\n",
    "    y='New cases'\n",
    ").properties(\n",
    "    title='Coronavirus in Santa Clara County'\n",
    ") \n",
    "\n"
   ]
  },
  {
   "cell_type": "code",
   "execution_count": 74,
   "metadata": {},
   "outputs": [
    {
     "data": {
      "application/vnd.vegalite.v3+json": {
       "$schema": "https://vega.github.io/schema/vega-lite/v3.4.0.json",
       "config": {
        "mark": {
         "tooltip": null
        },
        "view": {
         "height": 300,
         "width": 400
        }
       },
       "data": {
        "name": "data-65a599e77cd72a942b05739fd694d35a"
       },
       "datasets": {
        "data-65a599e77cd72a942b05739fd694d35a": [
         {
          "Date": "2020-01-31T00:00:00",
          "New cases": null
         },
         {
          "Date": "2020-02-04T00:00:00",
          "New cases": 1
         },
         {
          "Date": "2020-02-29T00:00:00",
          "New cases": 1
         },
         {
          "Date": "2020-03-04T00:00:00",
          "New cases": 11
         },
         {
          "Date": "2020-03-05T00:00:00",
          "New cases": 6
         },
         {
          "Date": "2020-03-09T00:00:00",
          "New cases": 23
         },
         {
          "Date": "2020-03-11T00:00:00",
          "New cases": 5
         },
         {
          "Date": "2020-03-12T00:00:00",
          "New cases": 18
         },
         {
          "Date": "2020-03-13T00:00:00",
          "New cases": 13
         },
         {
          "Date": "2020-03-14T00:00:00",
          "New cases": 12
         },
         {
          "Date": "2020-03-15T00:00:00",
          "New cases": 23
         },
         {
          "Date": "2020-03-16T00:00:00",
          "New cases": 24
         },
         {
          "Date": "2020-03-17T00:00:00",
          "New cases": 17
         },
         {
          "Date": "2020-03-18T00:00:00",
          "New cases": 20
         },
         {
          "Date": "2020-03-19T00:00:00",
          "New cases": 14
         },
         {
          "Date": "2020-03-20T00:00:00",
          "New cases": 7
         },
         {
          "Date": "2020-03-21T00:00:00",
          "New cases": 67
         },
         {
          "Date": "2020-03-22T00:00:00",
          "New cases": 39
         },
         {
          "Date": "2020-03-23T00:00:00",
          "New cases": 19
         },
         {
          "Date": "2020-03-24T00:00:00",
          "New cases": 54
         },
         {
          "Date": "2020-03-25T00:00:00",
          "New cases": 84
         },
         {
          "Date": "2020-03-26T00:00:00",
          "New cases": 83
         },
         {
          "Date": "2020-03-27T00:00:00",
          "New cases": 32
         },
         {
          "Date": "2020-03-28T00:00:00",
          "New cases": 17
         },
         {
          "Date": "2020-03-29T00:00:00",
          "New cases": 55
         }
        ]
       },
       "encoding": {
        "tooltip": [
         {
          "field": "Date",
          "type": "temporal"
         },
         {
          "field": "New cases",
          "type": "quantitative"
         }
        ],
        "x": {
         "field": "Date",
         "type": "temporal"
        },
        "y": {
         "field": "New cases",
         "type": "quantitative"
        }
       },
       "height": 150,
       "mark": "bar",
       "title": "Coronavirus in California"
      },
      "image/png": "[encoded data removed]",
      "text/plain": [
       "<VegaLite 3 object>\n",
       "\n",
       "If you see this message, it means the renderer has not been properly enabled\n",
       "for the frontend that you are using. For more information, see\n",
       "https://altair-viz.github.io/user_guide/troubleshooting.html\n"
      ]
     },
     "execution_count": 74,
     "metadata": {},
     "output_type": "execute_result"
    }
   ],
   "source": [
    "alt.Chart(data[['Date', 'New cases']], height=150).mark_bar().encode(\n",
    "    x='Date',\n",
    "    y='New cases',\n",
    "    tooltip=['Date','New cases']\n",
    ").properties(\n",
    "    title='Coronavirus in Santa Clara County'\n",
    ")"
   ]
  },
  {
   "cell_type": "code",
   "execution_count": null,
   "metadata": {},
   "outputs": [],
   "source": []
  },
  {
   "cell_type": "code",
   "execution_count": null,
   "metadata": {},
   "outputs": [],
   "source": []
  }
 ],
 "metadata": {
  "kernelspec": {
   "display_name": "Python 3",
   "language": "python",
   "name": "python3"
  },
  "language_info": {
   "codemirror_mode": {
    "name": "ipython",
    "version": 3
   },
   "file_extension": ".py",
   "mimetype": "text/x-python",
   "name": "python",
   "nbconvert_exporter": "python",
   "pygments_lexer": "ipython3",
   "version": "3.7.6"
  }
 },
 "nbformat": 4,
 "nbformat_minor": 4
}
