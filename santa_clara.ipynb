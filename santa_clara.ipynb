{
 "cells": [
  {
   "cell_type": "markdown",
   "metadata": {},
   "source": [
    "- Prediction: By april 8, number of new cases in Italy will be stagnating"
   ]
  },
  {
   "cell_type": "code",
   "execution_count": 1,
   "metadata": {},
   "outputs": [],
   "source": [
    "import pandas\n",
    "import altair as alt\n",
    "from scipy.optimize import curve_fit\n",
    "import numpy\n",
    "import datetime"
   ]
  },
  {
   "cell_type": "code",
   "execution_count": 2,
   "metadata": {},
   "outputs": [],
   "source": [
    "data = pandas.read_csv(\"virus.csv\")\n",
    "data['Date'] =  pandas.to_datetime(data['Date'])"
   ]
  },
  {
   "cell_type": "code",
   "execution_count": 3,
   "metadata": {},
   "outputs": [
    {
     "data": {
      "text/plain": [
       "9"
      ]
     },
     "execution_count": 3,
     "metadata": {},
     "output_type": "execute_result"
    }
   ],
   "source": [
    "(pandas.to_datetime(\"2020-03-10\") - pandas.to_datetime(\"2020-03-01\")).days"
   ]
  },
  {
   "cell_type": "code",
   "execution_count": 13,
   "metadata": {},
   "outputs": [],
   "source": [
    "data = data[['Date', 'Number of cases']].sort_values('Date')\n",
    "data['Days_since'] = (data['Date'] - pandas.to_datetime(\"2020-01-31\"))\n",
    "data['Days_since'] = data['Days_since'].apply(lambda x: x.days)\n",
    "data = data.sort_values('Date')\n",
    "data['New cases'] = data['Number of cases'].diff()"
   ]
  },
  {
   "cell_type": "code",
   "execution_count": 14,
   "metadata": {},
   "outputs": [
    {
     "data": {
      "text/html": [
       "<div>\n",
       "<style scoped>\n",
       "    .dataframe tbody tr th:only-of-type {\n",
       "        vertical-align: middle;\n",
       "    }\n",
       "\n",
       "    .dataframe tbody tr th {\n",
       "        vertical-align: top;\n",
       "    }\n",
       "\n",
       "    .dataframe thead th {\n",
       "        text-align: right;\n",
       "    }\n",
       "</style>\n",
       "<table border=\"1\" class=\"dataframe\">\n",
       "  <thead>\n",
       "    <tr style=\"text-align: right;\">\n",
       "      <th></th>\n",
       "      <th>Date</th>\n",
       "      <th>Number of cases</th>\n",
       "      <th>Days_since</th>\n",
       "      <th>New cases</th>\n",
       "    </tr>\n",
       "  </thead>\n",
       "  <tbody>\n",
       "    <tr>\n",
       "      <td>20</td>\n",
       "      <td>2020-01-31</td>\n",
       "      <td>1</td>\n",
       "      <td>0</td>\n",
       "      <td>NaN</td>\n",
       "    </tr>\n",
       "    <tr>\n",
       "      <td>19</td>\n",
       "      <td>2020-02-04</td>\n",
       "      <td>2</td>\n",
       "      <td>4</td>\n",
       "      <td>1.0</td>\n",
       "    </tr>\n",
       "    <tr>\n",
       "      <td>18</td>\n",
       "      <td>2020-02-29</td>\n",
       "      <td>3</td>\n",
       "      <td>29</td>\n",
       "      <td>1.0</td>\n",
       "    </tr>\n",
       "    <tr>\n",
       "      <td>17</td>\n",
       "      <td>2020-03-04</td>\n",
       "      <td>14</td>\n",
       "      <td>33</td>\n",
       "      <td>11.0</td>\n",
       "    </tr>\n",
       "    <tr>\n",
       "      <td>16</td>\n",
       "      <td>2020-03-05</td>\n",
       "      <td>20</td>\n",
       "      <td>34</td>\n",
       "      <td>6.0</td>\n",
       "    </tr>\n",
       "    <tr>\n",
       "      <td>15</td>\n",
       "      <td>2020-03-09</td>\n",
       "      <td>43</td>\n",
       "      <td>38</td>\n",
       "      <td>23.0</td>\n",
       "    </tr>\n",
       "    <tr>\n",
       "      <td>14</td>\n",
       "      <td>2020-03-11</td>\n",
       "      <td>48</td>\n",
       "      <td>40</td>\n",
       "      <td>5.0</td>\n",
       "    </tr>\n",
       "    <tr>\n",
       "      <td>13</td>\n",
       "      <td>2020-03-12</td>\n",
       "      <td>66</td>\n",
       "      <td>41</td>\n",
       "      <td>18.0</td>\n",
       "    </tr>\n",
       "    <tr>\n",
       "      <td>12</td>\n",
       "      <td>2020-03-13</td>\n",
       "      <td>79</td>\n",
       "      <td>42</td>\n",
       "      <td>13.0</td>\n",
       "    </tr>\n",
       "    <tr>\n",
       "      <td>11</td>\n",
       "      <td>2020-03-14</td>\n",
       "      <td>91</td>\n",
       "      <td>43</td>\n",
       "      <td>12.0</td>\n",
       "    </tr>\n",
       "    <tr>\n",
       "      <td>10</td>\n",
       "      <td>2020-03-15</td>\n",
       "      <td>114</td>\n",
       "      <td>44</td>\n",
       "      <td>23.0</td>\n",
       "    </tr>\n",
       "    <tr>\n",
       "      <td>9</td>\n",
       "      <td>2020-03-16</td>\n",
       "      <td>138</td>\n",
       "      <td>45</td>\n",
       "      <td>24.0</td>\n",
       "    </tr>\n",
       "    <tr>\n",
       "      <td>8</td>\n",
       "      <td>2020-03-17</td>\n",
       "      <td>155</td>\n",
       "      <td>46</td>\n",
       "      <td>17.0</td>\n",
       "    </tr>\n",
       "    <tr>\n",
       "      <td>7</td>\n",
       "      <td>2020-03-18</td>\n",
       "      <td>175</td>\n",
       "      <td>47</td>\n",
       "      <td>20.0</td>\n",
       "    </tr>\n",
       "    <tr>\n",
       "      <td>6</td>\n",
       "      <td>2020-03-19</td>\n",
       "      <td>189</td>\n",
       "      <td>48</td>\n",
       "      <td>14.0</td>\n",
       "    </tr>\n",
       "    <tr>\n",
       "      <td>5</td>\n",
       "      <td>2020-03-20</td>\n",
       "      <td>196</td>\n",
       "      <td>49</td>\n",
       "      <td>7.0</td>\n",
       "    </tr>\n",
       "    <tr>\n",
       "      <td>4</td>\n",
       "      <td>2020-03-21</td>\n",
       "      <td>263</td>\n",
       "      <td>50</td>\n",
       "      <td>67.0</td>\n",
       "    </tr>\n",
       "    <tr>\n",
       "      <td>3</td>\n",
       "      <td>2020-03-22</td>\n",
       "      <td>302</td>\n",
       "      <td>51</td>\n",
       "      <td>39.0</td>\n",
       "    </tr>\n",
       "    <tr>\n",
       "      <td>2</td>\n",
       "      <td>2020-03-23</td>\n",
       "      <td>321</td>\n",
       "      <td>52</td>\n",
       "      <td>19.0</td>\n",
       "    </tr>\n",
       "    <tr>\n",
       "      <td>1</td>\n",
       "      <td>2020-03-24</td>\n",
       "      <td>375</td>\n",
       "      <td>53</td>\n",
       "      <td>54.0</td>\n",
       "    </tr>\n",
       "    <tr>\n",
       "      <td>0</td>\n",
       "      <td>2020-03-25</td>\n",
       "      <td>459</td>\n",
       "      <td>54</td>\n",
       "      <td>84.0</td>\n",
       "    </tr>\n",
       "  </tbody>\n",
       "</table>\n",
       "</div>"
      ],
      "text/plain": [
       "         Date  Number of cases  Days_since  New cases\n",
       "20 2020-01-31                1           0        NaN\n",
       "19 2020-02-04                2           4        1.0\n",
       "18 2020-02-29                3          29        1.0\n",
       "17 2020-03-04               14          33       11.0\n",
       "16 2020-03-05               20          34        6.0\n",
       "15 2020-03-09               43          38       23.0\n",
       "14 2020-03-11               48          40        5.0\n",
       "13 2020-03-12               66          41       18.0\n",
       "12 2020-03-13               79          42       13.0\n",
       "11 2020-03-14               91          43       12.0\n",
       "10 2020-03-15              114          44       23.0\n",
       "9  2020-03-16              138          45       24.0\n",
       "8  2020-03-17              155          46       17.0\n",
       "7  2020-03-18              175          47       20.0\n",
       "6  2020-03-19              189          48       14.0\n",
       "5  2020-03-20              196          49        7.0\n",
       "4  2020-03-21              263          50       67.0\n",
       "3  2020-03-22              302          51       39.0\n",
       "2  2020-03-23              321          52       19.0\n",
       "1  2020-03-24              375          53       54.0\n",
       "0  2020-03-25              459          54       84.0"
      ]
     },
     "execution_count": 14,
     "metadata": {},
     "output_type": "execute_result"
    }
   ],
   "source": [
    "data"
   ]
  },
  {
   "cell_type": "code",
   "execution_count": 18,
   "metadata": {},
   "outputs": [
    {
     "data": {
      "application/vnd.vegalite.v3+json": {
       "$schema": "https://vega.github.io/schema/vega-lite/v3.4.0.json",
       "config": {
        "mark": {
         "tooltip": null
        },
        "view": {
         "height": 300,
         "width": 400
        }
       },
       "data": {
        "name": "data-13c947dc28ae1c638581c1f7d0ea5429"
       },
       "datasets": {
        "data-13c947dc28ae1c638581c1f7d0ea5429": [
         {
          "Date": "2020-01-31T00:00:00",
          "value": null,
          "variable": "New cases"
         },
         {
          "Date": "2020-02-04T00:00:00",
          "value": 1,
          "variable": "New cases"
         },
         {
          "Date": "2020-02-29T00:00:00",
          "value": 1,
          "variable": "New cases"
         },
         {
          "Date": "2020-03-04T00:00:00",
          "value": 11,
          "variable": "New cases"
         },
         {
          "Date": "2020-03-05T00:00:00",
          "value": 6,
          "variable": "New cases"
         },
         {
          "Date": "2020-03-09T00:00:00",
          "value": 23,
          "variable": "New cases"
         },
         {
          "Date": "2020-03-11T00:00:00",
          "value": 5,
          "variable": "New cases"
         },
         {
          "Date": "2020-03-12T00:00:00",
          "value": 18,
          "variable": "New cases"
         },
         {
          "Date": "2020-03-13T00:00:00",
          "value": 13,
          "variable": "New cases"
         },
         {
          "Date": "2020-03-14T00:00:00",
          "value": 12,
          "variable": "New cases"
         },
         {
          "Date": "2020-03-15T00:00:00",
          "value": 23,
          "variable": "New cases"
         },
         {
          "Date": "2020-03-16T00:00:00",
          "value": 24,
          "variable": "New cases"
         },
         {
          "Date": "2020-03-17T00:00:00",
          "value": 17,
          "variable": "New cases"
         },
         {
          "Date": "2020-03-18T00:00:00",
          "value": 20,
          "variable": "New cases"
         },
         {
          "Date": "2020-03-19T00:00:00",
          "value": 14,
          "variable": "New cases"
         },
         {
          "Date": "2020-03-20T00:00:00",
          "value": 7,
          "variable": "New cases"
         },
         {
          "Date": "2020-03-21T00:00:00",
          "value": 67,
          "variable": "New cases"
         },
         {
          "Date": "2020-03-22T00:00:00",
          "value": 39,
          "variable": "New cases"
         },
         {
          "Date": "2020-03-23T00:00:00",
          "value": 19,
          "variable": "New cases"
         },
         {
          "Date": "2020-03-24T00:00:00",
          "value": 54,
          "variable": "New cases"
         },
         {
          "Date": "2020-03-25T00:00:00",
          "value": 84,
          "variable": "New cases"
         },
         {
          "Date": "2020-01-31T00:00:00",
          "value": 1,
          "variable": "Number of cases"
         },
         {
          "Date": "2020-02-04T00:00:00",
          "value": 2,
          "variable": "Number of cases"
         },
         {
          "Date": "2020-02-29T00:00:00",
          "value": 3,
          "variable": "Number of cases"
         },
         {
          "Date": "2020-03-04T00:00:00",
          "value": 14,
          "variable": "Number of cases"
         },
         {
          "Date": "2020-03-05T00:00:00",
          "value": 20,
          "variable": "Number of cases"
         },
         {
          "Date": "2020-03-09T00:00:00",
          "value": 43,
          "variable": "Number of cases"
         },
         {
          "Date": "2020-03-11T00:00:00",
          "value": 48,
          "variable": "Number of cases"
         },
         {
          "Date": "2020-03-12T00:00:00",
          "value": 66,
          "variable": "Number of cases"
         },
         {
          "Date": "2020-03-13T00:00:00",
          "value": 79,
          "variable": "Number of cases"
         },
         {
          "Date": "2020-03-14T00:00:00",
          "value": 91,
          "variable": "Number of cases"
         },
         {
          "Date": "2020-03-15T00:00:00",
          "value": 114,
          "variable": "Number of cases"
         },
         {
          "Date": "2020-03-16T00:00:00",
          "value": 138,
          "variable": "Number of cases"
         },
         {
          "Date": "2020-03-17T00:00:00",
          "value": 155,
          "variable": "Number of cases"
         },
         {
          "Date": "2020-03-18T00:00:00",
          "value": 175,
          "variable": "Number of cases"
         },
         {
          "Date": "2020-03-19T00:00:00",
          "value": 189,
          "variable": "Number of cases"
         },
         {
          "Date": "2020-03-20T00:00:00",
          "value": 196,
          "variable": "Number of cases"
         },
         {
          "Date": "2020-03-21T00:00:00",
          "value": 263,
          "variable": "Number of cases"
         },
         {
          "Date": "2020-03-22T00:00:00",
          "value": 302,
          "variable": "Number of cases"
         },
         {
          "Date": "2020-03-23T00:00:00",
          "value": 321,
          "variable": "Number of cases"
         },
         {
          "Date": "2020-03-24T00:00:00",
          "value": 375,
          "variable": "Number of cases"
         },
         {
          "Date": "2020-03-25T00:00:00",
          "value": 459,
          "variable": "Number of cases"
         }
        ]
       },
       "encoding": {
        "color": {
         "field": "variable",
         "legend": {
          "title": ""
         },
         "type": "nominal"
        },
        "x": {
         "field": "Date",
         "type": "temporal"
        },
        "y": {
         "field": "value",
         "type": "quantitative"
        }
       },
       "mark": "line",
       "title": "Coronavirus in California"
      },
      "image/png": "[encoded data removed]",
      "text/plain": [
       "<VegaLite 3 object>\n",
       "\n",
       "If you see this message, it means the renderer has not been properly enabled\n",
       "for the frontend that you are using. For more information, see\n",
       "https://altair-viz.github.io/user_guide/troubleshooting.html\n"
      ]
     },
     "execution_count": 18,
     "metadata": {},
     "output_type": "execute_result"
    }
   ],
   "source": [
    "alt.Chart(data[['Date', 'New cases', 'Number of cases']].melt('Date')).mark_line().encode(\n",
    "    x='Date',\n",
    "    y='value',\n",
    "    color=alt.Color('variable', legend=alt.Legend(title=\"\"))\n",
    ").properties(\n",
    "    title='Coronavirus in California'\n",
    ")"
   ]
  },
  {
   "cell_type": "code",
   "execution_count": null,
   "metadata": {},
   "outputs": [],
   "source": []
  }
 ],
 "metadata": {
  "kernelspec": {
   "display_name": "Python 3",
   "language": "python",
   "name": "python3"
  },
  "language_info": {
   "codemirror_mode": {
    "name": "ipython",
    "version": 3
   },
   "file_extension": ".py",
   "mimetype": "text/x-python",
   "name": "python",
   "nbconvert_exporter": "python",
   "pygments_lexer": "ipython3",
   "version": "3.7.6"
  }
 },
 "nbformat": 4,
 "nbformat_minor": 4
}
