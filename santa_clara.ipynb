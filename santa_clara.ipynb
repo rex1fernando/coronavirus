{
 "cells": [
  {
   "cell_type": "code",
   "execution_count": 20,
   "metadata": {},
   "outputs": [],
   "source": [
    "import pandas\n",
    "import altair as alt\n",
    "from scipy.optimize import curve_fit\n",
    "import numpy\n",
    "import datetime"
   ]
  },
  {
   "cell_type": "code",
   "execution_count": 21,
   "metadata": {},
   "outputs": [],
   "source": [
    "data = pandas.read_csv(\"virus.csv\")\n",
    "data['Date'] =  pandas.to_datetime(data['Date'])"
   ]
  },
  {
   "cell_type": "code",
   "execution_count": 22,
   "metadata": {},
   "outputs": [
    {
     "data": {
      "text/plain": [
       "9"
      ]
     },
     "execution_count": 22,
     "metadata": {},
     "output_type": "execute_result"
    }
   ],
   "source": [
    "(pandas.to_datetime(\"2020-03-10\") - pandas.to_datetime(\"2020-03-01\")).days"
   ]
  },
  {
   "cell_type": "code",
   "execution_count": 23,
   "metadata": {},
   "outputs": [],
   "source": [
    "data = data[['Date', 'Number of cases']].sort_values('Date')\n",
    "data['Days_since'] = (data['Date'] - pandas.to_datetime(\"2020-01-31\"))\n",
    "data['Days_since'] = data['Days_since'].apply(lambda x: x.days)"
   ]
  },
  {
   "cell_type": "code",
   "execution_count": 24,
   "metadata": {},
   "outputs": [
    {
     "data": {
      "text/html": [
       "<div>\n",
       "<style scoped>\n",
       "    .dataframe tbody tr th:only-of-type {\n",
       "        vertical-align: middle;\n",
       "    }\n",
       "\n",
       "    .dataframe tbody tr th {\n",
       "        vertical-align: top;\n",
       "    }\n",
       "\n",
       "    .dataframe thead th {\n",
       "        text-align: right;\n",
       "    }\n",
       "</style>\n",
       "<table border=\"1\" class=\"dataframe\">\n",
       "  <thead>\n",
       "    <tr style=\"text-align: right;\">\n",
       "      <th></th>\n",
       "      <th>Date</th>\n",
       "      <th>Number of cases</th>\n",
       "      <th>Days_since</th>\n",
       "    </tr>\n",
       "  </thead>\n",
       "  <tbody>\n",
       "    <tr>\n",
       "      <td>16</td>\n",
       "      <td>2020-01-31</td>\n",
       "      <td>1</td>\n",
       "      <td>0</td>\n",
       "    </tr>\n",
       "    <tr>\n",
       "      <td>15</td>\n",
       "      <td>2020-02-04</td>\n",
       "      <td>2</td>\n",
       "      <td>4</td>\n",
       "    </tr>\n",
       "    <tr>\n",
       "      <td>14</td>\n",
       "      <td>2020-02-29</td>\n",
       "      <td>3</td>\n",
       "      <td>29</td>\n",
       "    </tr>\n",
       "    <tr>\n",
       "      <td>13</td>\n",
       "      <td>2020-03-04</td>\n",
       "      <td>14</td>\n",
       "      <td>33</td>\n",
       "    </tr>\n",
       "    <tr>\n",
       "      <td>12</td>\n",
       "      <td>2020-03-05</td>\n",
       "      <td>20</td>\n",
       "      <td>34</td>\n",
       "    </tr>\n",
       "    <tr>\n",
       "      <td>11</td>\n",
       "      <td>2020-03-09</td>\n",
       "      <td>43</td>\n",
       "      <td>38</td>\n",
       "    </tr>\n",
       "    <tr>\n",
       "      <td>10</td>\n",
       "      <td>2020-03-11</td>\n",
       "      <td>48</td>\n",
       "      <td>40</td>\n",
       "    </tr>\n",
       "    <tr>\n",
       "      <td>9</td>\n",
       "      <td>2020-03-12</td>\n",
       "      <td>66</td>\n",
       "      <td>41</td>\n",
       "    </tr>\n",
       "    <tr>\n",
       "      <td>8</td>\n",
       "      <td>2020-03-13</td>\n",
       "      <td>79</td>\n",
       "      <td>42</td>\n",
       "    </tr>\n",
       "    <tr>\n",
       "      <td>7</td>\n",
       "      <td>2020-03-14</td>\n",
       "      <td>91</td>\n",
       "      <td>43</td>\n",
       "    </tr>\n",
       "    <tr>\n",
       "      <td>6</td>\n",
       "      <td>2020-03-15</td>\n",
       "      <td>114</td>\n",
       "      <td>44</td>\n",
       "    </tr>\n",
       "    <tr>\n",
       "      <td>5</td>\n",
       "      <td>2020-03-16</td>\n",
       "      <td>138</td>\n",
       "      <td>45</td>\n",
       "    </tr>\n",
       "    <tr>\n",
       "      <td>4</td>\n",
       "      <td>2020-03-17</td>\n",
       "      <td>155</td>\n",
       "      <td>46</td>\n",
       "    </tr>\n",
       "    <tr>\n",
       "      <td>3</td>\n",
       "      <td>2020-03-18</td>\n",
       "      <td>175</td>\n",
       "      <td>47</td>\n",
       "    </tr>\n",
       "    <tr>\n",
       "      <td>2</td>\n",
       "      <td>2020-03-19</td>\n",
       "      <td>189</td>\n",
       "      <td>48</td>\n",
       "    </tr>\n",
       "    <tr>\n",
       "      <td>1</td>\n",
       "      <td>2020-03-20</td>\n",
       "      <td>196</td>\n",
       "      <td>49</td>\n",
       "    </tr>\n",
       "    <tr>\n",
       "      <td>0</td>\n",
       "      <td>2020-03-21</td>\n",
       "      <td>263</td>\n",
       "      <td>50</td>\n",
       "    </tr>\n",
       "  </tbody>\n",
       "</table>\n",
       "</div>"
      ],
      "text/plain": [
       "         Date  Number of cases  Days_since\n",
       "16 2020-01-31                1           0\n",
       "15 2020-02-04                2           4\n",
       "14 2020-02-29                3          29\n",
       "13 2020-03-04               14          33\n",
       "12 2020-03-05               20          34\n",
       "11 2020-03-09               43          38\n",
       "10 2020-03-11               48          40\n",
       "9  2020-03-12               66          41\n",
       "8  2020-03-13               79          42\n",
       "7  2020-03-14               91          43\n",
       "6  2020-03-15              114          44\n",
       "5  2020-03-16              138          45\n",
       "4  2020-03-17              155          46\n",
       "3  2020-03-18              175          47\n",
       "2  2020-03-19              189          48\n",
       "1  2020-03-20              196          49\n",
       "0  2020-03-21              263          50"
      ]
     },
     "execution_count": 24,
     "metadata": {},
     "output_type": "execute_result"
    }
   ],
   "source": [
    "data"
   ]
  },
  {
   "cell_type": "code",
   "execution_count": 25,
   "metadata": {},
   "outputs": [],
   "source": [
    "([a,b],_) = curve_fit(lambda t,a,b: a*numpy.exp(b*t), data['Days_since'],  data['Number of cases'], p0=(0.01, 0.1))"
   ]
  },
  {
   "cell_type": "code",
   "execution_count": 26,
   "metadata": {},
   "outputs": [
    {
     "data": {
      "text/plain": [
       "0.17798420918066413"
      ]
     },
     "execution_count": 26,
     "metadata": {},
     "output_type": "execute_result"
    }
   ],
   "source": [
    "a"
   ]
  },
  {
   "cell_type": "code",
   "execution_count": 27,
   "metadata": {},
   "outputs": [],
   "source": [
    "\n",
    "x = numpy.arange(90)\n",
    "source = pandas.DataFrame({\n",
    "  'Days_since': x,\n",
    "  'projection': a*numpy.exp(b*x)\n",
    "})"
   ]
  },
  {
   "cell_type": "code",
   "execution_count": 28,
   "metadata": {},
   "outputs": [],
   "source": [
    "combined = data.merge(source.set_index('Days_since'), on='Days_since', how='outer')"
   ]
  },
  {
   "cell_type": "code",
   "execution_count": null,
   "metadata": {},
   "outputs": [],
   "source": []
  },
  {
   "cell_type": "code",
   "execution_count": 29,
   "metadata": {},
   "outputs": [],
   "source": [
    "combined['Date'] = combined['Days_since'].apply(lambda x: pandas.to_datetime(\"2020-01-31\") + pandas.Timedelta(datetime.timedelta(days = x)))"
   ]
  },
  {
   "cell_type": "code",
   "execution_count": 30,
   "metadata": {},
   "outputs": [
    {
     "data": {
      "text/html": [
       "<div>\n",
       "<style scoped>\n",
       "    .dataframe tbody tr th:only-of-type {\n",
       "        vertical-align: middle;\n",
       "    }\n",
       "\n",
       "    .dataframe tbody tr th {\n",
       "        vertical-align: top;\n",
       "    }\n",
       "\n",
       "    .dataframe thead th {\n",
       "        text-align: right;\n",
       "    }\n",
       "</style>\n",
       "<table border=\"1\" class=\"dataframe\">\n",
       "  <thead>\n",
       "    <tr style=\"text-align: right;\">\n",
       "      <th></th>\n",
       "      <th>Date</th>\n",
       "      <th>Number of cases</th>\n",
       "      <th>Days_since</th>\n",
       "      <th>projection</th>\n",
       "    </tr>\n",
       "  </thead>\n",
       "  <tbody>\n",
       "    <tr>\n",
       "      <td>0</td>\n",
       "      <td>2020-01-31</td>\n",
       "      <td>1.0</td>\n",
       "      <td>0</td>\n",
       "      <td>0.177984</td>\n",
       "    </tr>\n",
       "    <tr>\n",
       "      <td>1</td>\n",
       "      <td>2020-02-04</td>\n",
       "      <td>2.0</td>\n",
       "      <td>4</td>\n",
       "      <td>0.318417</td>\n",
       "    </tr>\n",
       "    <tr>\n",
       "      <td>2</td>\n",
       "      <td>2020-02-29</td>\n",
       "      <td>3.0</td>\n",
       "      <td>29</td>\n",
       "      <td>12.073616</td>\n",
       "    </tr>\n",
       "    <tr>\n",
       "      <td>3</td>\n",
       "      <td>2020-03-04</td>\n",
       "      <td>14.0</td>\n",
       "      <td>33</td>\n",
       "      <td>21.599912</td>\n",
       "    </tr>\n",
       "    <tr>\n",
       "      <td>4</td>\n",
       "      <td>2020-03-05</td>\n",
       "      <td>20.0</td>\n",
       "      <td>34</td>\n",
       "      <td>24.980759</td>\n",
       "    </tr>\n",
       "    <tr>\n",
       "      <td>...</td>\n",
       "      <td>...</td>\n",
       "      <td>...</td>\n",
       "      <td>...</td>\n",
       "      <td>...</td>\n",
       "    </tr>\n",
       "    <tr>\n",
       "      <td>85</td>\n",
       "      <td>2020-04-25</td>\n",
       "      <td>NaN</td>\n",
       "      <td>85</td>\n",
       "      <td>41537.643543</td>\n",
       "    </tr>\n",
       "    <tr>\n",
       "      <td>86</td>\n",
       "      <td>2020-04-26</td>\n",
       "      <td>NaN</td>\n",
       "      <td>86</td>\n",
       "      <td>48039.171261</td>\n",
       "    </tr>\n",
       "    <tr>\n",
       "      <td>87</td>\n",
       "      <td>2020-04-27</td>\n",
       "      <td>NaN</td>\n",
       "      <td>87</td>\n",
       "      <td>55558.326824</td>\n",
       "    </tr>\n",
       "    <tr>\n",
       "      <td>88</td>\n",
       "      <td>2020-04-28</td>\n",
       "      <td>NaN</td>\n",
       "      <td>88</td>\n",
       "      <td>64254.390708</td>\n",
       "    </tr>\n",
       "    <tr>\n",
       "      <td>89</td>\n",
       "      <td>2020-04-29</td>\n",
       "      <td>NaN</td>\n",
       "      <td>89</td>\n",
       "      <td>74311.574183</td>\n",
       "    </tr>\n",
       "  </tbody>\n",
       "</table>\n",
       "<p>90 rows × 4 columns</p>\n",
       "</div>"
      ],
      "text/plain": [
       "         Date  Number of cases  Days_since    projection\n",
       "0  2020-01-31              1.0           0      0.177984\n",
       "1  2020-02-04              2.0           4      0.318417\n",
       "2  2020-02-29              3.0          29     12.073616\n",
       "3  2020-03-04             14.0          33     21.599912\n",
       "4  2020-03-05             20.0          34     24.980759\n",
       "..        ...              ...         ...           ...\n",
       "85 2020-04-25              NaN          85  41537.643543\n",
       "86 2020-04-26              NaN          86  48039.171261\n",
       "87 2020-04-27              NaN          87  55558.326824\n",
       "88 2020-04-28              NaN          88  64254.390708\n",
       "89 2020-04-29              NaN          89  74311.574183\n",
       "\n",
       "[90 rows x 4 columns]"
      ]
     },
     "execution_count": 30,
     "metadata": {},
     "output_type": "execute_result"
    }
   ],
   "source": [
    "combined"
   ]
  },
  {
   "cell_type": "code",
   "execution_count": 31,
   "metadata": {},
   "outputs": [
    {
     "data": {
      "application/vnd.vegalite.v3+json": {
       "$schema": "https://vega.github.io/schema/vega-lite/v3.4.0.json",
       "config": {
        "mark": {
         "tooltip": null
        },
        "view": {
         "height": 300,
         "width": 400
        }
       },
       "data": {
        "name": "data-f9b1ff4a69f722d70f1ca7345919bb4b"
       },
       "datasets": {
        "data-f9b1ff4a69f722d70f1ca7345919bb4b": [
         {
          "Date": "2020-01-31T00:00:00",
          "Days_since": 0,
          "Number of cases": 1
         },
         {
          "Date": "2020-02-04T00:00:00",
          "Days_since": 4,
          "Number of cases": 2
         },
         {
          "Date": "2020-02-29T00:00:00",
          "Days_since": 29,
          "Number of cases": 3
         },
         {
          "Date": "2020-03-04T00:00:00",
          "Days_since": 33,
          "Number of cases": 14
         },
         {
          "Date": "2020-03-05T00:00:00",
          "Days_since": 34,
          "Number of cases": 20
         },
         {
          "Date": "2020-03-09T00:00:00",
          "Days_since": 38,
          "Number of cases": 43
         },
         {
          "Date": "2020-03-11T00:00:00",
          "Days_since": 40,
          "Number of cases": 48
         },
         {
          "Date": "2020-03-12T00:00:00",
          "Days_since": 41,
          "Number of cases": 66
         },
         {
          "Date": "2020-03-13T00:00:00",
          "Days_since": 42,
          "Number of cases": 79
         },
         {
          "Date": "2020-03-14T00:00:00",
          "Days_since": 43,
          "Number of cases": 91
         },
         {
          "Date": "2020-03-15T00:00:00",
          "Days_since": 44,
          "Number of cases": 114
         },
         {
          "Date": "2020-03-16T00:00:00",
          "Days_since": 45,
          "Number of cases": 138
         },
         {
          "Date": "2020-03-17T00:00:00",
          "Days_since": 46,
          "Number of cases": 155
         },
         {
          "Date": "2020-03-18T00:00:00",
          "Days_since": 47,
          "Number of cases": 175
         },
         {
          "Date": "2020-03-19T00:00:00",
          "Days_since": 48,
          "Number of cases": 189
         },
         {
          "Date": "2020-03-20T00:00:00",
          "Days_since": 49,
          "Number of cases": 196
         },
         {
          "Date": "2020-03-21T00:00:00",
          "Days_since": 50,
          "Number of cases": 263
         }
        ]
       },
       "encoding": {
        "x": {
         "field": "Date",
         "type": "temporal"
        },
        "y": {
         "field": "Number of cases",
         "type": "quantitative"
        }
       },
       "mark": {
        "color": "blue",
        "type": "line"
       },
       "width": 550
      },
      "image/png": "[encoded data removed]",
      "text/plain": [
       "<VegaLite 3 object>\n",
       "\n",
       "If you see this message, it means the renderer has not been properly enabled\n",
       "for the frontend that you are using. For more information, see\n",
       "https://altair-viz.github.io/user_guide/troubleshooting.html\n"
      ]
     },
     "execution_count": 31,
     "metadata": {},
     "output_type": "execute_result"
    }
   ],
   "source": [
    "base = alt.Chart(data).properties(width=550)\n",
    "\n",
    "data_chart = base.mark_line(color='blue').encode(\n",
    "    x='Date',\n",
    "    y='Number of cases'\n",
    ")\n",
    "projection_chart = base.mark_line(color='red').encode(\n",
    "    x='Date',\n",
    "    y='projection'\n",
    ")\n",
    "\n",
    "data_chart# + projection_chart"
   ]
  },
  {
   "cell_type": "code",
   "execution_count": null,
   "metadata": {},
   "outputs": [],
   "source": []
  }
 ],
 "metadata": {
  "kernelspec": {
   "display_name": "Python 3",
   "language": "python",
   "name": "python3"
  },
  "language_info": {
   "codemirror_mode": {
    "name": "ipython",
    "version": 3
   },
   "file_extension": ".py",
   "mimetype": "text/x-python",
   "name": "python",
   "nbconvert_exporter": "python",
   "pygments_lexer": "ipython3",
   "version": "3.7.6"
  }
 },
 "nbformat": 4,
 "nbformat_minor": 4
}
