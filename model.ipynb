{
 "cells": [
  {
   "cell_type": "code",
   "execution_count": 3,
   "metadata": {},
   "outputs": [
    {
     "data": {
      "text/plain": [
       "DataTransformerRegistry.enable('default')"
      ]
     },
     "execution_count": 3,
     "metadata": {},
     "output_type": "execute_result"
    }
   ],
   "source": [
    "import numpy as np\n",
    "import pandas as pd\n",
    "from scipy.integrate import ode, solve_ivp\n",
    "import altair as alt\n",
    "alt.data_transformers.disable_max_rows()\n"
   ]
  },
  {
   "cell_type": "code",
   "execution_count": 4,
   "metadata": {},
   "outputs": [],
   "source": [
    "def sir_ode(t,current,parms):\n",
    "    beta, epsilon0, epsilon1, alpha, delta, gamma, c, n_icu, p_icu, CFR0, CFR1, N, epsilon0, epsilon1, intervention_start, intervention_factor, intervention_end, accelerated_testing_c = parms\n",
    "    S,E,P,I0,I1,R0,R1 = current\n",
    "    # ODEs\n",
    "    I = I0 + I1\n",
    "    if I > 0:\n",
    "        CFR = CFR1 - min(1, n_icu / (N*I*p_icu))*(CFR1 - CFR0)\n",
    "    else:\n",
    "        CFR = CFR0\n",
    "    if t >= intervention_start and t < intervention_end:\n",
    "        c = accelerated_testing_c\n",
    "        beta = beta*intervention_factor\n",
    "    elif t >= intervention_end and t < 170:\n",
    "        c = accelerated_testing_c\n",
    "        beta = beta*0.85\n",
    "    elif t >= 170:\n",
    "        beta = beta*0.95\n",
    "        c = accelerated_testing_c\n",
    "    \n",
    "    if E*N < 1 and P*N < 1 and I*N < 1:\n",
    "        return [0,0,0,0,0,0,0]\n",
    "   \n",
    "    dS = -beta*S*(epsilon0*P + I0 + epsilon1*I1)\n",
    "    dE = beta*S*(epsilon0*P + I0 + epsilon1*I1) - alpha*E\n",
    "    dP = alpha*E - delta*P\n",
    "    dI0 = delta*P - (gamma + c*(1-gamma))*I0 # I0 = 0.1 delta = 0   dI0 <= 0 - (1)I0 = -0.1\n",
    "    dI1 = c*(1-gamma)*I0 - gamma*I1\n",
    "    dR0 = gamma*(1-CFR)*I0\n",
    "    dR1 = gamma*(1-CFR)*I1\n",
    "    return [dS,dE,dP,dI0,dI1,dR0,dR1]"
   ]
  },
  {
   "cell_type": "code",
   "execution_count": 5,
   "metadata": {},
   "outputs": [],
   "source": [
    "# Interesting parameters: intervention_factor = 0.4 -- 0.6\n",
    "# epsilon1 = 0.05, c = 0.1 -- 0.15\n",
    "\n",
    "N = 8000000\n",
    "reproduction_num = 2.5\n",
    "alpha = 0.25\n",
    "epsilon0 = 0.15\n",
    "epsilon1 = 0.15\n",
    "delta = 1\n",
    "gamma = 0.1\n",
    "c = 0.05\n",
    "CFR0 = 0.02\n",
    "CFR1 = 0.10\n",
    "p_icu = 0.0125\n",
    "n_icu = 1438 # beds\n",
    "intervention_start = 80\n",
    "intervention_end = 140\n",
    "intervention_factor = 0.3\n",
    "accelerated_testing_c = 0.25\n",
    "\n",
    "\n",
    "beta = reproduction_num/(epsilon0/delta + 1/gamma)\n",
    "\n",
    "parms = [beta, epsilon0, epsilon1, alpha, delta, gamma, c, n_icu, p_icu, CFR0, CFR1, N, epsilon0, epsilon1, intervention_start, intervention_factor, intervention_end, accelerated_testing_c]\n",
    "S = 1 - 20/N\n",
    "E = 20/N\n",
    "P = 0\n",
    "I0 = 0\n",
    "I1 = 0\n",
    "R0 = 0\n",
    "R1 = 0\n",
    "init = [S,E,P,I0,I1,R0,R1]\n",
    "times = np.linspace(0,500,500)"
   ]
  },
  {
   "cell_type": "code",
   "execution_count": 6,
   "metadata": {},
   "outputs": [],
   "source": [
    "sir_sol = solve_ivp(fun=lambda t, y: sir_ode(t, y, parms), method=\"RK45\", t_span=[min(times),max(times)], y0=init, t_eval=times, rtol=1e-8)"
   ]
  },
  {
   "cell_type": "code",
   "execution_count": 7,
   "metadata": {},
   "outputs": [],
   "source": [
    "sir_out = pd.DataFrame({\"t\":sir_sol[\"t\"],\"S\":sir_sol[\"y\"][0],\"E\":sir_sol[\"y\"][1],\"P\":sir_sol[\"y\"][2],\"I0\":sir_sol[\"y\"][3],\"I1\":sir_sol[\"y\"][4],\"R0\":sir_sol[\"y\"][5],\"R1\":sir_sol[\"y\"][6]})"
   ]
  },
  {
   "cell_type": "code",
   "execution_count": 8,
   "metadata": {},
   "outputs": [],
   "source": [
    "sim = [ { 't': 0, \n",
    "          'S': S,\n",
    "          'E': E,\n",
    "          'P': P,\n",
    "          'I0': I0,\n",
    "          'I1': I1,\n",
    "          'R0': R0,\n",
    "          'R1': R1,\n",
    "          'D' : 0}]\n",
    "for t in range(1, 2000):\n",
    "    current = sim[-1]\n",
    "    deltas = sir_ode(t, [current['S'], \n",
    "                         current['E'], \n",
    "                         current['P'], \n",
    "                         current['I0'], \n",
    "                         current['I1'], \n",
    "                         current['R0'], \n",
    "                         current['R1']], parms)\n",
    "    sim.append({ 't': t, \n",
    "                 'S': current['S'] + deltas[0],\n",
    "                 'E': current['E'] + deltas[1],\n",
    "                 'P': current['P'] + deltas[2],\n",
    "                 'I0': current['I0'] + deltas[3],\n",
    "                 'I1': current['I1'] + deltas[4],\n",
    "                 'R0': current['R0'] + deltas[5],\n",
    "                 'R1': current['R1'] + deltas[6],\n",
    "                 'D' : 0})"
   ]
  },
  {
   "cell_type": "code",
   "execution_count": 9,
   "metadata": {},
   "outputs": [],
   "source": [
    "sir_out = pd.DataFrame(sim)"
   ]
  },
  {
   "cell_type": "code",
   "execution_count": 10,
   "metadata": {},
   "outputs": [],
   "source": [
    "sir_out[\"D\"] = 1 - sir_out[\"S\"] - sir_out[\"E\"] - sir_out[\"P\"] - sir_out[\"I0\"] - sir_out[\"I1\"] - sir_out[\"R0\"] - sir_out[\"R1\"]"
   ]
  },
  {
   "cell_type": "code",
   "execution_count": 11,
   "metadata": {},
   "outputs": [],
   "source": [
    "\n",
    "sir_out = sir_out * N\n",
    "sir_out['t'] = sir_out['t']/N"
   ]
  },
  {
   "cell_type": "code",
   "execution_count": 12,
   "metadata": {},
   "outputs": [
    {
     "data": {
      "text/html": [
       "<div>\n",
       "<style scoped>\n",
       "    .dataframe tbody tr th:only-of-type {\n",
       "        vertical-align: middle;\n",
       "    }\n",
       "\n",
       "    .dataframe tbody tr th {\n",
       "        vertical-align: top;\n",
       "    }\n",
       "\n",
       "    .dataframe thead th {\n",
       "        text-align: right;\n",
       "    }\n",
       "</style>\n",
       "<table border=\"1\" class=\"dataframe\">\n",
       "  <thead>\n",
       "    <tr style=\"text-align: right;\">\n",
       "      <th></th>\n",
       "      <th>t</th>\n",
       "      <th>S</th>\n",
       "      <th>E</th>\n",
       "      <th>P</th>\n",
       "      <th>I0</th>\n",
       "      <th>I1</th>\n",
       "      <th>R0</th>\n",
       "      <th>R1</th>\n",
       "      <th>D</th>\n",
       "    </tr>\n",
       "  </thead>\n",
       "  <tbody>\n",
       "    <tr>\n",
       "      <td>0</td>\n",
       "      <td>0.0</td>\n",
       "      <td>7.999980e+06</td>\n",
       "      <td>20.000000</td>\n",
       "      <td>0.000000</td>\n",
       "      <td>0.000000</td>\n",
       "      <td>0.000000</td>\n",
       "      <td>0.000000</td>\n",
       "      <td>0.000000</td>\n",
       "      <td>1.310224e-10</td>\n",
       "    </tr>\n",
       "    <tr>\n",
       "      <td>1</td>\n",
       "      <td>1.0</td>\n",
       "      <td>7.999980e+06</td>\n",
       "      <td>15.000000</td>\n",
       "      <td>5.000000</td>\n",
       "      <td>0.000000</td>\n",
       "      <td>0.000000</td>\n",
       "      <td>0.000000</td>\n",
       "      <td>0.000000</td>\n",
       "      <td>1.310216e-10</td>\n",
       "    </tr>\n",
       "    <tr>\n",
       "      <td>2</td>\n",
       "      <td>2.0</td>\n",
       "      <td>7.999980e+06</td>\n",
       "      <td>11.434729</td>\n",
       "      <td>3.750000</td>\n",
       "      <td>5.000000</td>\n",
       "      <td>0.000000</td>\n",
       "      <td>0.000000</td>\n",
       "      <td>0.000000</td>\n",
       "      <td>1.070362e-10</td>\n",
       "    </tr>\n",
       "    <tr>\n",
       "      <td>3</td>\n",
       "      <td>3.0</td>\n",
       "      <td>7.999978e+06</td>\n",
       "      <td>9.946117</td>\n",
       "      <td>2.858682</td>\n",
       "      <td>8.025000</td>\n",
       "      <td>0.225000</td>\n",
       "      <td>0.490000</td>\n",
       "      <td>0.000000</td>\n",
       "      <td>1.000000e-02</td>\n",
       "    </tr>\n",
       "    <tr>\n",
       "      <td>4</td>\n",
       "      <td>4.0</td>\n",
       "      <td>7.999976e+06</td>\n",
       "      <td>9.550112</td>\n",
       "      <td>2.486529</td>\n",
       "      <td>9.720057</td>\n",
       "      <td>0.563625</td>\n",
       "      <td>1.276450</td>\n",
       "      <td>0.022050</td>\n",
       "      <td>2.650000e-02</td>\n",
       "    </tr>\n",
       "    <tr>\n",
       "      <td>...</td>\n",
       "      <td>...</td>\n",
       "      <td>...</td>\n",
       "      <td>...</td>\n",
       "      <td>...</td>\n",
       "      <td>...</td>\n",
       "      <td>...</td>\n",
       "      <td>...</td>\n",
       "      <td>...</td>\n",
       "      <td>...</td>\n",
       "    </tr>\n",
       "    <tr>\n",
       "      <td>1995</td>\n",
       "      <td>1995.0</td>\n",
       "      <td>7.992596e+06</td>\n",
       "      <td>5.320052</td>\n",
       "      <td>1.330380</td>\n",
       "      <td>4.096950</td>\n",
       "      <td>9.243600</td>\n",
       "      <td>2875.453433</td>\n",
       "      <td>4361.232111</td>\n",
       "      <td>1.476875e+02</td>\n",
       "    </tr>\n",
       "    <tr>\n",
       "      <td>1996</td>\n",
       "      <td>1996.0</td>\n",
       "      <td>7.992594e+06</td>\n",
       "      <td>5.318585</td>\n",
       "      <td>1.330013</td>\n",
       "      <td>4.095821</td>\n",
       "      <td>9.241054</td>\n",
       "      <td>2875.854934</td>\n",
       "      <td>4362.137984</td>\n",
       "      <td>1.477141e+02</td>\n",
       "    </tr>\n",
       "    <tr>\n",
       "      <td>1997</td>\n",
       "      <td>1997.0</td>\n",
       "      <td>7.992593e+06</td>\n",
       "      <td>5.317119</td>\n",
       "      <td>1.329646</td>\n",
       "      <td>4.094692</td>\n",
       "      <td>9.238508</td>\n",
       "      <td>2876.256324</td>\n",
       "      <td>4363.043607</td>\n",
       "      <td>1.477408e+02</td>\n",
       "    </tr>\n",
       "    <tr>\n",
       "      <td>1998</td>\n",
       "      <td>1998.0</td>\n",
       "      <td>7.992592e+06</td>\n",
       "      <td>5.315653</td>\n",
       "      <td>1.329280</td>\n",
       "      <td>4.093563</td>\n",
       "      <td>9.235963</td>\n",
       "      <td>2876.657604</td>\n",
       "      <td>4363.948981</td>\n",
       "      <td>1.477675e+02</td>\n",
       "    </tr>\n",
       "    <tr>\n",
       "      <td>1999</td>\n",
       "      <td>1999.0</td>\n",
       "      <td>7.992590e+06</td>\n",
       "      <td>5.314187</td>\n",
       "      <td>1.328913</td>\n",
       "      <td>4.092435</td>\n",
       "      <td>9.233418</td>\n",
       "      <td>2877.058773</td>\n",
       "      <td>4364.854105</td>\n",
       "      <td>1.477941e+02</td>\n",
       "    </tr>\n",
       "  </tbody>\n",
       "</table>\n",
       "<p>2000 rows × 9 columns</p>\n",
       "</div>"
      ],
      "text/plain": [
       "           t             S          E         P        I0        I1  \\\n",
       "0        0.0  7.999980e+06  20.000000  0.000000  0.000000  0.000000   \n",
       "1        1.0  7.999980e+06  15.000000  5.000000  0.000000  0.000000   \n",
       "2        2.0  7.999980e+06  11.434729  3.750000  5.000000  0.000000   \n",
       "3        3.0  7.999978e+06   9.946117  2.858682  8.025000  0.225000   \n",
       "4        4.0  7.999976e+06   9.550112  2.486529  9.720057  0.563625   \n",
       "...      ...           ...        ...       ...       ...       ...   \n",
       "1995  1995.0  7.992596e+06   5.320052  1.330380  4.096950  9.243600   \n",
       "1996  1996.0  7.992594e+06   5.318585  1.330013  4.095821  9.241054   \n",
       "1997  1997.0  7.992593e+06   5.317119  1.329646  4.094692  9.238508   \n",
       "1998  1998.0  7.992592e+06   5.315653  1.329280  4.093563  9.235963   \n",
       "1999  1999.0  7.992590e+06   5.314187  1.328913  4.092435  9.233418   \n",
       "\n",
       "               R0           R1             D  \n",
       "0        0.000000     0.000000  1.310224e-10  \n",
       "1        0.000000     0.000000  1.310216e-10  \n",
       "2        0.000000     0.000000  1.070362e-10  \n",
       "3        0.490000     0.000000  1.000000e-02  \n",
       "4        1.276450     0.022050  2.650000e-02  \n",
       "...           ...          ...           ...  \n",
       "1995  2875.453433  4361.232111  1.476875e+02  \n",
       "1996  2875.854934  4362.137984  1.477141e+02  \n",
       "1997  2876.256324  4363.043607  1.477408e+02  \n",
       "1998  2876.657604  4363.948981  1.477675e+02  \n",
       "1999  2877.058773  4364.854105  1.477941e+02  \n",
       "\n",
       "[2000 rows x 9 columns]"
      ]
     },
     "execution_count": 12,
     "metadata": {},
     "output_type": "execute_result"
    }
   ],
   "source": [
    "sir_out"
   ]
  },
  {
   "cell_type": "markdown",
   "metadata": {},
   "source": [
    "#### Visualisation"
   ]
  },
  {
   "cell_type": "code",
   "execution_count": 13,
   "metadata": {},
   "outputs": [],
   "source": [
    "plot_values = sir_out[['t','D','E','I0','I1','P']].melt('t')\n",
    "#plot_values = plot_values[(plot_values['variable'] != 'S') && ]"
   ]
  },
  {
   "cell_type": "code",
   "execution_count": 14,
   "metadata": {},
   "outputs": [],
   "source": [
    "plot_values = plot_values[plot_values['t'] < 300]"
   ]
  },
  {
   "cell_type": "code",
   "execution_count": 15,
   "metadata": {},
   "outputs": [
    {
     "data": {
      "application/vnd.vegalite.v3+json": {
       "$schema": "https://vega.github.io/schema/vega-lite/v3.4.0.json",
       "config": {
        "mark": {
         "tooltip": null
        },
        "view": {
         "height": 300,
         "width": 400
        }
       },
       "data": {
        "name": "data-ac35cfd677d124d1c2e43f9acd79bc15"
       },
       "datasets": {
        "data-ac35cfd677d124d1c2e43f9acd79bc15": [
         {
          "t": 0,
          "value": 1.310224444130842e-10,
          "variable": "D"
         },
         {
          "t": 1,
          "value": 1.3102159738013694e-10,
          "variable": "D"
         },
         {
          "t": 2,
          "value": 1.0703616541273692e-10,
          "variable": "D"
         },
         {
          "t": 3,
          "value": 0.010000000183317105,
          "variable": "D"
         },
         {
          "t": 4,
          "value": 0.02649999982263039,
          "variable": "D"
         },
         {
          "t": 5,
          "value": 0.047067363872852576,
          "variable": "D"
         },
         {
          "t": 6,
          "value": 0.07055105023419561,
          "variable": "D"
         },
         {
          "t": 7,
          "value": 0.09646142377459392,
          "variable": "D"
         },
         {
          "t": 8,
          "value": 0.12461544550421157,
          "variable": "D"
         },
         {
          "t": 9,
          "value": 0.15497133051446238,
          "variable": "D"
         },
         {
          "t": 10,
          "value": 0.1875548338203754,
          "variable": "D"
         },
         {
          "t": 11,
          "value": 0.22242674182148336,
          "variable": "D"
         },
         {
          "t": 12,
          "value": 0.2596686065252611,
          "variable": "D"
         },
         {
          "t": 13,
          "value": 0.29937652130716286,
          "variable": "D"
         },
         {
          "t": 14,
          "value": 0.3416584641379759,
          "variable": "D"
         },
         {
          "t": 15,
          "value": 0.38663323153316553,
          "variable": "D"
         },
         {
          "t": 16,
          "value": 0.4344301065381105,
          "variable": "D"
         },
         {
          "t": 17,
          "value": 0.4851888691168446,
          "variable": "D"
         },
         {
          "t": 18,
          "value": 0.5390599928576533,
          "variable": "D"
         },
         {
          "t": 19,
          "value": 0.5962049414329273,
          "variable": "D"
         },
         {
          "t": 20,
          "value": 0.6567965445631884,
          "variable": "D"
         },
         {
          "t": 21,
          "value": 0.7210194308734315,
          "variable": "D"
         },
         {
          "t": 22,
          "value": 0.7890705172760433,
          "variable": "D"
         },
         {
          "t": 23,
          "value": 0.8611595418433975,
          "variable": "D"
         },
         {
          "t": 24,
          "value": 0.937509658304139,
          "variable": "D"
         },
         {
          "t": 25,
          "value": 1.018358072237318,
          "variable": "D"
         },
         {
          "t": 26,
          "value": 1.103956731815375,
          "variable": "D"
         },
         {
          "t": 27,
          "value": 1.1945730736074593,
          "variable": "D"
         },
         {
          "t": 28,
          "value": 1.2904908233450068,
          "variable": "D"
         },
         {
          "t": 29,
          "value": 1.3920108487034388,
          "variable": "D"
         },
         {
          "t": 30,
          "value": 1.4994520769010473,
          "variable": "D"
         },
         {
          "t": 31,
          "value": 1.6131524681718392,
          "variable": "D"
         },
         {
          "t": 32,
          "value": 1.7334700572824402,
          "variable": "D"
         },
         {
          "t": 33,
          "value": 1.8607840608357973,
          "variable": "D"
         },
         {
          "t": 34,
          "value": 1.9954960521712635,
          "variable": "D"
         },
         {
          "t": 35,
          "value": 2.1380312121571254,
          "variable": "D"
         },
         {
          "t": 36,
          "value": 2.288839656114188,
          "variable": "D"
         },
         {
          "t": 37,
          "value": 2.4483978410858107,
          "variable": "D"
         },
         {
          "t": 38,
          "value": 2.617210061166885,
          "variable": "D"
         },
         {
          "t": 39,
          "value": 2.7958100264489616,
          "variable": "D"
         },
         {
          "t": 40,
          "value": 2.9847625438752154,
          "variable": "D"
         },
         {
          "t": 41,
          "value": 3.1846652932417774,
          "variable": "D"
         },
         {
          "t": 42,
          "value": 3.396150708348029,
          "variable": "D"
         },
         {
          "t": 43,
          "value": 3.619887970509582,
          "variable": "D"
         },
         {
          "t": 44,
          "value": 3.8565851205181434,
          "variable": "D"
         },
         {
          "t": 45,
          "value": 4.106991290232006,
          "variable": "D"
         },
         {
          "t": 46,
          "value": 4.371899068398035,
          "variable": "D"
         },
         {
          "t": 47,
          "value": 4.652147004293025,
          "variable": "D"
         },
         {
          "t": 48,
          "value": 4.948622254514531,
          "variable": "D"
         },
         {
          "t": 49,
          "value": 5.262263387274723,
          "variable": "D"
         },
         {
          "t": 50,
          "value": 5.594063348094037,
          "variable": "D"
         },
         {
          "t": 51,
          "value": 5.945072596214384,
          "variable": "D"
         },
         {
          "t": 52,
          "value": 6.316402426233882,
          "variable": "D"
         },
         {
          "t": 53,
          "value": 6.7092284809104,
          "variable": "D"
         },
         {
          "t": 54,
          "value": 7.124794467052592,
          "variable": "D"
         },
         {
          "t": 55,
          "value": 7.564416087184683,
          "variable": "D"
         },
         {
          "t": 56,
          "value": 8.029485197730898,
          "variable": "D"
         },
         {
          "t": 57,
          "value": 8.521474211149009,
          "variable": "D"
         },
         {
          "t": 58,
          "value": 9.041940746130678,
          "variable": "D"
         },
         {
          "t": 59,
          "value": 9.592532555980434,
          "variable": "D"
         },
         {
          "t": 60,
          "value": 10.174992731745144,
          "variable": "D"
         },
         {
          "t": 61,
          "value": 10.791165214832862,
          "variable": "D"
         },
         {
          "t": 62,
          "value": 11.443000620466222,
          "variable": "D"
         },
         {
          "t": 63,
          "value": 12.13256240400562,
          "variable": "D"
         },
         {
          "t": 64,
          "value": 12.862033379422043,
          "variable": "D"
         },
         {
          "t": 65,
          "value": 13.633722614215166,
          "variable": "D"
         },
         {
          "t": 66,
          "value": 14.45007272247401,
          "variable": "D"
         },
         {
          "t": 67,
          "value": 15.313667579465564,
          "variable": "D"
         },
         {
          "t": 68,
          "value": 16.227240480570764,
          "variable": "D"
         },
         {
          "t": 69,
          "value": 17.193682770434656,
          "variable": "D"
         },
         {
          "t": 70,
          "value": 18.216052968300797,
          "variable": "D"
         },
         {
          "t": 71,
          "value": 19.297586420260238,
          "variable": "D"
         },
         {
          "t": 72,
          "value": 20.441705510231348,
          "variable": "D"
         },
         {
          "t": 73,
          "value": 21.652030451325395,
          "variable": "D"
         },
         {
          "t": 74,
          "value": 22.93239070547782,
          "variable": "D"
         },
         {
          "t": 75,
          "value": 24.28683705785851,
          "variable": "D"
         },
         {
          "t": 76,
          "value": 25.719654384012962,
          "variable": "D"
         },
         {
          "t": 77,
          "value": 27.235375153336097,
          "variable": "D"
         },
         {
          "t": 78,
          "value": 28.83879370734724,
          "variable": "D"
         },
         {
          "t": 79,
          "value": 30.53498135714472,
          "variable": "D"
         },
         {
          "t": 80,
          "value": 32.32930234959994,
          "variable": "D"
         },
         {
          "t": 81,
          "value": 34.22743074980145,
          "variable": "D"
         },
         {
          "t": 82,
          "value": 36.235368290057544,
          "variable": "D"
         },
         {
          "t": 83,
          "value": 38.30412243331502,
          "variable": "D"
         },
         {
          "t": 84,
          "value": 40.39597702532743,
          "variable": "D"
         },
         {
          "t": 85,
          "value": 42.48309459331393,
          "variable": "D"
         },
         {
          "t": 86,
          "value": 44.54472048673937,
          "variable": "D"
         },
         {
          "t": 87,
          "value": 46.565332965584936,
          "variable": "D"
         },
         {
          "t": 88,
          "value": 48.533405103304325,
          "variable": "D"
         },
         {
          "t": 89,
          "value": 50.44052863490127,
          "variable": "D"
         },
         {
          "t": 90,
          "value": 52.28076268754987,
          "variable": "D"
         },
         {
          "t": 91,
          "value": 54.050131474794526,
          "variable": "D"
         },
         {
          "t": 92,
          "value": 55.74622694922652,
          "variable": "D"
         },
         {
          "t": 93,
          "value": 57.36788934850479,
          "variable": "D"
         },
         {
          "t": 94,
          "value": 58.91494787687657,
          "variable": "D"
         },
         {
          "t": 95,
          "value": 60.388009100337214,
          "variable": "D"
         },
         {
          "t": 96,
          "value": 61.78828390116941,
          "variable": "D"
         },
         {
          "t": 97,
          "value": 63.117445924145606,
          "variable": "D"
         },
         {
          "t": 98,
          "value": 64.37751593481853,
          "variable": "D"
         },
         {
          "t": 99,
          "value": 65.57076756318514,
          "variable": "D"
         },
         {
          "t": 100,
          "value": 66.69965073342324,
          "variable": "D"
         },
         {
          "t": 101,
          "value": 67.76672973214659,
          "variable": "D"
         },
         {
          "t": 102,
          "value": 68.77463338258701,
          "variable": "D"
         },
         {
          "t": 103,
          "value": 69.72601522452042,
          "variable": "D"
         },
         {
          "t": 104,
          "value": 70.62352195795614,
          "variable": "D"
         },
         {
          "t": 105,
          "value": 71.46976869177473,
          "variable": "D"
         },
         {
          "t": 106,
          "value": 72.26731979399813,
          "variable": "D"
         },
         {
          "t": 107,
          "value": 73.01867432874822,
          "variable": "D"
         },
         {
          "t": 108,
          "value": 73.72625525487548,
          "variable": "D"
         },
         {
          "t": 109,
          "value": 74.39240168064485,
          "variable": "D"
         },
         {
          "t": 110,
          "value": 75.01936360305496,
          "variable": "D"
         },
         {
          "t": 111,
          "value": 75.60929865401008,
          "variable": "D"
         },
         {
          "t": 112,
          "value": 76.16427045493306,
          "variable": "D"
         },
         {
          "t": 113,
          "value": 76.68624825393918,
          "variable": "D"
         },
         {
          "t": 114,
          "value": 77.17710757464548,
          "variable": "D"
         },
         {
          "t": 115,
          "value": 77.63863165492356,
          "variable": "D"
         },
         {
          "t": 116,
          "value": 78.07251349280253,
          "variable": "D"
         },
         {
          "t": 117,
          "value": 78.48035834725478,
          "variable": "D"
         },
         {
          "t": 118,
          "value": 78.863686575894,
          "variable": "D"
         },
         {
          "t": 119,
          "value": 79.22393670614863,
          "variable": "D"
         },
         {
          "t": 120,
          "value": 79.56246866253547,
          "variable": "D"
         },
         {
          "t": 121,
          "value": 79.88056708023743,
          "variable": "D"
         },
         {
          "t": 122,
          "value": 80.17944466198485,
          "variable": "D"
         },
         {
          "t": 123,
          "value": 80.46024552471262,
          "variable": "D"
         },
         {
          "t": 124,
          "value": 80.72404851475115,
          "variable": "D"
         },
         {
          "t": 125,
          "value": 80.97187045921773,
          "variable": "D"
         },
         {
          "t": 126,
          "value": 81.20466933961117,
          "variable": "D"
         },
         {
          "t": 127,
          "value": 81.42334736866309,
          "variable": "D"
         },
         {
          "t": 128,
          "value": 81.62875396260527,
          "variable": "D"
         },
         {
          "t": 129,
          "value": 81.82168860391623,
          "variable": "D"
         },
         {
          "t": 130,
          "value": 82.00290358499315,
          "variable": "D"
         },
         {
          "t": 131,
          "value": 82.1731066324243,
          "variable": "D"
         },
         {
          "t": 132,
          "value": 82.33296341542606,
          "variable": "D"
         },
         {
          "t": 133,
          "value": 82.4830999322508,
          "variable": "D"
         },
         {
          "t": 134,
          "value": 82.62410478397827,
          "variable": "D"
         },
         {
          "t": 135,
          "value": 82.75653132635814,
          "variable": "D"
         },
         {
          "t": 136,
          "value": 82.88089971916118,
          "variable": "D"
         },
         {
          "t": 137,
          "value": 82.99769885955705,
          "variable": "D"
         },
         {
          "t": 138,
          "value": 83.1073882182811,
          "variable": "D"
         },
         {
          "t": 139,
          "value": 83.21039957106396,
          "variable": "D"
         },
         {
          "t": 140,
          "value": 83.3071386359221,
          "variable": "D"
         },
         {
          "t": 141,
          "value": 83.39798661928955,
          "variable": "D"
         },
         {
          "t": 142,
          "value": 83.483301674344,
          "variable": "D"
         },
         {
          "t": 143,
          "value": 83.56417532086844,
          "variable": "D"
         },
         {
          "t": 144,
          "value": 83.64136837513917,
          "variable": "D"
         },
         {
          "t": 145,
          "value": 83.71541064806443,
          "variable": "D"
         },
         {
          "t": 146,
          "value": 83.78670541489552,
          "variable": "D"
         },
         {
          "t": 147,
          "value": 83.85557953867733,
          "variable": "D"
         },
         {
          "t": 148,
          "value": 83.92230649282,
          "variable": "D"
         },
         {
          "t": 149,
          "value": 83.98711836196757,
          "variable": "D"
         },
         {
          "t": 150,
          "value": 84.05021334915303,
          "variable": "D"
         },
         {
          "t": 151,
          "value": 84.11176122860054,
          "variable": "D"
         },
         {
          "t": 152,
          "value": 84.17190767299587,
          "variable": "D"
         },
         {
          "t": 153,
          "value": 84.23077783299097,
          "variable": "D"
         },
         {
          "t": 154,
          "value": 84.28847935727053,
          "variable": "D"
         },
         {
          "t": 155,
          "value": 84.34510495273312,
          "variable": "D"
         },
         {
          "t": 156,
          "value": 84.40073456800158,
          "variable": "D"
         },
         {
          "t": 157,
          "value": 84.4554372560263,
          "variable": "D"
         },
         {
          "t": 158,
          "value": 84.50927275997778,
          "variable": "D"
         },
         {
          "t": 159,
          "value": 84.56229287063078,
          "variable": "D"
         },
         {
          "t": 160,
          "value": 84.61454258305986,
          "variable": "D"
         },
         {
          "t": 161,
          "value": 84.66606108360926,
          "variable": "D"
         },
         {
          "t": 162,
          "value": 84.71688259243955,
          "variable": "D"
         },
         {
          "t": 163,
          "value": 84.76703708371839,
          "variable": "D"
         },
         {
          "t": 164,
          "value": 84.81655089876772,
          "variable": "D"
         },
         {
          "t": 165,
          "value": 84.86544727177078,
          "variable": "D"
         },
         {
          "t": 166,
          "value": 84.91374677566458,
          "variable": "D"
         },
         {
          "t": 167,
          "value": 84.9614677056916,
          "variable": "D"
         },
         {
          "t": 168,
          "value": 85.00862640287154,
          "variable": "D"
         },
         {
          "t": 169,
          "value": 85.05523753690171,
          "variable": "D"
         },
         {
          "t": 170,
          "value": 85.10131433827002,
          "variable": "D"
         },
         {
          "t": 171,
          "value": 85.14686880627511,
          "variable": "D"
         },
         {
          "t": 172,
          "value": 85.19191187916948,
          "variable": "D"
         },
         {
          "t": 173,
          "value": 85.2365676888957,
          "variable": "D"
         },
         {
          "t": 174,
          "value": 85.28091846177459,
          "variable": "D"
         },
         {
          "t": 175,
          "value": 85.3250171744058,
          "variable": "D"
         },
         {
          "t": 176,
          "value": 85.36890224474088,
          "variable": "D"
         },
         {
          "t": 177,
          "value": 85.4126042037777,
          "variable": "D"
         },
         {
          "t": 178,
          "value": 85.45614843234522,
          "variable": "D"
         },
         {
          "t": 179,
          "value": 85.49955641379238,
          "variable": "D"
         },
         {
          "t": 180,
          "value": 85.54284645450076,
          "variable": "D"
         },
         {
          "t": 181,
          "value": 85.58603418714564,
          "variable": "D"
         },
         {
          "t": 182,
          "value": 85.62913297357122,
          "variable": "D"
         },
         {
          "t": 183,
          "value": 85.67215423710547,
          "variable": "D"
         },
         {
          "t": 184,
          "value": 85.71510774521606,
          "variable": "D"
         },
         {
          "t": 185,
          "value": 85.75800184845933,
          "variable": "D"
         },
         {
          "t": 186,
          "value": 85.80084368859298,
          "variable": "D"
         },
         {
          "t": 187,
          "value": 85.84363937061326,
          "variable": "D"
         },
         {
          "t": 188,
          "value": 85.8863941153574,
          "variable": "D"
         },
         {
          "t": 189,
          "value": 85.92911238622467,
          "variable": "D"
         },
         {
          "t": 190,
          "value": 85.97179800101011,
          "variable": "D"
         },
         {
          "t": 191,
          "value": 86.01445422384617,
          "variable": "D"
         },
         {
          "t": 192,
          "value": 86.05708384562192,
          "variable": "D"
         },
         {
          "t": 193,
          "value": 86.09968925216236,
          "variable": "D"
         },
         {
          "t": 194,
          "value": 86.14227248478386,
          "variable": "D"
         },
         {
          "t": 195,
          "value": 86.18483528852107,
          "variable": "D"
         },
         {
          "t": 196,
          "value": 86.22737915567899,
          "variable": "D"
         },
         {
          "t": 197,
          "value": 86.2699053627283,
          "variable": "D"
         },
         {
          "t": 198,
          "value": 86.3124150007194,
          "variable": "D"
         },
         {
          "t": 199,
          "value": 86.35490900263908,
          "variable": "D"
         },
         {
          "t": 200,
          "value": 86.39738816662188,
          "variable": "D"
         },
         {
          "t": 201,
          "value": 86.43985317563323,
          "variable": "D"
         },
         {
          "t": 202,
          "value": 86.48230461361051,
          "variable": "D"
         },
         {
          "t": 203,
          "value": 86.52474298085625,
          "variable": "D"
         },
         {
          "t": 204,
          "value": 86.5671687030477,
          "variable": "D"
         },
         {
          "t": 205,
          "value": 86.60958214720551,
          "variable": "D"
         },
         {
          "t": 206,
          "value": 86.65198362478371,
          "variable": "D"
         },
         {
          "t": 207,
          "value": 86.69437340430011,
          "variable": "D"
         },
         {
          "t": 208,
          "value": 86.73675171389081,
          "variable": "D"
         },
         {
          "t": 209,
          "value": 86.77911875035757,
          "variable": "D"
         },
         {
          "t": 210,
          "value": 86.82147468084275,
          "variable": "D"
         },
         {
          "t": 211,
          "value": 86.86381964887563,
          "variable": "D"
         },
         {
          "t": 212,
          "value": 86.90615377858957,
          "variable": "D"
         },
         {
          "t": 213,
          "value": 86.94847717432945,
          "variable": "D"
         },
         {
          "t": 214,
          "value": 86.99078992609535,
          "variable": "D"
         },
         {
          "t": 215,
          "value": 87.03309211252099,
          "variable": "D"
         },
         {
          "t": 216,
          "value": 87.0753837991802,
          "variable": "D"
         },
         {
          "t": 217,
          "value": 87.1176650424424,
          "variable": "D"
         },
         {
          "t": 218,
          "value": 87.15993589210541,
          "variable": "D"
         },
         {
          "t": 219,
          "value": 87.20219639045749,
          "variable": "D"
         },
         {
          "t": 220,
          "value": 87.24444657246151,
          "variable": "D"
         },
         {
          "t": 221,
          "value": 87.28668646995966,
          "variable": "D"
         },
         {
          "t": 222,
          "value": 87.3289161094199,
          "variable": "D"
         },
         {
          "t": 223,
          "value": 87.37113551405109,
          "variable": "D"
         },
         {
          "t": 224,
          "value": 87.41334470421238,
          "variable": "D"
         },
         {
          "t": 225,
          "value": 87.45554369622494,
          "variable": "D"
         },
         {
          "t": 226,
          "value": 87.49773250591679,
          "variable": "D"
         },
         {
          "t": 227,
          "value": 87.53991114543794,
          "variable": "D"
         },
         {
          "t": 228,
          "value": 87.58207962673544,
          "variable": "D"
         },
         {
          "t": 229,
          "value": 87.62423795932814,
          "variable": "D"
         },
         {
          "t": 230,
          "value": 87.6663861522041,
          "variable": "D"
         },
         {
          "t": 231,
          "value": 87.70852421188455,
          "variable": "D"
         },
         {
          "t": 232,
          "value": 87.75065214557901,
          "variable": "D"
         },
         {
          "t": 233,
          "value": 87.79276995971985,
          "variable": "D"
         },
         {
          "t": 234,
          "value": 87.83487765918292,
          "variable": "D"
         },
         {
          "t": 235,
          "value": 87.8769752490501,
          "variable": "D"
         },
         {
          "t": 236,
          "value": 87.9190627326807,
          "variable": "D"
         },
         {
          "t": 237,
          "value": 87.96114011411878,
          "variable": "D"
         },
         {
          "t": 238,
          "value": 88.00320739686848,
          "variable": "D"
         },
         {
          "t": 239,
          "value": 88.04526458434373,
          "variable": "D"
         },
         {
          "t": 240,
          "value": 88.08731167938036,
          "variable": "D"
         },
         {
          "t": 241,
          "value": 88.1293486845792,
          "variable": "D"
         },
         {
          "t": 242,
          "value": 88.17137560169878,
          "variable": "D"
         },
         {
          "t": 243,
          "value": 88.21339243368425,
          "variable": "D"
         },
         {
          "t": 244,
          "value": 88.25539918310126,
          "variable": "D"
         },
         {
          "t": 245,
          "value": 88.29739585142997,
          "variable": "D"
         },
         {
          "t": 246,
          "value": 88.33938244010368,
          "variable": "D"
         },
         {
          "t": 247,
          "value": 88.38135895242226,
          "variable": "D"
         },
         {
          "t": 248,
          "value": 88.4233253892184,
          "variable": "D"
         },
         {
          "t": 249,
          "value": 88.46528175251522,
          "variable": "D"
         },
         {
          "t": 250,
          "value": 88.50722804382237,
          "variable": "D"
         },
         {
          "t": 251,
          "value": 88.54916426421751,
          "variable": "D"
         },
         {
          "t": 252,
          "value": 88.59109041617526,
          "variable": "D"
         },
         {
          "t": 253,
          "value": 88.63300650095674,
          "variable": "D"
         },
         {
          "t": 254,
          "value": 88.67491252042811,
          "variable": "D"
         },
         {
          "t": 255,
          "value": 88.71680847532615,
          "variable": "D"
         },
         {
          "t": 256,
          "value": 88.75869436795374,
          "variable": "D"
         },
         {
          "t": 257,
          "value": 88.8005701995421,
          "variable": "D"
         },
         {
          "t": 258,
          "value": 88.84243597115848,
          "variable": "D"
         },
         {
          "t": 259,
          "value": 88.88429168462352,
          "variable": "D"
         },
         {
          "t": 260,
          "value": 88.9261373407447,
          "variable": "D"
         },
         {
          "t": 261,
          "value": 88.96797294199835,
          "variable": "D"
         },
         {
          "t": 262,
          "value": 89.00979848898947,
          "variable": "D"
         },
         {
          "t": 263,
          "value": 89.05161398312794,
          "variable": "D"
         },
         {
          "t": 264,
          "value": 89.09341942663681,
          "variable": "D"
         },
         {
          "t": 265,
          "value": 89.13521481989468,
          "variable": "D"
         },
         {
          "t": 266,
          "value": 89.1770001649971,
          "variable": "D"
         },
         {
          "t": 267,
          "value": 89.2187754630955,
          "variable": "D"
         },
         {
          "t": 268,
          "value": 89.26054071618046,
          "variable": "D"
         },
         {
          "t": 269,
          "value": 89.30229592442329,
          "variable": "D"
         },
         {
          "t": 270,
          "value": 89.34404108972569,
          "variable": "D"
         },
         {
          "t": 271,
          "value": 89.38577621395508,
          "variable": "D"
         },
         {
          "t": 272,
          "value": 89.42750129805124,
          "variable": "D"
         },
         {
          "t": 273,
          "value": 89.46921634381223,
          "variable": "D"
         },
         {
          "t": 274,
          "value": 89.5109213521093,
          "variable": "D"
         },
         {
          "t": 275,
          "value": 89.55261632468064,
          "variable": "D"
         },
         {
          "t": 276,
          "value": 89.59430126233943,
          "variable": "D"
         },
         {
          "t": 277,
          "value": 89.63597616676527,
          "variable": "D"
         },
         {
          "t": 278,
          "value": 89.67764103961053,
          "variable": "D"
         },
         {
          "t": 279,
          "value": 89.71929588161244,
          "variable": "D"
         },
         {
          "t": 280,
          "value": 89.76094069525989,
          "variable": "D"
         },
         {
          "t": 281,
          "value": 89.80257548124072,
          "variable": "D"
         },
         {
          "t": 282,
          "value": 89.84420024111053,
          "variable": "D"
         },
         {
          "t": 283,
          "value": 89.88581497550987,
          "variable": "D"
         },
         {
          "t": 284,
          "value": 89.927419686837,
          "variable": "D"
         },
         {
          "t": 285,
          "value": 89.96901437568778,
          "variable": "D"
         },
         {
          "t": 286,
          "value": 90.0105990435285,
          "variable": "D"
         },
         {
          "t": 287,
          "value": 90.05217369268716,
          "variable": "D"
         },
         {
          "t": 288,
          "value": 90.09373832369718,
          "variable": "D"
         },
         {
          "t": 289,
          "value": 90.13529293796022,
          "variable": "D"
         },
         {
          "t": 290,
          "value": 90.17683753685321,
          "variable": "D"
         },
         {
          "t": 291,
          "value": 90.21837212173531,
          "variable": "D"
         },
         {
          "t": 292,
          "value": 90.25989669394271,
          "variable": "D"
         },
         {
          "t": 293,
          "value": 90.30141125568151,
          "variable": "D"
         },
         {
          "t": 294,
          "value": 90.34291580735854,
          "variable": "D"
         },
         {
          "t": 295,
          "value": 90.38441035113999,
          "variable": "D"
         },
         {
          "t": 296,
          "value": 90.4258948873902,
          "variable": "D"
         },
         {
          "t": 297,
          "value": 90.46736941823504,
          "variable": "D"
         },
         {
          "t": 298,
          "value": 90.5088339448884,
          "variable": "D"
         },
         {
          "t": 299,
          "value": 90.5502884685455,
          "variable": "D"
         },
         {
          "t": 0,
          "value": 20,
          "variable": "E"
         },
         {
          "t": 1,
          "value": 15.000000000000002,
          "variable": "E"
         },
         {
          "t": 2,
          "value": 11.43472860221675,
          "variable": "E"
         },
         {
          "t": 3,
          "value": 9.94611688646697,
          "variable": "E"
         },
         {
          "t": 4,
          "value": 9.550112160945682,
          "variable": "E"
         },
         {
          "t": 5,
          "value": 9.66936988481625,
          "variable": "E"
         },
         {
          "t": 6,
          "value": 10.034532369787529,
          "variable": "E"
         },
         {
          "t": 7,
          "value": 10.526412417735774,
          "variable": "E"
         },
         {
          "t": 8,
          "value": 11.093510758840496,
          "variable": "E"
         },
         {
          "t": 9,
          "value": 11.714294970372936,
          "variable": "E"
         },
         {
          "t": 10,
          "value": 12.380473305754524,
          "variable": "E"
         },
         {
          "t": 11,
          "value": 13.089637995159169,
          "variable": "E"
         },
         {
          "t": 12,
          "value": 13.84203833742785,
          "variable": "E"
         },
         {
          "t": 13,
          "value": 14.6391683576933,
          "variable": "E"
         },
         {
          "t": 14,
          "value": 15.48315123599012,
          "variable": "E"
         },
         {
          "t": 15,
          "value": 16.37647367995498,
          "variable": "E"
         },
         {
          "t": 16,
          "value": 17.32187415442842,
          "variable": "E"
         },
         {
          "t": 17,
          "value": 18.322298932323807,
          "variable": "E"
         },
         {
          "t": 18,
          "value": 19.380888227194752,
          "variable": "E"
         },
         {
          "t": 19,
          "value": 20.500975862492975,
          "variable": "E"
         },
         {
          "t": 20,
          "value": 21.6860952342662,
          "variable": "E"
         },
         {
          "t": 21,
          "value": 22.939988407055957,
          "variable": "E"
         },
         {
          "t": 22,
          "value": 24.266616975734188,
          "variable": "E"
         },
         {
          "t": 23,
          "value": 25.67017411414119,
          "variable": "E"
         },
         {
          "t": 24,
          "value": 27.15509757861838,
          "variable": "E"
         },
         {
          "t": 25,
          "value": 28.72608358834874,
          "variable": "E"
         },
         {
          "t": 26,
          "value": 30.38810157342997,
          "variable": "E"
         },
         {
          "t": 27,
          "value": 32.14640981347405,
          "variable": "E"
         },
         {
          "t": 28,
          "value": 34.006572005171876,
          "variable": "E"
         },
         {
          "t": 29,
          "value": 35.97447480587099,
          "variable": "E"
         },
         {
          "t": 30,
          "value": 38.0563464058235,
          "variable": "E"
         },
         {
          "t": 31,
          "value": 40.258776186149596,
          "variable": "E"
         },
         {
          "t": 32,
          "value": 42.58873552351471,
          "variable": "E"
         },
         {
          "t": 33,
          "value": 45.053599806387986,
          "variable": "E"
         },
         {
          "t": 34,
          "value": 47.661171731697706,
          "variable": "E"
         },
         {
          "t": 35,
          "value": 50.41970595480278,
          "variable": "E"
         },
         {
          "t": 36,
          "value": 53.337935170001195,
          "variable": "E"
         },
         {
          "t": 37,
          "value": 56.42509770332167,
          "variable": "E"
         },
         {
          "t": 38,
          "value": 59.690966704114025,
          "variable": "E"
         },
         {
          "t": 39,
          "value": 63.14588102698382,
          "variable": "E"
         },
         {
          "t": 40,
          "value": 66.80077790092392,
          "variable": "E"
         },
         {
          "t": 41,
          "value": 70.66722748809765,
          "variable": "E"
         },
         {
          "t": 42,
          "value": 74.75746944064058,
          "variable": "E"
         },
         {
          "t": 43,
          "value": 79.08445157009005,
          "variable": "E"
         },
         {
          "t": 44,
          "value": 83.66187075064148,
          "variable": "E"
         },
         {
          "t": 45,
          "value": 88.50421618438786,
          "variable": "E"
         },
         {
          "t": 46,
          "value": 93.6268151640441,
          "variable": "E"
         },
         {
          "t": 47,
          "value": 99.04588147641313,
          "variable": "E"
         },
         {
          "t": 48,
          "value": 104.77856659803747,
          "variable": "E"
         },
         {
          "t": 49,
          "value": 110.84301384312364,
          "variable": "E"
         },
         {
          "t": 50,
          "value": 117.25841563294996,
          "variable": "E"
         },
         {
          "t": 51,
          "value": 124.04507406559922,
          "variable": "E"
         },
         {
          "t": 52,
          "value": 131.22446497502193,
          "variable": "E"
         },
         {
          "t": 53,
          "value": 138.8193056791633,
          "variable": "E"
         },
         {
          "t": 54,
          "value": 146.8536266282062,
          "variable": "E"
         },
         {
          "t": 55,
          "value": 155.35284717592523,
          "variable": "E"
         },
         {
          "t": 56,
          "value": 164.3438557097474,
          "variable": "E"
         },
         {
          "t": 57,
          "value": 173.8550943884032,
          "variable": "E"
         },
         {
          "t": 58,
          "value": 183.91664875006865,
          "variable": "E"
         },
         {
          "t": 59,
          "value": 194.56034246867736,
          "variable": "E"
         },
         {
          "t": 60,
          "value": 205.81983755166115,
          "variable": "E"
         },
         {
          "t": 61,
          "value": 217.73074028880168,
          "variable": "E"
         },
         {
          "t": 62,
          "value": 230.33071327917943,
          "variable": "E"
         },
         {
          "t": 63,
          "value": 243.65959388144077,
          "variable": "E"
         },
         {
          "t": 64,
          "value": 257.75951945180736,
          "variable": "E"
         },
         {
          "t": 65,
          "value": 272.6750597544758,
          "variable": "E"
         },
         {
          "t": 66,
          "value": 288.45335695034424,
          "variable": "E"
         },
         {
          "t": 67,
          "value": 305.14427359240824,
          "variable": "E"
         },
         {
          "t": 68,
          "value": 322.8005490797391,
          "variable": "E"
         },
         {
          "t": 69,
          "value": 341.4779650467491,
          "variable": "E"
         },
         {
          "t": 70,
          "value": 361.23552019051107,
          "variable": "E"
         },
         {
          "t": 71,
          "value": 382.1356150662874,
          "variable": "E"
         },
         {
          "t": 72,
          "value": 404.2442474101976,
          "variable": "E"
         },
         {
          "t": 73,
          "value": 427.63121857816,
          "variable": "E"
         },
         {
          "t": 74,
          "value": 452.3703517219509,
          "variable": "E"
         },
         {
          "t": 75,
          "value": 478.5397223564753,
          "variable": "E"
         },
         {
          "t": 76,
          "value": 506.22190200720837,
          "variable": "E"
         },
         {
          "t": 77,
          "value": 535.5042156632912,
          "variable": "E"
         },
         {
          "t": 78,
          "value": 566.4790138000086,
          "variable": "E"
         },
         {
          "t": 79,
          "value": 599.2439597743859,
          "variable": "E"
         },
         {
          "t": 80,
          "value": 523.2207152742659,
          "variable": "E"
         },
         {
          "t": 81,
          "value": 459.951725081984,
          "variable": "E"
         },
         {
          "t": 82,
          "value": 408.8968713436696,
          "variable": "E"
         },
         {
          "t": 83,
          "value": 366.44016315705653,
          "variable": "E"
         },
         {
          "t": 84,
          "value": 330.29834941637415,
          "variable": "E"
         },
         {
          "t": 85,
          "value": 299.04181443812564,
          "variable": "E"
         },
         {
          "t": 86,
          "value": 271.71721579132344,
          "variable": "E"
         },
         {
          "t": 87,
          "value": 247.64574739567578,
          "variable": "E"
         },
         {
          "t": 88,
          "value": 226.3162793127198,
          "variable": "E"
         },
         {
          "t": 89,
          "value": 207.32713203462052,
          "variable": "E"
         },
         {
          "t": 90,
          "value": 190.3529453613277,
          "variable": "E"
         },
         {
          "t": 91,
          "value": 175.12473727227393,
          "variable": "E"
         },
         {
          "t": 92,
          "value": 161.4170971670801,
          "variable": "E"
         },
         {
          "t": 93,
          "value": 149.03939904406184,
          "variable": "E"
         },
         {
          "t": 94,
          "value": 137.82940457344347,
          "variable": "E"
         },
         {
          "t": 95,
          "value": 127.64837988448342,
          "variable": "E"
         },
         {
          "t": 96,
          "value": 118.37723665898129,
          "variable": "E"
         },
         {
          "t": 97,
          "value": 109.91340978904624,
          "variable": "E"
         },
         {
          "t": 98,
          "value": 102.168291641879,
          "variable": "E"
         },
         {
          "t": 99,
          "value": 95.06510269925332,
          "variable": "E"
         },
         {
          "t": 100,
          "value": 88.53711309229003,
          "variable": "E"
         },
         {
          "t": 101,
          "value": 82.52615102783616,
          "variable": "E"
         },
         {
          "t": 102,
          "value": 76.98134827613609,
          "variable": "E"
         },
         {
          "t": 103,
          "value": 71.85808285517719,
          "variable": "E"
         },
         {
          "t": 104,
          "value": 67.11708644252619,
          "variable": "E"
         },
         {
          "t": 105,
          "value": 62.72368976493394,
          "variable": "E"
         },
         {
          "t": 106,
          "value": 58.647183769991585,
          "variable": "E"
         },
         {
          "t": 107,
          "value": 54.86027808103765,
          "variable": "E"
         },
         {
          "t": 108,
          "value": 51.33864127503066,
          "variable": "E"
         },
         {
          "t": 109,
          "value": 48.06051003984277,
          "variable": "E"
         },
         {
          "t": 110,
          "value": 45.00635636194381,
          "variable": "E"
         },
         {
          "t": 111,
          "value": 42.15860364367179,
          "variable": "E"
         },
         {
          "t": 112,
          "value": 39.50138411111227,
          "variable": "E"
         },
         {
          "t": 113,
          "value": 37.020331097339714,
          "variable": "E"
         },
         {
          "t": 114,
          "value": 34.70240081094122,
          "variable": "E"
         },
         {
          "t": 115,
          "value": 32.53571905899813,
          "variable": "E"
         },
         {
          "t": 116,
          "value": 30.50944911416083,
          "variable": "E"
         },
         {
          "t": 117,
          "value": 28.613677519719296,
          "variable": "E"
         },
         {
          "t": 118,
          "value": 26.83931513352074,
          "variable": "E"
         },
         {
          "t": 119,
          "value": 25.178011136999494,
          "variable": "E"
         },
         {
          "t": 120,
          "value": 23.622078092672165,
          "variable": "E"
         },
         {
          "t": 121,
          "value": 22.164426433270645,
          "variable": "E"
         },
         {
          "t": 122,
          "value": 20.79850701749876,
          "variable": "E"
         },
         {
          "t": 123,
          "value": 19.518260598962627,
          "variable": "E"
         },
         {
          "t": 124,
          "value": 18.31807323263961,
          "variable": "E"
         },
         {
          "t": 125,
          "value": 17.192736792761178,
          "variable": "E"
         },
         {
          "t": 126,
          "value": 16.13741390175443,
          "variable": "E"
         },
         {
          "t": 127,
          "value": 15.147606675738349,
          "variable": "E"
         },
         {
          "t": 128,
          "value": 14.219128781209378,
          "variable": "E"
         },
         {
          "t": 129,
          "value": 13.348080372661624,
          "variable": "E"
         },
         {
          "t": 130,
          "value": 12.530825544221587,
          "variable": "E"
         },
         {
          "t": 131,
          "value": 11.763971981822847,
          "variable": "E"
         },
         {
          "t": 132,
          "value": 11.044352547584687,
          "variable": "E"
         },
         {
          "t": 133,
          "value": 10.369008566216891,
          "variable": "E"
         },
         {
          "t": 134,
          "value": 9.735174615563476,
          "variable": "E"
         },
         {
          "t": 135,
          "value": 9.140264650753842,
          "variable": "E"
         },
         {
          "t": 136,
          "value": 8.581859314633553,
          "variable": "E"
         },
         {
          "t": 137,
          "value": 8.057694306855444,
          "variable": "E"
         },
         {
          "t": 138,
          "value": 7.565649700776029,
          "variable": "E"
         },
         {
          "t": 139,
          "value": 7.103740111584848,
          "variable": "E"
         },
         {
          "t": 140,
          "value": 8.18019374732871,
          "variable": "E"
         },
         {
          "t": 141,
          "value": 8.813546299977592,
          "variable": "E"
         },
         {
          "t": 142,
          "value": 9.13704677269655,
          "variable": "E"
         },
         {
          "t": 143,
          "value": 9.313442828680198,
          "variable": "E"
         },
         {
          "t": 144,
          "value": 9.417667858299492,
          "variable": "E"
         },
         {
          "t": 145,
          "value": 9.480485076861992,
          "variable": "E"
         },
         {
          "t": 146,
          "value": 9.515221021362402,
          "variable": "E"
         },
         {
          "t": 147,
          "value": 9.528609770895288,
          "variable": "E"
         },
         {
          "t": 148,
          "value": 9.524781932974353,
          "variable": "E"
         },
         {
          "t": 149,
          "value": 9.50670536813671,
          "variable": "E"
         },
         {
          "t": 150,
          "value": 9.476721033046063,
          "variable": "E"
         },
         {
          "t": 151,
          "value": 9.436760162805403,
          "variable": "E"
         },
         {
          "t": 152,
          "value": 9.388447179598394,
          "variable": "E"
         },
         {
          "t": 153,
          "value": 9.333159307621994,
          "variable": "E"
         },
         {
          "t": 154,
          "value": 9.272067810700896,
          "variable": "E"
         },
         {
          "t": 155,
          "value": 9.206169894201286,
          "variable": "E"
         },
         {
          "t": 156,
          "value": 9.136314807865132,
          "variable": "E"
         },
         {
          "t": 157,
          "value": 9.06322573985683,
          "variable": "E"
         },
         {
          "t": 158,
          "value": 8.987518371578428,
          "variable": "E"
         },
         {
          "t": 159,
          "value": 8.909716668864998,
          "variable": "E"
         },
         {
          "t": 160,
          "value": 8.830266343971283,
          "variable": "E"
         },
         {
          "t": 161,
          "value": 8.749546339696346,
          "variable": "E"
         },
         {
          "t": 162,
          "value": 8.667878628884667,
          "variable": "E"
         },
         {
          "t": 163,
          "value": 8.585536577313238,
          "variable": "E"
         },
         {
          "t": 164,
          "value": 8.50275208086267,
          "variable": "E"
         },
         {
          "t": 165,
          "value": 8.419721656705313,
          "variable": "E"
         },
         {
          "t": 166,
          "value": 8.336611641818417,
          "variable": "E"
         },
         {
          "t": 167,
          "value": 8.253562629636606,
          "variable": "E"
         },
         {
          "t": 168,
          "value": 8.170693256480233,
          "variable": "E"
         },
         {
          "t": 169,
          "value": 8.088103433035325,
          "variable": "E"
         },
         {
          "t": 170,
          "value": 8.23408881130819,
          "variable": "E"
         },
         {
          "t": 171,
          "value": 8.32108763870571,
          "variable": "E"
         },
         {
          "t": 172,
          "value": 8.36603480093649,
          "variable": "E"
         },
         {
          "t": 173,
          "value": 8.39245696196543,
          "variable": "E"
         },
         {
          "t": 174,
          "value": 8.410791204618022,
          "variable": "E"
         },
         {
          "t": 175,
          "value": 8.42493081496765,
          "variable": "E"
         },
         {
          "t": 176,
          "value": 8.436352301741486,
          "variable": "E"
         },
         {
          "t": 177,
          "value": 8.445713828439963,
          "variable": "E"
         },
         {
          "t": 178,
          "value": 8.453392202402728,
          "variable": "E"
         },
         {
          "t": 179,
          "value": 8.459654210110372,
          "variable": "E"
         },
         {
          "t": 180,
          "value": 8.464711772343756,
          "variable": "E"
         },
         {
          "t": 181,
          "value": 8.468741411880435,
          "variable": "E"
         },
         {
          "t": 182,
          "value": 8.471892720583186,
          "variable": "E"
         },
         {
          "t": 183,
          "value": 8.474293221536461,
          "variable": "E"
         },
         {
          "t": 184,
          "value": 8.476051841981523,
          "variable": "E"
         },
         {
          "t": 185,
          "value": 8.477261687038913,
          "variable": "E"
         },
         {
          "t": 186,
          "value": 8.478002355563927,
          "variable": "E"
         },
         {
          "t": 187,
          "value": 8.478341904429564,
          "variable": "E"
         },
         {
          "t": 188,
          "value": 8.478338523553136,
          "variable": "E"
         },
         {
          "t": 189,
          "value": 8.478041966820134,
          "variable": "E"
         },
         {
          "t": 190,
          "value": 8.47749477520559,
          "variable": "E"
         },
         {
          "t": 191,
          "value": 8.476733322476484,
          "variable": "E"
         },
         {
          "t": 192,
          "value": 8.475788709268953,
          "variable": "E"
         },
         {
          "t": 193,
          "value": 8.474687527542127,
          "variable": "E"
         },
         {
          "t": 194,
          "value": 8.47345251420614,
          "variable": "E"
         },
         {
          "t": 195,
          "value": 8.472103109992416,
          "variable": "E"
         },
         {
          "t": 196,
          "value": 8.470655937303832,
          "variable": "E"
         },
         {
          "t": 197,
          "value": 8.469125208790482,
          "variable": "E"
         },
         {
          "t": 198,
          "value": 8.467523076693787,
          "variable": "E"
         },
         {
          "t": 199,
          "value": 8.465859931545891,
          "variable": "E"
         },
         {
          "t": 200,
          "value": 8.464144657566312,
          "variable": "E"
         },
         {
          "t": 201,
          "value": 8.462384851033509,
          "variable": "E"
         },
         {
          "t": 202,
          "value": 8.460587006998917,
          "variable": "E"
         },
         {
          "t": 203,
          "value": 8.458756678932874,
          "variable": "E"
         },
         {
          "t": 204,
          "value": 8.456898615226528,
          "variable": "E"
         },
         {
          "t": 205,
          "value": 8.455016875904938,
          "variable": "E"
         },
         {
          "t": 206,
          "value": 8.453114932420153,
          "variable": "E"
         },
         {
          "t": 207,
          "value": 8.451195752977213,
          "variable": "E"
         },
         {
          "t": 208,
          "value": 8.449261875490341,
          "variable": "E"
         },
         {
          "t": 209,
          "value": 8.447315469962614,
          "variable": "E"
         },
         {
          "t": 210,
          "value": 8.445358391822396,
          "variable": "E"
         },
         {
          "t": 211,
          "value": 8.443392227527523,
          "variable": "E"
         },
         {
          "t": 212,
          "value": 8.441418333558229,
          "variable": "E"
         },
         {
          "t": 213,
          "value": 8.439437869757201,
          "variable": "E"
         },
         {
          "t": 214,
          "value": 8.437451827836322,
          "variable": "E"
         },
         {
          "t": 215,
          "value": 8.435461055750737,
          "variable": "E"
         },
         {
          "t": 216,
          "value": 8.43346627853941,
          "variable": "E"
         },
         {
          "t": 217,
          "value": 8.431468116144389,
          "variable": "E"
         },
         {
          "t": 218,
          "value": 8.429467098646802,
          "variable": "E"
         },
         {
          "t": 219,
          "value": 8.427463679294071,
          "variable": "E"
         },
         {
          "t": 220,
          "value": 8.425458245638566,
          "variable": "E"
         },
         {
          "t": 221,
          "value": 8.423451129061466,
          "variable": "E"
         },
         {
          "t": 222,
          "value": 8.421442612915946,
          "variable": "E"
         },
         {
          "t": 223,
          "value": 8.419432939489829,
          "variable": "E"
         },
         {
          "t": 224,
          "value": 8.417422315958865,
          "variable": "E"
         },
         {
          "t": 225,
          "value": 8.41541091947695,
          "variable": "E"
         },
         {
          "t": 226,
          "value": 8.413398901528414,
          "variable": "E"
         },
         {
          "t": 227,
          "value": 8.411386391649353,
          "variable": "E"
         },
         {
          "t": 228,
          "value": 8.409373500609474,
          "variable": "E"
         },
         {
          "t": 229,
          "value": 8.407360323132666,
          "variable": "E"
         },
         {
          "t": 230,
          "value": 8.40534694022317,
          "variable": "E"
         },
         {
          "t": 231,
          "value": 8.40333342115451,
          "variable": "E"
         },
         {
          "t": 232,
          "value": 8.401319825170104,
          "variable": "E"
         },
         {
          "t": 233,
          "value": 8.399306202937327,
          "variable": "E"
         },
         {
          "t": 234,
          "value": 8.397292597790768,
          "variable": "E"
         },
         {
          "t": 235,
          "value": 8.395279046795272,
          "variable": "E"
         },
         {
          "t": 236,
          "value": 8.393265581654845,
          "variable": "E"
         },
         {
          "t": 237,
          "value": 8.391252229489824,
          "variable": "E"
         },
         {
          "t": 238,
          "value": 8.389239013501351,
          "variable": "E"
         },
         {
          "t": 239,
          "value": 8.387225953539536,
          "variable": "E"
         },
         {
          "t": 240,
          "value": 8.385213066589248,
          "variable": "E"
         },
         {
          "t": 241,
          "value": 8.383200367185484,
          "variable": "E"
         },
         {
          "t": 242,
          "value": 8.381187867768505,
          "variable": "E"
         },
         {
          "t": 243,
          "value": 8.379175578987512,
          "variable": "E"
         },
         {
          "t": 244,
          "value": 8.377163509960281,
          "variable": "E"
         },
         {
          "t": 245,
          "value": 8.375151668495164,
          "variable": "E"
         },
         {
          "t": 246,
          "value": 8.373140061280901,
          "variable": "E"
         },
         {
          "t": 247,
          "value": 8.37112869404893,
          "variable": "E"
         },
         {
          "t": 248,
          "value": 8.369117571712142,
          "variable": "E"
         },
         {
          "t": 249,
          "value": 8.367106698483548,
          "variable": "E"
         },
         {
          "t": 250,
          "value": 8.365096077977718,
          "variable": "E"
         },
         {
          "t": 251,
          "value": 8.363085713297531,
          "variable": "E"
         },
         {
          "t": 252,
          "value": 8.361075607108344,
          "variable": "E"
         },
         {
          "t": 253,
          "value": 8.359065761701405,
          "variable": "E"
         },
         {
          "t": 254,
          "value": 8.35705617904808,
          "variable": "E"
         },
         {
          "t": 255,
          "value": 8.355046860846203,
          "variable": "E"
         },
         {
          "t": 256,
          "value": 8.353037808559735,
          "variable": "E"
         },
         {
          "t": 257,
          "value": 8.35102902345265,
          "variable": "E"
         },
         {
          "t": 258,
          "value": 8.349020506617904,
          "variable": "E"
         },
         {
          "t": 259,
          "value": 8.347012259002232,
          "variable": "E"
         },
         {
          "t": 260,
          "value": 8.345004281427325,
          "variable": "E"
         },
         {
          "t": 261,
          "value": 8.342996574607946,
          "variable": "E"
         },
         {
          "t": 262,
          "value": 8.34098913916742,
          "variable": "E"
         },
         {
          "t": 263,
          "value": 8.338981975650883,
          "variable": "E"
         },
         {
          "t": 264,
          "value": 8.336975084536594,
          "variable": "E"
         },
         {
          "t": 265,
          "value": 8.334968466245627,
          "variable": "E"
         },
         {
          "t": 266,
          "value": 8.332962121150148,
          "variable": "E"
         },
         {
          "t": 267,
          "value": 8.33095604958049,
          "variable": "E"
         },
         {
          "t": 268,
          "value": 8.328950251831204,
          "variable": "E"
         },
         {
          "t": 269,
          "value": 8.326944728166243,
          "variable": "E"
         },
         {
          "t": 270,
          "value": 8.324939478823373,
          "variable": "E"
         },
         {
          "t": 271,
          "value": 8.322934504017969,
          "variable": "E"
         },
         {
          "t": 272,
          "value": 8.320929803946244,
          "variable": "E"
         },
         {
          "t": 273,
          "value": 8.318925378788013,
          "variable": "E"
         },
         {
          "t": 274,
          "value": 8.316921228709058,
          "variable": "E"
         },
         {
          "t": 275,
          "value": 8.314917353863153,
          "variable": "E"
         },
         {
          "t": 276,
          "value": 8.312913754393797,
          "variable": "E"
         },
         {
          "t": 277,
          "value": 8.310910430435682,
          "variable": "E"
         },
         {
          "t": 278,
          "value": 8.308907382115962,
          "variable": "E"
         },
         {
          "t": 279,
          "value": 8.306904609555332,
          "variable": "E"
         },
         {
          "t": 280,
          "value": 8.304902112868957,
          "variable": "E"
         },
         {
          "t": 281,
          "value": 8.30289989216726,
          "variable": "E"
         },
         {
          "t": 282,
          "value": 8.30089794755659,
          "variable": "E"
         },
         {
          "t": 283,
          "value": 8.298896279139813,
          "variable": "E"
         },
         {
          "t": 284,
          "value": 8.296894887016794,
          "variable": "E"
         },
         {
          "t": 285,
          "value": 8.294893771284825,
          "variable": "E"
         },
         {
          "t": 286,
          "value": 8.292892932038987,
          "variable": "E"
         },
         {
          "t": 287,
          "value": 8.290892369372454,
          "variable": "E"
         },
         {
          "t": 288,
          "value": 8.288892083376764,
          "variable": "E"
         },
         {
          "t": 289,
          "value": 8.286892074142036,
          "variable": "E"
         },
         {
          "t": 290,
          "value": 8.28489234175717,
          "variable": "E"
         },
         {
          "t": 291,
          "value": 8.28289288631001,
          "variable": "E"
         },
         {
          "t": 292,
          "value": 8.280893707887484,
          "variable": "E"
         },
         {
          "t": 293,
          "value": 8.278894806575723,
          "variable": "E"
         },
         {
          "t": 294,
          "value": 8.27689618246017,
          "variable": "E"
         },
         {
          "t": 295,
          "value": 8.274897835625666,
          "variable": "E"
         },
         {
          "t": 296,
          "value": 8.272899766156518,
          "variable": "E"
         },
         {
          "t": 297,
          "value": 8.270901974136576,
          "variable": "E"
         },
         {
          "t": 298,
          "value": 8.268904459649278,
          "variable": "E"
         },
         {
          "t": 299,
          "value": 8.266907222777702,
          "variable": "E"
         },
         {
          "t": 0,
          "value": 0,
          "variable": "I0"
         },
         {
          "t": 1,
          "value": 0,
          "variable": "I0"
         },
         {
          "t": 2,
          "value": 5,
          "variable": "I0"
         },
         {
          "t": 3,
          "value": 8.025,
          "variable": "I0"
         },
         {
          "t": 4,
          "value": 9.720057150554188,
          "variable": "I0"
         },
         {
          "t": 5,
          "value": 10.797178085340574,
          "variable": "I0"
         },
         {
          "t": 6,
          "value": 11.61911530320261,
          "variable": "I0"
         },
         {
          "t": 7,
          "value": 12.351686055442295,
          "variable": "I0"
         },
         {
          "t": 8,
          "value": 13.069324669850044,
          "variable": "I0"
         },
         {
          "t": 9,
          "value": 13.80587569715573,
          "variable": "I0"
         },
         {
          "t": 10,
          "value": 14.577401410778274,
          "variable": "I0"
         },
         {
          "t": 11,
          "value": 15.392251948808656,
          "variable": "I0"
         },
         {
          "t": 12,
          "value": 16.255493742670033,
          "variable": "I0"
         },
         {
          "t": 13,
          "value": 17.17085664877267,
          "variable": "I0"
         },
         {
          "t": 14,
          "value": 18.141592019057594,
          "variable": "I0"
         },
         {
          "t": 15,
          "value": 19.170853265717568,
          "variable": "I0"
         },
         {
          "t": 16,
          "value": 20.26186735118605,
          "variable": "I0"
         },
         {
          "t": 17,
          "value": 21.41801500525282,
          "variable": "I0"
         },
         {
          "t": 18,
          "value": 22.642871368098266,
          "variable": "I0"
         },
         {
          "t": 19,
          "value": 23.940229752804967,
          "variable": "I0"
         },
         {
          "t": 20,
          "value": 25.314118495446937,
          "variable": "I0"
         },
         {
          "t": 21,
          "value": 26.768815279230374,
          "variable": "I0"
         },
         {
          "t": 22,
          "value": 28.30886087230852,
          "variable": "I0"
         },
         {
          "t": 23,
          "value": 29.939073147587774,
          "variable": "I0"
         },
         {
          "t": 24,
          "value": 31.664561785121094,
          "variable": "I0"
         },
         {
          "t": 25,
          "value": 33.49074385481383,
          "variable": "I0"
         },
         {
          "t": 26,
          "value": 35.42336039052042,
          "variable": "I0"
         },
         {
          "t": 27,
          "value": 37.46849403098215,
          "variable": "I0"
         },
         {
          "t": 28,
          "value": 39.63258778984723,
          "variable": "I0"
         },
         {
          "t": 29,
          "value": 41.92246501368789,
          "variable": "I0"
         },
         {
          "t": 30,
          "value": 44.345350587996116,
          "variable": "I0"
         },
         {
          "t": 31,
          "value": 46.908893454204424,
          "variable": "I0"
         },
         {
          "t": 32,
          "value": 49.62119050480066,
          "variable": "I0"
         },
         {
          "t": 33,
          "value": 52.49081192814196,
          "variable": "I0"
         },
         {
          "t": 34,
          "value": 55.52682807944005,
          "variable": "I0"
         },
         {
          "t": 35,
          "value": 58.73883795951824,
          "variable": "I0"
         },
         {
          "t": 36,
          "value": 62.13699938831252,
          "variable": "I0"
         },
         {
          "t": 37,
          "value": 65.73206096570789,
          "variable": "I0"
         },
         {
          "t": 38,
          "value": 69.53539591818054,
          "variable": "I0"
         },
         {
          "t": 39,
          "value": 73.55903793587478,
          "variable": "I0"
         },
         {
          "t": 40,
          "value": 77.81571911120145,
          "variable": "I0"
         },
         {
          "t": 41,
          "value": 82.3189100968232,
          "variable": "I0"
         },
         {
          "t": 42,
          "value": 87.08286260801482,
          "variable": "I0"
         },
         {
          "t": 43,
          "value": 92.12265440187709,
          "variable": "I0"
         },
         {
          "t": 44,
          "value": 97.45423687376504,
          "variable": "I0"
         },
         {
          "t": 45,
          "value": 103.09448541959162,
          "variable": "I0"
         },
         {
          "t": 46,
          "value": 109.0612527214112,
          "variable": "I0"
         },
         {
          "t": 47,
          "value": 115.37342512290354,
          "variable": "I0"
         },
         {
          "t": 48,
          "value": 122.05098227109355,
          "variable": "I0"
         },
         {
          "t": 49,
          "value": 129.11506021088826,
          "variable": "I0"
         },
         {
          "t": 50,
          "value": 136.58801812981883,
          "variable": "I0"
         },
         {
          "t": 51,
          "value": 144.493508961776,
          "variable": "I0"
         },
         {
          "t": 52,
          "value": 152.85655407055597,
          "variable": "I0"
         },
         {
          "t": 53,
          "value": 161.70362224672516,
          "variable": "I0"
         },
         {
          "t": 54,
          "value": 171.0627132647055,
          "variable": "I0"
         },
         {
          "t": 55,
          "value": 180.96344626111403,
          "variable": "I0"
         },
         {
          "t": 56,
          "value": 191.43715321030405,
          "variable": "I0"
         },
         {
          "t": 57,
          "value": 202.51697778879125,
          "variable": "I0"
         },
         {
          "t": 58,
          "value": 214.23797993685338,
          "variable": "I0"
         },
         {
          "t": 59,
          "value": 226.63724644311043,
          "variable": "I0"
         },
         {
          "t": 60,
          "value": 239.75400789637658,
          "variable": "I0"
         },
         {
          "t": 61,
          "value": 253.62976236857128,
          "variable": "I0"
         },
         {
          "t": 62,
          "value": 268.3084062130437,
          "variable": "I0"
         },
         {
          "t": 63,
          "value": 283.8363723843528,
          "variable": "I0"
         },
         {
          "t": 64,
          "value": 300.2627767084165,
          "variable": "I0"
         },
         {
          "t": 65,
          "value": 317.63957255605624,
          "variable": "I0"
         },
         {
          "t": 66,
          "value": 336.02171439837997,
          "variable": "I0"
         },
         {
          "t": 67,
          "value": 355.46733074923384,
          "variable": "I0"
         },
         {
          "t": 68,
          "value": 376.037907028181,
          "variable": "I0"
         },
         {
          "t": 69,
          "value": 397.7984789071968,
          "variable": "I0"
         },
         {
          "t": 70,
          "value": 420.817836735588,
          "variable": "I0"
         },
         {
          "t": 71,
          "value": 445.168741670615,
          "variable": "I0"
         },
         {
          "t": 72,
          "value": 470.9281541760036,
          "variable": "I0"
         },
         {
          "t": 73,
          "value": 498.1774755870549,
          "variable": "I0"
         },
         {
          "t": 74,
          "value": 527.0028034794814,
          "variable": "I0"
         },
         {
          "t": 75,
          "value": 557.4952016194966,
          "variable": "I0"
         },
         {
          "t": 76,
          "value": 589.7509853151572,
          "variable": "I0"
         },
         {
          "t": 77,
          "value": 623.8720230335782,
          "variable": "I0"
         },
         {
          "t": 78,
          "value": 659.9660551955114,
          "variable": "I0"
         },
         {
          "t": 79,
          "value": 698.1470311079851,
          "variable": "I0"
         },
         {
          "t": 80,
          "value": 612.8689994478921,
          "variable": "I0"
         },
         {
          "t": 81,
          "value": 563.4975645709237,
          "variable": "I0"
         },
         {
          "t": 82,
          "value": 511.16603490393993,
          "variable": "I0"
         },
         {
          "t": 83,
          "value": 460.02500483065546,
          "variable": "I0"
         },
         {
          "t": 84,
          "value": 412.74109609660985,
          "variable": "I0"
         },
         {
          "t": 85,
          "value": 370.2102806544758,
          "variable": "I0"
         },
         {
          "t": 86,
          "value": 332.4665267958647,
          "variable": "I0"
         },
         {
          "t": 87,
          "value": 299.1753591967401,
          "variable": "I0"
         },
         {
          "t": 88,
          "value": 269.8726714056304,
          "variable": "I0"
         },
         {
          "t": 89,
          "value": 244.07549004771948,
          "variable": "I0"
         },
         {
          "t": 90,
          "value": 221.3300256103906,
          "variable": "I0"
         },
         {
          "t": 91,
          "value": 201.22955029566876,
          "variable": "I0"
         },
         {
          "t": 92,
          "value": 183.41818278990834,
          "variable": "I0"
         },
         {
          "t": 93,
          "value": 167.5884577012566,
          "variable": "I0"
         },
         {
          "t": 94,
          "value": 153.47648324011823,
          "variable": "I0"
         },
         {
          "t": 95,
          "value": 140.85647594809524,
          "variable": "I0"
         },
         {
          "t": 96,
          "value": 129.53547240832515,
          "variable": "I0"
         },
         {
          "t": 97,
          "value": 119.34853884674033,
          "variable": "I0"
         },
         {
          "t": 98,
          "value": 110.15457288629504,
          "variable": "I0"
         },
         {
          "t": 99,
          "value": 101.83268914551071,
          "variable": "I0"
         },
         {
          "t": 100,
          "value": 94.27913808368949,
          "variable": "I0"
         },
         {
          "t": 101,
          "value": 87.40469388130373,
          "variable": "I0"
         },
         {
          "t": 102,
          "value": 81.13244664295252,
          "variable": "I0"
         },
         {
          "t": 103,
          "value": 75.39593924095199,
          "variable": "I0"
         },
         {
          "t": 104,
          "value": 70.13759605667661,
          "variable": "I0"
         },
         {
          "t": 105,
          "value": 65.30739805205101,
          "variable": "I0"
         },
         {
          "t": 106,
          "value": 60.86176529576598,
          "variable": "I0"
         },
         {
          "t": 107,
          "value": 56.76261401587552,
          "variable": "I0"
         },
         {
          "t": 108,
          "value": 52.97656040321387,
          "variable": "I0"
         },
         {
          "t": 109,
          "value": 49.47424779242877,
          "variable": "I0"
         },
         {
          "t": 110,
          "value": 46.22977757864708,
          "variable": "I0"
         },
         {
          "t": 111,
          "value": 43.22022737554747,
          "variable": "I0"
         },
         {
          "t": 112,
          "value": 40.425242568980494,
          "variable": "I0"
         },
         {
          "t": 113,
          "value": 37.82668964497978,
          "variable": "I0"
         },
         {
          "t": 114,
          "value": 35.408361538139424,
          "variable": "I0"
         },
         {
          "t": 115,
          "value": 33.15572681257904,
          "variable": "I0"
         },
         {
          "t": 116,
          "value": 31.055715801226153,
          "variable": "I0"
         },
         {
          "t": 117,
          "value": 29.096537930577185,
          "variable": "I0"
         },
         {
          "t": 118,
          "value": 27.267525381679807,
          "variable": "I0"
         },
         {
          "t": 119,
          "value": 25.558999012563696,
          "variable": "I0"
         },
         {
          "t": 120,
          "value": 23.96215311686068,
          "variable": "I0"
         },
         {
          "t": 121,
          "value": 22.46895613813083,
          "variable": "I0"
         },
         {
          "t": 122,
          "value": 21.07206491640635,
          "variable": "I0"
         },
         {
          "t": 123,
          "value": 19.764750426891947,
          "variable": "I0"
         },
         {
          "t": 124,
          "value": 18.540833292526752,
          "variable": "I0"
         },
         {
          "t": 125,
          "value": 17.394627622196214,
          "variable": "I0"
         },
         {
          "t": 126,
          "value": 16.320891953142347,
          "variable": "I0"
         },
         {
          "t": 127,
          "value": 15.314786266561379,
          "variable": "I0"
         },
         {
          "t": 128,
          "value": 14.37183420536754,
          "variable": "I0"
         },
         {
          "t": 129,
          "value": 13.487889757557676,
          "variable": "I0"
         },
         {
          "t": 130,
          "value": 12.659107781653775,
          "variable": "I0"
         },
         {
          "t": 131,
          "value": 11.881917845781704,
          "variable": "I0"
         },
         {
          "t": 132,
          "value": 11.153000931958045,
          "variable": "I0"
         },
         {
          "t": 133,
          "value": 10.469268624527393,
          "variable": "I0"
         },
         {
          "t": 134,
          "value": 9.827844458452162,
          "variable": "I0"
         },
         {
          "t": 135,
          "value": 9.226047151009432,
          "variable": "I0"
         },
         {
          "t": 136,
          "value": 8.661375480822235,
          "variable": "I0"
         },
         {
          "t": 137,
          "value": 8.13149461224347,
          "variable": "I0"
         },
         {
          "t": 138,
          "value": 7.634223691922731,
          "variable": "I0"
         },
         {
          "t": 139,
          "value": 7.167524568761704,
          "variable": "I0"
         },
         {
          "t": 140,
          "value": 6.729491509108157,
          "variable": "I0"
         },
         {
          "t": 141,
          "value": 6.3183417965442175,
          "variable": "I0"
         },
         {
          "t": 142,
          "value": 6.309929149499524,
          "variable": "I0"
         },
         {
          "t": 143,
          "value": 6.462588750906576,
          "variable": "I0"
         },
         {
          "t": 144,
          "value": 6.646509100036076,
          "variable": "I0"
         },
         {
          "t": 145,
          "value": 6.814754349694402,
          "variable": "I0"
         },
         {
          "t": 146,
          "value": 6.954376150618594,
          "variable": "I0"
         },
         {
          "t": 147,
          "value": 7.064325170883048,
          "variable": "I0"
         },
         {
          "t": 148,
          "value": 7.147224745686659,
          "variable": "I0"
         },
         {
          "t": 149,
          "value": 7.206529146062317,
          "variable": "I0"
         },
         {
          "t": 150,
          "value": 7.2456026568356515,
          "variable": "I0"
         },
         {
          "t": 151,
          "value": 7.267458135398242,
          "variable": "I0"
         },
         {
          "t": 152,
          "value": 7.274714499655329,
          "variable": "I0"
         },
         {
          "t": 153,
          "value": 7.2696223279686984,
          "variable": "I0"
         },
         {
          "t": 154,
          "value": 7.25410686627847,
          "variable": "I0"
         },
         {
          "t": 155,
          "value": 7.229811961643466,
          "variable": "I0"
         },
         {
          "t": 156,
          "value": 7.198140026784563,
          "variable": "I0"
         },
         {
          "t": 157,
          "value": 7.160286991629902,
          "variable": "I0"
         },
         {
          "t": 158,
          "value": 7.117272421316467,
          "variable": "I0"
         },
         {
          "t": 159,
          "value": 7.069965319352823,
          "variable": "I0"
         },
         {
          "t": 160,
          "value": 7.0191061834577635,
          "variable": "I0"
         },
         {
          "t": 161,
          "value": 6.965325841050239,
          "variable": "I0"
         },
         {
          "t": 162,
          "value": 6.909161528701733,
          "variable": "I0"
         },
         {
          "t": 163,
          "value": 6.851070616797757,
          "variable": "I0"
         },
         {
          "t": 164,
          "value": 6.791442323559653,
          "variable": "I0"
         },
         {
          "t": 165,
          "value": 6.730607712731074,
          "variable": "I0"
         },
         {
          "t": 166,
          "value": 6.6688482263091435,
          "variable": "I0"
         },
         {
          "t": 167,
          "value": 6.606402966935,
          "variable": "I0"
         },
         {
          "t": 168,
          "value": 6.543474913135729,
          "variable": "I0"
         },
         {
          "t": 169,
          "value": 6.480236223775769,
          "variable": "I0"
         },
         {
          "t": 170,
          "value": 6.416832765168702,
          "variable": "I0"
         },
         {
          "t": 171,
          "value": 6.3533879747477044,
          "variable": "I0"
         },
         {
          "t": 172,
          "value": 6.347059085781748,
          "variable": "I0"
         },
         {
          "t": 173,
          "value": 6.3645367925791065,
          "variable": "I0"
         },
         {
          "t": 174,
          "value": 6.387571035225019,
          "variable": "I0"
         },
         {
          "t": 175,
          "value": 6.409724689268245,
          "variable": "I0"
         },
         {
          "t": 176,
          "value": 6.429261966410571,
          "variable": "I0"
         },
         {
          "t": 177,
          "value": 6.4459845310690485,
          "variable": "I0"
         },
         {
          "t": 178,
          "value": 6.460127633906979,
          "variable": "I0"
         },
         {
          "t": 179,
          "value": 6.472014609997201,
          "variable": "I0"
         },
         {
          "t": 180,
          "value": 6.4819579123487925,
          "variable": "I0"
         },
         {
          "t": 181,
          "value": 6.490235143363028,
          "variable": "I0"
         },
         {
          "t": 182,
          "value": 6.497086664855983,
          "variable": "I0"
         },
         {
          "t": 183,
          "value": 6.502718851747898,
          "variable": "I0"
         },
         {
          "t": 184,
          "value": 6.507308405075627,
          "variable": "I0"
         },
         {
          "t": 185,
          "value": 6.511006478810164,
          "variable": "I0"
         },
         {
          "t": 186,
          "value": 6.513942333692242,
          "variable": "I0"
         },
         {
          "t": 187,
          "value": 6.516226497001992,
          "variable": "I0"
         },
         {
          "t": 188,
          "value": 6.517953474367326,
          "variable": "I0"
         },
         {
          "t": 189,
          "value": 6.519204071305337,
          "variable": "I0"
         },
         {
          "t": 190,
          "value": 6.5200473790193865,
          "variable": "I0"
         },
         {
          "t": 191,
          "value": 6.52054247254312,
          "variable": "I0"
         },
         {
          "t": 192,
          "value": 6.5207398627680035,
          "variable": "I0"
         },
         {
          "t": 193,
          "value": 6.520682737987523,
          "variable": "I0"
         },
         {
          "t": 194,
          "value": 6.520408025458817,
          "variable": "I0"
         },
         {
          "t": 195,
          "value": 6.519947299070233,
          "variable": "I0"
         },
         {
          "t": 196,
          "value": 6.519327555423942,
          "variable": "I0"
         },
         {
          "t": 197,
          "value": 6.518571877409264,
          "variable": "I0"
         },
         {
          "t": 198,
          "value": 6.517700001577211,
          "variable": "I0"
         },
         {
          "t": 199,
          "value": 6.516728803262239,
          "variable": "I0"
         },
         {
          "t": 200,
          "value": 6.5156727113754584,
          "variable": "I0"
         },
         {
          "t": 201,
          "value": 6.514544063064907,
          "variable": "I0"
         },
         {
          "t": 202,
          "value": 6.51335340696039,
          "variable": "I0"
         },
         {
          "t": 203,
          "value": 6.512109762456641,
          "variable": "I0"
         },
         {
          "t": 204,
          "value": 6.510820841407963,
          "variable": "I0"
         },
         {
          "t": 205,
          "value": 6.509493237683593,
          "variable": "I0"
         },
         {
          "t": 206,
          "value": 6.508132589243058,
          "variable": "I0"
         },
         {
          "t": 207,
          "value": 6.506743716715298,
          "variable": "I0"
         },
         {
          "t": 208,
          "value": 6.505330741887865,
          "variable": "I0"
         },
         {
          "t": 209,
          "value": 6.503897189018613,
          "variable": "I0"
         },
         {
          "t": 210,
          "value": 6.502446071460148,
          "variable": "I0"
         },
         {
          "t": 211,
          "value": 6.500979965726253,
          "variable": "I0"
         },
         {
          "t": 212,
          "value": 6.499501074820819,
          "variable": "I0"
         },
         {
          "t": 213,
          "value": 6.498011282385934,
          "variable": "I0"
         },
         {
          "t": 214,
          "value": 6.496512199000063,
          "variable": "I0"
         },
         {
          "t": 215,
          "value": 6.495005201764342,
          "variable": "I0"
         },
         {
          "t": 216,
          "value": 6.493491468150012,
          "variable": "I0"
         },
         {
          "t": 217,
          "value": 6.491972004938942,
          "variable": "I0"
         },
         {
          "t": 218,
          "value": 6.490447672968639,
          "variable": "I0"
         },
         {
          "t": 219,
          "value": 6.4889192082899285,
          "variable": "I0"
         },
         {
          "t": 220,
          "value": 6.4873872402574015,
          "variable": "I0"
         },
         {
          "t": 221,
          "value": 6.485852306997264,
          "variable": "I0"
         },
         {
          "t": 222,
          "value": 6.4843148686327945,
          "variable": "I0"
         },
         {
          "t": 223,
          "value": 6.482775318592503,
          "variable": "I0"
         },
         {
          "t": 224,
          "value": 6.481233993278925,
          "variable": "I0"
         },
         {
          "t": 225,
          "value": 6.479691180335732,
          "variable": "I0"
         },
         {
          "t": 226,
          "value": 6.478147125716335,
          "variable": "I0"
         },
         {
          "t": 227,
          "value": 6.476602039727763,
          "variable": "I0"
         },
         {
          "t": 228,
          "value": 6.4750561021983435,
          "variable": "I0"
         },
         {
          "t": 229,
          "value": 6.47350946689622,
          "variable": "I0"
         },
         {
          "t": 230,
          "value": 6.471962265307317,
          "variable": "I0"
         },
         {
          "t": 231,
          "value": 6.470414609865606,
          "variable": "I0"
         },
         {
          "t": 232,
          "value": 6.468866596715076,
          "variable": "I0"
         },
         {
          "t": 233,
          "value": 6.467318308071303,
          "variable": "I0"
         },
         {
          "t": 234,
          "value": 6.465769814240655,
          "variable": "I0"
         },
         {
          "t": 235,
          "value": 6.464221175346775,
          "variable": "I0"
         },
         {
          "t": 236,
          "value": 6.462672442806765,
          "variable": "I0"
         },
         {
          "t": 237,
          "value": 6.461123660593383,
          "variable": "I0"
         },
         {
          "t": 238,
          "value": 6.459574866314245,
          "variable": "I0"
         },
         {
          "t": 239,
          "value": 6.458026092134571,
          "variable": "I0"
         },
         {
          "t": 240,
          "value": 6.4564773655661725,
          "variable": "I0"
         },
         {
          "t": 241,
          "value": 6.45492871014205,
          "variable": "I0"
         },
         {
          "t": 242,
          "value": 6.453380145993196,
          "variable": "I0"
         },
         {
          "t": 243,
          "value": 6.451831690341779,
          "variable": "I0"
         },
         {
          "t": 244,
          "value": 6.450283357922827,
          "variable": "I0"
         },
         {
          "t": 245,
          "value": 6.4487351613447865,
          "variable": "I0"
         },
         {
          "t": 246,
          "value": 6.447187111397801,
          "variable": "I0"
         },
         {
          "t": 247,
          "value": 6.445639217317306,
          "variable": "I0"
         },
         {
          "t": 248,
          "value": 6.444091487009407,
          "variable": "I0"
         },
         {
          "t": 249,
          "value": 6.442543927243582,
          "variable": "I0"
         },
         {
          "t": 250,
          "value": 6.4409965438174535,
          "variable": "I0"
         },
         {
          "t": 251,
          "value": 6.439449341697668,
          "variable": "I0"
         },
         {
          "t": 252,
          "value": 6.437902325140355,
          "variable": "I0"
         },
         {
          "t": 253,
          "value": 6.436355497794123,
          "variable": "I0"
         },
         {
          "t": 254,
          "value": 6.4348088627881195,
          "variable": "I0"
         },
         {
          "t": 255,
          "value": 6.433262422807331,
          "variable": "I0"
         },
         {
          "t": 256,
          "value": 6.431716180156969,
          "variable": "I0"
         },
         {
          "t": 257,
          "value": 6.430170136817504,
          "variable": "I0"
         },
         {
          "t": 258,
          "value": 6.428624294491749,
          "variable": "I0"
         },
         {
          "t": 259,
          "value": 6.4270786546450935,
          "variable": "I0"
         },
         {
          "t": 260,
          "value": 6.425533218539914,
          "variable": "I0"
         },
         {
          "t": 261,
          "value": 6.423987987265,
          "variable": "I0"
         },
         {
          "t": 262,
          "value": 6.422442961760706,
          "variable": "I0"
         },
         {
          "t": 263,
          "value": 6.420898142840462,
          "variable": "I0"
         },
         {
          "t": 264,
          "value": 6.419353531209167,
          "variable": "I0"
         },
         {
          "t": 265,
          "value": 6.417809127478908,
          "variable": "I0"
         },
         {
          "t": 266,
          "value": 6.416264932182411,
          "variable": "I0"
         },
         {
          "t": 267,
          "value": 6.414720945784533,
          "variable": "I0"
         },
         {
          "t": 268,
          "value": 6.413177168692097,
          "variable": "I0"
         },
         {
          "t": 269,
          "value": 6.411633601262288,
          "variable": "I0"
         },
         {
          "t": 270,
          "value": 6.4100902438098455,
          "variable": "I0"
         },
         {
          "t": 271,
          "value": 6.408547096613207,
          "variable": "I0"
         },
         {
          "t": 272,
          "value": 6.407004159919757,
          "variable": "I0"
         },
         {
          "t": 273,
          "value": 6.405461433950329,
          "variable": "I0"
         },
         {
          "t": 274,
          "value": 6.403918918903033,
          "variable": "I0"
         },
         {
          "t": 275,
          "value": 6.40237661495655,
          "variable": "I0"
         },
         {
          "t": 276,
          "value": 6.400834522272936,
          "variable": "I0"
         },
         {
          "t": 277,
          "value": 6.39929264100002,
          "variable": "I0"
         },
         {
          "t": 278,
          "value": 6.397750971273463,
          "variable": "I0"
         },
         {
          "t": 279,
          "value": 6.3962095132185075,
          "variable": "I0"
         },
         {
          "t": 280,
          "value": 6.394668266951483,
          "variable": "I0"
         },
         {
          "t": 281,
          "value": 6.393127232581084,
          "variable": "I0"
         },
         {
          "t": 282,
          "value": 6.391586410209471,
          "variable": "I0"
         },
         {
          "t": 283,
          "value": 6.390045799933207,
          "variable": "I0"
         },
         {
          "t": 284,
          "value": 6.3885054018440615,
          "variable": "I0"
         },
         {
          "t": 285,
          "value": 6.386965216029695,
          "variable": "I0"
         },
         {
          "t": 286,
          "value": 6.385425242574242,
          "variable": "I0"
         },
         {
          "t": 287,
          "value": 6.38388548155882,
          "variable": "I0"
         },
         {
          "t": 288,
          "value": 6.382345933061949,
          "variable": "I0"
         },
         {
          "t": 289,
          "value": 6.38080659715993,
          "variable": "I0"
         },
         {
          "t": 290,
          "value": 6.379267473927143,
          "variable": "I0"
         },
         {
          "t": 291,
          "value": 6.377728563436331,
          "variable": "I0"
         },
         {
          "t": 292,
          "value": 6.376189865758816,
          "variable": "I0"
         },
         {
          "t": 293,
          "value": 6.374651380964704,
          "variable": "I0"
         },
         {
          "t": 294,
          "value": 6.373113109123046,
          "variable": "I0"
         },
         {
          "t": 295,
          "value": 6.371575050301987,
          "variable": "I0"
         },
         {
          "t": 296,
          "value": 6.370037204568884,
          "variable": "I0"
         },
         {
          "t": 297,
          "value": 6.368499571990413,
          "variable": "I0"
         },
         {
          "t": 298,
          "value": 6.3669621526326585,
          "variable": "I0"
         },
         {
          "t": 299,
          "value": 6.3654249465611885,
          "variable": "I0"
         },
         {
          "t": 0,
          "value": 0,
          "variable": "I1"
         },
         {
          "t": 1,
          "value": 0,
          "variable": "I1"
         },
         {
          "t": 2,
          "value": 0,
          "variable": "I1"
         },
         {
          "t": 3,
          "value": 0.22500000000000003,
          "variable": "I1"
         },
         {
          "t": 4,
          "value": 0.5636250000000002,
          "variable": "I1"
         },
         {
          "t": 5,
          "value": 0.9446650717749386,
          "variable": "I1"
         },
         {
          "t": 6,
          "value": 1.3360715784377706,
          "variable": "I1"
         },
         {
          "t": 7,
          "value": 1.7253246092381112,
          "variable": "I1"
         },
         {
          "t": 8,
          "value": 2.1086180208092036,
          "variable": "I1"
         },
         {
          "t": 9,
          "value": 2.4858758288715355,
          "variable": "I1"
         },
         {
          "t": 10,
          "value": 2.85855265235639,
          "variable": "I1"
         },
         {
          "t": 11,
          "value": 3.228680450605773,
          "variable": "I1"
         },
         {
          "t": 12,
          "value": 3.5984637432415854,
          "variable": "I1"
         },
         {
          "t": 13,
          "value": 3.9701145873375783,
          "variable": "I1"
         },
         {
          "t": 14,
          "value": 4.345791677798591,
          "variable": "I1"
         },
         {
          "t": 15,
          "value": 4.727584150876323,
          "variable": "I1"
         },
         {
          "t": 16,
          "value": 5.117514132745981,
          "variable": "I1"
         },
         {
          "t": 17,
          "value": 5.517546750274756,
          "variable": "I1"
         },
         {
          "t": 18,
          "value": 5.9296027504836575,
          "variable": "I1"
         },
         {
          "t": 19,
          "value": 6.355571686999713,
          "variable": "I1"
         },
         {
          "t": 20,
          "value": 6.797324857175966,
          "variable": "I1"
         },
         {
          "t": 21,
          "value": 7.256727703753482,
          "variable": "I1"
         },
         {
          "t": 22,
          "value": 7.735651620943501,
          "variable": "I1"
         },
         {
          "t": 23,
          "value": 8.235985198103036,
          "variable": "I1"
         },
         {
          "t": 24,
          "value": 8.759644969934183,
          "variable": "I1"
         },
         {
          "t": 25,
          "value": 9.308585753271213,
          "variable": "I1"
         },
         {
          "t": 26,
          "value": 9.884810651410715,
          "variable": "I1"
         },
         {
          "t": 27,
          "value": 10.490380803843061,
          "variable": "I1"
         },
         {
          "t": 28,
          "value": 11.127424954852952,
          "variable": "I1"
         },
         {
          "t": 29,
          "value": 11.798148909910783,
          "variable": "I1"
         },
         {
          "t": 30,
          "value": 12.50484494453566,
          "variable": "I1"
         },
         {
          "t": 31,
          "value": 13.249901226541919,
          "variable": "I1"
         },
         {
          "t": 32,
          "value": 14.035811309326927,
          "variable": "I1"
         },
         {
          "t": 33,
          "value": 14.865183751110264,
          "variable": "I1"
         },
         {
          "t": 34,
          "value": 15.740751912765628,
          "variable": "I1"
         },
         {
          "t": 35,
          "value": 16.665383985063865,
          "variable": "I1"
         },
         {
          "t": 36,
          "value": 17.6420932947358,
          "variable": "I1"
         },
         {
          "t": 37,
          "value": 18.674048937736284,
          "variable": "I1"
         },
         {
          "t": 38,
          "value": 19.76458678741951,
          "variable": "I1"
         },
         {
          "t": 39,
          "value": 20.917220924995686,
          "variable": "I1"
         },
         {
          "t": 40,
          "value": 22.13565553961048,
          "variable": "I1"
         },
         {
          "t": 41,
          "value": 23.423797345653497,
          "variable": "I1"
         },
         {
          "t": 42,
          "value": 24.785768565445196,
          "variable": "I1"
         },
         {
          "t": 43,
          "value": 26.225920526261344,
          "variable": "I1"
         },
         {
          "t": 44,
          "value": 27.748847921719676,
          "variable": "I1"
         },
         {
          "t": 45,
          "value": 29.359403788867137,
          "variable": "I1"
         },
         {
          "t": 46,
          "value": 31.062715253862045,
          "variable": "I1"
         },
         {
          "t": 47,
          "value": 32.86420010093935,
          "variable": "I1"
         },
         {
          "t": 48,
          "value": 34.76958422137608,
          "variable": "I1"
         },
         {
          "t": 49,
          "value": 36.784920001437676,
          "variable": "I1"
         },
         {
          "t": 50,
          "value": 38.916605710783884,
          "variable": "I1"
         },
         {
          "t": 51,
          "value": 41.17140595554734,
          "variable": "I1"
         },
         {
          "t": 52,
          "value": 43.55647326327253,
          "variable": "I1"
         },
         {
          "t": 53,
          "value": 46.07937087012029,
          "variable": "I1"
         },
         {
          "t": 54,
          "value": 48.748096784210894,
          "variable": "I1"
         },
         {
          "t": 55,
          "value": 51.57110920270156,
          "variable": "I1"
         },
         {
          "t": 56,
          "value": 54.55735336418153,
          "variable": "I1"
         },
         {
          "t": 57,
          "value": 57.71628992222706,
          "variable": "I1"
         },
         {
          "t": 58,
          "value": 61.05792493049997,
          "variable": "I1"
         },
         {
          "t": 59,
          "value": 64.59284153460838,
          "variable": "I1"
         },
         {
          "t": 60,
          "value": 68.3322334710875,
          "variable": "I1"
         },
         {
          "t": 61,
          "value": 72.28794047931571,
          "variable": "I1"
         },
         {
          "t": 62,
          "value": 76.47248573796985,
          "variable": "I1"
         },
         {
          "t": 63,
          "value": 80.89911544375983,
          "variable": "I1"
         },
         {
          "t": 64,
          "value": 85.58184065667972,
          "variable": "I1"
         },
         {
          "t": 65,
          "value": 90.53548154289048,
          "variable": "I1"
         },
         {
          "t": 66,
          "value": 95.77571415362397,
          "variable": "I1"
         },
         {
          "t": 67,
          "value": 101.31911988618867,
          "variable": "I1"
         },
         {
          "t": 68,
          "value": 107.18323778128534,
          "variable": "I1"
         },
         {
          "t": 69,
          "value": 113.38661981942495,
          "variable": "I1"
         },
         {
          "t": 70,
          "value": 119.94888938830631,
          "variable": "I1"
         },
         {
          "t": 71,
          "value": 126.89080310257714,
          "variable": "I1"
         },
         {
          "t": 72,
          "value": 134.2343161674971,
          "variable": "I1"
         },
         {
          "t": 73,
          "value": 142.00265148866754,
          "variable": "I1"
         },
         {
          "t": 74,
          "value": 150.22037274121828,
          "variable": "I1"
         },
         {
          "t": 75,
          "value": 158.9134616236731,
          "variable": "I1"
         },
         {
          "t": 76,
          "value": 168.10939953418313,
          "variable": "I1"
         },
         {
          "t": 77,
          "value": 177.83725391994687,
          "variable": "I1"
         },
         {
          "t": 78,
          "value": 188.12776956446322,
          "variable": "I1"
         },
         {
          "t": 79,
          "value": 199.0134650918149,
          "variable": "I1"
         },
         {
          "t": 80,
          "value": 336.19520058193007,
          "variable": "I1"
         },
         {
          "t": 81,
          "value": 440.47120539951277,
          "variable": "I1"
         },
         {
          "t": 82,
          "value": 523.2110368880193,
          "variable": "I1"
         },
         {
          "t": 83,
          "value": 585.9022910526039,
          "variable": "I1"
         },
         {
          "t": 84,
          "value": 630.817688034241,
          "variable": "I1"
         },
         {
          "t": 85,
          "value": 660.6026658525541,
          "variable": "I1"
         },
         {
          "t": 86,
          "value": 677.8397124145558,
          "variable": "I1"
         },
         {
          "t": 87,
          "value": 684.8607097021697,
          "variable": "I1"
         },
         {
          "t": 88,
          "value": 683.6890945512193,
          "variable": "I1"
         },
         {
          "t": 89,
          "value": 676.0415361623642,
          "variable": "I1"
         },
         {
          "t": 90,
          "value": 663.3543678068647,
          "variable": "I1"
         },
         {
          "t": 91,
          "value": 646.8181867885162,
          "variable": "I1"
         },
         {
          "t": 92,
          "value": 627.41301692619,
          "variable": "I1"
         },
         {
          "t": 93,
          "value": 605.9408063613004,
          "variable": "I1"
         },
         {
          "t": 94,
          "value": 583.0541287079529,
          "variable": "I1"
         },
         {
          "t": 95,
          "value": 559.2809245661842,
          "variable": "I1"
         },
         {
          "t": 96,
          "value": 535.0455391978873,
          "variable": "I1"
         },
         {
          "t": 97,
          "value": 510.6864665699717,
          "variable": "I1"
         },
         {
          "t": 98,
          "value": 486.4712411534911,
          "variable": "I1"
         },
         {
          "t": 99,
          "value": 462.6088959375584,
          "variable": "I1"
         },
         {
          "t": 100,
          "value": 439.26036140154247,
          "variable": "I1"
         },
         {
          "t": 101,
          "value": 416.5471313302183,
          "variable": "I1"
         },
         {
          "t": 102,
          "value": 394.55847432048984,
          "variable": "I1"
         },
         {
          "t": 103,
          "value": 373.3574273831051,
          "variable": "I1"
         },
         {
          "t": 104,
          "value": 352.9857709740088,
          "variable": "I1"
         },
         {
          "t": 105,
          "value": 333.4681529893602,
          "variable": "I1"
         },
         {
          "t": 106,
          "value": 314.8155022521356,
          "variable": "I1"
         },
         {
          "t": 107,
          "value": 297.02784921846944,
          "variable": "I1"
         },
         {
          "t": 108,
          "value": 280.0966524501945,
          "variable": "I1"
         },
         {
          "t": 109,
          "value": 264.0067132958982,
          "variable": "I1"
         },
         {
          "t": 110,
          "value": 248.73774771960484,
          "variable": "I1"
         },
         {
          "t": 111,
          "value": 234.26567290283995,
          "variable": "I1"
         },
         {
          "t": 112,
          "value": 220.56365677205412,
          "variable": "I1"
         },
         {
          "t": 113,
          "value": 207.60297067286933,
          "variable": "I1"
         },
         {
          "t": 114,
          "value": 195.35367877570286,
          "variable": "I1"
         },
         {
          "t": 115,
          "value": 183.78519224421393,
          "variable": "I1"
         },
         {
          "t": 116,
          "value": 172.86671155262283,
          "variable": "I1"
         },
         {
          "t": 117,
          "value": 162.56757645263642,
          "variable": "I1"
         },
         {
          "t": 118,
          "value": 152.85753984175267,
          "variable": "I1"
         },
         {
          "t": 119,
          "value": 143.70697906845533,
          "variable": "I1"
         },
         {
          "t": 120,
          "value": 135.08705593943665,
          "variable": "I1"
         },
         {
          "t": 121,
          "value": 126.96983479678663,
          "variable": "I1"
         },
         {
          "t": 122,
          "value": 119.3283664481874,
          "variable": "I1"
         },
         {
          "t": 123,
          "value": 112.1367444095601,
          "variable": "I1"
         },
         {
          "t": 124,
          "value": 105.37013881465477,
          "variable": "I1"
         },
         {
          "t": 125,
          "value": 99.00481242400781,
          "variable": "I1"
         },
         {
          "t": 126,
          "value": 93.01812239660117,
          "variable": "I1"
         },
         {
          "t": 127,
          "value": 87.38851084639809,
          "variable": "I1"
         },
         {
          "t": 128,
          "value": 82.09548667173459,
          "variable": "I1"
         },
         {
          "t": 129,
          "value": 77.11960070076883,
          "variable": "I1"
         },
         {
          "t": 130,
          "value": 72.44241582614242,
          "variable": "I1"
         },
         {
          "t": 131,
          "value": 68.04647349440029,
          "variable": "I1"
         },
         {
          "t": 132,
          "value": 63.91525766026114,
          "variable": "I1"
         },
         {
          "t": 133,
          "value": 60.03315710392558,
          "variable": "I1"
         },
         {
          "t": 134,
          "value": 56.385426834051685,
          "variable": "I1"
         },
         {
          "t": 135,
          "value": 52.95814915379826,
          "variable": "I1"
         },
         {
          "t": 136,
          "value": 49.738194847395555,
          "variable": "I1"
         },
         {
          "t": 137,
          "value": 46.713184845841,
          "variable": "I1"
         },
         {
          "t": 138,
          "value": 43.87145264901168,
          "variable": "I1"
         },
         {
          "t": 139,
          "value": 41.20200771479312,
          "variable": "I1"
         },
         {
          "t": 140,
          "value": 38.69449997128519,
          "variable": "I1"
         },
         {
          "t": 141,
          "value": 36.33918556370601,
          "variable": "I1"
         },
         {
          "t": 142,
          "value": 34.12689391155786,
          "variable": "I1"
         },
         {
          "t": 143,
          "value": 32.133938579039466,
          "variable": "I1"
         },
         {
          "t": 144,
          "value": 30.3746271900895,
          "variable": "I1"
         },
         {
          "t": 145,
          "value": 28.83262901858867,
          "variable": "I1"
         },
         {
          "t": 146,
          "value": 27.48268584541104,
          "variable": "I1"
         },
         {
          "t": 147,
          "value": 26.29915189475912,
          "variable": "I1"
         },
         {
          "t": 148,
          "value": 25.25870986873189,
          "variable": "I1"
         },
         {
          "t": 149,
          "value": 24.3409644496382,
          "variable": "I1"
         },
         {
          "t": 150,
          "value": 23.5283370625384,
          "variable": "I1"
         },
         {
          "t": 151,
          "value": 22.80576395407258,
          "variable": "I1"
         },
         {
          "t": 152,
          "value": 22.160365639129925,
          "variable": "I1"
         },
         {
          "t": 153,
          "value": 21.58113983763938,
          "variable": "I1"
         },
         {
          "t": 154,
          "value": 21.0586908776684,
          "variable": "I1"
         },
         {
          "t": 155,
          "value": 20.584995834814215,
          "variable": "I1"
         },
         {
          "t": 156,
          "value": 20.153203942702575,
          "variable": "I1"
         },
         {
          "t": 157,
          "value": 19.757465054458844,
          "variable": "I1"
         },
         {
          "t": 158,
          "value": 19.39278312212969,
          "variable": "I1"
         },
         {
          "t": 159,
          "value": 19.054891104712926,
          "variable": "I1"
         },
         {
          "t": 160,
          "value": 18.740144191096018,
          "variable": "I1"
         },
         {
          "t": 161,
          "value": 18.445428663264416,
          "variable": "I1"
         },
         {
          "t": 162,
          "value": 18.168084111174277,
          "variable": "I1"
         },
         {
          "t": 163,
          "value": 17.90583704401474,
          "variable": "I1"
         },
         {
          "t": 164,
          "value": 17.656744228392757,
          "variable": "I1"
         },
         {
          "t": 165,
          "value": 17.419144328354403,
          "variable": "I1"
         },
         {
          "t": 166,
          "value": 17.191616630883455,
          "variable": "I1"
         },
         {
          "t": 167,
          "value": 16.972945818714667,
          "variable": "I1"
         },
         {
          "t": 168,
          "value": 16.762091904403576,
          "variable": "I1"
         },
         {
          "t": 169,
          "value": 16.558164569418757,
          "variable": "I1"
         },
         {
          "t": 170,
          "value": 16.36040126282643,
          "variable": "I1"
         },
         {
          "t": 171,
          "value": 16.168148508706743,
          "variable": "I1"
         },
         {
          "t": 172,
          "value": 15.980845952154304,
          "variable": "I1"
         },
         {
          "t": 173,
          "value": 15.810849651239765,
          "variable": "I1"
         },
         {
          "t": 174,
          "value": 15.661785464446087,
          "variable": "I1"
         },
         {
          "t": 175,
          "value": 15.532810400927106,
          "variable": "I1"
         },
         {
          "t": 176,
          "value": 15.421717415919751,
          "variable": "I1"
         },
         {
          "t": 177,
          "value": 15.326129616770157,
          "variable": "I1"
         },
         {
          "t": 178,
          "value": 15.243863174583675,
          "variable": "I1"
         },
         {
          "t": 179,
          "value": 15.173005574754377,
          "variable": "I1"
         },
         {
          "t": 180,
          "value": 15.11190830452831,
          "variable": "I1"
         },
         {
          "t": 181,
          "value": 15.059158004353957,
          "variable": "I1"
         },
         {
          "t": 182,
          "value": 15.013545111175244,
          "variable": "I1"
         },
         {
          "t": 183,
          "value": 14.974035099650315,
          "variable": "I1"
         },
         {
          "t": 184,
          "value": 14.939743331328561,
          "variable": "I1"
         },
         {
          "t": 185,
          "value": 14.909913389337722,
          "variable": "I1"
         },
         {
          "t": 186,
          "value": 14.883898508136237,
          "variable": "I1"
         },
         {
          "t": 187,
          "value": 14.861145682403368,
          "variable": "I1"
         },
         {
          "t": 188,
          "value": 14.84118207598848,
          "variable": "I1"
         },
         {
          "t": 189,
          "value": 14.82360340012228,
          "variable": "I1"
         },
         {
          "t": 190,
          "value": 14.808063976153754,
          "variable": "I1"
         },
         {
          "t": 191,
          "value": 14.79426823881774,
          "variable": "I1"
         },
         {
          "t": 192,
          "value": 14.781963471258168,
          "variable": "I1"
         },
         {
          "t": 193,
          "value": 14.770933593255153,
          "variable": "I1"
         },
         {
          "t": 194,
          "value": 14.76099384997683,
          "variable": "I1"
         },
         {
          "t": 195,
          "value": 14.75198627070738,
          "variable": "I1"
         },
         {
          "t": 196,
          "value": 14.743775785927443,
          "variable": "I1"
         },
         {
          "t": 197,
          "value": 14.736246907305086,
          "variable": "I1"
         },
         {
          "t": 198,
          "value": 14.729300888991663,
          "variable": "I1"
         },
         {
          "t": 199,
          "value": 14.722853300447369,
          "variable": "I1"
         },
         {
          "t": 200,
          "value": 14.716831951136637,
          "variable": "I1"
         },
         {
          "t": 201,
          "value": 14.711175116082451,
          "variable": "I1"
         },
         {
          "t": 202,
          "value": 14.705830018663809,
          "variable": "I1"
         },
         {
          "t": 203,
          "value": 14.700751533363517,
          "variable": "I1"
         },
         {
          "t": 204,
          "value": 14.695901076579908,
          "variable": "I1"
         },
         {
          "t": 205,
          "value": 14.69124565823871,
          "variable": "I1"
         },
         {
          "t": 206,
          "value": 14.686757070893648,
          "variable": "I1"
         },
         {
          "t": 207,
          "value": 14.68241119638397,
          "variable": "I1"
         },
         {
          "t": 208,
          "value": 14.678187413006516,
          "variable": "I1"
         },
         {
          "t": 209,
          "value": 14.674068088630632,
          "variable": "I1"
         },
         {
          "t": 210,
          "value": 14.670038147296756,
          "variable": "I1"
         },
         {
          "t": 211,
          "value": 14.666084698645614,
          "variable": "I1"
         },
         {
          "t": 212,
          "value": 14.662196721069458,
          "variable": "I1"
         },
         {
          "t": 213,
          "value": 14.658364790797197,
          "variable": "I1"
         },
         {
          "t": 214,
          "value": 14.654580850254312,
          "variable": "I1"
         },
         {
          "t": 215,
          "value": 14.650838010003895,
          "variable": "I1"
         },
         {
          "t": 216,
          "value": 14.647130379400483,
          "variable": "I1"
         },
         {
          "t": 217,
          "value": 14.643452921794188,
          "variable": "I1"
         },
         {
          "t": 218,
          "value": 14.639801330726032,
          "variable": "I1"
         },
         {
          "t": 219,
          "value": 14.636171924071373,
          "variable": "I1"
         },
         {
          "t": 220,
          "value": 14.63256155352947,
          "variable": "I1"
         },
         {
          "t": 221,
          "value": 14.628967527234439,
          "variable": "I1"
         },
         {
          "t": 222,
          "value": 14.625387543585378,
          "variable": "I1"
         },
         {
          "t": 223,
          "value": 14.621819634669219,
          "variable": "I1"
         },
         {
          "t": 224,
          "value": 14.61826211788561,
          "variable": "I1"
         },
         {
          "t": 225,
          "value": 14.614713554584807,
          "variable": "I1"
         },
         {
          "t": 226,
          "value": 14.611172714701866,
          "variable": "I1"
         },
         {
          "t": 227,
          "value": 14.607638546517855,
          "variable": "I1"
         },
         {
          "t": 228,
          "value": 14.604110150804816,
          "variable": "I1"
         },
         {
          "t": 229,
          "value": 14.600586758718961,
          "variable": "I1"
         },
         {
          "t": 230,
          "value": 14.597067712898715,
          "variable": "I1"
         },
         {
          "t": 231,
          "value": 14.59355245130299,
          "variable": "I1"
         },
         {
          "t": 232,
          "value": 14.590040493392452,
          "variable": "I1"
         },
         {
          "t": 233,
          "value": 14.586531428314098,
          "variable": "I1"
         },
         {
          "t": 234,
          "value": 14.583024904798732,
          "variable": "I1"
         },
         {
          "t": 235,
          "value": 14.579520622523006,
          "variable": "I1"
         },
         {
          "t": 236,
          "value": 14.576018324723732,
          "variable": "I1"
         },
         {
          "t": 237,
          "value": 14.572517791882879,
          "variable": "I1"
         },
         {
          "t": 238,
          "value": 14.569018836328102,
          "variable": "I1"
         },
         {
          "t": 239,
          "value": 14.565521297615998,
          "variable": "I1"
         },
         {
          "t": 240,
          "value": 14.562025038584675,
          "variable": "I1"
         },
         {
          "t": 241,
          "value": 14.558529941978597,
          "variable": "I1"
         },
         {
          "t": 242,
          "value": 14.555035907562699,
          "variable": "I1"
         },
         {
          "t": 243,
          "value": 14.551542849654899,
          "variable": "I1"
         },
         {
          "t": 244,
          "value": 14.54805069501631,
          "variable": "I1"
         },
         {
          "t": 245,
          "value": 14.544559381047312,
          "variable": "I1"
         },
         {
          "t": 246,
          "value": 14.541068854245157,
          "variable": "I1"
         },
         {
          "t": 247,
          "value": 14.537579068885147,
          "variable": "I1"
         },
         {
          "t": 248,
          "value": 14.534089985893027,
          "variable": "I1"
         },
         {
          "t": 249,
          "value": 14.53060157188084,
          "variable": "I1"
         },
         {
          "t": 250,
          "value": 14.527113798322564,
          "variable": "I1"
         },
         {
          "t": 251,
          "value": 14.523626640849235,
          "variable": "I1"
         },
         {
          "t": 252,
          "value": 14.520140078646287,
          "variable": "I1"
         },
         {
          "t": 253,
          "value": 14.516654093938238,
          "variable": "I1"
         },
         {
          "t": 254,
          "value": 14.51316867154809,
          "variable": "I1"
         },
         {
          "t": 255,
          "value": 14.509683798520609,
          "variable": "I1"
         },
         {
          "t": 256,
          "value": 14.506199463800197,
          "variable": "I1"
         },
         {
          "t": 257,
          "value": 14.502715657955495,
          "variable": "I1"
         },
         {
          "t": 258,
          "value": 14.499232372943885,
          "variable": "I1"
         },
         {
          "t": 259,
          "value": 14.49574960191014,
          "variable": "I1"
         },
         {
          "t": 260,
          "value": 14.492267339014271,
          "variable": "I1"
         },
         {
          "t": 261,
          "value": 14.488785579284325,
          "variable": "I1"
         },
         {
          "t": 262,
          "value": 14.485304318490517,
          "variable": "I1"
         },
         {
          "t": 263,
          "value": 14.481823553037623,
          "variable": "I1"
         },
         {
          "t": 264,
          "value": 14.478343279872965,
          "variable": "I1"
         },
         {
          "t": 265,
          "value": 14.474863496407732,
          "variable": "I1"
         },
         {
          "t": 266,
          "value": 14.47138420044971,
          "variable": "I1"
         },
         {
          "t": 267,
          "value": 14.467905390145782,
          "variable": "I1"
         },
         {
          "t": 268,
          "value": 14.464427063932725,
          "variable": "I1"
         },
         {
          "t": 269,
          "value": 14.460949220495174,
          "variable": "I1"
         },
         {
          "t": 270,
          "value": 14.45747185872967,
          "variable": "I1"
         },
         {
          "t": 271,
          "value": 14.453994977713919,
          "variable": "I1"
         },
         {
          "t": 272,
          "value": 14.450518576680498,
          "variable": "I1"
         },
         {
          "t": 273,
          "value": 14.447042654994394,
          "variable": "I1"
         },
         {
          "t": 274,
          "value": 14.443567212133779,
          "variable": "I1"
         },
         {
          "t": 275,
          "value": 14.440092247673583,
          "variable": "I1"
         },
         {
          "t": 276,
          "value": 14.43661776127145,
          "variable": "I1"
         },
         {
          "t": 277,
          "value": 14.433143752655715,
          "variable": "I1"
         },
         {
          "t": 278,
          "value": 14.429670221615147,
          "variable": "I1"
         },
         {
          "t": 279,
          "value": 14.426197167990162,
          "variable": "I1"
         },
         {
          "t": 280,
          "value": 14.42272459166531,
          "variable": "I1"
         },
         {
          "t": 281,
          "value": 14.419252492562862,
          "variable": "I1"
         },
         {
          "t": 282,
          "value": 14.41578087063732,
          "variable": "I1"
         },
         {
          "t": 283,
          "value": 14.412309725870719,
          "variable": "I1"
         },
         {
          "t": 284,
          "value": 14.408839058268619,
          "variable": "I1"
         },
         {
          "t": 285,
          "value": 14.405368867856671,
          "variable": "I1"
         },
         {
          "t": 286,
          "value": 14.401899154677684,
          "variable": "I1"
         },
         {
          "t": 287,
          "value": 14.398429918789121,
          "variable": "I1"
         },
         {
          "t": 288,
          "value": 14.394961160260944,
          "variable": "I1"
         },
         {
          "t": 289,
          "value": 14.39149287917379,
          "variable": "I1"
         },
         {
          "t": 290,
          "value": 14.388025075617394,
          "variable": "I1"
         },
         {
          "t": 291,
          "value": 14.384557749689261,
          "variable": "I1"
         },
         {
          "t": 292,
          "value": 14.38109090149351,
          "variable": "I1"
         },
         {
          "t": 293,
          "value": 14.377624531139892,
          "variable": "I1"
         },
         {
          "t": 294,
          "value": 14.374158638742962,
          "variable": "I1"
         },
         {
          "t": 295,
          "value": 14.37069322442135,
          "variable": "I1"
         },
         {
          "t": 296,
          "value": 14.367228288297163,
          "variable": "I1"
         },
         {
          "t": 297,
          "value": 14.363763830495445,
          "variable": "I1"
         },
         {
          "t": 298,
          "value": 14.360299851143743,
          "variable": "I1"
         },
         {
          "t": 299,
          "value": 14.356836350371717,
          "variable": "I1"
         },
         {
          "t": 0,
          "value": 0,
          "variable": "P"
         },
         {
          "t": 1,
          "value": 5,
          "variable": "P"
         },
         {
          "t": 2,
          "value": 3.7500000000000004,
          "variable": "P"
         },
         {
          "t": 3,
          "value": 2.8586821505541873,
          "variable": "P"
         },
         {
          "t": 4,
          "value": 2.4865292216167423,
          "variable": "P"
         },
         {
          "t": 5,
          "value": 2.3875280402364205,
          "variable": "P"
         },
         {
          "t": 6,
          "value": 2.4173424712040625,
          "variable": "P"
         },
         {
          "t": 7,
          "value": 2.5086330924468823,
          "variable": "P"
         },
         {
          "t": 8,
          "value": 2.6316031044339434,
          "variable": "P"
         },
         {
          "t": 9,
          "value": 2.773377689710124,
          "variable": "P"
         },
         {
          "t": 10,
          "value": 2.928573742593234,
          "variable": "P"
         },
         {
          "t": 11,
          "value": 3.095118326438631,
          "variable": "P"
         },
         {
          "t": 12,
          "value": 3.2724094987897923,
          "variable": "P"
         },
         {
          "t": 13,
          "value": 3.4605095843569624,
          "variable": "P"
         },
         {
          "t": 14,
          "value": 3.659792089423325,
          "variable": "P"
         },
         {
          "t": 15,
          "value": 3.87078780899753,
          "variable": "P"
         },
         {
          "t": 16,
          "value": 4.094118419988745,
          "variable": "P"
         },
         {
          "t": 17,
          "value": 4.330468538607105,
          "variable": "P"
         },
         {
          "t": 18,
          "value": 4.580574733080952,
          "variable": "P"
         },
         {
          "t": 19,
          "value": 4.845222056798688,
          "variable": "P"
         },
         {
          "t": 20,
          "value": 5.125243965623244,
          "variable": "P"
         },
         {
          "t": 21,
          "value": 5.42152380856655,
          "variable": "P"
         },
         {
          "t": 22,
          "value": 5.734997101763989,
          "variable": "P"
         },
         {
          "t": 23,
          "value": 6.066654243933547,
          "variable": "P"
         },
         {
          "t": 24,
          "value": 6.4175435285352975,
          "variable": "P"
         },
         {
          "t": 25,
          "value": 6.788774394654595,
          "variable": "P"
         },
         {
          "t": 26,
          "value": 7.181520897087185,
          "variable": "P"
         },
         {
          "t": 27,
          "value": 7.597025393357493,
          "variable": "P"
         },
         {
          "t": 28,
          "value": 8.036602453368513,
          "variable": "P"
         },
         {
          "t": 29,
          "value": 8.501643001292969,
          "variable": "P"
         },
         {
          "t": 30,
          "value": 8.993618701467748,
          "variable": "P"
         },
         {
          "t": 31,
          "value": 9.514086601455874,
          "variable": "P"
         },
         {
          "t": 32,
          "value": 10.064694046537399,
          "variable": "P"
         },
         {
          "t": 33,
          "value": 10.647183880878677,
          "variable": "P"
         },
         {
          "t": 34,
          "value": 11.263399951596996,
          "variable": "P"
         },
         {
          "t": 35,
          "value": 11.915292932924427,
          "variable": "P"
         },
         {
          "t": 36,
          "value": 12.604926488700695,
          "variable": "P"
         },
         {
          "t": 37,
          "value": 13.334483792500299,
          "variable": "P"
         },
         {
          "t": 38,
          "value": 14.106274425830417,
          "variable": "P"
         },
         {
          "t": 39,
          "value": 14.922741676028506,
          "variable": "P"
         },
         {
          "t": 40,
          "value": 15.786470256745956,
          "variable": "P"
         },
         {
          "t": 41,
          "value": 16.70019447523098,
          "variable": "P"
         },
         {
          "t": 42,
          "value": 17.666806872024413,
          "variable": "P"
         },
         {
          "t": 43,
          "value": 18.689367360160144,
          "variable": "P"
         },
         {
          "t": 44,
          "value": 19.771112892522513,
          "variable": "P"
         },
         {
          "t": 45,
          "value": 20.91546768766037,
          "variable": "P"
         },
         {
          "t": 46,
          "value": 22.126054046096964,
          "variable": "P"
         },
         {
          "t": 47,
          "value": 23.406703791011026,
          "variable": "P"
         },
         {
          "t": 48,
          "value": 24.761470369103282,
          "variable": "P"
         },
         {
          "t": 49,
          "value": 26.194641649509368,
          "variable": "P"
         },
         {
          "t": 50,
          "value": 27.71075346078091,
          "variable": "P"
         },
         {
          "t": 51,
          "value": 29.31460390823749,
          "variable": "P"
         },
         {
          "t": 52,
          "value": 31.011268516399806,
          "variable": "P"
         },
         {
          "t": 53,
          "value": 32.80611624375548,
          "variable": "P"
         },
         {
          "t": 54,
          "value": 34.70482641979083,
          "variable": "P"
         },
         {
          "t": 55,
          "value": 36.71340665705155,
          "variable": "P"
         },
         {
          "t": 56,
          "value": 38.83821179398131,
          "variable": "P"
         },
         {
          "t": 57,
          "value": 41.08596392743685,
          "variable": "P"
         },
         {
          "t": 58,
          "value": 43.4637735971008,
          "variable": "P"
         },
         {
          "t": 59,
          "value": 45.97916218751716,
          "variable": "P"
         },
         {
          "t": 60,
          "value": 48.64008561716934,
          "variable": "P"
         },
         {
          "t": 61,
          "value": 51.45495938791529,
          "variable": "P"
         },
         {
          "t": 62,
          "value": 54.43268507220042,
          "variable": "P"
         },
         {
          "t": 63,
          "value": 57.58267831979486,
          "variable": "P"
         },
         {
          "t": 64,
          "value": 60.91489847036019,
          "variable": "P"
         },
         {
          "t": 65,
          "value": 64.43987986295184,
          "variable": "P"
         },
         {
          "t": 66,
          "value": 68.16876493861895,
          "variable": "P"
         },
         {
          "t": 67,
          "value": 72.11333923758606,
          "variable": "P"
         },
         {
          "t": 68,
          "value": 76.28606839810206,
          "variable": "P"
         },
         {
          "t": 69,
          "value": 80.70013726993477,
          "variable": "P"
         },
         {
          "t": 70,
          "value": 85.36949126168727,
          "variable": "P"
         },
         {
          "t": 71,
          "value": 90.30888004762777,
          "variable": "P"
         },
         {
          "t": 72,
          "value": 95.53390376657185,
          "variable": "P"
         },
         {
          "t": 73,
          "value": 101.0610618525494,
          "variable": "P"
         },
         {
          "t": 74,
          "value": 106.90780464454,
          "variable": "P"
         },
         {
          "t": 75,
          "value": 113.09258793048772,
          "variable": "P"
         },
         {
          "t": 76,
          "value": 119.63493058911882,
          "variable": "P"
         },
         {
          "t": 77,
          "value": 126.55547550180209,
          "variable": "P"
         },
         {
          "t": 78,
          "value": 133.8760539158228,
          "variable": "P"
         },
         {
          "t": 79,
          "value": 141.61975345000215,
          "variable": "P"
         },
         {
          "t": 80,
          "value": 149.81098994359647,
          "variable": "P"
         },
         {
          "t": 81,
          "value": 130.80517881856647,
          "variable": "P"
         },
         {
          "t": 82,
          "value": 114.987931270496,
          "variable": "P"
         },
         {
          "t": 83,
          "value": 102.2242178359174,
          "variable": "P"
         },
         {
          "t": 84,
          "value": 91.61004078926413,
          "variable": "P"
         },
         {
          "t": 85,
          "value": 82.57458735409354,
          "variable": "P"
         },
         {
          "t": 86,
          "value": 74.76045360953141,
          "variable": "P"
         },
         {
          "t": 87,
          "value": 67.92930394783086,
          "variable": "P"
         },
         {
          "t": 88,
          "value": 61.911436848918946,
          "variable": "P"
         },
         {
          "t": 89,
          "value": 56.57906982817995,
          "variable": "P"
         },
         {
          "t": 90,
          "value": 51.83178300865513,
          "variable": "P"
         },
         {
          "t": 91,
          "value": 47.588236340331925,
          "variable": "P"
         },
         {
          "t": 92,
          "value": 43.78118431806848,
          "variable": "P"
         },
         {
          "t": 93,
          "value": 40.354274291770025,
          "variable": "P"
         },
         {
          "t": 94,
          "value": 37.25984976101546,
          "variable": "P"
         },
         {
          "t": 95,
          "value": 34.45735114336087,
          "variable": "P"
         },
         {
          "t": 96,
          "value": 31.912094971120855,
          "variable": "P"
         },
         {
          "t": 97,
          "value": 29.594309164745322,
          "variable": "P"
         },
         {
          "t": 98,
          "value": 27.47835244726156,
          "variable": "P"
         },
         {
          "t": 99,
          "value": 25.54207291046975,
          "variable": "P"
         },
         {
          "t": 100,
          "value": 23.76627567481333,
          "variable": "P"
         },
         {
          "t": 101,
          "value": 22.134278273072507,
          "variable": "P"
         },
         {
          "t": 102,
          "value": 20.63153775695904,
          "variable": "P"
         },
         {
          "t": 103,
          "value": 19.245337069034022,
          "variable": "P"
         },
         {
          "t": 104,
          "value": 17.964520713794297,
          "variable": "P"
         },
         {
          "t": 105,
          "value": 16.779271610631547,
          "variable": "P"
         },
         {
          "t": 106,
          "value": 15.680922441233484,
          "variable": "P"
         },
         {
          "t": 107,
          "value": 14.661795942497896,
          "variable": "P"
         },
         {
          "t": 108,
          "value": 13.715069520259412,
          "variable": "P"
         },
         {
          "t": 109,
          "value": 12.834660318757665,
          "variable": "P"
         },
         {
          "t": 110,
          "value": 12.015127509960692,
          "variable": "P"
         },
         {
          "t": 111,
          "value": 11.251589090485952,
          "variable": "P"
         },
         {
          "t": 112,
          "value": 10.539650910917947,
          "variable": "P"
         },
         {
          "t": 113,
          "value": 9.875346027778068,
          "variable": "P"
         },
         {
          "t": 114,
          "value": 9.255082774334928,
          "variable": "P"
         },
         {
          "t": 115,
          "value": 8.675600202735305,
          "variable": "P"
         },
         {
          "t": 116,
          "value": 8.133929764749533,
          "variable": "P"
         },
         {
          "t": 117,
          "value": 7.6273622785402075,
          "variable": "P"
         },
         {
          "t": 118,
          "value": 7.153419379929824,
          "variable": "P"
         },
         {
          "t": 119,
          "value": 6.709828783380185,
          "variable": "P"
         },
         {
          "t": 120,
          "value": 6.2945027842498735,
          "variable": "P"
         },
         {
          "t": 121,
          "value": 5.905519523168041,
          "variable": "P"
         },
         {
          "t": 122,
          "value": 5.541106608317661,
          "variable": "P"
         },
         {
          "t": 123,
          "value": 5.19962675437469,
          "variable": "P"
         },
         {
          "t": 124,
          "value": 4.879565149740657,
          "variable": "P"
         },
         {
          "t": 125,
          "value": 4.579518308159902,
          "variable": "P"
         },
         {
          "t": 126,
          "value": 4.298184198190294,
          "variable": "P"
         },
         {
          "t": 127,
          "value": 4.034353475438608,
          "variable": "P"
         },
         {
          "t": 128,
          "value": 3.786901668934587,
          "variable": "P"
         },
         {
          "t": 129,
          "value": 3.5547821953023444,
          "variable": "P"
         },
         {
          "t": 130,
          "value": 3.337020093165406,
          "variable": "P"
         },
         {
          "t": 131,
          "value": 3.1327063860553968,
          "variable": "P"
         },
         {
          "t": 132,
          "value": 2.9409929954557117,
          "variable": "P"
         },
         {
          "t": 133,
          "value": 2.7610881368961717,
          "variable": "P"
         },
         {
          "t": 134,
          "value": 2.592252141554223,
          "variable": "P"
         },
         {
          "t": 135,
          "value": 2.433793653890869,
          "variable": "P"
         },
         {
          "t": 136,
          "value": 2.2850661626884605,
          "variable": "P"
         },
         {
          "t": 137,
          "value": 2.145464828658388,
          "variable": "P"
         },
         {
          "t": 138,
          "value": 2.014423576713861,
          "variable": "P"
         },
         {
          "t": 139,
          "value": 1.8914124251940072,
          "variable": "P"
         },
         {
          "t": 140,
          "value": 1.775935027896212,
          "variable": "P"
         },
         {
          "t": 141,
          "value": 2.0450484368321775,
          "variable": "P"
         },
         {
          "t": 142,
          "value": 2.203386574994398,
          "variable": "P"
         },
         {
          "t": 143,
          "value": 2.2842616931741375,
          "variable": "P"
         },
         {
          "t": 144,
          "value": 2.3283607071700496,
          "variable": "P"
         },
         {
          "t": 145,
          "value": 2.354416964574873,
          "variable": "P"
         },
         {
          "t": 146,
          "value": 2.370121269215498,
          "variable": "P"
         },
         {
          "t": 147,
          "value": 2.3788052553406005,
          "variable": "P"
         },
         {
          "t": 148,
          "value": 2.382152442723822,
          "variable": "P"
         },
         {
          "t": 149,
          "value": 2.381195483243588,
          "variable": "P"
         },
         {
          "t": 150,
          "value": 2.3766763420341777,
          "variable": "P"
         },
         {
          "t": 151,
          "value": 2.369180258261516,
          "variable": "P"
         },
         {
          "t": 152,
          "value": 2.3591900407013506,
          "variable": "P"
         },
         {
          "t": 153,
          "value": 2.3471117948995985,
          "variable": "P"
         },
         {
          "t": 154,
          "value": 2.3332898269054985,
          "variable": "P"
         },
         {
          "t": 155,
          "value": 2.318016952675224,
          "variable": "P"
         },
         {
          "t": 156,
          "value": 2.3015424735503216,
          "variable": "P"
         },
         {
          "t": 157,
          "value": 2.284078701966283,
          "variable": "P"
         },
         {
          "t": 158,
          "value": 2.2658064349642073,
          "variable": "P"
         },
         {
          "t": 159,
          "value": 2.246879592894607,
          "variable": "P"
         },
         {
          "t": 160,
          "value": 2.2274291672162496,
          "variable": "P"
         },
         {
          "t": 161,
          "value": 2.207566585992821,
          "variable": "P"
         },
         {
          "t": 162,
          "value": 2.1873865849240866,
          "variable": "P"
         },
         {
          "t": 163,
          "value": 2.1669696572211667,
          "variable": "P"
         },
         {
          "t": 164,
          "value": 2.1463841443283096,
          "variable": "P"
         },
         {
          "t": 165,
          "value": 2.1256880202156676,
          "variable": "P"
         },
         {
          "t": 166,
          "value": 2.1049304141763283,
          "variable": "P"
         },
         {
          "t": 167,
          "value": 2.084152910454604,
          "variable": "P"
         },
         {
          "t": 168,
          "value": 2.0633906574091516,
          "variable": "P"
         },
         {
          "t": 169,
          "value": 2.042673314120058,
          "variable": "P"
         },
         {
          "t": 170,
          "value": 2.0220258582588313,
          "variable": "P"
         },
         {
          "t": 171,
          "value": 2.0585222028270476,
          "variable": "P"
         },
         {
          "t": 172,
          "value": 2.0802719096764277,
          "variable": "P"
         },
         {
          "t": 173,
          "value": 2.0915087002341224,
          "variable": "P"
         },
         {
          "t": 174,
          "value": 2.0981142404913573,
          "variable": "P"
         },
         {
          "t": 175,
          "value": 2.1026978011545054,
          "variable": "P"
         },
         {
          "t": 176,
          "value": 2.1062327037419126,
          "variable": "P"
         },
         {
          "t": 177,
          "value": 2.1090880754353716,
          "variable": "P"
         },
         {
          "t": 178,
          "value": 2.111428457109991,
          "variable": "P"
         },
         {
          "t": 179,
          "value": 2.113348050600682,
          "variable": "P"
         },
         {
          "t": 180,
          "value": 2.114913552527593,
          "variable": "P"
         },
         {
          "t": 181,
          "value": 2.116177943085939,
          "variable": "P"
         },
         {
          "t": 182,
          "value": 2.117185352970109,
          "variable": "P"
         },
         {
          "t": 183,
          "value": 2.1179731801457966,
          "variable": "P"
         },
         {
          "t": 184,
          "value": 2.1185733053841154,
          "variable": "P"
         },
         {
          "t": 185,
          "value": 2.1190129604953807,
          "variable": "P"
         },
         {
          "t": 186,
          "value": 2.1193154217597283,
          "variable": "P"
         },
         {
          "t": 187,
          "value": 2.1195005888909817,
          "variable": "P"
         },
         {
          "t": 188,
          "value": 2.119585476107391,
          "variable": "P"
         },
         {
          "t": 189,
          "value": 2.119584630888284,
          "variable": "P"
         },
         {
          "t": 190,
          "value": 2.1195104917050336,
          "variable": "P"
         },
         {
          "t": 191,
          "value": 2.1193736938013976,
          "variable": "P"
         },
         {
          "t": 192,
          "value": 2.119183330619121,
          "variable": "P"
         },
         {
          "t": 193,
          "value": 2.118947177317238,
          "variable": "P"
         },
         {
          "t": 194,
          "value": 2.1186718818855317,
          "variable": "P"
         },
         {
          "t": 195,
          "value": 2.118363128551535,
          "variable": "P"
         },
         {
          "t": 196,
          "value": 2.118025777498104,
          "variable": "P"
         },
         {
          "t": 197,
          "value": 2.117663984325958,
          "variable": "P"
         },
         {
          "t": 198,
          "value": 2.1172813021976205,
          "variable": "P"
         },
         {
          "t": 199,
          "value": 2.116880769173447,
          "variable": "P"
         },
         {
          "t": 200,
          "value": 2.116464982886473,
          "variable": "P"
         },
         {
          "t": 201,
          "value": 2.116036164391578,
          "variable": "P"
         },
         {
          "t": 202,
          "value": 2.115596212758377,
          "variable": "P"
         },
         {
          "t": 203,
          "value": 2.1151467517497293,
          "variable": "P"
         },
         {
          "t": 204,
          "value": 2.1146891697332184,
          "variable": "P"
         },
         {
          "t": 205,
          "value": 2.114224653806632,
          "variable": "P"
         },
         {
          "t": 206,
          "value": 2.1137542189762346,
          "variable": "P"
         },
         {
          "t": 207,
          "value": 2.113278733105038,
          "variable": "P"
         },
         {
          "t": 208,
          "value": 2.1127989382443033,
          "variable": "P"
         },
         {
          "t": 209,
          "value": 2.1123154688725854,
          "variable": "P"
         },
         {
          "t": 210,
          "value": 2.1118288674906536,
          "variable": "P"
         },
         {
          "t": 211,
          "value": 2.111339597955599,
          "variable": "P"
         },
         {
          "t": 212,
          "value": 2.110848056881881,
          "variable": "P"
         },
         {
          "t": 213,
          "value": 2.110354583389557,
          "variable": "P"
         },
         {
          "t": 214,
          "value": 2.1098594674393003,
          "variable": "P"
         },
         {
          "t": 215,
          "value": 2.1093629569590804,
          "variable": "P"
         },
         {
          "t": 216,
          "value": 2.1088652639376844,
          "variable": "P"
         },
         {
          "t": 217,
          "value": 2.1083665696348524,
          "variable": "P"
         },
         {
          "t": 218,
          "value": 2.1078670290360972,
          "variable": "P"
         },
         {
          "t": 219,
          "value": 2.1073667746617004,
          "variable": "P"
         },
         {
          "t": 220,
          "value": 2.106865919823518,
          "variable": "P"
         },
         {
          "t": 221,
          "value": 2.1063645614096416,
          "variable": "P"
         },
         {
          "t": 222,
          "value": 2.1058627822653664,
          "variable": "P"
         },
         {
          "t": 223,
          "value": 2.1053606532289866,
          "variable": "P"
         },
         {
          "t": 224,
          "value": 2.104858234872457,
          "variable": "P"
         },
         {
          "t": 225,
          "value": 2.104355578989716,
          "variable": "P"
         },
         {
          "t": 226,
          "value": 2.1038527298692373,
          "variable": "P"
         },
         {
          "t": 227,
          "value": 2.1033497253821034,
          "variable": "P"
         },
         {
          "t": 228,
          "value": 2.1028465979123383,
          "variable": "P"
         },
         {
          "t": 229,
          "value": 2.1023433751523686,
          "variable": "P"
         },
         {
          "t": 230,
          "value": 2.1018400807831665,
          "variable": "P"
         },
         {
          "t": 231,
          "value": 2.1013367350557925,
          "variable": "P"
         },
         {
          "t": 232,
          "value": 2.1008333552886276,
          "variable": "P"
         },
         {
          "t": 233,
          "value": 2.100329956292526,
          "variable": "P"
         },
         {
          "t": 234,
          "value": 2.0998265507343317,
          "variable": "P"
         },
         {
          "t": 235,
          "value": 2.099323149447692,
          "variable": "P"
         },
         {
          "t": 236,
          "value": 2.098819761698818,
          "variable": "P"
         },
         {
          "t": 237,
          "value": 2.098316395413711,
          "variable": "P"
         },
         {
          "t": 238,
          "value": 2.097813057372456,
          "variable": "P"
         },
         {
          "t": 239,
          "value": 2.0973097533753378,
          "variable": "P"
         },
         {
          "t": 240,
          "value": 2.096806488384884,
          "variable": "P"
         },
         {
          "t": 241,
          "value": 2.096303266647312,
          "variable": "P"
         },
         {
          "t": 242,
          "value": 2.095800091796371,
          "variable": "P"
         },
         {
          "t": 243,
          "value": 2.095296966942126,
          "variable": "P"
         },
         {
          "t": 244,
          "value": 2.094793894746878,
          "variable": "P"
         },
         {
          "t": 245,
          "value": 2.0942908774900704,
          "variable": "P"
         },
         {
          "t": 246,
          "value": 2.093787917123791,
          "variable": "P"
         },
         {
          "t": 247,
          "value": 2.0932850153202254,
          "variable": "P"
         },
         {
          "t": 248,
          "value": 2.0927821735122323,
          "variable": "P"
         },
         {
          "t": 249,
          "value": 2.0922793929280354,
          "variable": "P"
         },
         {
          "t": 250,
          "value": 2.091776674620887,
          "variable": "P"
         },
         {
          "t": 251,
          "value": 2.0912740194944295,
          "variable": "P"
         },
         {
          "t": 252,
          "value": 2.090771428324383,
          "variable": "P"
         },
         {
          "t": 253,
          "value": 2.090268901777086,
          "variable": "P"
         },
         {
          "t": 254,
          "value": 2.0897664404253513,
          "variable": "P"
         },
         {
          "t": 255,
          "value": 2.08926404476202,
          "variable": "P"
         },
         {
          "t": 256,
          "value": 2.0887617152115507,
          "variable": "P"
         },
         {
          "t": 257,
          "value": 2.088259452139934,
          "variable": "P"
         },
         {
          "t": 258,
          "value": 2.0877572558631625,
          "variable": "P"
         },
         {
          "t": 259,
          "value": 2.087255126654476,
          "variable": "P"
         },
         {
          "t": 260,
          "value": 2.086753064750558,
          "variable": "P"
         },
         {
          "t": 261,
          "value": 2.0862510703568313,
          "variable": "P"
         },
         {
          "t": 262,
          "value": 2.0857491436519866,
          "variable": "P"
         },
         {
          "t": 263,
          "value": 2.085247284791855,
          "variable": "P"
         },
         {
          "t": 264,
          "value": 2.084745493912721,
          "variable": "P"
         },
         {
          "t": 265,
          "value": 2.0842437711341484,
          "variable": "P"
         },
         {
          "t": 266,
          "value": 2.0837421165614067,
          "variable": "P"
         },
         {
          "t": 267,
          "value": 2.083240530287537,
          "variable": "P"
         },
         {
          "t": 268,
          "value": 2.0827390123951224,
          "variable": "P"
         },
         {
          "t": 269,
          "value": 2.082237562957801,
          "variable": "P"
         },
         {
          "t": 270,
          "value": 2.0817361820415607,
          "variable": "P"
         },
         {
          "t": 271,
          "value": 2.081234869705843,
          "variable": "P"
         },
         {
          "t": 272,
          "value": 2.080733626004492,
          "variable": "P"
         },
         {
          "t": 273,
          "value": 2.080232450986561,
          "variable": "P"
         },
         {
          "t": 274,
          "value": 2.079731344697003,
          "variable": "P"
         },
         {
          "t": 275,
          "value": 2.0792303071772644,
          "variable": "P"
         },
         {
          "t": 276,
          "value": 2.0787293384657883,
          "variable": "P"
         },
         {
          "t": 277,
          "value": 2.0782284385984493,
          "variable": "P"
         },
         {
          "t": 278,
          "value": 2.0777276076089204,
          "variable": "P"
         },
         {
          "t": 279,
          "value": 2.0772268455289904,
          "variable": "P"
         },
         {
          "t": 280,
          "value": 2.076726152388833,
          "variable": "P"
         },
         {
          "t": 281,
          "value": 2.0762255282172393,
          "variable": "P"
         },
         {
          "t": 282,
          "value": 2.075724973041815,
          "variable": "P"
         },
         {
          "t": 283,
          "value": 2.0752244868891476,
          "variable": "P"
         },
         {
          "t": 284,
          "value": 2.074724069784953,
          "variable": "P"
         },
         {
          "t": 285,
          "value": 2.0742237217541986,
          "variable": "P"
         },
         {
          "t": 286,
          "value": 2.073723442821206,
          "variable": "P"
         },
         {
          "t": 287,
          "value": 2.0732232330097466,
          "variable": "P"
         },
         {
          "t": 288,
          "value": 2.0727230923431135,
          "variable": "P"
         },
         {
          "t": 289,
          "value": 2.072223020844191,
          "variable": "P"
         },
         {
          "t": 290,
          "value": 2.071723018535509,
          "variable": "P"
         },
         {
          "t": 291,
          "value": 2.0712230854392923,
          "variable": "P"
         },
         {
          "t": 292,
          "value": 2.0707232215775027,
          "variable": "P"
         },
         {
          "t": 293,
          "value": 2.070223426971871,
          "variable": "P"
         },
         {
          "t": 294,
          "value": 2.0697237016439307,
          "variable": "P"
         },
         {
          "t": 295,
          "value": 2.0692240456150426,
          "variable": "P"
         },
         {
          "t": 296,
          "value": 2.0687244589064164,
          "variable": "P"
         },
         {
          "t": 297,
          "value": 2.0682249415391296,
          "variable": "P"
         },
         {
          "t": 298,
          "value": 2.067725493534144,
          "variable": "P"
         },
         {
          "t": 299,
          "value": 2.0672261149123194,
          "variable": "P"
         }
        ]
       },
       "encoding": {
        "color": {
         "field": "variable",
         "scale": {
          "scheme": "set1"
         },
         "type": "nominal"
        },
        "tooltip": [
         {
          "field": "t",
          "type": "quantitative"
         },
         {
          "field": "variable",
          "type": "nominal"
         },
         {
          "field": "value",
          "type": "quantitative"
         }
        ],
        "x": {
         "field": "t",
         "type": "quantitative"
        },
        "y": {
         "field": "value",
         "type": "quantitative"
        }
       },
       "mark": "line",
       "selection": {
        "selector001": {
         "bind": "scales",
         "encodings": [
          "x",
          "y"
         ],
         "type": "interval"
        }
       }
      },
      "image/png": "[encoded data removed]",
      "text/plain": [
       "<VegaLite 3 object>\n",
       "\n",
       "If you see this message, it means the renderer has not been properly enabled\n",
       "for the frontend that you are using. For more information, see\n",
       "https://altair-viz.github.io/user_guide/troubleshooting.html\n"
      ]
     },
     "execution_count": 15,
     "metadata": {},
     "output_type": "execute_result"
    }
   ],
   "source": [
    "alt.Chart(plot_values).mark_line().encode(\n",
    "    x='t',\n",
    "    y='value',\n",
    "    color=alt.Color('variable', scale=alt.Scale(scheme=\"set1\")),\n",
    "    tooltip=['t','variable','value']\n",
    ").properties(\n",
    ").interactive()"
   ]
  },
  {
   "cell_type": "code",
   "execution_count": null,
   "metadata": {},
   "outputs": [],
   "source": []
  },
  {
   "cell_type": "code",
   "execution_count": 16,
   "metadata": {},
   "outputs": [
    {
     "data": {
      "application/vnd.vegalite.v3+json": {
       "$schema": "https://vega.github.io/schema/vega-lite/v3.4.0.json",
       "config": {
        "mark": {
         "tooltip": null
        },
        "view": {
         "height": 300,
         "width": 400
        }
       },
       "data": {
        "name": "data-ac35cfd677d124d1c2e43f9acd79bc15"
       },
       "datasets": {
        "data-ac35cfd677d124d1c2e43f9acd79bc15": [
         {
          "t": 0,
          "value": 1.310224444130842e-10,
          "variable": "D"
         },
         {
          "t": 1,
          "value": 1.3102159738013694e-10,
          "variable": "D"
         },
         {
          "t": 2,
          "value": 1.0703616541273692e-10,
          "variable": "D"
         },
         {
          "t": 3,
          "value": 0.010000000183317105,
          "variable": "D"
         },
         {
          "t": 4,
          "value": 0.02649999982263039,
          "variable": "D"
         },
         {
          "t": 5,
          "value": 0.047067363872852576,
          "variable": "D"
         },
         {
          "t": 6,
          "value": 0.07055105023419561,
          "variable": "D"
         },
         {
          "t": 7,
          "value": 0.09646142377459392,
          "variable": "D"
         },
         {
          "t": 8,
          "value": 0.12461544550421157,
          "variable": "D"
         },
         {
          "t": 9,
          "value": 0.15497133051446238,
          "variable": "D"
         },
         {
          "t": 10,
          "value": 0.1875548338203754,
          "variable": "D"
         },
         {
          "t": 11,
          "value": 0.22242674182148336,
          "variable": "D"
         },
         {
          "t": 12,
          "value": 0.2596686065252611,
          "variable": "D"
         },
         {
          "t": 13,
          "value": 0.29937652130716286,
          "variable": "D"
         },
         {
          "t": 14,
          "value": 0.3416584641379759,
          "variable": "D"
         },
         {
          "t": 15,
          "value": 0.38663323153316553,
          "variable": "D"
         },
         {
          "t": 16,
          "value": 0.4344301065381105,
          "variable": "D"
         },
         {
          "t": 17,
          "value": 0.4851888691168446,
          "variable": "D"
         },
         {
          "t": 18,
          "value": 0.5390599928576533,
          "variable": "D"
         },
         {
          "t": 19,
          "value": 0.5962049414329273,
          "variable": "D"
         },
         {
          "t": 20,
          "value": 0.6567965445631884,
          "variable": "D"
         },
         {
          "t": 21,
          "value": 0.7210194308734315,
          "variable": "D"
         },
         {
          "t": 22,
          "value": 0.7890705172760433,
          "variable": "D"
         },
         {
          "t": 23,
          "value": 0.8611595418433975,
          "variable": "D"
         },
         {
          "t": 24,
          "value": 0.937509658304139,
          "variable": "D"
         },
         {
          "t": 25,
          "value": 1.018358072237318,
          "variable": "D"
         },
         {
          "t": 26,
          "value": 1.103956731815375,
          "variable": "D"
         },
         {
          "t": 27,
          "value": 1.1945730736074593,
          "variable": "D"
         },
         {
          "t": 28,
          "value": 1.2904908233450068,
          "variable": "D"
         },
         {
          "t": 29,
          "value": 1.3920108487034388,
          "variable": "D"
         },
         {
          "t": 30,
          "value": 1.4994520769010473,
          "variable": "D"
         },
         {
          "t": 31,
          "value": 1.6131524681718392,
          "variable": "D"
         },
         {
          "t": 32,
          "value": 1.7334700572824402,
          "variable": "D"
         },
         {
          "t": 33,
          "value": 1.8607840608357973,
          "variable": "D"
         },
         {
          "t": 34,
          "value": 1.9954960521712635,
          "variable": "D"
         },
         {
          "t": 35,
          "value": 2.1380312121571254,
          "variable": "D"
         },
         {
          "t": 36,
          "value": 2.288839656114188,
          "variable": "D"
         },
         {
          "t": 37,
          "value": 2.4483978410858107,
          "variable": "D"
         },
         {
          "t": 38,
          "value": 2.617210061166885,
          "variable": "D"
         },
         {
          "t": 39,
          "value": 2.7958100264489616,
          "variable": "D"
         },
         {
          "t": 40,
          "value": 2.9847625438752154,
          "variable": "D"
         },
         {
          "t": 41,
          "value": 3.1846652932417774,
          "variable": "D"
         },
         {
          "t": 42,
          "value": 3.396150708348029,
          "variable": "D"
         },
         {
          "t": 43,
          "value": 3.619887970509582,
          "variable": "D"
         },
         {
          "t": 44,
          "value": 3.8565851205181434,
          "variable": "D"
         },
         {
          "t": 45,
          "value": 4.106991290232006,
          "variable": "D"
         },
         {
          "t": 46,
          "value": 4.371899068398035,
          "variable": "D"
         },
         {
          "t": 47,
          "value": 4.652147004293025,
          "variable": "D"
         },
         {
          "t": 48,
          "value": 4.948622254514531,
          "variable": "D"
         },
         {
          "t": 49,
          "value": 5.262263387274723,
          "variable": "D"
         },
         {
          "t": 50,
          "value": 5.594063348094037,
          "variable": "D"
         },
         {
          "t": 51,
          "value": 5.945072596214384,
          "variable": "D"
         },
         {
          "t": 52,
          "value": 6.316402426233882,
          "variable": "D"
         },
         {
          "t": 53,
          "value": 6.7092284809104,
          "variable": "D"
         },
         {
          "t": 54,
          "value": 7.124794467052592,
          "variable": "D"
         },
         {
          "t": 55,
          "value": 7.564416087184683,
          "variable": "D"
         },
         {
          "t": 56,
          "value": 8.029485197730898,
          "variable": "D"
         },
         {
          "t": 57,
          "value": 8.521474211149009,
          "variable": "D"
         },
         {
          "t": 58,
          "value": 9.041940746130678,
          "variable": "D"
         },
         {
          "t": 59,
          "value": 9.592532555980434,
          "variable": "D"
         },
         {
          "t": 60,
          "value": 10.174992731745144,
          "variable": "D"
         },
         {
          "t": 61,
          "value": 10.791165214832862,
          "variable": "D"
         },
         {
          "t": 62,
          "value": 11.443000620466222,
          "variable": "D"
         },
         {
          "t": 63,
          "value": 12.13256240400562,
          "variable": "D"
         },
         {
          "t": 64,
          "value": 12.862033379422043,
          "variable": "D"
         },
         {
          "t": 65,
          "value": 13.633722614215166,
          "variable": "D"
         },
         {
          "t": 66,
          "value": 14.45007272247401,
          "variable": "D"
         },
         {
          "t": 67,
          "value": 15.313667579465564,
          "variable": "D"
         },
         {
          "t": 68,
          "value": 16.227240480570764,
          "variable": "D"
         },
         {
          "t": 69,
          "value": 17.193682770434656,
          "variable": "D"
         },
         {
          "t": 70,
          "value": 18.216052968300797,
          "variable": "D"
         },
         {
          "t": 71,
          "value": 19.297586420260238,
          "variable": "D"
         },
         {
          "t": 72,
          "value": 20.441705510231348,
          "variable": "D"
         },
         {
          "t": 73,
          "value": 21.652030451325395,
          "variable": "D"
         },
         {
          "t": 74,
          "value": 22.93239070547782,
          "variable": "D"
         },
         {
          "t": 75,
          "value": 24.28683705785851,
          "variable": "D"
         },
         {
          "t": 76,
          "value": 25.719654384012962,
          "variable": "D"
         },
         {
          "t": 77,
          "value": 27.235375153336097,
          "variable": "D"
         },
         {
          "t": 78,
          "value": 28.83879370734724,
          "variable": "D"
         },
         {
          "t": 79,
          "value": 30.53498135714472,
          "variable": "D"
         },
         {
          "t": 80,
          "value": 32.32930234959994,
          "variable": "D"
         },
         {
          "t": 81,
          "value": 34.22743074980145,
          "variable": "D"
         },
         {
          "t": 82,
          "value": 36.235368290057544,
          "variable": "D"
         },
         {
          "t": 83,
          "value": 38.30412243331502,
          "variable": "D"
         },
         {
          "t": 84,
          "value": 40.39597702532743,
          "variable": "D"
         },
         {
          "t": 85,
          "value": 42.48309459331393,
          "variable": "D"
         },
         {
          "t": 86,
          "value": 44.54472048673937,
          "variable": "D"
         },
         {
          "t": 87,
          "value": 46.565332965584936,
          "variable": "D"
         },
         {
          "t": 88,
          "value": 48.533405103304325,
          "variable": "D"
         },
         {
          "t": 89,
          "value": 50.44052863490127,
          "variable": "D"
         },
         {
          "t": 90,
          "value": 52.28076268754987,
          "variable": "D"
         },
         {
          "t": 91,
          "value": 54.050131474794526,
          "variable": "D"
         },
         {
          "t": 92,
          "value": 55.74622694922652,
          "variable": "D"
         },
         {
          "t": 93,
          "value": 57.36788934850479,
          "variable": "D"
         },
         {
          "t": 94,
          "value": 58.91494787687657,
          "variable": "D"
         },
         {
          "t": 95,
          "value": 60.388009100337214,
          "variable": "D"
         },
         {
          "t": 96,
          "value": 61.78828390116941,
          "variable": "D"
         },
         {
          "t": 97,
          "value": 63.117445924145606,
          "variable": "D"
         },
         {
          "t": 98,
          "value": 64.37751593481853,
          "variable": "D"
         },
         {
          "t": 99,
          "value": 65.57076756318514,
          "variable": "D"
         },
         {
          "t": 100,
          "value": 66.69965073342324,
          "variable": "D"
         },
         {
          "t": 101,
          "value": 67.76672973214659,
          "variable": "D"
         },
         {
          "t": 102,
          "value": 68.77463338258701,
          "variable": "D"
         },
         {
          "t": 103,
          "value": 69.72601522452042,
          "variable": "D"
         },
         {
          "t": 104,
          "value": 70.62352195795614,
          "variable": "D"
         },
         {
          "t": 105,
          "value": 71.46976869177473,
          "variable": "D"
         },
         {
          "t": 106,
          "value": 72.26731979399813,
          "variable": "D"
         },
         {
          "t": 107,
          "value": 73.01867432874822,
          "variable": "D"
         },
         {
          "t": 108,
          "value": 73.72625525487548,
          "variable": "D"
         },
         {
          "t": 109,
          "value": 74.39240168064485,
          "variable": "D"
         },
         {
          "t": 110,
          "value": 75.01936360305496,
          "variable": "D"
         },
         {
          "t": 111,
          "value": 75.60929865401008,
          "variable": "D"
         },
         {
          "t": 112,
          "value": 76.16427045493306,
          "variable": "D"
         },
         {
          "t": 113,
          "value": 76.68624825393918,
          "variable": "D"
         },
         {
          "t": 114,
          "value": 77.17710757464548,
          "variable": "D"
         },
         {
          "t": 115,
          "value": 77.63863165492356,
          "variable": "D"
         },
         {
          "t": 116,
          "value": 78.07251349280253,
          "variable": "D"
         },
         {
          "t": 117,
          "value": 78.48035834725478,
          "variable": "D"
         },
         {
          "t": 118,
          "value": 78.863686575894,
          "variable": "D"
         },
         {
          "t": 119,
          "value": 79.22393670614863,
          "variable": "D"
         },
         {
          "t": 120,
          "value": 79.56246866253547,
          "variable": "D"
         },
         {
          "t": 121,
          "value": 79.88056708023743,
          "variable": "D"
         },
         {
          "t": 122,
          "value": 80.17944466198485,
          "variable": "D"
         },
         {
          "t": 123,
          "value": 80.46024552471262,
          "variable": "D"
         },
         {
          "t": 124,
          "value": 80.72404851475115,
          "variable": "D"
         },
         {
          "t": 125,
          "value": 80.97187045921773,
          "variable": "D"
         },
         {
          "t": 126,
          "value": 81.20466933961117,
          "variable": "D"
         },
         {
          "t": 127,
          "value": 81.42334736866309,
          "variable": "D"
         },
         {
          "t": 128,
          "value": 81.62875396260527,
          "variable": "D"
         },
         {
          "t": 129,
          "value": 81.82168860391623,
          "variable": "D"
         },
         {
          "t": 130,
          "value": 82.00290358499315,
          "variable": "D"
         },
         {
          "t": 131,
          "value": 82.1731066324243,
          "variable": "D"
         },
         {
          "t": 132,
          "value": 82.33296341542606,
          "variable": "D"
         },
         {
          "t": 133,
          "value": 82.4830999322508,
          "variable": "D"
         },
         {
          "t": 134,
          "value": 82.62410478397827,
          "variable": "D"
         },
         {
          "t": 135,
          "value": 82.75653132635814,
          "variable": "D"
         },
         {
          "t": 136,
          "value": 82.88089971916118,
          "variable": "D"
         },
         {
          "t": 137,
          "value": 82.99769885955705,
          "variable": "D"
         },
         {
          "t": 138,
          "value": 83.1073882182811,
          "variable": "D"
         },
         {
          "t": 139,
          "value": 83.21039957106396,
          "variable": "D"
         },
         {
          "t": 140,
          "value": 83.3071386359221,
          "variable": "D"
         },
         {
          "t": 141,
          "value": 83.39798661928955,
          "variable": "D"
         },
         {
          "t": 142,
          "value": 83.483301674344,
          "variable": "D"
         },
         {
          "t": 143,
          "value": 83.56417532086844,
          "variable": "D"
         },
         {
          "t": 144,
          "value": 83.64136837513917,
          "variable": "D"
         },
         {
          "t": 145,
          "value": 83.71541064806443,
          "variable": "D"
         },
         {
          "t": 146,
          "value": 83.78670541489552,
          "variable": "D"
         },
         {
          "t": 147,
          "value": 83.85557953867733,
          "variable": "D"
         },
         {
          "t": 148,
          "value": 83.92230649282,
          "variable": "D"
         },
         {
          "t": 149,
          "value": 83.98711836196757,
          "variable": "D"
         },
         {
          "t": 150,
          "value": 84.05021334915303,
          "variable": "D"
         },
         {
          "t": 151,
          "value": 84.11176122860054,
          "variable": "D"
         },
         {
          "t": 152,
          "value": 84.17190767299587,
          "variable": "D"
         },
         {
          "t": 153,
          "value": 84.23077783299097,
          "variable": "D"
         },
         {
          "t": 154,
          "value": 84.28847935727053,
          "variable": "D"
         },
         {
          "t": 155,
          "value": 84.34510495273312,
          "variable": "D"
         },
         {
          "t": 156,
          "value": 84.40073456800158,
          "variable": "D"
         },
         {
          "t": 157,
          "value": 84.4554372560263,
          "variable": "D"
         },
         {
          "t": 158,
          "value": 84.50927275997778,
          "variable": "D"
         },
         {
          "t": 159,
          "value": 84.56229287063078,
          "variable": "D"
         },
         {
          "t": 160,
          "value": 84.61454258305986,
          "variable": "D"
         },
         {
          "t": 161,
          "value": 84.66606108360926,
          "variable": "D"
         },
         {
          "t": 162,
          "value": 84.71688259243955,
          "variable": "D"
         },
         {
          "t": 163,
          "value": 84.76703708371839,
          "variable": "D"
         },
         {
          "t": 164,
          "value": 84.81655089876772,
          "variable": "D"
         },
         {
          "t": 165,
          "value": 84.86544727177078,
          "variable": "D"
         },
         {
          "t": 166,
          "value": 84.91374677566458,
          "variable": "D"
         },
         {
          "t": 167,
          "value": 84.9614677056916,
          "variable": "D"
         },
         {
          "t": 168,
          "value": 85.00862640287154,
          "variable": "D"
         },
         {
          "t": 169,
          "value": 85.05523753690171,
          "variable": "D"
         },
         {
          "t": 170,
          "value": 85.10131433827002,
          "variable": "D"
         },
         {
          "t": 171,
          "value": 85.14686880627511,
          "variable": "D"
         },
         {
          "t": 172,
          "value": 85.19191187916948,
          "variable": "D"
         },
         {
          "t": 173,
          "value": 85.2365676888957,
          "variable": "D"
         },
         {
          "t": 174,
          "value": 85.28091846177459,
          "variable": "D"
         },
         {
          "t": 175,
          "value": 85.3250171744058,
          "variable": "D"
         },
         {
          "t": 176,
          "value": 85.36890224474088,
          "variable": "D"
         },
         {
          "t": 177,
          "value": 85.4126042037777,
          "variable": "D"
         },
         {
          "t": 178,
          "value": 85.45614843234522,
          "variable": "D"
         },
         {
          "t": 179,
          "value": 85.49955641379238,
          "variable": "D"
         },
         {
          "t": 180,
          "value": 85.54284645450076,
          "variable": "D"
         },
         {
          "t": 181,
          "value": 85.58603418714564,
          "variable": "D"
         },
         {
          "t": 182,
          "value": 85.62913297357122,
          "variable": "D"
         },
         {
          "t": 183,
          "value": 85.67215423710547,
          "variable": "D"
         },
         {
          "t": 184,
          "value": 85.71510774521606,
          "variable": "D"
         },
         {
          "t": 185,
          "value": 85.75800184845933,
          "variable": "D"
         },
         {
          "t": 186,
          "value": 85.80084368859298,
          "variable": "D"
         },
         {
          "t": 187,
          "value": 85.84363937061326,
          "variable": "D"
         },
         {
          "t": 188,
          "value": 85.8863941153574,
          "variable": "D"
         },
         {
          "t": 189,
          "value": 85.92911238622467,
          "variable": "D"
         },
         {
          "t": 190,
          "value": 85.97179800101011,
          "variable": "D"
         },
         {
          "t": 191,
          "value": 86.01445422384617,
          "variable": "D"
         },
         {
          "t": 192,
          "value": 86.05708384562192,
          "variable": "D"
         },
         {
          "t": 193,
          "value": 86.09968925216236,
          "variable": "D"
         },
         {
          "t": 194,
          "value": 86.14227248478386,
          "variable": "D"
         },
         {
          "t": 195,
          "value": 86.18483528852107,
          "variable": "D"
         },
         {
          "t": 196,
          "value": 86.22737915567899,
          "variable": "D"
         },
         {
          "t": 197,
          "value": 86.2699053627283,
          "variable": "D"
         },
         {
          "t": 198,
          "value": 86.3124150007194,
          "variable": "D"
         },
         {
          "t": 199,
          "value": 86.35490900263908,
          "variable": "D"
         },
         {
          "t": 200,
          "value": 86.39738816662188,
          "variable": "D"
         },
         {
          "t": 201,
          "value": 86.43985317563323,
          "variable": "D"
         },
         {
          "t": 202,
          "value": 86.48230461361051,
          "variable": "D"
         },
         {
          "t": 203,
          "value": 86.52474298085625,
          "variable": "D"
         },
         {
          "t": 204,
          "value": 86.5671687030477,
          "variable": "D"
         },
         {
          "t": 205,
          "value": 86.60958214720551,
          "variable": "D"
         },
         {
          "t": 206,
          "value": 86.65198362478371,
          "variable": "D"
         },
         {
          "t": 207,
          "value": 86.69437340430011,
          "variable": "D"
         },
         {
          "t": 208,
          "value": 86.73675171389081,
          "variable": "D"
         },
         {
          "t": 209,
          "value": 86.77911875035757,
          "variable": "D"
         },
         {
          "t": 210,
          "value": 86.82147468084275,
          "variable": "D"
         },
         {
          "t": 211,
          "value": 86.86381964887563,
          "variable": "D"
         },
         {
          "t": 212,
          "value": 86.90615377858957,
          "variable": "D"
         },
         {
          "t": 213,
          "value": 86.94847717432945,
          "variable": "D"
         },
         {
          "t": 214,
          "value": 86.99078992609535,
          "variable": "D"
         },
         {
          "t": 215,
          "value": 87.03309211252099,
          "variable": "D"
         },
         {
          "t": 216,
          "value": 87.0753837991802,
          "variable": "D"
         },
         {
          "t": 217,
          "value": 87.1176650424424,
          "variable": "D"
         },
         {
          "t": 218,
          "value": 87.15993589210541,
          "variable": "D"
         },
         {
          "t": 219,
          "value": 87.20219639045749,
          "variable": "D"
         },
         {
          "t": 220,
          "value": 87.24444657246151,
          "variable": "D"
         },
         {
          "t": 221,
          "value": 87.28668646995966,
          "variable": "D"
         },
         {
          "t": 222,
          "value": 87.3289161094199,
          "variable": "D"
         },
         {
          "t": 223,
          "value": 87.37113551405109,
          "variable": "D"
         },
         {
          "t": 224,
          "value": 87.41334470421238,
          "variable": "D"
         },
         {
          "t": 225,
          "value": 87.45554369622494,
          "variable": "D"
         },
         {
          "t": 226,
          "value": 87.49773250591679,
          "variable": "D"
         },
         {
          "t": 227,
          "value": 87.53991114543794,
          "variable": "D"
         },
         {
          "t": 228,
          "value": 87.58207962673544,
          "variable": "D"
         },
         {
          "t": 229,
          "value": 87.62423795932814,
          "variable": "D"
         },
         {
          "t": 230,
          "value": 87.6663861522041,
          "variable": "D"
         },
         {
          "t": 231,
          "value": 87.70852421188455,
          "variable": "D"
         },
         {
          "t": 232,
          "value": 87.75065214557901,
          "variable": "D"
         },
         {
          "t": 233,
          "value": 87.79276995971985,
          "variable": "D"
         },
         {
          "t": 234,
          "value": 87.83487765918292,
          "variable": "D"
         },
         {
          "t": 235,
          "value": 87.8769752490501,
          "variable": "D"
         },
         {
          "t": 236,
          "value": 87.9190627326807,
          "variable": "D"
         },
         {
          "t": 237,
          "value": 87.96114011411878,
          "variable": "D"
         },
         {
          "t": 238,
          "value": 88.00320739686848,
          "variable": "D"
         },
         {
          "t": 239,
          "value": 88.04526458434373,
          "variable": "D"
         },
         {
          "t": 240,
          "value": 88.08731167938036,
          "variable": "D"
         },
         {
          "t": 241,
          "value": 88.1293486845792,
          "variable": "D"
         },
         {
          "t": 242,
          "value": 88.17137560169878,
          "variable": "D"
         },
         {
          "t": 243,
          "value": 88.21339243368425,
          "variable": "D"
         },
         {
          "t": 244,
          "value": 88.25539918310126,
          "variable": "D"
         },
         {
          "t": 245,
          "value": 88.29739585142997,
          "variable": "D"
         },
         {
          "t": 246,
          "value": 88.33938244010368,
          "variable": "D"
         },
         {
          "t": 247,
          "value": 88.38135895242226,
          "variable": "D"
         },
         {
          "t": 248,
          "value": 88.4233253892184,
          "variable": "D"
         },
         {
          "t": 249,
          "value": 88.46528175251522,
          "variable": "D"
         },
         {
          "t": 250,
          "value": 88.50722804382237,
          "variable": "D"
         },
         {
          "t": 251,
          "value": 88.54916426421751,
          "variable": "D"
         },
         {
          "t": 252,
          "value": 88.59109041617526,
          "variable": "D"
         },
         {
          "t": 253,
          "value": 88.63300650095674,
          "variable": "D"
         },
         {
          "t": 254,
          "value": 88.67491252042811,
          "variable": "D"
         },
         {
          "t": 255,
          "value": 88.71680847532615,
          "variable": "D"
         },
         {
          "t": 256,
          "value": 88.75869436795374,
          "variable": "D"
         },
         {
          "t": 257,
          "value": 88.8005701995421,
          "variable": "D"
         },
         {
          "t": 258,
          "value": 88.84243597115848,
          "variable": "D"
         },
         {
          "t": 259,
          "value": 88.88429168462352,
          "variable": "D"
         },
         {
          "t": 260,
          "value": 88.9261373407447,
          "variable": "D"
         },
         {
          "t": 261,
          "value": 88.96797294199835,
          "variable": "D"
         },
         {
          "t": 262,
          "value": 89.00979848898947,
          "variable": "D"
         },
         {
          "t": 263,
          "value": 89.05161398312794,
          "variable": "D"
         },
         {
          "t": 264,
          "value": 89.09341942663681,
          "variable": "D"
         },
         {
          "t": 265,
          "value": 89.13521481989468,
          "variable": "D"
         },
         {
          "t": 266,
          "value": 89.1770001649971,
          "variable": "D"
         },
         {
          "t": 267,
          "value": 89.2187754630955,
          "variable": "D"
         },
         {
          "t": 268,
          "value": 89.26054071618046,
          "variable": "D"
         },
         {
          "t": 269,
          "value": 89.30229592442329,
          "variable": "D"
         },
         {
          "t": 270,
          "value": 89.34404108972569,
          "variable": "D"
         },
         {
          "t": 271,
          "value": 89.38577621395508,
          "variable": "D"
         },
         {
          "t": 272,
          "value": 89.42750129805124,
          "variable": "D"
         },
         {
          "t": 273,
          "value": 89.46921634381223,
          "variable": "D"
         },
         {
          "t": 274,
          "value": 89.5109213521093,
          "variable": "D"
         },
         {
          "t": 275,
          "value": 89.55261632468064,
          "variable": "D"
         },
         {
          "t": 276,
          "value": 89.59430126233943,
          "variable": "D"
         },
         {
          "t": 277,
          "value": 89.63597616676527,
          "variable": "D"
         },
         {
          "t": 278,
          "value": 89.67764103961053,
          "variable": "D"
         },
         {
          "t": 279,
          "value": 89.71929588161244,
          "variable": "D"
         },
         {
          "t": 280,
          "value": 89.76094069525989,
          "variable": "D"
         },
         {
          "t": 281,
          "value": 89.80257548124072,
          "variable": "D"
         },
         {
          "t": 282,
          "value": 89.84420024111053,
          "variable": "D"
         },
         {
          "t": 283,
          "value": 89.88581497550987,
          "variable": "D"
         },
         {
          "t": 284,
          "value": 89.927419686837,
          "variable": "D"
         },
         {
          "t": 285,
          "value": 89.96901437568778,
          "variable": "D"
         },
         {
          "t": 286,
          "value": 90.0105990435285,
          "variable": "D"
         },
         {
          "t": 287,
          "value": 90.05217369268716,
          "variable": "D"
         },
         {
          "t": 288,
          "value": 90.09373832369718,
          "variable": "D"
         },
         {
          "t": 289,
          "value": 90.13529293796022,
          "variable": "D"
         },
         {
          "t": 290,
          "value": 90.17683753685321,
          "variable": "D"
         },
         {
          "t": 291,
          "value": 90.21837212173531,
          "variable": "D"
         },
         {
          "t": 292,
          "value": 90.25989669394271,
          "variable": "D"
         },
         {
          "t": 293,
          "value": 90.30141125568151,
          "variable": "D"
         },
         {
          "t": 294,
          "value": 90.34291580735854,
          "variable": "D"
         },
         {
          "t": 295,
          "value": 90.38441035113999,
          "variable": "D"
         },
         {
          "t": 296,
          "value": 90.4258948873902,
          "variable": "D"
         },
         {
          "t": 297,
          "value": 90.46736941823504,
          "variable": "D"
         },
         {
          "t": 298,
          "value": 90.5088339448884,
          "variable": "D"
         },
         {
          "t": 299,
          "value": 90.5502884685455,
          "variable": "D"
         },
         {
          "t": 0,
          "value": 20,
          "variable": "E"
         },
         {
          "t": 1,
          "value": 15.000000000000002,
          "variable": "E"
         },
         {
          "t": 2,
          "value": 11.43472860221675,
          "variable": "E"
         },
         {
          "t": 3,
          "value": 9.94611688646697,
          "variable": "E"
         },
         {
          "t": 4,
          "value": 9.550112160945682,
          "variable": "E"
         },
         {
          "t": 5,
          "value": 9.66936988481625,
          "variable": "E"
         },
         {
          "t": 6,
          "value": 10.034532369787529,
          "variable": "E"
         },
         {
          "t": 7,
          "value": 10.526412417735774,
          "variable": "E"
         },
         {
          "t": 8,
          "value": 11.093510758840496,
          "variable": "E"
         },
         {
          "t": 9,
          "value": 11.714294970372936,
          "variable": "E"
         },
         {
          "t": 10,
          "value": 12.380473305754524,
          "variable": "E"
         },
         {
          "t": 11,
          "value": 13.089637995159169,
          "variable": "E"
         },
         {
          "t": 12,
          "value": 13.84203833742785,
          "variable": "E"
         },
         {
          "t": 13,
          "value": 14.6391683576933,
          "variable": "E"
         },
         {
          "t": 14,
          "value": 15.48315123599012,
          "variable": "E"
         },
         {
          "t": 15,
          "value": 16.37647367995498,
          "variable": "E"
         },
         {
          "t": 16,
          "value": 17.32187415442842,
          "variable": "E"
         },
         {
          "t": 17,
          "value": 18.322298932323807,
          "variable": "E"
         },
         {
          "t": 18,
          "value": 19.380888227194752,
          "variable": "E"
         },
         {
          "t": 19,
          "value": 20.500975862492975,
          "variable": "E"
         },
         {
          "t": 20,
          "value": 21.6860952342662,
          "variable": "E"
         },
         {
          "t": 21,
          "value": 22.939988407055957,
          "variable": "E"
         },
         {
          "t": 22,
          "value": 24.266616975734188,
          "variable": "E"
         },
         {
          "t": 23,
          "value": 25.67017411414119,
          "variable": "E"
         },
         {
          "t": 24,
          "value": 27.15509757861838,
          "variable": "E"
         },
         {
          "t": 25,
          "value": 28.72608358834874,
          "variable": "E"
         },
         {
          "t": 26,
          "value": 30.38810157342997,
          "variable": "E"
         },
         {
          "t": 27,
          "value": 32.14640981347405,
          "variable": "E"
         },
         {
          "t": 28,
          "value": 34.006572005171876,
          "variable": "E"
         },
         {
          "t": 29,
          "value": 35.97447480587099,
          "variable": "E"
         },
         {
          "t": 30,
          "value": 38.0563464058235,
          "variable": "E"
         },
         {
          "t": 31,
          "value": 40.258776186149596,
          "variable": "E"
         },
         {
          "t": 32,
          "value": 42.58873552351471,
          "variable": "E"
         },
         {
          "t": 33,
          "value": 45.053599806387986,
          "variable": "E"
         },
         {
          "t": 34,
          "value": 47.661171731697706,
          "variable": "E"
         },
         {
          "t": 35,
          "value": 50.41970595480278,
          "variable": "E"
         },
         {
          "t": 36,
          "value": 53.337935170001195,
          "variable": "E"
         },
         {
          "t": 37,
          "value": 56.42509770332167,
          "variable": "E"
         },
         {
          "t": 38,
          "value": 59.690966704114025,
          "variable": "E"
         },
         {
          "t": 39,
          "value": 63.14588102698382,
          "variable": "E"
         },
         {
          "t": 40,
          "value": 66.80077790092392,
          "variable": "E"
         },
         {
          "t": 41,
          "value": 70.66722748809765,
          "variable": "E"
         },
         {
          "t": 42,
          "value": 74.75746944064058,
          "variable": "E"
         },
         {
          "t": 43,
          "value": 79.08445157009005,
          "variable": "E"
         },
         {
          "t": 44,
          "value": 83.66187075064148,
          "variable": "E"
         },
         {
          "t": 45,
          "value": 88.50421618438786,
          "variable": "E"
         },
         {
          "t": 46,
          "value": 93.6268151640441,
          "variable": "E"
         },
         {
          "t": 47,
          "value": 99.04588147641313,
          "variable": "E"
         },
         {
          "t": 48,
          "value": 104.77856659803747,
          "variable": "E"
         },
         {
          "t": 49,
          "value": 110.84301384312364,
          "variable": "E"
         },
         {
          "t": 50,
          "value": 117.25841563294996,
          "variable": "E"
         },
         {
          "t": 51,
          "value": 124.04507406559922,
          "variable": "E"
         },
         {
          "t": 52,
          "value": 131.22446497502193,
          "variable": "E"
         },
         {
          "t": 53,
          "value": 138.8193056791633,
          "variable": "E"
         },
         {
          "t": 54,
          "value": 146.8536266282062,
          "variable": "E"
         },
         {
          "t": 55,
          "value": 155.35284717592523,
          "variable": "E"
         },
         {
          "t": 56,
          "value": 164.3438557097474,
          "variable": "E"
         },
         {
          "t": 57,
          "value": 173.8550943884032,
          "variable": "E"
         },
         {
          "t": 58,
          "value": 183.91664875006865,
          "variable": "E"
         },
         {
          "t": 59,
          "value": 194.56034246867736,
          "variable": "E"
         },
         {
          "t": 60,
          "value": 205.81983755166115,
          "variable": "E"
         },
         {
          "t": 61,
          "value": 217.73074028880168,
          "variable": "E"
         },
         {
          "t": 62,
          "value": 230.33071327917943,
          "variable": "E"
         },
         {
          "t": 63,
          "value": 243.65959388144077,
          "variable": "E"
         },
         {
          "t": 64,
          "value": 257.75951945180736,
          "variable": "E"
         },
         {
          "t": 65,
          "value": 272.6750597544758,
          "variable": "E"
         },
         {
          "t": 66,
          "value": 288.45335695034424,
          "variable": "E"
         },
         {
          "t": 67,
          "value": 305.14427359240824,
          "variable": "E"
         },
         {
          "t": 68,
          "value": 322.8005490797391,
          "variable": "E"
         },
         {
          "t": 69,
          "value": 341.4779650467491,
          "variable": "E"
         },
         {
          "t": 70,
          "value": 361.23552019051107,
          "variable": "E"
         },
         {
          "t": 71,
          "value": 382.1356150662874,
          "variable": "E"
         },
         {
          "t": 72,
          "value": 404.2442474101976,
          "variable": "E"
         },
         {
          "t": 73,
          "value": 427.63121857816,
          "variable": "E"
         },
         {
          "t": 74,
          "value": 452.3703517219509,
          "variable": "E"
         },
         {
          "t": 75,
          "value": 478.5397223564753,
          "variable": "E"
         },
         {
          "t": 76,
          "value": 506.22190200720837,
          "variable": "E"
         },
         {
          "t": 77,
          "value": 535.5042156632912,
          "variable": "E"
         },
         {
          "t": 78,
          "value": 566.4790138000086,
          "variable": "E"
         },
         {
          "t": 79,
          "value": 599.2439597743859,
          "variable": "E"
         },
         {
          "t": 80,
          "value": 523.2207152742659,
          "variable": "E"
         },
         {
          "t": 81,
          "value": 459.951725081984,
          "variable": "E"
         },
         {
          "t": 82,
          "value": 408.8968713436696,
          "variable": "E"
         },
         {
          "t": 83,
          "value": 366.44016315705653,
          "variable": "E"
         },
         {
          "t": 84,
          "value": 330.29834941637415,
          "variable": "E"
         },
         {
          "t": 85,
          "value": 299.04181443812564,
          "variable": "E"
         },
         {
          "t": 86,
          "value": 271.71721579132344,
          "variable": "E"
         },
         {
          "t": 87,
          "value": 247.64574739567578,
          "variable": "E"
         },
         {
          "t": 88,
          "value": 226.3162793127198,
          "variable": "E"
         },
         {
          "t": 89,
          "value": 207.32713203462052,
          "variable": "E"
         },
         {
          "t": 90,
          "value": 190.3529453613277,
          "variable": "E"
         },
         {
          "t": 91,
          "value": 175.12473727227393,
          "variable": "E"
         },
         {
          "t": 92,
          "value": 161.4170971670801,
          "variable": "E"
         },
         {
          "t": 93,
          "value": 149.03939904406184,
          "variable": "E"
         },
         {
          "t": 94,
          "value": 137.82940457344347,
          "variable": "E"
         },
         {
          "t": 95,
          "value": 127.64837988448342,
          "variable": "E"
         },
         {
          "t": 96,
          "value": 118.37723665898129,
          "variable": "E"
         },
         {
          "t": 97,
          "value": 109.91340978904624,
          "variable": "E"
         },
         {
          "t": 98,
          "value": 102.168291641879,
          "variable": "E"
         },
         {
          "t": 99,
          "value": 95.06510269925332,
          "variable": "E"
         },
         {
          "t": 100,
          "value": 88.53711309229003,
          "variable": "E"
         },
         {
          "t": 101,
          "value": 82.52615102783616,
          "variable": "E"
         },
         {
          "t": 102,
          "value": 76.98134827613609,
          "variable": "E"
         },
         {
          "t": 103,
          "value": 71.85808285517719,
          "variable": "E"
         },
         {
          "t": 104,
          "value": 67.11708644252619,
          "variable": "E"
         },
         {
          "t": 105,
          "value": 62.72368976493394,
          "variable": "E"
         },
         {
          "t": 106,
          "value": 58.647183769991585,
          "variable": "E"
         },
         {
          "t": 107,
          "value": 54.86027808103765,
          "variable": "E"
         },
         {
          "t": 108,
          "value": 51.33864127503066,
          "variable": "E"
         },
         {
          "t": 109,
          "value": 48.06051003984277,
          "variable": "E"
         },
         {
          "t": 110,
          "value": 45.00635636194381,
          "variable": "E"
         },
         {
          "t": 111,
          "value": 42.15860364367179,
          "variable": "E"
         },
         {
          "t": 112,
          "value": 39.50138411111227,
          "variable": "E"
         },
         {
          "t": 113,
          "value": 37.020331097339714,
          "variable": "E"
         },
         {
          "t": 114,
          "value": 34.70240081094122,
          "variable": "E"
         },
         {
          "t": 115,
          "value": 32.53571905899813,
          "variable": "E"
         },
         {
          "t": 116,
          "value": 30.50944911416083,
          "variable": "E"
         },
         {
          "t": 117,
          "value": 28.613677519719296,
          "variable": "E"
         },
         {
          "t": 118,
          "value": 26.83931513352074,
          "variable": "E"
         },
         {
          "t": 119,
          "value": 25.178011136999494,
          "variable": "E"
         },
         {
          "t": 120,
          "value": 23.622078092672165,
          "variable": "E"
         },
         {
          "t": 121,
          "value": 22.164426433270645,
          "variable": "E"
         },
         {
          "t": 122,
          "value": 20.79850701749876,
          "variable": "E"
         },
         {
          "t": 123,
          "value": 19.518260598962627,
          "variable": "E"
         },
         {
          "t": 124,
          "value": 18.31807323263961,
          "variable": "E"
         },
         {
          "t": 125,
          "value": 17.192736792761178,
          "variable": "E"
         },
         {
          "t": 126,
          "value": 16.13741390175443,
          "variable": "E"
         },
         {
          "t": 127,
          "value": 15.147606675738349,
          "variable": "E"
         },
         {
          "t": 128,
          "value": 14.219128781209378,
          "variable": "E"
         },
         {
          "t": 129,
          "value": 13.348080372661624,
          "variable": "E"
         },
         {
          "t": 130,
          "value": 12.530825544221587,
          "variable": "E"
         },
         {
          "t": 131,
          "value": 11.763971981822847,
          "variable": "E"
         },
         {
          "t": 132,
          "value": 11.044352547584687,
          "variable": "E"
         },
         {
          "t": 133,
          "value": 10.369008566216891,
          "variable": "E"
         },
         {
          "t": 134,
          "value": 9.735174615563476,
          "variable": "E"
         },
         {
          "t": 135,
          "value": 9.140264650753842,
          "variable": "E"
         },
         {
          "t": 136,
          "value": 8.581859314633553,
          "variable": "E"
         },
         {
          "t": 137,
          "value": 8.057694306855444,
          "variable": "E"
         },
         {
          "t": 138,
          "value": 7.565649700776029,
          "variable": "E"
         },
         {
          "t": 139,
          "value": 7.103740111584848,
          "variable": "E"
         },
         {
          "t": 140,
          "value": 8.18019374732871,
          "variable": "E"
         },
         {
          "t": 141,
          "value": 8.813546299977592,
          "variable": "E"
         },
         {
          "t": 142,
          "value": 9.13704677269655,
          "variable": "E"
         },
         {
          "t": 143,
          "value": 9.313442828680198,
          "variable": "E"
         },
         {
          "t": 144,
          "value": 9.417667858299492,
          "variable": "E"
         },
         {
          "t": 145,
          "value": 9.480485076861992,
          "variable": "E"
         },
         {
          "t": 146,
          "value": 9.515221021362402,
          "variable": "E"
         },
         {
          "t": 147,
          "value": 9.528609770895288,
          "variable": "E"
         },
         {
          "t": 148,
          "value": 9.524781932974353,
          "variable": "E"
         },
         {
          "t": 149,
          "value": 9.50670536813671,
          "variable": "E"
         },
         {
          "t": 150,
          "value": 9.476721033046063,
          "variable": "E"
         },
         {
          "t": 151,
          "value": 9.436760162805403,
          "variable": "E"
         },
         {
          "t": 152,
          "value": 9.388447179598394,
          "variable": "E"
         },
         {
          "t": 153,
          "value": 9.333159307621994,
          "variable": "E"
         },
         {
          "t": 154,
          "value": 9.272067810700896,
          "variable": "E"
         },
         {
          "t": 155,
          "value": 9.206169894201286,
          "variable": "E"
         },
         {
          "t": 156,
          "value": 9.136314807865132,
          "variable": "E"
         },
         {
          "t": 157,
          "value": 9.06322573985683,
          "variable": "E"
         },
         {
          "t": 158,
          "value": 8.987518371578428,
          "variable": "E"
         },
         {
          "t": 159,
          "value": 8.909716668864998,
          "variable": "E"
         },
         {
          "t": 160,
          "value": 8.830266343971283,
          "variable": "E"
         },
         {
          "t": 161,
          "value": 8.749546339696346,
          "variable": "E"
         },
         {
          "t": 162,
          "value": 8.667878628884667,
          "variable": "E"
         },
         {
          "t": 163,
          "value": 8.585536577313238,
          "variable": "E"
         },
         {
          "t": 164,
          "value": 8.50275208086267,
          "variable": "E"
         },
         {
          "t": 165,
          "value": 8.419721656705313,
          "variable": "E"
         },
         {
          "t": 166,
          "value": 8.336611641818417,
          "variable": "E"
         },
         {
          "t": 167,
          "value": 8.253562629636606,
          "variable": "E"
         },
         {
          "t": 168,
          "value": 8.170693256480233,
          "variable": "E"
         },
         {
          "t": 169,
          "value": 8.088103433035325,
          "variable": "E"
         },
         {
          "t": 170,
          "value": 8.23408881130819,
          "variable": "E"
         },
         {
          "t": 171,
          "value": 8.32108763870571,
          "variable": "E"
         },
         {
          "t": 172,
          "value": 8.36603480093649,
          "variable": "E"
         },
         {
          "t": 173,
          "value": 8.39245696196543,
          "variable": "E"
         },
         {
          "t": 174,
          "value": 8.410791204618022,
          "variable": "E"
         },
         {
          "t": 175,
          "value": 8.42493081496765,
          "variable": "E"
         },
         {
          "t": 176,
          "value": 8.436352301741486,
          "variable": "E"
         },
         {
          "t": 177,
          "value": 8.445713828439963,
          "variable": "E"
         },
         {
          "t": 178,
          "value": 8.453392202402728,
          "variable": "E"
         },
         {
          "t": 179,
          "value": 8.459654210110372,
          "variable": "E"
         },
         {
          "t": 180,
          "value": 8.464711772343756,
          "variable": "E"
         },
         {
          "t": 181,
          "value": 8.468741411880435,
          "variable": "E"
         },
         {
          "t": 182,
          "value": 8.471892720583186,
          "variable": "E"
         },
         {
          "t": 183,
          "value": 8.474293221536461,
          "variable": "E"
         },
         {
          "t": 184,
          "value": 8.476051841981523,
          "variable": "E"
         },
         {
          "t": 185,
          "value": 8.477261687038913,
          "variable": "E"
         },
         {
          "t": 186,
          "value": 8.478002355563927,
          "variable": "E"
         },
         {
          "t": 187,
          "value": 8.478341904429564,
          "variable": "E"
         },
         {
          "t": 188,
          "value": 8.478338523553136,
          "variable": "E"
         },
         {
          "t": 189,
          "value": 8.478041966820134,
          "variable": "E"
         },
         {
          "t": 190,
          "value": 8.47749477520559,
          "variable": "E"
         },
         {
          "t": 191,
          "value": 8.476733322476484,
          "variable": "E"
         },
         {
          "t": 192,
          "value": 8.475788709268953,
          "variable": "E"
         },
         {
          "t": 193,
          "value": 8.474687527542127,
          "variable": "E"
         },
         {
          "t": 194,
          "value": 8.47345251420614,
          "variable": "E"
         },
         {
          "t": 195,
          "value": 8.472103109992416,
          "variable": "E"
         },
         {
          "t": 196,
          "value": 8.470655937303832,
          "variable": "E"
         },
         {
          "t": 197,
          "value": 8.469125208790482,
          "variable": "E"
         },
         {
          "t": 198,
          "value": 8.467523076693787,
          "variable": "E"
         },
         {
          "t": 199,
          "value": 8.465859931545891,
          "variable": "E"
         },
         {
          "t": 200,
          "value": 8.464144657566312,
          "variable": "E"
         },
         {
          "t": 201,
          "value": 8.462384851033509,
          "variable": "E"
         },
         {
          "t": 202,
          "value": 8.460587006998917,
          "variable": "E"
         },
         {
          "t": 203,
          "value": 8.458756678932874,
          "variable": "E"
         },
         {
          "t": 204,
          "value": 8.456898615226528,
          "variable": "E"
         },
         {
          "t": 205,
          "value": 8.455016875904938,
          "variable": "E"
         },
         {
          "t": 206,
          "value": 8.453114932420153,
          "variable": "E"
         },
         {
          "t": 207,
          "value": 8.451195752977213,
          "variable": "E"
         },
         {
          "t": 208,
          "value": 8.449261875490341,
          "variable": "E"
         },
         {
          "t": 209,
          "value": 8.447315469962614,
          "variable": "E"
         },
         {
          "t": 210,
          "value": 8.445358391822396,
          "variable": "E"
         },
         {
          "t": 211,
          "value": 8.443392227527523,
          "variable": "E"
         },
         {
          "t": 212,
          "value": 8.441418333558229,
          "variable": "E"
         },
         {
          "t": 213,
          "value": 8.439437869757201,
          "variable": "E"
         },
         {
          "t": 214,
          "value": 8.437451827836322,
          "variable": "E"
         },
         {
          "t": 215,
          "value": 8.435461055750737,
          "variable": "E"
         },
         {
          "t": 216,
          "value": 8.43346627853941,
          "variable": "E"
         },
         {
          "t": 217,
          "value": 8.431468116144389,
          "variable": "E"
         },
         {
          "t": 218,
          "value": 8.429467098646802,
          "variable": "E"
         },
         {
          "t": 219,
          "value": 8.427463679294071,
          "variable": "E"
         },
         {
          "t": 220,
          "value": 8.425458245638566,
          "variable": "E"
         },
         {
          "t": 221,
          "value": 8.423451129061466,
          "variable": "E"
         },
         {
          "t": 222,
          "value": 8.421442612915946,
          "variable": "E"
         },
         {
          "t": 223,
          "value": 8.419432939489829,
          "variable": "E"
         },
         {
          "t": 224,
          "value": 8.417422315958865,
          "variable": "E"
         },
         {
          "t": 225,
          "value": 8.41541091947695,
          "variable": "E"
         },
         {
          "t": 226,
          "value": 8.413398901528414,
          "variable": "E"
         },
         {
          "t": 227,
          "value": 8.411386391649353,
          "variable": "E"
         },
         {
          "t": 228,
          "value": 8.409373500609474,
          "variable": "E"
         },
         {
          "t": 229,
          "value": 8.407360323132666,
          "variable": "E"
         },
         {
          "t": 230,
          "value": 8.40534694022317,
          "variable": "E"
         },
         {
          "t": 231,
          "value": 8.40333342115451,
          "variable": "E"
         },
         {
          "t": 232,
          "value": 8.401319825170104,
          "variable": "E"
         },
         {
          "t": 233,
          "value": 8.399306202937327,
          "variable": "E"
         },
         {
          "t": 234,
          "value": 8.397292597790768,
          "variable": "E"
         },
         {
          "t": 235,
          "value": 8.395279046795272,
          "variable": "E"
         },
         {
          "t": 236,
          "value": 8.393265581654845,
          "variable": "E"
         },
         {
          "t": 237,
          "value": 8.391252229489824,
          "variable": "E"
         },
         {
          "t": 238,
          "value": 8.389239013501351,
          "variable": "E"
         },
         {
          "t": 239,
          "value": 8.387225953539536,
          "variable": "E"
         },
         {
          "t": 240,
          "value": 8.385213066589248,
          "variable": "E"
         },
         {
          "t": 241,
          "value": 8.383200367185484,
          "variable": "E"
         },
         {
          "t": 242,
          "value": 8.381187867768505,
          "variable": "E"
         },
         {
          "t": 243,
          "value": 8.379175578987512,
          "variable": "E"
         },
         {
          "t": 244,
          "value": 8.377163509960281,
          "variable": "E"
         },
         {
          "t": 245,
          "value": 8.375151668495164,
          "variable": "E"
         },
         {
          "t": 246,
          "value": 8.373140061280901,
          "variable": "E"
         },
         {
          "t": 247,
          "value": 8.37112869404893,
          "variable": "E"
         },
         {
          "t": 248,
          "value": 8.369117571712142,
          "variable": "E"
         },
         {
          "t": 249,
          "value": 8.367106698483548,
          "variable": "E"
         },
         {
          "t": 250,
          "value": 8.365096077977718,
          "variable": "E"
         },
         {
          "t": 251,
          "value": 8.363085713297531,
          "variable": "E"
         },
         {
          "t": 252,
          "value": 8.361075607108344,
          "variable": "E"
         },
         {
          "t": 253,
          "value": 8.359065761701405,
          "variable": "E"
         },
         {
          "t": 254,
          "value": 8.35705617904808,
          "variable": "E"
         },
         {
          "t": 255,
          "value": 8.355046860846203,
          "variable": "E"
         },
         {
          "t": 256,
          "value": 8.353037808559735,
          "variable": "E"
         },
         {
          "t": 257,
          "value": 8.35102902345265,
          "variable": "E"
         },
         {
          "t": 258,
          "value": 8.349020506617904,
          "variable": "E"
         },
         {
          "t": 259,
          "value": 8.347012259002232,
          "variable": "E"
         },
         {
          "t": 260,
          "value": 8.345004281427325,
          "variable": "E"
         },
         {
          "t": 261,
          "value": 8.342996574607946,
          "variable": "E"
         },
         {
          "t": 262,
          "value": 8.34098913916742,
          "variable": "E"
         },
         {
          "t": 263,
          "value": 8.338981975650883,
          "variable": "E"
         },
         {
          "t": 264,
          "value": 8.336975084536594,
          "variable": "E"
         },
         {
          "t": 265,
          "value": 8.334968466245627,
          "variable": "E"
         },
         {
          "t": 266,
          "value": 8.332962121150148,
          "variable": "E"
         },
         {
          "t": 267,
          "value": 8.33095604958049,
          "variable": "E"
         },
         {
          "t": 268,
          "value": 8.328950251831204,
          "variable": "E"
         },
         {
          "t": 269,
          "value": 8.326944728166243,
          "variable": "E"
         },
         {
          "t": 270,
          "value": 8.324939478823373,
          "variable": "E"
         },
         {
          "t": 271,
          "value": 8.322934504017969,
          "variable": "E"
         },
         {
          "t": 272,
          "value": 8.320929803946244,
          "variable": "E"
         },
         {
          "t": 273,
          "value": 8.318925378788013,
          "variable": "E"
         },
         {
          "t": 274,
          "value": 8.316921228709058,
          "variable": "E"
         },
         {
          "t": 275,
          "value": 8.314917353863153,
          "variable": "E"
         },
         {
          "t": 276,
          "value": 8.312913754393797,
          "variable": "E"
         },
         {
          "t": 277,
          "value": 8.310910430435682,
          "variable": "E"
         },
         {
          "t": 278,
          "value": 8.308907382115962,
          "variable": "E"
         },
         {
          "t": 279,
          "value": 8.306904609555332,
          "variable": "E"
         },
         {
          "t": 280,
          "value": 8.304902112868957,
          "variable": "E"
         },
         {
          "t": 281,
          "value": 8.30289989216726,
          "variable": "E"
         },
         {
          "t": 282,
          "value": 8.30089794755659,
          "variable": "E"
         },
         {
          "t": 283,
          "value": 8.298896279139813,
          "variable": "E"
         },
         {
          "t": 284,
          "value": 8.296894887016794,
          "variable": "E"
         },
         {
          "t": 285,
          "value": 8.294893771284825,
          "variable": "E"
         },
         {
          "t": 286,
          "value": 8.292892932038987,
          "variable": "E"
         },
         {
          "t": 287,
          "value": 8.290892369372454,
          "variable": "E"
         },
         {
          "t": 288,
          "value": 8.288892083376764,
          "variable": "E"
         },
         {
          "t": 289,
          "value": 8.286892074142036,
          "variable": "E"
         },
         {
          "t": 290,
          "value": 8.28489234175717,
          "variable": "E"
         },
         {
          "t": 291,
          "value": 8.28289288631001,
          "variable": "E"
         },
         {
          "t": 292,
          "value": 8.280893707887484,
          "variable": "E"
         },
         {
          "t": 293,
          "value": 8.278894806575723,
          "variable": "E"
         },
         {
          "t": 294,
          "value": 8.27689618246017,
          "variable": "E"
         },
         {
          "t": 295,
          "value": 8.274897835625666,
          "variable": "E"
         },
         {
          "t": 296,
          "value": 8.272899766156518,
          "variable": "E"
         },
         {
          "t": 297,
          "value": 8.270901974136576,
          "variable": "E"
         },
         {
          "t": 298,
          "value": 8.268904459649278,
          "variable": "E"
         },
         {
          "t": 299,
          "value": 8.266907222777702,
          "variable": "E"
         },
         {
          "t": 0,
          "value": 0,
          "variable": "I0"
         },
         {
          "t": 1,
          "value": 0,
          "variable": "I0"
         },
         {
          "t": 2,
          "value": 5,
          "variable": "I0"
         },
         {
          "t": 3,
          "value": 8.025,
          "variable": "I0"
         },
         {
          "t": 4,
          "value": 9.720057150554188,
          "variable": "I0"
         },
         {
          "t": 5,
          "value": 10.797178085340574,
          "variable": "I0"
         },
         {
          "t": 6,
          "value": 11.61911530320261,
          "variable": "I0"
         },
         {
          "t": 7,
          "value": 12.351686055442295,
          "variable": "I0"
         },
         {
          "t": 8,
          "value": 13.069324669850044,
          "variable": "I0"
         },
         {
          "t": 9,
          "value": 13.80587569715573,
          "variable": "I0"
         },
         {
          "t": 10,
          "value": 14.577401410778274,
          "variable": "I0"
         },
         {
          "t": 11,
          "value": 15.392251948808656,
          "variable": "I0"
         },
         {
          "t": 12,
          "value": 16.255493742670033,
          "variable": "I0"
         },
         {
          "t": 13,
          "value": 17.17085664877267,
          "variable": "I0"
         },
         {
          "t": 14,
          "value": 18.141592019057594,
          "variable": "I0"
         },
         {
          "t": 15,
          "value": 19.170853265717568,
          "variable": "I0"
         },
         {
          "t": 16,
          "value": 20.26186735118605,
          "variable": "I0"
         },
         {
          "t": 17,
          "value": 21.41801500525282,
          "variable": "I0"
         },
         {
          "t": 18,
          "value": 22.642871368098266,
          "variable": "I0"
         },
         {
          "t": 19,
          "value": 23.940229752804967,
          "variable": "I0"
         },
         {
          "t": 20,
          "value": 25.314118495446937,
          "variable": "I0"
         },
         {
          "t": 21,
          "value": 26.768815279230374,
          "variable": "I0"
         },
         {
          "t": 22,
          "value": 28.30886087230852,
          "variable": "I0"
         },
         {
          "t": 23,
          "value": 29.939073147587774,
          "variable": "I0"
         },
         {
          "t": 24,
          "value": 31.664561785121094,
          "variable": "I0"
         },
         {
          "t": 25,
          "value": 33.49074385481383,
          "variable": "I0"
         },
         {
          "t": 26,
          "value": 35.42336039052042,
          "variable": "I0"
         },
         {
          "t": 27,
          "value": 37.46849403098215,
          "variable": "I0"
         },
         {
          "t": 28,
          "value": 39.63258778984723,
          "variable": "I0"
         },
         {
          "t": 29,
          "value": 41.92246501368789,
          "variable": "I0"
         },
         {
          "t": 30,
          "value": 44.345350587996116,
          "variable": "I0"
         },
         {
          "t": 31,
          "value": 46.908893454204424,
          "variable": "I0"
         },
         {
          "t": 32,
          "value": 49.62119050480066,
          "variable": "I0"
         },
         {
          "t": 33,
          "value": 52.49081192814196,
          "variable": "I0"
         },
         {
          "t": 34,
          "value": 55.52682807944005,
          "variable": "I0"
         },
         {
          "t": 35,
          "value": 58.73883795951824,
          "variable": "I0"
         },
         {
          "t": 36,
          "value": 62.13699938831252,
          "variable": "I0"
         },
         {
          "t": 37,
          "value": 65.73206096570789,
          "variable": "I0"
         },
         {
          "t": 38,
          "value": 69.53539591818054,
          "variable": "I0"
         },
         {
          "t": 39,
          "value": 73.55903793587478,
          "variable": "I0"
         },
         {
          "t": 40,
          "value": 77.81571911120145,
          "variable": "I0"
         },
         {
          "t": 41,
          "value": 82.3189100968232,
          "variable": "I0"
         },
         {
          "t": 42,
          "value": 87.08286260801482,
          "variable": "I0"
         },
         {
          "t": 43,
          "value": 92.12265440187709,
          "variable": "I0"
         },
         {
          "t": 44,
          "value": 97.45423687376504,
          "variable": "I0"
         },
         {
          "t": 45,
          "value": 103.09448541959162,
          "variable": "I0"
         },
         {
          "t": 46,
          "value": 109.0612527214112,
          "variable": "I0"
         },
         {
          "t": 47,
          "value": 115.37342512290354,
          "variable": "I0"
         },
         {
          "t": 48,
          "value": 122.05098227109355,
          "variable": "I0"
         },
         {
          "t": 49,
          "value": 129.11506021088826,
          "variable": "I0"
         },
         {
          "t": 50,
          "value": 136.58801812981883,
          "variable": "I0"
         },
         {
          "t": 51,
          "value": 144.493508961776,
          "variable": "I0"
         },
         {
          "t": 52,
          "value": 152.85655407055597,
          "variable": "I0"
         },
         {
          "t": 53,
          "value": 161.70362224672516,
          "variable": "I0"
         },
         {
          "t": 54,
          "value": 171.0627132647055,
          "variable": "I0"
         },
         {
          "t": 55,
          "value": 180.96344626111403,
          "variable": "I0"
         },
         {
          "t": 56,
          "value": 191.43715321030405,
          "variable": "I0"
         },
         {
          "t": 57,
          "value": 202.51697778879125,
          "variable": "I0"
         },
         {
          "t": 58,
          "value": 214.23797993685338,
          "variable": "I0"
         },
         {
          "t": 59,
          "value": 226.63724644311043,
          "variable": "I0"
         },
         {
          "t": 60,
          "value": 239.75400789637658,
          "variable": "I0"
         },
         {
          "t": 61,
          "value": 253.62976236857128,
          "variable": "I0"
         },
         {
          "t": 62,
          "value": 268.3084062130437,
          "variable": "I0"
         },
         {
          "t": 63,
          "value": 283.8363723843528,
          "variable": "I0"
         },
         {
          "t": 64,
          "value": 300.2627767084165,
          "variable": "I0"
         },
         {
          "t": 65,
          "value": 317.63957255605624,
          "variable": "I0"
         },
         {
          "t": 66,
          "value": 336.02171439837997,
          "variable": "I0"
         },
         {
          "t": 67,
          "value": 355.46733074923384,
          "variable": "I0"
         },
         {
          "t": 68,
          "value": 376.037907028181,
          "variable": "I0"
         },
         {
          "t": 69,
          "value": 397.7984789071968,
          "variable": "I0"
         },
         {
          "t": 70,
          "value": 420.817836735588,
          "variable": "I0"
         },
         {
          "t": 71,
          "value": 445.168741670615,
          "variable": "I0"
         },
         {
          "t": 72,
          "value": 470.9281541760036,
          "variable": "I0"
         },
         {
          "t": 73,
          "value": 498.1774755870549,
          "variable": "I0"
         },
         {
          "t": 74,
          "value": 527.0028034794814,
          "variable": "I0"
         },
         {
          "t": 75,
          "value": 557.4952016194966,
          "variable": "I0"
         },
         {
          "t": 76,
          "value": 589.7509853151572,
          "variable": "I0"
         },
         {
          "t": 77,
          "value": 623.8720230335782,
          "variable": "I0"
         },
         {
          "t": 78,
          "value": 659.9660551955114,
          "variable": "I0"
         },
         {
          "t": 79,
          "value": 698.1470311079851,
          "variable": "I0"
         },
         {
          "t": 80,
          "value": 612.8689994478921,
          "variable": "I0"
         },
         {
          "t": 81,
          "value": 563.4975645709237,
          "variable": "I0"
         },
         {
          "t": 82,
          "value": 511.16603490393993,
          "variable": "I0"
         },
         {
          "t": 83,
          "value": 460.02500483065546,
          "variable": "I0"
         },
         {
          "t": 84,
          "value": 412.74109609660985,
          "variable": "I0"
         },
         {
          "t": 85,
          "value": 370.2102806544758,
          "variable": "I0"
         },
         {
          "t": 86,
          "value": 332.4665267958647,
          "variable": "I0"
         },
         {
          "t": 87,
          "value": 299.1753591967401,
          "variable": "I0"
         },
         {
          "t": 88,
          "value": 269.8726714056304,
          "variable": "I0"
         },
         {
          "t": 89,
          "value": 244.07549004771948,
          "variable": "I0"
         },
         {
          "t": 90,
          "value": 221.3300256103906,
          "variable": "I0"
         },
         {
          "t": 91,
          "value": 201.22955029566876,
          "variable": "I0"
         },
         {
          "t": 92,
          "value": 183.41818278990834,
          "variable": "I0"
         },
         {
          "t": 93,
          "value": 167.5884577012566,
          "variable": "I0"
         },
         {
          "t": 94,
          "value": 153.47648324011823,
          "variable": "I0"
         },
         {
          "t": 95,
          "value": 140.85647594809524,
          "variable": "I0"
         },
         {
          "t": 96,
          "value": 129.53547240832515,
          "variable": "I0"
         },
         {
          "t": 97,
          "value": 119.34853884674033,
          "variable": "I0"
         },
         {
          "t": 98,
          "value": 110.15457288629504,
          "variable": "I0"
         },
         {
          "t": 99,
          "value": 101.83268914551071,
          "variable": "I0"
         },
         {
          "t": 100,
          "value": 94.27913808368949,
          "variable": "I0"
         },
         {
          "t": 101,
          "value": 87.40469388130373,
          "variable": "I0"
         },
         {
          "t": 102,
          "value": 81.13244664295252,
          "variable": "I0"
         },
         {
          "t": 103,
          "value": 75.39593924095199,
          "variable": "I0"
         },
         {
          "t": 104,
          "value": 70.13759605667661,
          "variable": "I0"
         },
         {
          "t": 105,
          "value": 65.30739805205101,
          "variable": "I0"
         },
         {
          "t": 106,
          "value": 60.86176529576598,
          "variable": "I0"
         },
         {
          "t": 107,
          "value": 56.76261401587552,
          "variable": "I0"
         },
         {
          "t": 108,
          "value": 52.97656040321387,
          "variable": "I0"
         },
         {
          "t": 109,
          "value": 49.47424779242877,
          "variable": "I0"
         },
         {
          "t": 110,
          "value": 46.22977757864708,
          "variable": "I0"
         },
         {
          "t": 111,
          "value": 43.22022737554747,
          "variable": "I0"
         },
         {
          "t": 112,
          "value": 40.425242568980494,
          "variable": "I0"
         },
         {
          "t": 113,
          "value": 37.82668964497978,
          "variable": "I0"
         },
         {
          "t": 114,
          "value": 35.408361538139424,
          "variable": "I0"
         },
         {
          "t": 115,
          "value": 33.15572681257904,
          "variable": "I0"
         },
         {
          "t": 116,
          "value": 31.055715801226153,
          "variable": "I0"
         },
         {
          "t": 117,
          "value": 29.096537930577185,
          "variable": "I0"
         },
         {
          "t": 118,
          "value": 27.267525381679807,
          "variable": "I0"
         },
         {
          "t": 119,
          "value": 25.558999012563696,
          "variable": "I0"
         },
         {
          "t": 120,
          "value": 23.96215311686068,
          "variable": "I0"
         },
         {
          "t": 121,
          "value": 22.46895613813083,
          "variable": "I0"
         },
         {
          "t": 122,
          "value": 21.07206491640635,
          "variable": "I0"
         },
         {
          "t": 123,
          "value": 19.764750426891947,
          "variable": "I0"
         },
         {
          "t": 124,
          "value": 18.540833292526752,
          "variable": "I0"
         },
         {
          "t": 125,
          "value": 17.394627622196214,
          "variable": "I0"
         },
         {
          "t": 126,
          "value": 16.320891953142347,
          "variable": "I0"
         },
         {
          "t": 127,
          "value": 15.314786266561379,
          "variable": "I0"
         },
         {
          "t": 128,
          "value": 14.37183420536754,
          "variable": "I0"
         },
         {
          "t": 129,
          "value": 13.487889757557676,
          "variable": "I0"
         },
         {
          "t": 130,
          "value": 12.659107781653775,
          "variable": "I0"
         },
         {
          "t": 131,
          "value": 11.881917845781704,
          "variable": "I0"
         },
         {
          "t": 132,
          "value": 11.153000931958045,
          "variable": "I0"
         },
         {
          "t": 133,
          "value": 10.469268624527393,
          "variable": "I0"
         },
         {
          "t": 134,
          "value": 9.827844458452162,
          "variable": "I0"
         },
         {
          "t": 135,
          "value": 9.226047151009432,
          "variable": "I0"
         },
         {
          "t": 136,
          "value": 8.661375480822235,
          "variable": "I0"
         },
         {
          "t": 137,
          "value": 8.13149461224347,
          "variable": "I0"
         },
         {
          "t": 138,
          "value": 7.634223691922731,
          "variable": "I0"
         },
         {
          "t": 139,
          "value": 7.167524568761704,
          "variable": "I0"
         },
         {
          "t": 140,
          "value": 6.729491509108157,
          "variable": "I0"
         },
         {
          "t": 141,
          "value": 6.3183417965442175,
          "variable": "I0"
         },
         {
          "t": 142,
          "value": 6.309929149499524,
          "variable": "I0"
         },
         {
          "t": 143,
          "value": 6.462588750906576,
          "variable": "I0"
         },
         {
          "t": 144,
          "value": 6.646509100036076,
          "variable": "I0"
         },
         {
          "t": 145,
          "value": 6.814754349694402,
          "variable": "I0"
         },
         {
          "t": 146,
          "value": 6.954376150618594,
          "variable": "I0"
         },
         {
          "t": 147,
          "value": 7.064325170883048,
          "variable": "I0"
         },
         {
          "t": 148,
          "value": 7.147224745686659,
          "variable": "I0"
         },
         {
          "t": 149,
          "value": 7.206529146062317,
          "variable": "I0"
         },
         {
          "t": 150,
          "value": 7.2456026568356515,
          "variable": "I0"
         },
         {
          "t": 151,
          "value": 7.267458135398242,
          "variable": "I0"
         },
         {
          "t": 152,
          "value": 7.274714499655329,
          "variable": "I0"
         },
         {
          "t": 153,
          "value": 7.2696223279686984,
          "variable": "I0"
         },
         {
          "t": 154,
          "value": 7.25410686627847,
          "variable": "I0"
         },
         {
          "t": 155,
          "value": 7.229811961643466,
          "variable": "I0"
         },
         {
          "t": 156,
          "value": 7.198140026784563,
          "variable": "I0"
         },
         {
          "t": 157,
          "value": 7.160286991629902,
          "variable": "I0"
         },
         {
          "t": 158,
          "value": 7.117272421316467,
          "variable": "I0"
         },
         {
          "t": 159,
          "value": 7.069965319352823,
          "variable": "I0"
         },
         {
          "t": 160,
          "value": 7.0191061834577635,
          "variable": "I0"
         },
         {
          "t": 161,
          "value": 6.965325841050239,
          "variable": "I0"
         },
         {
          "t": 162,
          "value": 6.909161528701733,
          "variable": "I0"
         },
         {
          "t": 163,
          "value": 6.851070616797757,
          "variable": "I0"
         },
         {
          "t": 164,
          "value": 6.791442323559653,
          "variable": "I0"
         },
         {
          "t": 165,
          "value": 6.730607712731074,
          "variable": "I0"
         },
         {
          "t": 166,
          "value": 6.6688482263091435,
          "variable": "I0"
         },
         {
          "t": 167,
          "value": 6.606402966935,
          "variable": "I0"
         },
         {
          "t": 168,
          "value": 6.543474913135729,
          "variable": "I0"
         },
         {
          "t": 169,
          "value": 6.480236223775769,
          "variable": "I0"
         },
         {
          "t": 170,
          "value": 6.416832765168702,
          "variable": "I0"
         },
         {
          "t": 171,
          "value": 6.3533879747477044,
          "variable": "I0"
         },
         {
          "t": 172,
          "value": 6.347059085781748,
          "variable": "I0"
         },
         {
          "t": 173,
          "value": 6.3645367925791065,
          "variable": "I0"
         },
         {
          "t": 174,
          "value": 6.387571035225019,
          "variable": "I0"
         },
         {
          "t": 175,
          "value": 6.409724689268245,
          "variable": "I0"
         },
         {
          "t": 176,
          "value": 6.429261966410571,
          "variable": "I0"
         },
         {
          "t": 177,
          "value": 6.4459845310690485,
          "variable": "I0"
         },
         {
          "t": 178,
          "value": 6.460127633906979,
          "variable": "I0"
         },
         {
          "t": 179,
          "value": 6.472014609997201,
          "variable": "I0"
         },
         {
          "t": 180,
          "value": 6.4819579123487925,
          "variable": "I0"
         },
         {
          "t": 181,
          "value": 6.490235143363028,
          "variable": "I0"
         },
         {
          "t": 182,
          "value": 6.497086664855983,
          "variable": "I0"
         },
         {
          "t": 183,
          "value": 6.502718851747898,
          "variable": "I0"
         },
         {
          "t": 184,
          "value": 6.507308405075627,
          "variable": "I0"
         },
         {
          "t": 185,
          "value": 6.511006478810164,
          "variable": "I0"
         },
         {
          "t": 186,
          "value": 6.513942333692242,
          "variable": "I0"
         },
         {
          "t": 187,
          "value": 6.516226497001992,
          "variable": "I0"
         },
         {
          "t": 188,
          "value": 6.517953474367326,
          "variable": "I0"
         },
         {
          "t": 189,
          "value": 6.519204071305337,
          "variable": "I0"
         },
         {
          "t": 190,
          "value": 6.5200473790193865,
          "variable": "I0"
         },
         {
          "t": 191,
          "value": 6.52054247254312,
          "variable": "I0"
         },
         {
          "t": 192,
          "value": 6.5207398627680035,
          "variable": "I0"
         },
         {
          "t": 193,
          "value": 6.520682737987523,
          "variable": "I0"
         },
         {
          "t": 194,
          "value": 6.520408025458817,
          "variable": "I0"
         },
         {
          "t": 195,
          "value": 6.519947299070233,
          "variable": "I0"
         },
         {
          "t": 196,
          "value": 6.519327555423942,
          "variable": "I0"
         },
         {
          "t": 197,
          "value": 6.518571877409264,
          "variable": "I0"
         },
         {
          "t": 198,
          "value": 6.517700001577211,
          "variable": "I0"
         },
         {
          "t": 199,
          "value": 6.516728803262239,
          "variable": "I0"
         },
         {
          "t": 200,
          "value": 6.5156727113754584,
          "variable": "I0"
         },
         {
          "t": 201,
          "value": 6.514544063064907,
          "variable": "I0"
         },
         {
          "t": 202,
          "value": 6.51335340696039,
          "variable": "I0"
         },
         {
          "t": 203,
          "value": 6.512109762456641,
          "variable": "I0"
         },
         {
          "t": 204,
          "value": 6.510820841407963,
          "variable": "I0"
         },
         {
          "t": 205,
          "value": 6.509493237683593,
          "variable": "I0"
         },
         {
          "t": 206,
          "value": 6.508132589243058,
          "variable": "I0"
         },
         {
          "t": 207,
          "value": 6.506743716715298,
          "variable": "I0"
         },
         {
          "t": 208,
          "value": 6.505330741887865,
          "variable": "I0"
         },
         {
          "t": 209,
          "value": 6.503897189018613,
          "variable": "I0"
         },
         {
          "t": 210,
          "value": 6.502446071460148,
          "variable": "I0"
         },
         {
          "t": 211,
          "value": 6.500979965726253,
          "variable": "I0"
         },
         {
          "t": 212,
          "value": 6.499501074820819,
          "variable": "I0"
         },
         {
          "t": 213,
          "value": 6.498011282385934,
          "variable": "I0"
         },
         {
          "t": 214,
          "value": 6.496512199000063,
          "variable": "I0"
         },
         {
          "t": 215,
          "value": 6.495005201764342,
          "variable": "I0"
         },
         {
          "t": 216,
          "value": 6.493491468150012,
          "variable": "I0"
         },
         {
          "t": 217,
          "value": 6.491972004938942,
          "variable": "I0"
         },
         {
          "t": 218,
          "value": 6.490447672968639,
          "variable": "I0"
         },
         {
          "t": 219,
          "value": 6.4889192082899285,
          "variable": "I0"
         },
         {
          "t": 220,
          "value": 6.4873872402574015,
          "variable": "I0"
         },
         {
          "t": 221,
          "value": 6.485852306997264,
          "variable": "I0"
         },
         {
          "t": 222,
          "value": 6.4843148686327945,
          "variable": "I0"
         },
         {
          "t": 223,
          "value": 6.482775318592503,
          "variable": "I0"
         },
         {
          "t": 224,
          "value": 6.481233993278925,
          "variable": "I0"
         },
         {
          "t": 225,
          "value": 6.479691180335732,
          "variable": "I0"
         },
         {
          "t": 226,
          "value": 6.478147125716335,
          "variable": "I0"
         },
         {
          "t": 227,
          "value": 6.476602039727763,
          "variable": "I0"
         },
         {
          "t": 228,
          "value": 6.4750561021983435,
          "variable": "I0"
         },
         {
          "t": 229,
          "value": 6.47350946689622,
          "variable": "I0"
         },
         {
          "t": 230,
          "value": 6.471962265307317,
          "variable": "I0"
         },
         {
          "t": 231,
          "value": 6.470414609865606,
          "variable": "I0"
         },
         {
          "t": 232,
          "value": 6.468866596715076,
          "variable": "I0"
         },
         {
          "t": 233,
          "value": 6.467318308071303,
          "variable": "I0"
         },
         {
          "t": 234,
          "value": 6.465769814240655,
          "variable": "I0"
         },
         {
          "t": 235,
          "value": 6.464221175346775,
          "variable": "I0"
         },
         {
          "t": 236,
          "value": 6.462672442806765,
          "variable": "I0"
         },
         {
          "t": 237,
          "value": 6.461123660593383,
          "variable": "I0"
         },
         {
          "t": 238,
          "value": 6.459574866314245,
          "variable": "I0"
         },
         {
          "t": 239,
          "value": 6.458026092134571,
          "variable": "I0"
         },
         {
          "t": 240,
          "value": 6.4564773655661725,
          "variable": "I0"
         },
         {
          "t": 241,
          "value": 6.45492871014205,
          "variable": "I0"
         },
         {
          "t": 242,
          "value": 6.453380145993196,
          "variable": "I0"
         },
         {
          "t": 243,
          "value": 6.451831690341779,
          "variable": "I0"
         },
         {
          "t": 244,
          "value": 6.450283357922827,
          "variable": "I0"
         },
         {
          "t": 245,
          "value": 6.4487351613447865,
          "variable": "I0"
         },
         {
          "t": 246,
          "value": 6.447187111397801,
          "variable": "I0"
         },
         {
          "t": 247,
          "value": 6.445639217317306,
          "variable": "I0"
         },
         {
          "t": 248,
          "value": 6.444091487009407,
          "variable": "I0"
         },
         {
          "t": 249,
          "value": 6.442543927243582,
          "variable": "I0"
         },
         {
          "t": 250,
          "value": 6.4409965438174535,
          "variable": "I0"
         },
         {
          "t": 251,
          "value": 6.439449341697668,
          "variable": "I0"
         },
         {
          "t": 252,
          "value": 6.437902325140355,
          "variable": "I0"
         },
         {
          "t": 253,
          "value": 6.436355497794123,
          "variable": "I0"
         },
         {
          "t": 254,
          "value": 6.4348088627881195,
          "variable": "I0"
         },
         {
          "t": 255,
          "value": 6.433262422807331,
          "variable": "I0"
         },
         {
          "t": 256,
          "value": 6.431716180156969,
          "variable": "I0"
         },
         {
          "t": 257,
          "value": 6.430170136817504,
          "variable": "I0"
         },
         {
          "t": 258,
          "value": 6.428624294491749,
          "variable": "I0"
         },
         {
          "t": 259,
          "value": 6.4270786546450935,
          "variable": "I0"
         },
         {
          "t": 260,
          "value": 6.425533218539914,
          "variable": "I0"
         },
         {
          "t": 261,
          "value": 6.423987987265,
          "variable": "I0"
         },
         {
          "t": 262,
          "value": 6.422442961760706,
          "variable": "I0"
         },
         {
          "t": 263,
          "value": 6.420898142840462,
          "variable": "I0"
         },
         {
          "t": 264,
          "value": 6.419353531209167,
          "variable": "I0"
         },
         {
          "t": 265,
          "value": 6.417809127478908,
          "variable": "I0"
         },
         {
          "t": 266,
          "value": 6.416264932182411,
          "variable": "I0"
         },
         {
          "t": 267,
          "value": 6.414720945784533,
          "variable": "I0"
         },
         {
          "t": 268,
          "value": 6.413177168692097,
          "variable": "I0"
         },
         {
          "t": 269,
          "value": 6.411633601262288,
          "variable": "I0"
         },
         {
          "t": 270,
          "value": 6.4100902438098455,
          "variable": "I0"
         },
         {
          "t": 271,
          "value": 6.408547096613207,
          "variable": "I0"
         },
         {
          "t": 272,
          "value": 6.407004159919757,
          "variable": "I0"
         },
         {
          "t": 273,
          "value": 6.405461433950329,
          "variable": "I0"
         },
         {
          "t": 274,
          "value": 6.403918918903033,
          "variable": "I0"
         },
         {
          "t": 275,
          "value": 6.40237661495655,
          "variable": "I0"
         },
         {
          "t": 276,
          "value": 6.400834522272936,
          "variable": "I0"
         },
         {
          "t": 277,
          "value": 6.39929264100002,
          "variable": "I0"
         },
         {
          "t": 278,
          "value": 6.397750971273463,
          "variable": "I0"
         },
         {
          "t": 279,
          "value": 6.3962095132185075,
          "variable": "I0"
         },
         {
          "t": 280,
          "value": 6.394668266951483,
          "variable": "I0"
         },
         {
          "t": 281,
          "value": 6.393127232581084,
          "variable": "I0"
         },
         {
          "t": 282,
          "value": 6.391586410209471,
          "variable": "I0"
         },
         {
          "t": 283,
          "value": 6.390045799933207,
          "variable": "I0"
         },
         {
          "t": 284,
          "value": 6.3885054018440615,
          "variable": "I0"
         },
         {
          "t": 285,
          "value": 6.386965216029695,
          "variable": "I0"
         },
         {
          "t": 286,
          "value": 6.385425242574242,
          "variable": "I0"
         },
         {
          "t": 287,
          "value": 6.38388548155882,
          "variable": "I0"
         },
         {
          "t": 288,
          "value": 6.382345933061949,
          "variable": "I0"
         },
         {
          "t": 289,
          "value": 6.38080659715993,
          "variable": "I0"
         },
         {
          "t": 290,
          "value": 6.379267473927143,
          "variable": "I0"
         },
         {
          "t": 291,
          "value": 6.377728563436331,
          "variable": "I0"
         },
         {
          "t": 292,
          "value": 6.376189865758816,
          "variable": "I0"
         },
         {
          "t": 293,
          "value": 6.374651380964704,
          "variable": "I0"
         },
         {
          "t": 294,
          "value": 6.373113109123046,
          "variable": "I0"
         },
         {
          "t": 295,
          "value": 6.371575050301987,
          "variable": "I0"
         },
         {
          "t": 296,
          "value": 6.370037204568884,
          "variable": "I0"
         },
         {
          "t": 297,
          "value": 6.368499571990413,
          "variable": "I0"
         },
         {
          "t": 298,
          "value": 6.3669621526326585,
          "variable": "I0"
         },
         {
          "t": 299,
          "value": 6.3654249465611885,
          "variable": "I0"
         },
         {
          "t": 0,
          "value": 0,
          "variable": "I1"
         },
         {
          "t": 1,
          "value": 0,
          "variable": "I1"
         },
         {
          "t": 2,
          "value": 0,
          "variable": "I1"
         },
         {
          "t": 3,
          "value": 0.22500000000000003,
          "variable": "I1"
         },
         {
          "t": 4,
          "value": 0.5636250000000002,
          "variable": "I1"
         },
         {
          "t": 5,
          "value": 0.9446650717749386,
          "variable": "I1"
         },
         {
          "t": 6,
          "value": 1.3360715784377706,
          "variable": "I1"
         },
         {
          "t": 7,
          "value": 1.7253246092381112,
          "variable": "I1"
         },
         {
          "t": 8,
          "value": 2.1086180208092036,
          "variable": "I1"
         },
         {
          "t": 9,
          "value": 2.4858758288715355,
          "variable": "I1"
         },
         {
          "t": 10,
          "value": 2.85855265235639,
          "variable": "I1"
         },
         {
          "t": 11,
          "value": 3.228680450605773,
          "variable": "I1"
         },
         {
          "t": 12,
          "value": 3.5984637432415854,
          "variable": "I1"
         },
         {
          "t": 13,
          "value": 3.9701145873375783,
          "variable": "I1"
         },
         {
          "t": 14,
          "value": 4.345791677798591,
          "variable": "I1"
         },
         {
          "t": 15,
          "value": 4.727584150876323,
          "variable": "I1"
         },
         {
          "t": 16,
          "value": 5.117514132745981,
          "variable": "I1"
         },
         {
          "t": 17,
          "value": 5.517546750274756,
          "variable": "I1"
         },
         {
          "t": 18,
          "value": 5.9296027504836575,
          "variable": "I1"
         },
         {
          "t": 19,
          "value": 6.355571686999713,
          "variable": "I1"
         },
         {
          "t": 20,
          "value": 6.797324857175966,
          "variable": "I1"
         },
         {
          "t": 21,
          "value": 7.256727703753482,
          "variable": "I1"
         },
         {
          "t": 22,
          "value": 7.735651620943501,
          "variable": "I1"
         },
         {
          "t": 23,
          "value": 8.235985198103036,
          "variable": "I1"
         },
         {
          "t": 24,
          "value": 8.759644969934183,
          "variable": "I1"
         },
         {
          "t": 25,
          "value": 9.308585753271213,
          "variable": "I1"
         },
         {
          "t": 26,
          "value": 9.884810651410715,
          "variable": "I1"
         },
         {
          "t": 27,
          "value": 10.490380803843061,
          "variable": "I1"
         },
         {
          "t": 28,
          "value": 11.127424954852952,
          "variable": "I1"
         },
         {
          "t": 29,
          "value": 11.798148909910783,
          "variable": "I1"
         },
         {
          "t": 30,
          "value": 12.50484494453566,
          "variable": "I1"
         },
         {
          "t": 31,
          "value": 13.249901226541919,
          "variable": "I1"
         },
         {
          "t": 32,
          "value": 14.035811309326927,
          "variable": "I1"
         },
         {
          "t": 33,
          "value": 14.865183751110264,
          "variable": "I1"
         },
         {
          "t": 34,
          "value": 15.740751912765628,
          "variable": "I1"
         },
         {
          "t": 35,
          "value": 16.665383985063865,
          "variable": "I1"
         },
         {
          "t": 36,
          "value": 17.6420932947358,
          "variable": "I1"
         },
         {
          "t": 37,
          "value": 18.674048937736284,
          "variable": "I1"
         },
         {
          "t": 38,
          "value": 19.76458678741951,
          "variable": "I1"
         },
         {
          "t": 39,
          "value": 20.917220924995686,
          "variable": "I1"
         },
         {
          "t": 40,
          "value": 22.13565553961048,
          "variable": "I1"
         },
         {
          "t": 41,
          "value": 23.423797345653497,
          "variable": "I1"
         },
         {
          "t": 42,
          "value": 24.785768565445196,
          "variable": "I1"
         },
         {
          "t": 43,
          "value": 26.225920526261344,
          "variable": "I1"
         },
         {
          "t": 44,
          "value": 27.748847921719676,
          "variable": "I1"
         },
         {
          "t": 45,
          "value": 29.359403788867137,
          "variable": "I1"
         },
         {
          "t": 46,
          "value": 31.062715253862045,
          "variable": "I1"
         },
         {
          "t": 47,
          "value": 32.86420010093935,
          "variable": "I1"
         },
         {
          "t": 48,
          "value": 34.76958422137608,
          "variable": "I1"
         },
         {
          "t": 49,
          "value": 36.784920001437676,
          "variable": "I1"
         },
         {
          "t": 50,
          "value": 38.916605710783884,
          "variable": "I1"
         },
         {
          "t": 51,
          "value": 41.17140595554734,
          "variable": "I1"
         },
         {
          "t": 52,
          "value": 43.55647326327253,
          "variable": "I1"
         },
         {
          "t": 53,
          "value": 46.07937087012029,
          "variable": "I1"
         },
         {
          "t": 54,
          "value": 48.748096784210894,
          "variable": "I1"
         },
         {
          "t": 55,
          "value": 51.57110920270156,
          "variable": "I1"
         },
         {
          "t": 56,
          "value": 54.55735336418153,
          "variable": "I1"
         },
         {
          "t": 57,
          "value": 57.71628992222706,
          "variable": "I1"
         },
         {
          "t": 58,
          "value": 61.05792493049997,
          "variable": "I1"
         },
         {
          "t": 59,
          "value": 64.59284153460838,
          "variable": "I1"
         },
         {
          "t": 60,
          "value": 68.3322334710875,
          "variable": "I1"
         },
         {
          "t": 61,
          "value": 72.28794047931571,
          "variable": "I1"
         },
         {
          "t": 62,
          "value": 76.47248573796985,
          "variable": "I1"
         },
         {
          "t": 63,
          "value": 80.89911544375983,
          "variable": "I1"
         },
         {
          "t": 64,
          "value": 85.58184065667972,
          "variable": "I1"
         },
         {
          "t": 65,
          "value": 90.53548154289048,
          "variable": "I1"
         },
         {
          "t": 66,
          "value": 95.77571415362397,
          "variable": "I1"
         },
         {
          "t": 67,
          "value": 101.31911988618867,
          "variable": "I1"
         },
         {
          "t": 68,
          "value": 107.18323778128534,
          "variable": "I1"
         },
         {
          "t": 69,
          "value": 113.38661981942495,
          "variable": "I1"
         },
         {
          "t": 70,
          "value": 119.94888938830631,
          "variable": "I1"
         },
         {
          "t": 71,
          "value": 126.89080310257714,
          "variable": "I1"
         },
         {
          "t": 72,
          "value": 134.2343161674971,
          "variable": "I1"
         },
         {
          "t": 73,
          "value": 142.00265148866754,
          "variable": "I1"
         },
         {
          "t": 74,
          "value": 150.22037274121828,
          "variable": "I1"
         },
         {
          "t": 75,
          "value": 158.9134616236731,
          "variable": "I1"
         },
         {
          "t": 76,
          "value": 168.10939953418313,
          "variable": "I1"
         },
         {
          "t": 77,
          "value": 177.83725391994687,
          "variable": "I1"
         },
         {
          "t": 78,
          "value": 188.12776956446322,
          "variable": "I1"
         },
         {
          "t": 79,
          "value": 199.0134650918149,
          "variable": "I1"
         },
         {
          "t": 80,
          "value": 336.19520058193007,
          "variable": "I1"
         },
         {
          "t": 81,
          "value": 440.47120539951277,
          "variable": "I1"
         },
         {
          "t": 82,
          "value": 523.2110368880193,
          "variable": "I1"
         },
         {
          "t": 83,
          "value": 585.9022910526039,
          "variable": "I1"
         },
         {
          "t": 84,
          "value": 630.817688034241,
          "variable": "I1"
         },
         {
          "t": 85,
          "value": 660.6026658525541,
          "variable": "I1"
         },
         {
          "t": 86,
          "value": 677.8397124145558,
          "variable": "I1"
         },
         {
          "t": 87,
          "value": 684.8607097021697,
          "variable": "I1"
         },
         {
          "t": 88,
          "value": 683.6890945512193,
          "variable": "I1"
         },
         {
          "t": 89,
          "value": 676.0415361623642,
          "variable": "I1"
         },
         {
          "t": 90,
          "value": 663.3543678068647,
          "variable": "I1"
         },
         {
          "t": 91,
          "value": 646.8181867885162,
          "variable": "I1"
         },
         {
          "t": 92,
          "value": 627.41301692619,
          "variable": "I1"
         },
         {
          "t": 93,
          "value": 605.9408063613004,
          "variable": "I1"
         },
         {
          "t": 94,
          "value": 583.0541287079529,
          "variable": "I1"
         },
         {
          "t": 95,
          "value": 559.2809245661842,
          "variable": "I1"
         },
         {
          "t": 96,
          "value": 535.0455391978873,
          "variable": "I1"
         },
         {
          "t": 97,
          "value": 510.6864665699717,
          "variable": "I1"
         },
         {
          "t": 98,
          "value": 486.4712411534911,
          "variable": "I1"
         },
         {
          "t": 99,
          "value": 462.6088959375584,
          "variable": "I1"
         },
         {
          "t": 100,
          "value": 439.26036140154247,
          "variable": "I1"
         },
         {
          "t": 101,
          "value": 416.5471313302183,
          "variable": "I1"
         },
         {
          "t": 102,
          "value": 394.55847432048984,
          "variable": "I1"
         },
         {
          "t": 103,
          "value": 373.3574273831051,
          "variable": "I1"
         },
         {
          "t": 104,
          "value": 352.9857709740088,
          "variable": "I1"
         },
         {
          "t": 105,
          "value": 333.4681529893602,
          "variable": "I1"
         },
         {
          "t": 106,
          "value": 314.8155022521356,
          "variable": "I1"
         },
         {
          "t": 107,
          "value": 297.02784921846944,
          "variable": "I1"
         },
         {
          "t": 108,
          "value": 280.0966524501945,
          "variable": "I1"
         },
         {
          "t": 109,
          "value": 264.0067132958982,
          "variable": "I1"
         },
         {
          "t": 110,
          "value": 248.73774771960484,
          "variable": "I1"
         },
         {
          "t": 111,
          "value": 234.26567290283995,
          "variable": "I1"
         },
         {
          "t": 112,
          "value": 220.56365677205412,
          "variable": "I1"
         },
         {
          "t": 113,
          "value": 207.60297067286933,
          "variable": "I1"
         },
         {
          "t": 114,
          "value": 195.35367877570286,
          "variable": "I1"
         },
         {
          "t": 115,
          "value": 183.78519224421393,
          "variable": "I1"
         },
         {
          "t": 116,
          "value": 172.86671155262283,
          "variable": "I1"
         },
         {
          "t": 117,
          "value": 162.56757645263642,
          "variable": "I1"
         },
         {
          "t": 118,
          "value": 152.85753984175267,
          "variable": "I1"
         },
         {
          "t": 119,
          "value": 143.70697906845533,
          "variable": "I1"
         },
         {
          "t": 120,
          "value": 135.08705593943665,
          "variable": "I1"
         },
         {
          "t": 121,
          "value": 126.96983479678663,
          "variable": "I1"
         },
         {
          "t": 122,
          "value": 119.3283664481874,
          "variable": "I1"
         },
         {
          "t": 123,
          "value": 112.1367444095601,
          "variable": "I1"
         },
         {
          "t": 124,
          "value": 105.37013881465477,
          "variable": "I1"
         },
         {
          "t": 125,
          "value": 99.00481242400781,
          "variable": "I1"
         },
         {
          "t": 126,
          "value": 93.01812239660117,
          "variable": "I1"
         },
         {
          "t": 127,
          "value": 87.38851084639809,
          "variable": "I1"
         },
         {
          "t": 128,
          "value": 82.09548667173459,
          "variable": "I1"
         },
         {
          "t": 129,
          "value": 77.11960070076883,
          "variable": "I1"
         },
         {
          "t": 130,
          "value": 72.44241582614242,
          "variable": "I1"
         },
         {
          "t": 131,
          "value": 68.04647349440029,
          "variable": "I1"
         },
         {
          "t": 132,
          "value": 63.91525766026114,
          "variable": "I1"
         },
         {
          "t": 133,
          "value": 60.03315710392558,
          "variable": "I1"
         },
         {
          "t": 134,
          "value": 56.385426834051685,
          "variable": "I1"
         },
         {
          "t": 135,
          "value": 52.95814915379826,
          "variable": "I1"
         },
         {
          "t": 136,
          "value": 49.738194847395555,
          "variable": "I1"
         },
         {
          "t": 137,
          "value": 46.713184845841,
          "variable": "I1"
         },
         {
          "t": 138,
          "value": 43.87145264901168,
          "variable": "I1"
         },
         {
          "t": 139,
          "value": 41.20200771479312,
          "variable": "I1"
         },
         {
          "t": 140,
          "value": 38.69449997128519,
          "variable": "I1"
         },
         {
          "t": 141,
          "value": 36.33918556370601,
          "variable": "I1"
         },
         {
          "t": 142,
          "value": 34.12689391155786,
          "variable": "I1"
         },
         {
          "t": 143,
          "value": 32.133938579039466,
          "variable": "I1"
         },
         {
          "t": 144,
          "value": 30.3746271900895,
          "variable": "I1"
         },
         {
          "t": 145,
          "value": 28.83262901858867,
          "variable": "I1"
         },
         {
          "t": 146,
          "value": 27.48268584541104,
          "variable": "I1"
         },
         {
          "t": 147,
          "value": 26.29915189475912,
          "variable": "I1"
         },
         {
          "t": 148,
          "value": 25.25870986873189,
          "variable": "I1"
         },
         {
          "t": 149,
          "value": 24.3409644496382,
          "variable": "I1"
         },
         {
          "t": 150,
          "value": 23.5283370625384,
          "variable": "I1"
         },
         {
          "t": 151,
          "value": 22.80576395407258,
          "variable": "I1"
         },
         {
          "t": 152,
          "value": 22.160365639129925,
          "variable": "I1"
         },
         {
          "t": 153,
          "value": 21.58113983763938,
          "variable": "I1"
         },
         {
          "t": 154,
          "value": 21.0586908776684,
          "variable": "I1"
         },
         {
          "t": 155,
          "value": 20.584995834814215,
          "variable": "I1"
         },
         {
          "t": 156,
          "value": 20.153203942702575,
          "variable": "I1"
         },
         {
          "t": 157,
          "value": 19.757465054458844,
          "variable": "I1"
         },
         {
          "t": 158,
          "value": 19.39278312212969,
          "variable": "I1"
         },
         {
          "t": 159,
          "value": 19.054891104712926,
          "variable": "I1"
         },
         {
          "t": 160,
          "value": 18.740144191096018,
          "variable": "I1"
         },
         {
          "t": 161,
          "value": 18.445428663264416,
          "variable": "I1"
         },
         {
          "t": 162,
          "value": 18.168084111174277,
          "variable": "I1"
         },
         {
          "t": 163,
          "value": 17.90583704401474,
          "variable": "I1"
         },
         {
          "t": 164,
          "value": 17.656744228392757,
          "variable": "I1"
         },
         {
          "t": 165,
          "value": 17.419144328354403,
          "variable": "I1"
         },
         {
          "t": 166,
          "value": 17.191616630883455,
          "variable": "I1"
         },
         {
          "t": 167,
          "value": 16.972945818714667,
          "variable": "I1"
         },
         {
          "t": 168,
          "value": 16.762091904403576,
          "variable": "I1"
         },
         {
          "t": 169,
          "value": 16.558164569418757,
          "variable": "I1"
         },
         {
          "t": 170,
          "value": 16.36040126282643,
          "variable": "I1"
         },
         {
          "t": 171,
          "value": 16.168148508706743,
          "variable": "I1"
         },
         {
          "t": 172,
          "value": 15.980845952154304,
          "variable": "I1"
         },
         {
          "t": 173,
          "value": 15.810849651239765,
          "variable": "I1"
         },
         {
          "t": 174,
          "value": 15.661785464446087,
          "variable": "I1"
         },
         {
          "t": 175,
          "value": 15.532810400927106,
          "variable": "I1"
         },
         {
          "t": 176,
          "value": 15.421717415919751,
          "variable": "I1"
         },
         {
          "t": 177,
          "value": 15.326129616770157,
          "variable": "I1"
         },
         {
          "t": 178,
          "value": 15.243863174583675,
          "variable": "I1"
         },
         {
          "t": 179,
          "value": 15.173005574754377,
          "variable": "I1"
         },
         {
          "t": 180,
          "value": 15.11190830452831,
          "variable": "I1"
         },
         {
          "t": 181,
          "value": 15.059158004353957,
          "variable": "I1"
         },
         {
          "t": 182,
          "value": 15.013545111175244,
          "variable": "I1"
         },
         {
          "t": 183,
          "value": 14.974035099650315,
          "variable": "I1"
         },
         {
          "t": 184,
          "value": 14.939743331328561,
          "variable": "I1"
         },
         {
          "t": 185,
          "value": 14.909913389337722,
          "variable": "I1"
         },
         {
          "t": 186,
          "value": 14.883898508136237,
          "variable": "I1"
         },
         {
          "t": 187,
          "value": 14.861145682403368,
          "variable": "I1"
         },
         {
          "t": 188,
          "value": 14.84118207598848,
          "variable": "I1"
         },
         {
          "t": 189,
          "value": 14.82360340012228,
          "variable": "I1"
         },
         {
          "t": 190,
          "value": 14.808063976153754,
          "variable": "I1"
         },
         {
          "t": 191,
          "value": 14.79426823881774,
          "variable": "I1"
         },
         {
          "t": 192,
          "value": 14.781963471258168,
          "variable": "I1"
         },
         {
          "t": 193,
          "value": 14.770933593255153,
          "variable": "I1"
         },
         {
          "t": 194,
          "value": 14.76099384997683,
          "variable": "I1"
         },
         {
          "t": 195,
          "value": 14.75198627070738,
          "variable": "I1"
         },
         {
          "t": 196,
          "value": 14.743775785927443,
          "variable": "I1"
         },
         {
          "t": 197,
          "value": 14.736246907305086,
          "variable": "I1"
         },
         {
          "t": 198,
          "value": 14.729300888991663,
          "variable": "I1"
         },
         {
          "t": 199,
          "value": 14.722853300447369,
          "variable": "I1"
         },
         {
          "t": 200,
          "value": 14.716831951136637,
          "variable": "I1"
         },
         {
          "t": 201,
          "value": 14.711175116082451,
          "variable": "I1"
         },
         {
          "t": 202,
          "value": 14.705830018663809,
          "variable": "I1"
         },
         {
          "t": 203,
          "value": 14.700751533363517,
          "variable": "I1"
         },
         {
          "t": 204,
          "value": 14.695901076579908,
          "variable": "I1"
         },
         {
          "t": 205,
          "value": 14.69124565823871,
          "variable": "I1"
         },
         {
          "t": 206,
          "value": 14.686757070893648,
          "variable": "I1"
         },
         {
          "t": 207,
          "value": 14.68241119638397,
          "variable": "I1"
         },
         {
          "t": 208,
          "value": 14.678187413006516,
          "variable": "I1"
         },
         {
          "t": 209,
          "value": 14.674068088630632,
          "variable": "I1"
         },
         {
          "t": 210,
          "value": 14.670038147296756,
          "variable": "I1"
         },
         {
          "t": 211,
          "value": 14.666084698645614,
          "variable": "I1"
         },
         {
          "t": 212,
          "value": 14.662196721069458,
          "variable": "I1"
         },
         {
          "t": 213,
          "value": 14.658364790797197,
          "variable": "I1"
         },
         {
          "t": 214,
          "value": 14.654580850254312,
          "variable": "I1"
         },
         {
          "t": 215,
          "value": 14.650838010003895,
          "variable": "I1"
         },
         {
          "t": 216,
          "value": 14.647130379400483,
          "variable": "I1"
         },
         {
          "t": 217,
          "value": 14.643452921794188,
          "variable": "I1"
         },
         {
          "t": 218,
          "value": 14.639801330726032,
          "variable": "I1"
         },
         {
          "t": 219,
          "value": 14.636171924071373,
          "variable": "I1"
         },
         {
          "t": 220,
          "value": 14.63256155352947,
          "variable": "I1"
         },
         {
          "t": 221,
          "value": 14.628967527234439,
          "variable": "I1"
         },
         {
          "t": 222,
          "value": 14.625387543585378,
          "variable": "I1"
         },
         {
          "t": 223,
          "value": 14.621819634669219,
          "variable": "I1"
         },
         {
          "t": 224,
          "value": 14.61826211788561,
          "variable": "I1"
         },
         {
          "t": 225,
          "value": 14.614713554584807,
          "variable": "I1"
         },
         {
          "t": 226,
          "value": 14.611172714701866,
          "variable": "I1"
         },
         {
          "t": 227,
          "value": 14.607638546517855,
          "variable": "I1"
         },
         {
          "t": 228,
          "value": 14.604110150804816,
          "variable": "I1"
         },
         {
          "t": 229,
          "value": 14.600586758718961,
          "variable": "I1"
         },
         {
          "t": 230,
          "value": 14.597067712898715,
          "variable": "I1"
         },
         {
          "t": 231,
          "value": 14.59355245130299,
          "variable": "I1"
         },
         {
          "t": 232,
          "value": 14.590040493392452,
          "variable": "I1"
         },
         {
          "t": 233,
          "value": 14.586531428314098,
          "variable": "I1"
         },
         {
          "t": 234,
          "value": 14.583024904798732,
          "variable": "I1"
         },
         {
          "t": 235,
          "value": 14.579520622523006,
          "variable": "I1"
         },
         {
          "t": 236,
          "value": 14.576018324723732,
          "variable": "I1"
         },
         {
          "t": 237,
          "value": 14.572517791882879,
          "variable": "I1"
         },
         {
          "t": 238,
          "value": 14.569018836328102,
          "variable": "I1"
         },
         {
          "t": 239,
          "value": 14.565521297615998,
          "variable": "I1"
         },
         {
          "t": 240,
          "value": 14.562025038584675,
          "variable": "I1"
         },
         {
          "t": 241,
          "value": 14.558529941978597,
          "variable": "I1"
         },
         {
          "t": 242,
          "value": 14.555035907562699,
          "variable": "I1"
         },
         {
          "t": 243,
          "value": 14.551542849654899,
          "variable": "I1"
         },
         {
          "t": 244,
          "value": 14.54805069501631,
          "variable": "I1"
         },
         {
          "t": 245,
          "value": 14.544559381047312,
          "variable": "I1"
         },
         {
          "t": 246,
          "value": 14.541068854245157,
          "variable": "I1"
         },
         {
          "t": 247,
          "value": 14.537579068885147,
          "variable": "I1"
         },
         {
          "t": 248,
          "value": 14.534089985893027,
          "variable": "I1"
         },
         {
          "t": 249,
          "value": 14.53060157188084,
          "variable": "I1"
         },
         {
          "t": 250,
          "value": 14.527113798322564,
          "variable": "I1"
         },
         {
          "t": 251,
          "value": 14.523626640849235,
          "variable": "I1"
         },
         {
          "t": 252,
          "value": 14.520140078646287,
          "variable": "I1"
         },
         {
          "t": 253,
          "value": 14.516654093938238,
          "variable": "I1"
         },
         {
          "t": 254,
          "value": 14.51316867154809,
          "variable": "I1"
         },
         {
          "t": 255,
          "value": 14.509683798520609,
          "variable": "I1"
         },
         {
          "t": 256,
          "value": 14.506199463800197,
          "variable": "I1"
         },
         {
          "t": 257,
          "value": 14.502715657955495,
          "variable": "I1"
         },
         {
          "t": 258,
          "value": 14.499232372943885,
          "variable": "I1"
         },
         {
          "t": 259,
          "value": 14.49574960191014,
          "variable": "I1"
         },
         {
          "t": 260,
          "value": 14.492267339014271,
          "variable": "I1"
         },
         {
          "t": 261,
          "value": 14.488785579284325,
          "variable": "I1"
         },
         {
          "t": 262,
          "value": 14.485304318490517,
          "variable": "I1"
         },
         {
          "t": 263,
          "value": 14.481823553037623,
          "variable": "I1"
         },
         {
          "t": 264,
          "value": 14.478343279872965,
          "variable": "I1"
         },
         {
          "t": 265,
          "value": 14.474863496407732,
          "variable": "I1"
         },
         {
          "t": 266,
          "value": 14.47138420044971,
          "variable": "I1"
         },
         {
          "t": 267,
          "value": 14.467905390145782,
          "variable": "I1"
         },
         {
          "t": 268,
          "value": 14.464427063932725,
          "variable": "I1"
         },
         {
          "t": 269,
          "value": 14.460949220495174,
          "variable": "I1"
         },
         {
          "t": 270,
          "value": 14.45747185872967,
          "variable": "I1"
         },
         {
          "t": 271,
          "value": 14.453994977713919,
          "variable": "I1"
         },
         {
          "t": 272,
          "value": 14.450518576680498,
          "variable": "I1"
         },
         {
          "t": 273,
          "value": 14.447042654994394,
          "variable": "I1"
         },
         {
          "t": 274,
          "value": 14.443567212133779,
          "variable": "I1"
         },
         {
          "t": 275,
          "value": 14.440092247673583,
          "variable": "I1"
         },
         {
          "t": 276,
          "value": 14.43661776127145,
          "variable": "I1"
         },
         {
          "t": 277,
          "value": 14.433143752655715,
          "variable": "I1"
         },
         {
          "t": 278,
          "value": 14.429670221615147,
          "variable": "I1"
         },
         {
          "t": 279,
          "value": 14.426197167990162,
          "variable": "I1"
         },
         {
          "t": 280,
          "value": 14.42272459166531,
          "variable": "I1"
         },
         {
          "t": 281,
          "value": 14.419252492562862,
          "variable": "I1"
         },
         {
          "t": 282,
          "value": 14.41578087063732,
          "variable": "I1"
         },
         {
          "t": 283,
          "value": 14.412309725870719,
          "variable": "I1"
         },
         {
          "t": 284,
          "value": 14.408839058268619,
          "variable": "I1"
         },
         {
          "t": 285,
          "value": 14.405368867856671,
          "variable": "I1"
         },
         {
          "t": 286,
          "value": 14.401899154677684,
          "variable": "I1"
         },
         {
          "t": 287,
          "value": 14.398429918789121,
          "variable": "I1"
         },
         {
          "t": 288,
          "value": 14.394961160260944,
          "variable": "I1"
         },
         {
          "t": 289,
          "value": 14.39149287917379,
          "variable": "I1"
         },
         {
          "t": 290,
          "value": 14.388025075617394,
          "variable": "I1"
         },
         {
          "t": 291,
          "value": 14.384557749689261,
          "variable": "I1"
         },
         {
          "t": 292,
          "value": 14.38109090149351,
          "variable": "I1"
         },
         {
          "t": 293,
          "value": 14.377624531139892,
          "variable": "I1"
         },
         {
          "t": 294,
          "value": 14.374158638742962,
          "variable": "I1"
         },
         {
          "t": 295,
          "value": 14.37069322442135,
          "variable": "I1"
         },
         {
          "t": 296,
          "value": 14.367228288297163,
          "variable": "I1"
         },
         {
          "t": 297,
          "value": 14.363763830495445,
          "variable": "I1"
         },
         {
          "t": 298,
          "value": 14.360299851143743,
          "variable": "I1"
         },
         {
          "t": 299,
          "value": 14.356836350371717,
          "variable": "I1"
         },
         {
          "t": 0,
          "value": 0,
          "variable": "P"
         },
         {
          "t": 1,
          "value": 5,
          "variable": "P"
         },
         {
          "t": 2,
          "value": 3.7500000000000004,
          "variable": "P"
         },
         {
          "t": 3,
          "value": 2.8586821505541873,
          "variable": "P"
         },
         {
          "t": 4,
          "value": 2.4865292216167423,
          "variable": "P"
         },
         {
          "t": 5,
          "value": 2.3875280402364205,
          "variable": "P"
         },
         {
          "t": 6,
          "value": 2.4173424712040625,
          "variable": "P"
         },
         {
          "t": 7,
          "value": 2.5086330924468823,
          "variable": "P"
         },
         {
          "t": 8,
          "value": 2.6316031044339434,
          "variable": "P"
         },
         {
          "t": 9,
          "value": 2.773377689710124,
          "variable": "P"
         },
         {
          "t": 10,
          "value": 2.928573742593234,
          "variable": "P"
         },
         {
          "t": 11,
          "value": 3.095118326438631,
          "variable": "P"
         },
         {
          "t": 12,
          "value": 3.2724094987897923,
          "variable": "P"
         },
         {
          "t": 13,
          "value": 3.4605095843569624,
          "variable": "P"
         },
         {
          "t": 14,
          "value": 3.659792089423325,
          "variable": "P"
         },
         {
          "t": 15,
          "value": 3.87078780899753,
          "variable": "P"
         },
         {
          "t": 16,
          "value": 4.094118419988745,
          "variable": "P"
         },
         {
          "t": 17,
          "value": 4.330468538607105,
          "variable": "P"
         },
         {
          "t": 18,
          "value": 4.580574733080952,
          "variable": "P"
         },
         {
          "t": 19,
          "value": 4.845222056798688,
          "variable": "P"
         },
         {
          "t": 20,
          "value": 5.125243965623244,
          "variable": "P"
         },
         {
          "t": 21,
          "value": 5.42152380856655,
          "variable": "P"
         },
         {
          "t": 22,
          "value": 5.734997101763989,
          "variable": "P"
         },
         {
          "t": 23,
          "value": 6.066654243933547,
          "variable": "P"
         },
         {
          "t": 24,
          "value": 6.4175435285352975,
          "variable": "P"
         },
         {
          "t": 25,
          "value": 6.788774394654595,
          "variable": "P"
         },
         {
          "t": 26,
          "value": 7.181520897087185,
          "variable": "P"
         },
         {
          "t": 27,
          "value": 7.597025393357493,
          "variable": "P"
         },
         {
          "t": 28,
          "value": 8.036602453368513,
          "variable": "P"
         },
         {
          "t": 29,
          "value": 8.501643001292969,
          "variable": "P"
         },
         {
          "t": 30,
          "value": 8.993618701467748,
          "variable": "P"
         },
         {
          "t": 31,
          "value": 9.514086601455874,
          "variable": "P"
         },
         {
          "t": 32,
          "value": 10.064694046537399,
          "variable": "P"
         },
         {
          "t": 33,
          "value": 10.647183880878677,
          "variable": "P"
         },
         {
          "t": 34,
          "value": 11.263399951596996,
          "variable": "P"
         },
         {
          "t": 35,
          "value": 11.915292932924427,
          "variable": "P"
         },
         {
          "t": 36,
          "value": 12.604926488700695,
          "variable": "P"
         },
         {
          "t": 37,
          "value": 13.334483792500299,
          "variable": "P"
         },
         {
          "t": 38,
          "value": 14.106274425830417,
          "variable": "P"
         },
         {
          "t": 39,
          "value": 14.922741676028506,
          "variable": "P"
         },
         {
          "t": 40,
          "value": 15.786470256745956,
          "variable": "P"
         },
         {
          "t": 41,
          "value": 16.70019447523098,
          "variable": "P"
         },
         {
          "t": 42,
          "value": 17.666806872024413,
          "variable": "P"
         },
         {
          "t": 43,
          "value": 18.689367360160144,
          "variable": "P"
         },
         {
          "t": 44,
          "value": 19.771112892522513,
          "variable": "P"
         },
         {
          "t": 45,
          "value": 20.91546768766037,
          "variable": "P"
         },
         {
          "t": 46,
          "value": 22.126054046096964,
          "variable": "P"
         },
         {
          "t": 47,
          "value": 23.406703791011026,
          "variable": "P"
         },
         {
          "t": 48,
          "value": 24.761470369103282,
          "variable": "P"
         },
         {
          "t": 49,
          "value": 26.194641649509368,
          "variable": "P"
         },
         {
          "t": 50,
          "value": 27.71075346078091,
          "variable": "P"
         },
         {
          "t": 51,
          "value": 29.31460390823749,
          "variable": "P"
         },
         {
          "t": 52,
          "value": 31.011268516399806,
          "variable": "P"
         },
         {
          "t": 53,
          "value": 32.80611624375548,
          "variable": "P"
         },
         {
          "t": 54,
          "value": 34.70482641979083,
          "variable": "P"
         },
         {
          "t": 55,
          "value": 36.71340665705155,
          "variable": "P"
         },
         {
          "t": 56,
          "value": 38.83821179398131,
          "variable": "P"
         },
         {
          "t": 57,
          "value": 41.08596392743685,
          "variable": "P"
         },
         {
          "t": 58,
          "value": 43.4637735971008,
          "variable": "P"
         },
         {
          "t": 59,
          "value": 45.97916218751716,
          "variable": "P"
         },
         {
          "t": 60,
          "value": 48.64008561716934,
          "variable": "P"
         },
         {
          "t": 61,
          "value": 51.45495938791529,
          "variable": "P"
         },
         {
          "t": 62,
          "value": 54.43268507220042,
          "variable": "P"
         },
         {
          "t": 63,
          "value": 57.58267831979486,
          "variable": "P"
         },
         {
          "t": 64,
          "value": 60.91489847036019,
          "variable": "P"
         },
         {
          "t": 65,
          "value": 64.43987986295184,
          "variable": "P"
         },
         {
          "t": 66,
          "value": 68.16876493861895,
          "variable": "P"
         },
         {
          "t": 67,
          "value": 72.11333923758606,
          "variable": "P"
         },
         {
          "t": 68,
          "value": 76.28606839810206,
          "variable": "P"
         },
         {
          "t": 69,
          "value": 80.70013726993477,
          "variable": "P"
         },
         {
          "t": 70,
          "value": 85.36949126168727,
          "variable": "P"
         },
         {
          "t": 71,
          "value": 90.30888004762777,
          "variable": "P"
         },
         {
          "t": 72,
          "value": 95.53390376657185,
          "variable": "P"
         },
         {
          "t": 73,
          "value": 101.0610618525494,
          "variable": "P"
         },
         {
          "t": 74,
          "value": 106.90780464454,
          "variable": "P"
         },
         {
          "t": 75,
          "value": 113.09258793048772,
          "variable": "P"
         },
         {
          "t": 76,
          "value": 119.63493058911882,
          "variable": "P"
         },
         {
          "t": 77,
          "value": 126.55547550180209,
          "variable": "P"
         },
         {
          "t": 78,
          "value": 133.8760539158228,
          "variable": "P"
         },
         {
          "t": 79,
          "value": 141.61975345000215,
          "variable": "P"
         },
         {
          "t": 80,
          "value": 149.81098994359647,
          "variable": "P"
         },
         {
          "t": 81,
          "value": 130.80517881856647,
          "variable": "P"
         },
         {
          "t": 82,
          "value": 114.987931270496,
          "variable": "P"
         },
         {
          "t": 83,
          "value": 102.2242178359174,
          "variable": "P"
         },
         {
          "t": 84,
          "value": 91.61004078926413,
          "variable": "P"
         },
         {
          "t": 85,
          "value": 82.57458735409354,
          "variable": "P"
         },
         {
          "t": 86,
          "value": 74.76045360953141,
          "variable": "P"
         },
         {
          "t": 87,
          "value": 67.92930394783086,
          "variable": "P"
         },
         {
          "t": 88,
          "value": 61.911436848918946,
          "variable": "P"
         },
         {
          "t": 89,
          "value": 56.57906982817995,
          "variable": "P"
         },
         {
          "t": 90,
          "value": 51.83178300865513,
          "variable": "P"
         },
         {
          "t": 91,
          "value": 47.588236340331925,
          "variable": "P"
         },
         {
          "t": 92,
          "value": 43.78118431806848,
          "variable": "P"
         },
         {
          "t": 93,
          "value": 40.354274291770025,
          "variable": "P"
         },
         {
          "t": 94,
          "value": 37.25984976101546,
          "variable": "P"
         },
         {
          "t": 95,
          "value": 34.45735114336087,
          "variable": "P"
         },
         {
          "t": 96,
          "value": 31.912094971120855,
          "variable": "P"
         },
         {
          "t": 97,
          "value": 29.594309164745322,
          "variable": "P"
         },
         {
          "t": 98,
          "value": 27.47835244726156,
          "variable": "P"
         },
         {
          "t": 99,
          "value": 25.54207291046975,
          "variable": "P"
         },
         {
          "t": 100,
          "value": 23.76627567481333,
          "variable": "P"
         },
         {
          "t": 101,
          "value": 22.134278273072507,
          "variable": "P"
         },
         {
          "t": 102,
          "value": 20.63153775695904,
          "variable": "P"
         },
         {
          "t": 103,
          "value": 19.245337069034022,
          "variable": "P"
         },
         {
          "t": 104,
          "value": 17.964520713794297,
          "variable": "P"
         },
         {
          "t": 105,
          "value": 16.779271610631547,
          "variable": "P"
         },
         {
          "t": 106,
          "value": 15.680922441233484,
          "variable": "P"
         },
         {
          "t": 107,
          "value": 14.661795942497896,
          "variable": "P"
         },
         {
          "t": 108,
          "value": 13.715069520259412,
          "variable": "P"
         },
         {
          "t": 109,
          "value": 12.834660318757665,
          "variable": "P"
         },
         {
          "t": 110,
          "value": 12.015127509960692,
          "variable": "P"
         },
         {
          "t": 111,
          "value": 11.251589090485952,
          "variable": "P"
         },
         {
          "t": 112,
          "value": 10.539650910917947,
          "variable": "P"
         },
         {
          "t": 113,
          "value": 9.875346027778068,
          "variable": "P"
         },
         {
          "t": 114,
          "value": 9.255082774334928,
          "variable": "P"
         },
         {
          "t": 115,
          "value": 8.675600202735305,
          "variable": "P"
         },
         {
          "t": 116,
          "value": 8.133929764749533,
          "variable": "P"
         },
         {
          "t": 117,
          "value": 7.6273622785402075,
          "variable": "P"
         },
         {
          "t": 118,
          "value": 7.153419379929824,
          "variable": "P"
         },
         {
          "t": 119,
          "value": 6.709828783380185,
          "variable": "P"
         },
         {
          "t": 120,
          "value": 6.2945027842498735,
          "variable": "P"
         },
         {
          "t": 121,
          "value": 5.905519523168041,
          "variable": "P"
         },
         {
          "t": 122,
          "value": 5.541106608317661,
          "variable": "P"
         },
         {
          "t": 123,
          "value": 5.19962675437469,
          "variable": "P"
         },
         {
          "t": 124,
          "value": 4.879565149740657,
          "variable": "P"
         },
         {
          "t": 125,
          "value": 4.579518308159902,
          "variable": "P"
         },
         {
          "t": 126,
          "value": 4.298184198190294,
          "variable": "P"
         },
         {
          "t": 127,
          "value": 4.034353475438608,
          "variable": "P"
         },
         {
          "t": 128,
          "value": 3.786901668934587,
          "variable": "P"
         },
         {
          "t": 129,
          "value": 3.5547821953023444,
          "variable": "P"
         },
         {
          "t": 130,
          "value": 3.337020093165406,
          "variable": "P"
         },
         {
          "t": 131,
          "value": 3.1327063860553968,
          "variable": "P"
         },
         {
          "t": 132,
          "value": 2.9409929954557117,
          "variable": "P"
         },
         {
          "t": 133,
          "value": 2.7610881368961717,
          "variable": "P"
         },
         {
          "t": 134,
          "value": 2.592252141554223,
          "variable": "P"
         },
         {
          "t": 135,
          "value": 2.433793653890869,
          "variable": "P"
         },
         {
          "t": 136,
          "value": 2.2850661626884605,
          "variable": "P"
         },
         {
          "t": 137,
          "value": 2.145464828658388,
          "variable": "P"
         },
         {
          "t": 138,
          "value": 2.014423576713861,
          "variable": "P"
         },
         {
          "t": 139,
          "value": 1.8914124251940072,
          "variable": "P"
         },
         {
          "t": 140,
          "value": 1.775935027896212,
          "variable": "P"
         },
         {
          "t": 141,
          "value": 2.0450484368321775,
          "variable": "P"
         },
         {
          "t": 142,
          "value": 2.203386574994398,
          "variable": "P"
         },
         {
          "t": 143,
          "value": 2.2842616931741375,
          "variable": "P"
         },
         {
          "t": 144,
          "value": 2.3283607071700496,
          "variable": "P"
         },
         {
          "t": 145,
          "value": 2.354416964574873,
          "variable": "P"
         },
         {
          "t": 146,
          "value": 2.370121269215498,
          "variable": "P"
         },
         {
          "t": 147,
          "value": 2.3788052553406005,
          "variable": "P"
         },
         {
          "t": 148,
          "value": 2.382152442723822,
          "variable": "P"
         },
         {
          "t": 149,
          "value": 2.381195483243588,
          "variable": "P"
         },
         {
          "t": 150,
          "value": 2.3766763420341777,
          "variable": "P"
         },
         {
          "t": 151,
          "value": 2.369180258261516,
          "variable": "P"
         },
         {
          "t": 152,
          "value": 2.3591900407013506,
          "variable": "P"
         },
         {
          "t": 153,
          "value": 2.3471117948995985,
          "variable": "P"
         },
         {
          "t": 154,
          "value": 2.3332898269054985,
          "variable": "P"
         },
         {
          "t": 155,
          "value": 2.318016952675224,
          "variable": "P"
         },
         {
          "t": 156,
          "value": 2.3015424735503216,
          "variable": "P"
         },
         {
          "t": 157,
          "value": 2.284078701966283,
          "variable": "P"
         },
         {
          "t": 158,
          "value": 2.2658064349642073,
          "variable": "P"
         },
         {
          "t": 159,
          "value": 2.246879592894607,
          "variable": "P"
         },
         {
          "t": 160,
          "value": 2.2274291672162496,
          "variable": "P"
         },
         {
          "t": 161,
          "value": 2.207566585992821,
          "variable": "P"
         },
         {
          "t": 162,
          "value": 2.1873865849240866,
          "variable": "P"
         },
         {
          "t": 163,
          "value": 2.1669696572211667,
          "variable": "P"
         },
         {
          "t": 164,
          "value": 2.1463841443283096,
          "variable": "P"
         },
         {
          "t": 165,
          "value": 2.1256880202156676,
          "variable": "P"
         },
         {
          "t": 166,
          "value": 2.1049304141763283,
          "variable": "P"
         },
         {
          "t": 167,
          "value": 2.084152910454604,
          "variable": "P"
         },
         {
          "t": 168,
          "value": 2.0633906574091516,
          "variable": "P"
         },
         {
          "t": 169,
          "value": 2.042673314120058,
          "variable": "P"
         },
         {
          "t": 170,
          "value": 2.0220258582588313,
          "variable": "P"
         },
         {
          "t": 171,
          "value": 2.0585222028270476,
          "variable": "P"
         },
         {
          "t": 172,
          "value": 2.0802719096764277,
          "variable": "P"
         },
         {
          "t": 173,
          "value": 2.0915087002341224,
          "variable": "P"
         },
         {
          "t": 174,
          "value": 2.0981142404913573,
          "variable": "P"
         },
         {
          "t": 175,
          "value": 2.1026978011545054,
          "variable": "P"
         },
         {
          "t": 176,
          "value": 2.1062327037419126,
          "variable": "P"
         },
         {
          "t": 177,
          "value": 2.1090880754353716,
          "variable": "P"
         },
         {
          "t": 178,
          "value": 2.111428457109991,
          "variable": "P"
         },
         {
          "t": 179,
          "value": 2.113348050600682,
          "variable": "P"
         },
         {
          "t": 180,
          "value": 2.114913552527593,
          "variable": "P"
         },
         {
          "t": 181,
          "value": 2.116177943085939,
          "variable": "P"
         },
         {
          "t": 182,
          "value": 2.117185352970109,
          "variable": "P"
         },
         {
          "t": 183,
          "value": 2.1179731801457966,
          "variable": "P"
         },
         {
          "t": 184,
          "value": 2.1185733053841154,
          "variable": "P"
         },
         {
          "t": 185,
          "value": 2.1190129604953807,
          "variable": "P"
         },
         {
          "t": 186,
          "value": 2.1193154217597283,
          "variable": "P"
         },
         {
          "t": 187,
          "value": 2.1195005888909817,
          "variable": "P"
         },
         {
          "t": 188,
          "value": 2.119585476107391,
          "variable": "P"
         },
         {
          "t": 189,
          "value": 2.119584630888284,
          "variable": "P"
         },
         {
          "t": 190,
          "value": 2.1195104917050336,
          "variable": "P"
         },
         {
          "t": 191,
          "value": 2.1193736938013976,
          "variable": "P"
         },
         {
          "t": 192,
          "value": 2.119183330619121,
          "variable": "P"
         },
         {
          "t": 193,
          "value": 2.118947177317238,
          "variable": "P"
         },
         {
          "t": 194,
          "value": 2.1186718818855317,
          "variable": "P"
         },
         {
          "t": 195,
          "value": 2.118363128551535,
          "variable": "P"
         },
         {
          "t": 196,
          "value": 2.118025777498104,
          "variable": "P"
         },
         {
          "t": 197,
          "value": 2.117663984325958,
          "variable": "P"
         },
         {
          "t": 198,
          "value": 2.1172813021976205,
          "variable": "P"
         },
         {
          "t": 199,
          "value": 2.116880769173447,
          "variable": "P"
         },
         {
          "t": 200,
          "value": 2.116464982886473,
          "variable": "P"
         },
         {
          "t": 201,
          "value": 2.116036164391578,
          "variable": "P"
         },
         {
          "t": 202,
          "value": 2.115596212758377,
          "variable": "P"
         },
         {
          "t": 203,
          "value": 2.1151467517497293,
          "variable": "P"
         },
         {
          "t": 204,
          "value": 2.1146891697332184,
          "variable": "P"
         },
         {
          "t": 205,
          "value": 2.114224653806632,
          "variable": "P"
         },
         {
          "t": 206,
          "value": 2.1137542189762346,
          "variable": "P"
         },
         {
          "t": 207,
          "value": 2.113278733105038,
          "variable": "P"
         },
         {
          "t": 208,
          "value": 2.1127989382443033,
          "variable": "P"
         },
         {
          "t": 209,
          "value": 2.1123154688725854,
          "variable": "P"
         },
         {
          "t": 210,
          "value": 2.1118288674906536,
          "variable": "P"
         },
         {
          "t": 211,
          "value": 2.111339597955599,
          "variable": "P"
         },
         {
          "t": 212,
          "value": 2.110848056881881,
          "variable": "P"
         },
         {
          "t": 213,
          "value": 2.110354583389557,
          "variable": "P"
         },
         {
          "t": 214,
          "value": 2.1098594674393003,
          "variable": "P"
         },
         {
          "t": 215,
          "value": 2.1093629569590804,
          "variable": "P"
         },
         {
          "t": 216,
          "value": 2.1088652639376844,
          "variable": "P"
         },
         {
          "t": 217,
          "value": 2.1083665696348524,
          "variable": "P"
         },
         {
          "t": 218,
          "value": 2.1078670290360972,
          "variable": "P"
         },
         {
          "t": 219,
          "value": 2.1073667746617004,
          "variable": "P"
         },
         {
          "t": 220,
          "value": 2.106865919823518,
          "variable": "P"
         },
         {
          "t": 221,
          "value": 2.1063645614096416,
          "variable": "P"
         },
         {
          "t": 222,
          "value": 2.1058627822653664,
          "variable": "P"
         },
         {
          "t": 223,
          "value": 2.1053606532289866,
          "variable": "P"
         },
         {
          "t": 224,
          "value": 2.104858234872457,
          "variable": "P"
         },
         {
          "t": 225,
          "value": 2.104355578989716,
          "variable": "P"
         },
         {
          "t": 226,
          "value": 2.1038527298692373,
          "variable": "P"
         },
         {
          "t": 227,
          "value": 2.1033497253821034,
          "variable": "P"
         },
         {
          "t": 228,
          "value": 2.1028465979123383,
          "variable": "P"
         },
         {
          "t": 229,
          "value": 2.1023433751523686,
          "variable": "P"
         },
         {
          "t": 230,
          "value": 2.1018400807831665,
          "variable": "P"
         },
         {
          "t": 231,
          "value": 2.1013367350557925,
          "variable": "P"
         },
         {
          "t": 232,
          "value": 2.1008333552886276,
          "variable": "P"
         },
         {
          "t": 233,
          "value": 2.100329956292526,
          "variable": "P"
         },
         {
          "t": 234,
          "value": 2.0998265507343317,
          "variable": "P"
         },
         {
          "t": 235,
          "value": 2.099323149447692,
          "variable": "P"
         },
         {
          "t": 236,
          "value": 2.098819761698818,
          "variable": "P"
         },
         {
          "t": 237,
          "value": 2.098316395413711,
          "variable": "P"
         },
         {
          "t": 238,
          "value": 2.097813057372456,
          "variable": "P"
         },
         {
          "t": 239,
          "value": 2.0973097533753378,
          "variable": "P"
         },
         {
          "t": 240,
          "value": 2.096806488384884,
          "variable": "P"
         },
         {
          "t": 241,
          "value": 2.096303266647312,
          "variable": "P"
         },
         {
          "t": 242,
          "value": 2.095800091796371,
          "variable": "P"
         },
         {
          "t": 243,
          "value": 2.095296966942126,
          "variable": "P"
         },
         {
          "t": 244,
          "value": 2.094793894746878,
          "variable": "P"
         },
         {
          "t": 245,
          "value": 2.0942908774900704,
          "variable": "P"
         },
         {
          "t": 246,
          "value": 2.093787917123791,
          "variable": "P"
         },
         {
          "t": 247,
          "value": 2.0932850153202254,
          "variable": "P"
         },
         {
          "t": 248,
          "value": 2.0927821735122323,
          "variable": "P"
         },
         {
          "t": 249,
          "value": 2.0922793929280354,
          "variable": "P"
         },
         {
          "t": 250,
          "value": 2.091776674620887,
          "variable": "P"
         },
         {
          "t": 251,
          "value": 2.0912740194944295,
          "variable": "P"
         },
         {
          "t": 252,
          "value": 2.090771428324383,
          "variable": "P"
         },
         {
          "t": 253,
          "value": 2.090268901777086,
          "variable": "P"
         },
         {
          "t": 254,
          "value": 2.0897664404253513,
          "variable": "P"
         },
         {
          "t": 255,
          "value": 2.08926404476202,
          "variable": "P"
         },
         {
          "t": 256,
          "value": 2.0887617152115507,
          "variable": "P"
         },
         {
          "t": 257,
          "value": 2.088259452139934,
          "variable": "P"
         },
         {
          "t": 258,
          "value": 2.0877572558631625,
          "variable": "P"
         },
         {
          "t": 259,
          "value": 2.087255126654476,
          "variable": "P"
         },
         {
          "t": 260,
          "value": 2.086753064750558,
          "variable": "P"
         },
         {
          "t": 261,
          "value": 2.0862510703568313,
          "variable": "P"
         },
         {
          "t": 262,
          "value": 2.0857491436519866,
          "variable": "P"
         },
         {
          "t": 263,
          "value": 2.085247284791855,
          "variable": "P"
         },
         {
          "t": 264,
          "value": 2.084745493912721,
          "variable": "P"
         },
         {
          "t": 265,
          "value": 2.0842437711341484,
          "variable": "P"
         },
         {
          "t": 266,
          "value": 2.0837421165614067,
          "variable": "P"
         },
         {
          "t": 267,
          "value": 2.083240530287537,
          "variable": "P"
         },
         {
          "t": 268,
          "value": 2.0827390123951224,
          "variable": "P"
         },
         {
          "t": 269,
          "value": 2.082237562957801,
          "variable": "P"
         },
         {
          "t": 270,
          "value": 2.0817361820415607,
          "variable": "P"
         },
         {
          "t": 271,
          "value": 2.081234869705843,
          "variable": "P"
         },
         {
          "t": 272,
          "value": 2.080733626004492,
          "variable": "P"
         },
         {
          "t": 273,
          "value": 2.080232450986561,
          "variable": "P"
         },
         {
          "t": 274,
          "value": 2.079731344697003,
          "variable": "P"
         },
         {
          "t": 275,
          "value": 2.0792303071772644,
          "variable": "P"
         },
         {
          "t": 276,
          "value": 2.0787293384657883,
          "variable": "P"
         },
         {
          "t": 277,
          "value": 2.0782284385984493,
          "variable": "P"
         },
         {
          "t": 278,
          "value": 2.0777276076089204,
          "variable": "P"
         },
         {
          "t": 279,
          "value": 2.0772268455289904,
          "variable": "P"
         },
         {
          "t": 280,
          "value": 2.076726152388833,
          "variable": "P"
         },
         {
          "t": 281,
          "value": 2.0762255282172393,
          "variable": "P"
         },
         {
          "t": 282,
          "value": 2.075724973041815,
          "variable": "P"
         },
         {
          "t": 283,
          "value": 2.0752244868891476,
          "variable": "P"
         },
         {
          "t": 284,
          "value": 2.074724069784953,
          "variable": "P"
         },
         {
          "t": 285,
          "value": 2.0742237217541986,
          "variable": "P"
         },
         {
          "t": 286,
          "value": 2.073723442821206,
          "variable": "P"
         },
         {
          "t": 287,
          "value": 2.0732232330097466,
          "variable": "P"
         },
         {
          "t": 288,
          "value": 2.0727230923431135,
          "variable": "P"
         },
         {
          "t": 289,
          "value": 2.072223020844191,
          "variable": "P"
         },
         {
          "t": 290,
          "value": 2.071723018535509,
          "variable": "P"
         },
         {
          "t": 291,
          "value": 2.0712230854392923,
          "variable": "P"
         },
         {
          "t": 292,
          "value": 2.0707232215775027,
          "variable": "P"
         },
         {
          "t": 293,
          "value": 2.070223426971871,
          "variable": "P"
         },
         {
          "t": 294,
          "value": 2.0697237016439307,
          "variable": "P"
         },
         {
          "t": 295,
          "value": 2.0692240456150426,
          "variable": "P"
         },
         {
          "t": 296,
          "value": 2.0687244589064164,
          "variable": "P"
         },
         {
          "t": 297,
          "value": 2.0682249415391296,
          "variable": "P"
         },
         {
          "t": 298,
          "value": 2.067725493534144,
          "variable": "P"
         },
         {
          "t": 299,
          "value": 2.0672261149123194,
          "variable": "P"
         }
        ]
       },
       "encoding": {
        "color": {
         "field": "variable",
         "scale": {
          "scheme": "set1"
         },
         "type": "nominal"
        },
        "x": {
         "field": "t",
         "type": "quantitative"
        },
        "y": {
         "field": "value",
         "stack": true,
         "type": "quantitative"
        }
       },
       "mark": "area",
       "selection": {
        "selector002": {
         "bind": "scales",
         "encodings": [
          "x",
          "y"
         ],
         "type": "interval"
        }
       }
      },
      "image/png": "[encoded data removed]",
      "text/plain": [
       "<VegaLite 3 object>\n",
       "\n",
       "If you see this message, it means the renderer has not been properly enabled\n",
       "for the frontend that you are using. For more information, see\n",
       "https://altair-viz.github.io/user_guide/troubleshooting.html\n"
      ]
     },
     "execution_count": 16,
     "metadata": {},
     "output_type": "execute_result"
    }
   ],
   "source": [
    "alt.Chart(plot_values).mark_area().encode(\n",
    "    x='t',\n",
    "    y=alt.Y('value', stack=True),\n",
    "    color=alt.Color('variable', scale=alt.Scale(scheme=\"set1\"))\n",
    ").properties(\n",
    ").interactive()"
   ]
  },
  {
   "cell_type": "code",
   "execution_count": null,
   "metadata": {},
   "outputs": [],
   "source": []
  },
  {
   "cell_type": "code",
   "execution_count": null,
   "metadata": {},
   "outputs": [],
   "source": []
  },
  {
   "cell_type": "code",
   "execution_count": null,
   "metadata": {},
   "outputs": [],
   "source": []
  },
  {
   "cell_type": "code",
   "execution_count": null,
   "metadata": {},
   "outputs": [],
   "source": []
  },
  {
   "cell_type": "code",
   "execution_count": null,
   "metadata": {},
   "outputs": [],
   "source": []
  }
 ],
 "metadata": {
  "kernelspec": {
   "display_name": "Python 3",
   "language": "python",
   "name": "python3"
  },
  "language_info": {
   "codemirror_mode": {
    "name": "ipython",
    "version": 3
   },
   "file_extension": ".py",
   "mimetype": "text/x-python",
   "name": "python",
   "nbconvert_exporter": "python",
   "pygments_lexer": "ipython3",
   "version": "3.7.6"
  }
 },
 "nbformat": 4,
 "nbformat_minor": 4
}
