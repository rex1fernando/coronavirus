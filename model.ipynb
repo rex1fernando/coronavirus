{
 "cells": [
  {
   "cell_type": "code",
   "execution_count": 37,
   "metadata": {},
   "outputs": [],
   "source": [
    "import numpy as np\n",
    "import pandas as pd\n",
    "from scipy.integrate import ode, solve_ivp"
   ]
  },
  {
   "cell_type": "code",
   "execution_count": 2,
   "metadata": {},
   "outputs": [],
   "source": [
    "def sir_ode(times,init,parms):\n",
    "    beta_P, beta_I0, beta_I1, alpha, delta, gamma, c, n_icu, p_icu, CFR0, CFR1, N, epsilon0, epsilon1 = parms\n",
    "    S,E,P,I0,I1,R0,R1 = init\n",
    "    # ODEs\n",
    "    I = I0 + I1\n",
    "    if I > 0:\n",
    "        CFR = CFR1 - (n_icu / (N*I*p_icu))*(CFR1 - CFR0)\n",
    "    else:\n",
    "        CFR = CFR1\n",
    "    dS = -(beta_P*S*P + beta_I0*S*I0 + beta_I1*S*I1)\n",
    "    dE = (beta_P*S*P + beta_I0*S*I0 + beta_I1*S*I1) - alpha*E\n",
    "    dP = alpha*E - delta*P\n",
    "    dI0 = delta*P - (gamma + c)*I0\n",
    "    dI1 = c*I0 - gamma*I1\n",
    "    dR0 = gamma*(1-CFR)*I0\n",
    "    dR1 = gamma*(1-CFR)*I1\n",
    "    return [dS,dE,dP,dI0,dI1,dR0,dR1]"
   ]
  },
  {
   "cell_type": "code",
   "execution_count": 14,
   "metadata": {},
   "outputs": [],
   "source": [
    "N = 7000000\n",
    "reproduction_num = 2.5\n",
    "alpha = 0.25\n",
    "epsilon0 = 0.15\n",
    "epsilon1 = 1\n",
    "delta = 1\n",
    "gamma = 0.1\n",
    "c = 0.1\n",
    "CFR0 = 0.01\n",
    "CFR1 = 0.02\n",
    "p_icu = 0.0125\n",
    "n_icu = 300 # beds\n",
    "\n",
    "\n",
    "beta = reproduction_num/(epsilon0/delta + )\n",
    "beta_I0 = reproduction_num*gamma\n",
    "beta_I1 = reproduction_num*epsilon1*gamma\n",
    "parms = [beta_P, beta_I0, beta_I1, alpha, delta, gamma, c, n_icu, p_icu, CFR0, CFR1, N, epsilon0, epsilon1]\n",
    "S = 1 - 20/N\n",
    "E = 20/N\n",
    "P = 0\n",
    "I0 = 0\n",
    "I1 = 0\n",
    "R0 = 0\n",
    "R1 = 0\n",
    "init = [S,E,P,I0,I1,R0,R1]\n",
    "times = np.linspace(0,200,2000)"
   ]
  },
  {
   "cell_type": "code",
   "execution_count": 15,
   "metadata": {},
   "outputs": [],
   "source": [
    "sir_sol = solve_ivp(fun=lambda t, y: sir_ode(t, y, parms), t_span=[min(times),max(times)], y0=init, t_eval=times, rtol=1e-8)"
   ]
  },
  {
   "cell_type": "code",
   "execution_count": 22,
   "metadata": {},
   "outputs": [
    {
     "data": {
      "text/plain": [
       "  message: 'The solver successfully reached the end of the integration interval.'\n",
       "     nfev: 470\n",
       "     njev: 0\n",
       "      nlu: 0\n",
       "      sol: None\n",
       "   status: 0\n",
       "  success: True\n",
       "        t: array([0.00000000e+00, 1.00050025e-01, 2.00100050e-01, ...,\n",
       "       1.99799900e+02, 1.99899950e+02, 2.00000000e+02])\n",
       " t_events: None\n",
       "        y: array([[9.99997143e-01, 9.99997142e-01, 9.99997138e-01, ...,\n",
       "        6.95958485e-02, 6.95896500e-02, 6.95834969e-02],\n",
       "       [2.85714286e-06, 2.78786797e-06, 2.72280530e-06, ...,\n",
       "        3.52369328e-04, 3.49786488e-04, 3.47222724e-04],\n",
       "       [0.00000000e+00, 6.71658726e-08, 1.26338205e-07, ...,\n",
       "        9.48801401e-05, 9.41944667e-05, 9.35178193e-05],\n",
       "       ...,\n",
       "       [0.00000000e+00, 1.23161911e-11, 8.97688656e-11, ...,\n",
       "        2.67405262e-03, 2.65494285e-03, 2.63596819e-03],\n",
       "       [0.00000000e+00, 1.63890083e-07, 5.11413543e-07, ...,\n",
       "        4.55671553e-01, 4.55679026e-01, 4.55686445e-01],\n",
       "       [0.00000000e+00, 2.58870408e-09, 4.04408645e-09, ...,\n",
       "        4.53021111e-01, 4.53047503e-01, 4.53073709e-01]])\n",
       " y_events: None"
      ]
     },
     "execution_count": 22,
     "metadata": {},
     "output_type": "execute_result"
    }
   ],
   "source": [
    "sir_sol"
   ]
  },
  {
   "cell_type": "code",
   "execution_count": 23,
   "metadata": {},
   "outputs": [],
   "source": [
    "sir_out = pd.DataFrame({\"t\":sir_sol[\"t\"],\"S\":sir_sol[\"y\"][0],\"E\":sir_sol[\"y\"][1],\"P\":sir_sol[\"y\"][2],\"I0\":sir_sol[\"y\"][3],\"I1\":sir_sol[\"y\"][4],\"R0\":sir_sol[\"y\"][5],\"R1\":sir_sol[\"y\"][6]})"
   ]
  },
  {
   "cell_type": "code",
   "execution_count": 30,
   "metadata": {},
   "outputs": [],
   "source": [
    "sir_out[\"D\"] = 1 - sir_out[\"S\"] - sir_out[\"E\"] - sir_out[\"P\"] - sir_out[\"I0\"] - sir_out[\"I1\"] - sir_out[\"R0\"] - sir_out[\"R1\"]"
   ]
  },
  {
   "cell_type": "code",
   "execution_count": 33,
   "metadata": {},
   "outputs": [],
   "source": [
    "sir_out = sir_out * N"
   ]
  },
  {
   "cell_type": "markdown",
   "metadata": {},
   "source": [
    "#### Visualisation"
   ]
  },
  {
   "cell_type": "code",
   "execution_count": 34,
   "metadata": {},
   "outputs": [],
   "source": [
    "import matplotlib.pyplot as plt"
   ]
  },
  {
   "cell_type": "code",
   "execution_count": 35,
   "metadata": {},
   "outputs": [],
   "source": [
    "plt.style.use(\"ggplot\")"
   ]
  },
  {
   "cell_type": "code",
   "execution_count": 36,
   "metadata": {},
   "outputs": [
    {
     "data": {
      "image/png": "[encoded data removed]",
      "text/plain": [
       "<Figure size 432x288 with 1 Axes>"
      ]
     },
     "metadata": {},
     "output_type": "display_data"
    }
   ],
   "source": [
    "sline = plt.plot(\"t\",\"S\",\"\",data=sir_out,color=\"red\",linewidth=2)\n",
    "iline = plt.plot(\"t\",\"E\",\"\",data=sir_out,color=\"green\",linewidth=2)\n",
    "rline = plt.plot(\"t\",\"P\",\"\",data=sir_out,color=\"blue\",linewidth=2)\n",
    "rline = plt.plot(\"t\",\"I0\",\"\",data=sir_out,color=\"yellow\",linewidth=2)\n",
    "rline = plt.plot(\"t\",\"I1\",\"\",data=sir_out,color=\"magenta\",linewidth=2)\n",
    "rline = plt.plot(\"t\",\"R0\",\"\",data=sir_out,color=\"cyan\",linewidth=2)\n",
    "rline = plt.plot(\"t\",\"R1\",\"\",data=sir_out,color=\"purple\",linewidth=2)\n",
    "rline = plt.plot(\"t\",\"D\",\"\",data=sir_out,color=\"black\",linewidth=2)\n",
    "plt.xlabel(\"Time\",fontweight=\"bold\")\n",
    "plt.ylabel(\"Number\",fontweight=\"bold\")\n",
    "legend = plt.legend(title=\"Population\",loc=5,bbox_to_anchor=(1.25,0.5))\n",
    "frame = legend.get_frame()\n",
    "frame.set_facecolor(\"white\")\n",
    "frame.set_linewidth(0)"
   ]
  },
  {
   "cell_type": "code",
   "execution_count": null,
   "metadata": {},
   "outputs": [],
   "source": []
  },
  {
   "cell_type": "code",
   "execution_count": null,
   "metadata": {},
   "outputs": [],
   "source": []
  }
 ],
 "metadata": {
  "kernelspec": {
   "display_name": "Python 3",
   "language": "python",
   "name": "python3"
  },
  "language_info": {
   "codemirror_mode": {
    "name": "ipython",
    "version": 3
   },
   "file_extension": ".py",
   "mimetype": "text/x-python",
   "name": "python",
   "nbconvert_exporter": "python",
   "pygments_lexer": "ipython3",
   "version": "3.7.6"
  }
 },
 "nbformat": 4,
 "nbformat_minor": 4
}
