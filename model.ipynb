{
 "cells": [
  {
   "cell_type": "code",
   "execution_count": 306,
   "metadata": {},
   "outputs": [],
   "source": [
    "import numpy as np\n",
    "import pandas as pd\n",
    "from scipy.integrate import ode, solve_ivp"
   ]
  },
  {
   "cell_type": "code",
   "execution_count": 307,
   "metadata": {},
   "outputs": [],
   "source": [
    "def sir_ode(times,init,parms):\n",
    "    beta, epsilon0, epsilon1, alpha, delta, gamma, c, n_icu, p_icu, CFR0, CFR1, N, epsilon0, epsilon1 = parms\n",
    "    S,E,P,I0,I1,R0,R1 = init\n",
    "    # ODEs\n",
    "    I = I0 + I1\n",
    "    if I > 0:\n",
    "        CFR = CFR1 - min(1, n_icu / (N*I*p_icu))*(CFR1 - CFR0)\n",
    "    else:\n",
    "        CFR = CFR0\n",
    "    dS = -beta*S*(epsilon0*P + I0 + epsilon1*I1)\n",
    "    dE = beta*S*(epsilon0*P + I0 + epsilon1*I1) - alpha*E\n",
    "    dP = alpha*E - delta*P\n",
    "    dI0 = delta*P - (gamma + c)*I0\n",
    "    dI1 = c*I0 - gamma*I1\n",
    "    dR0 = gamma*(1-CFR)*I0\n",
    "    dR1 = gamma*(1-CFR)*I1\n",
    "    return [dS,dE,dP,dI0,dI1,dR0,dR1]"
   ]
  },
  {
   "cell_type": "code",
   "execution_count": 308,
   "metadata": {},
   "outputs": [],
   "source": [
    "N = 8000000\n",
    "reproduction_num = 2.5\n",
    "alpha = 0.25\n",
    "epsilon0 = 0.15\n",
    "epsilon1 = 1\n",
    "delta = 1\n",
    "gamma = 0.1\n",
    "c = 0.1\n",
    "CFR0 = 0.01\n",
    "CFR1 = 0.02\n",
    "p_icu = 0.0125\n",
    "n_icu = 300 # beds\n",
    "\n",
    "\n",
    "beta = reproduction_num/(epsilon0/delta + 1/gamma)\n",
    "\n",
    "parms = [beta, epsilon0, epsilon1, alpha, delta, gamma, c, n_icu, p_icu, CFR0, CFR1, N, epsilon0, epsilon1]\n",
    "S = 1 - 20/N\n",
    "E = 20/N\n",
    "P = 0\n",
    "I0 = 0\n",
    "I1 = 0\n",
    "R0 = 0\n",
    "R1 = 0\n",
    "init = [S,E,P,I0,I1,R0,R1]\n",
    "times = np.linspace(0,300,2000)"
   ]
  },
  {
   "cell_type": "code",
   "execution_count": 309,
   "metadata": {},
   "outputs": [],
   "source": [
    "sir_sol = solve_ivp(fun=lambda t, y: sir_ode(t, y, parms), t_span=[min(times),max(times)], y0=init, t_eval=times, rtol=1e-8)"
   ]
  },
  {
   "cell_type": "code",
   "execution_count": 310,
   "metadata": {},
   "outputs": [
    {
     "data": {
      "text/plain": [
       "  message: 'The solver successfully reached the end of the integration interval.'\n",
       "     nfev: 602\n",
       "     njev: 0\n",
       "      nlu: 0\n",
       "      sol: None\n",
       "   status: 0\n",
       "  success: True\n",
       "        t: array([0.00000000e+00, 1.50075038e-01, 3.00150075e-01, ...,\n",
       "       2.99699850e+02, 2.99849925e+02, 3.00000000e+02])\n",
       " t_events: None\n",
       "        y: array([[9.99997143e-01, 9.99997142e-01, 9.99997141e-01, ...,\n",
       "        1.07424969e-01, 1.07424314e-01, 1.07423665e-01],\n",
       "       [2.85714286e-06, 2.75230444e-06, 2.65232680e-06, ...,\n",
       "        2.32092071e-05, 2.29971625e-05, 2.27877343e-05],\n",
       "       [0.00000000e+00, 9.76631426e-08, 1.78140050e-07, ...,\n",
       "        5.08308845e-06, 5.14550515e-06, 5.22590344e-06],\n",
       "       ...,\n",
       "       [0.00000000e+00, 3.92561399e-11, 2.87792783e-10, ...,\n",
       "        1.18863045e-04, 1.17774393e-04, 1.16698476e-04],\n",
       "       [0.00000000e+00, 3.88899100e-11, 2.87015099e-10, ...,\n",
       "        4.37610543e-01, 4.37611223e-01, 4.37611900e-01],\n",
       "       [0.00000000e+00, 2.63315323e-14, 2.10024357e-12, ...,\n",
       "        4.37531339e-01, 4.37533098e-01, 4.37534840e-01]])\n",
       " y_events: None"
      ]
     },
     "execution_count": 310,
     "metadata": {},
     "output_type": "execute_result"
    }
   ],
   "source": [
    "sir_sol"
   ]
  },
  {
   "cell_type": "code",
   "execution_count": 311,
   "metadata": {},
   "outputs": [],
   "source": [
    "sir_out = pd.DataFrame({\"t\":sir_sol[\"t\"],\"S\":sir_sol[\"y\"][0],\"E\":sir_sol[\"y\"][1],\"P\":sir_sol[\"y\"][2],\"I0\":sir_sol[\"y\"][3],\"I1\":sir_sol[\"y\"][4],\"R0\":sir_sol[\"y\"][5],\"R1\":sir_sol[\"y\"][6]})"
   ]
  },
  {
   "cell_type": "code",
   "execution_count": 312,
   "metadata": {},
   "outputs": [],
   "source": [
    "sir_out[\"D\"] = 1 - sir_out[\"S\"] - sir_out[\"E\"] - sir_out[\"P\"] - sir_out[\"I0\"] - sir_out[\"I1\"] - sir_out[\"R0\"] - sir_out[\"R1\"]"
   ]
  },
  {
   "cell_type": "code",
   "execution_count": 313,
   "metadata": {},
   "outputs": [],
   "source": [
    "sir_out = sir_out * N\n",
    "sir_out['t'] = sir_out['t']/N"
   ]
  },
  {
   "cell_type": "markdown",
   "metadata": {},
   "source": [
    "#### Visualisation"
   ]
  },
  {
   "cell_type": "code",
   "execution_count": 314,
   "metadata": {},
   "outputs": [],
   "source": [
    "import matplotlib.pyplot as plt"
   ]
  },
  {
   "cell_type": "code",
   "execution_count": 315,
   "metadata": {},
   "outputs": [],
   "source": [
    "plt.style.use(\"ggplot\")"
   ]
  },
  {
   "cell_type": "code",
   "execution_count": 316,
   "metadata": {},
   "outputs": [
    {
     "data": {
      "image/png": "[encoded data removed]",
      "text/plain": [
       "<Figure size 432x288 with 1 Axes>"
      ]
     },
     "metadata": {},
     "output_type": "display_data"
    }
   ],
   "source": [
    "sline = plt.plot(\"t\",\"S\",\"\",data=sir_out,color=\"red\",linewidth=2)\n",
    "iline = plt.plot(\"t\",\"E\",\"\",data=sir_out,color=\"green\",linewidth=2)\n",
    "rline = plt.plot(\"t\",\"P\",\"\",data=sir_out,color=\"blue\",linewidth=2)\n",
    "rline = plt.plot(\"t\",\"I0\",\"\",data=sir_out,color=\"yellow\",linewidth=2)\n",
    "rline = plt.plot(\"t\",\"I1\",\"\",data=sir_out,color=\"magenta\",linewidth=2)\n",
    "rline = plt.plot(\"t\",\"R0\",\"\",data=sir_out,color=\"cyan\",linewidth=2)\n",
    "rline = plt.plot(\"t\",\"R1\",\"\",data=sir_out,color=\"purple\",linewidth=2)\n",
    "rline = plt.plot(\"t\",\"D\",\"\",data=sir_out,color=\"black\",linewidth=2)\n",
    "plt.xlabel(\"Time\",fontweight=\"bold\")\n",
    "plt.ylabel(\"Number\",fontweight=\"bold\")\n",
    "legend = plt.legend(title=\"Population\",loc=5,bbox_to_anchor=(1.25,0.5))\n",
    "frame = legend.get_frame()\n",
    "frame.set_facecolor(\"white\")\n",
    "frame.set_linewidth(0)"
   ]
  },
  {
   "cell_type": "code",
   "execution_count": 317,
   "metadata": {},
   "outputs": [],
   "source": [
    "sir_out[\"total\"] = sir_out[\"S\"] + sir_out[\"E\"] + sir_out[\"P\"] + sir_out[\"I0\"] + sir_out[\"I1\"] + sir_out[\"R0\"] + sir_out[\"R1\"]"
   ]
  },
  {
   "cell_type": "code",
   "execution_count": 305,
   "metadata": {},
   "outputs": [
    {
     "data": {
      "text/html": [
       "<div>\n",
       "<style scoped>\n",
       "    .dataframe tbody tr th:only-of-type {\n",
       "        vertical-align: middle;\n",
       "    }\n",
       "\n",
       "    .dataframe tbody tr th {\n",
       "        vertical-align: top;\n",
       "    }\n",
       "\n",
       "    .dataframe thead th {\n",
       "        text-align: right;\n",
       "    }\n",
       "</style>\n",
       "<table border=\"1\" class=\"dataframe\">\n",
       "  <thead>\n",
       "    <tr style=\"text-align: right;\">\n",
       "      <th></th>\n",
       "      <th>t</th>\n",
       "      <th>S</th>\n",
       "      <th>E</th>\n",
       "      <th>P</th>\n",
       "      <th>I0</th>\n",
       "      <th>I1</th>\n",
       "      <th>R0</th>\n",
       "      <th>R1</th>\n",
       "      <th>D</th>\n",
       "      <th>total</th>\n",
       "    </tr>\n",
       "  </thead>\n",
       "  <tbody>\n",
       "    <tr>\n",
       "      <td>0</td>\n",
       "      <td>0.000000</td>\n",
       "      <td>6980.000000</td>\n",
       "      <td>20.000000</td>\n",
       "      <td>0.000000</td>\n",
       "      <td>0.000000</td>\n",
       "      <td>0.000000</td>\n",
       "      <td>0.000000</td>\n",
       "      <td>0.000000e+00</td>\n",
       "      <td>2.398255e-13</td>\n",
       "      <td>7000.000000</td>\n",
       "    </tr>\n",
       "    <tr>\n",
       "      <td>1</td>\n",
       "      <td>0.150075</td>\n",
       "      <td>6979.997366</td>\n",
       "      <td>19.266137</td>\n",
       "      <td>0.683681</td>\n",
       "      <td>0.052255</td>\n",
       "      <td>0.000281</td>\n",
       "      <td>0.000278</td>\n",
       "      <td>-3.808573e-07</td>\n",
       "      <td>2.800232e-06</td>\n",
       "      <td>6999.999997</td>\n",
       "    </tr>\n",
       "    <tr>\n",
       "      <td>2</td>\n",
       "      <td>0.300150</td>\n",
       "      <td>6979.987094</td>\n",
       "      <td>18.566959</td>\n",
       "      <td>1.249040</td>\n",
       "      <td>0.192275</td>\n",
       "      <td>0.002330</td>\n",
       "      <td>0.002293</td>\n",
       "      <td>-1.457088e-05</td>\n",
       "      <td>2.301032e-05</td>\n",
       "      <td>6999.999977</td>\n",
       "    </tr>\n",
       "    <tr>\n",
       "      <td>3</td>\n",
       "      <td>0.450225</td>\n",
       "      <td>6979.967202</td>\n",
       "      <td>17.903021</td>\n",
       "      <td>1.712342</td>\n",
       "      <td>0.403275</td>\n",
       "      <td>0.007068</td>\n",
       "      <td>0.007009</td>\n",
       "      <td>1.226347e-05</td>\n",
       "      <td>7.092323e-05</td>\n",
       "      <td>6999.999929</td>\n",
       "    </tr>\n",
       "    <tr>\n",
       "      <td>4</td>\n",
       "      <td>0.600300</td>\n",
       "      <td>6979.936267</td>\n",
       "      <td>17.274270</td>\n",
       "      <td>2.087240</td>\n",
       "      <td>0.671700</td>\n",
       "      <td>0.015107</td>\n",
       "      <td>0.015109</td>\n",
       "      <td>1.530972e-04</td>\n",
       "      <td>1.541647e-04</td>\n",
       "      <td>6999.999846</td>\n",
       "    </tr>\n",
       "    <tr>\n",
       "      <td>...</td>\n",
       "      <td>...</td>\n",
       "      <td>...</td>\n",
       "      <td>...</td>\n",
       "      <td>...</td>\n",
       "      <td>...</td>\n",
       "      <td>...</td>\n",
       "      <td>...</td>\n",
       "      <td>...</td>\n",
       "      <td>...</td>\n",
       "      <td>...</td>\n",
       "    </tr>\n",
       "    <tr>\n",
       "      <td>1995</td>\n",
       "      <td>299.399700</td>\n",
       "      <td>748.557741</td>\n",
       "      <td>0.000467</td>\n",
       "      <td>-0.005588</td>\n",
       "      <td>0.008576</td>\n",
       "      <td>0.002611</td>\n",
       "      <td>3094.462208</td>\n",
       "      <td>3.094460e+03</td>\n",
       "      <td>6.251436e+01</td>\n",
       "      <td>6937.485638</td>\n",
       "    </tr>\n",
       "    <tr>\n",
       "      <td>1996</td>\n",
       "      <td>299.549775</td>\n",
       "      <td>748.557701</td>\n",
       "      <td>0.000488</td>\n",
       "      <td>-0.004792</td>\n",
       "      <td>0.007556</td>\n",
       "      <td>0.002692</td>\n",
       "      <td>3094.462328</td>\n",
       "      <td>3.094460e+03</td>\n",
       "      <td>6.251436e+01</td>\n",
       "      <td>6937.485636</td>\n",
       "    </tr>\n",
       "    <tr>\n",
       "      <td>1997</td>\n",
       "      <td>299.699850</td>\n",
       "      <td>748.557665</td>\n",
       "      <td>0.000506</td>\n",
       "      <td>-0.004107</td>\n",
       "      <td>0.006677</td>\n",
       "      <td>0.002758</td>\n",
       "      <td>3094.462433</td>\n",
       "      <td>3.094460e+03</td>\n",
       "      <td>6.251437e+01</td>\n",
       "      <td>6937.485635</td>\n",
       "    </tr>\n",
       "    <tr>\n",
       "      <td>1998</td>\n",
       "      <td>299.849925</td>\n",
       "      <td>748.557632</td>\n",
       "      <td>0.000520</td>\n",
       "      <td>-0.003518</td>\n",
       "      <td>0.005919</td>\n",
       "      <td>0.002810</td>\n",
       "      <td>3094.462527</td>\n",
       "      <td>3.094460e+03</td>\n",
       "      <td>6.251437e+01</td>\n",
       "      <td>6937.485634</td>\n",
       "    </tr>\n",
       "    <tr>\n",
       "      <td>1999</td>\n",
       "      <td>300.000000</td>\n",
       "      <td>748.557600</td>\n",
       "      <td>0.000532</td>\n",
       "      <td>-0.003010</td>\n",
       "      <td>0.005263</td>\n",
       "      <td>0.002851</td>\n",
       "      <td>3094.462609</td>\n",
       "      <td>3.094460e+03</td>\n",
       "      <td>6.251437e+01</td>\n",
       "      <td>6937.485632</td>\n",
       "    </tr>\n",
       "  </tbody>\n",
       "</table>\n",
       "<p>2000 rows × 10 columns</p>\n",
       "</div>"
      ],
      "text/plain": [
       "               t            S          E         P        I0        I1  \\\n",
       "0       0.000000  6980.000000  20.000000  0.000000  0.000000  0.000000   \n",
       "1       0.150075  6979.997366  19.266137  0.683681  0.052255  0.000281   \n",
       "2       0.300150  6979.987094  18.566959  1.249040  0.192275  0.002330   \n",
       "3       0.450225  6979.967202  17.903021  1.712342  0.403275  0.007068   \n",
       "4       0.600300  6979.936267  17.274270  2.087240  0.671700  0.015107   \n",
       "...          ...          ...        ...       ...       ...       ...   \n",
       "1995  299.399700   748.557741   0.000467 -0.005588  0.008576  0.002611   \n",
       "1996  299.549775   748.557701   0.000488 -0.004792  0.007556  0.002692   \n",
       "1997  299.699850   748.557665   0.000506 -0.004107  0.006677  0.002758   \n",
       "1998  299.849925   748.557632   0.000520 -0.003518  0.005919  0.002810   \n",
       "1999  300.000000   748.557600   0.000532 -0.003010  0.005263  0.002851   \n",
       "\n",
       "               R0            R1             D        total  \n",
       "0        0.000000  0.000000e+00  2.398255e-13  7000.000000  \n",
       "1        0.000278 -3.808573e-07  2.800232e-06  6999.999997  \n",
       "2        0.002293 -1.457088e-05  2.301032e-05  6999.999977  \n",
       "3        0.007009  1.226347e-05  7.092323e-05  6999.999929  \n",
       "4        0.015109  1.530972e-04  1.541647e-04  6999.999846  \n",
       "...           ...           ...           ...          ...  \n",
       "1995  3094.462208  3.094460e+03  6.251436e+01  6937.485638  \n",
       "1996  3094.462328  3.094460e+03  6.251436e+01  6937.485636  \n",
       "1997  3094.462433  3.094460e+03  6.251437e+01  6937.485635  \n",
       "1998  3094.462527  3.094460e+03  6.251437e+01  6937.485634  \n",
       "1999  3094.462609  3.094460e+03  6.251437e+01  6937.485632  \n",
       "\n",
       "[2000 rows x 10 columns]"
      ]
     },
     "execution_count": 305,
     "metadata": {},
     "output_type": "execute_result"
    }
   ],
   "source": [
    "sir_out"
   ]
  },
  {
   "cell_type": "code",
   "execution_count": null,
   "metadata": {},
   "outputs": [],
   "source": []
  },
  {
   "cell_type": "code",
   "execution_count": null,
   "metadata": {},
   "outputs": [],
   "source": []
  },
  {
   "cell_type": "code",
   "execution_count": null,
   "metadata": {},
   "outputs": [],
   "source": []
  }
 ],
 "metadata": {
  "kernelspec": {
   "display_name": "Python 3",
   "language": "python",
   "name": "python3"
  },
  "language_info": {
   "codemirror_mode": {
    "name": "ipython",
    "version": 3
   },
   "file_extension": ".py",
   "mimetype": "text/x-python",
   "name": "python",
   "nbconvert_exporter": "python",
   "pygments_lexer": "ipython3",
   "version": "3.7.6"
  }
 },
 "nbformat": 4,
 "nbformat_minor": 4
}
