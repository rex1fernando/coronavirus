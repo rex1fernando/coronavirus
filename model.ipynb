{
 "cells": [
  {
   "cell_type": "code",
   "execution_count": 331,
   "metadata": {},
   "outputs": [],
   "source": [
    "import numpy as np\n",
    "import pandas as pd\n",
    "from scipy.integrate import ode, solve_ivp"
   ]
  },
  {
   "cell_type": "code",
   "execution_count": 332,
   "metadata": {},
   "outputs": [],
   "source": [
    "def sir_ode(times,init,parms):\n",
    "    beta, epsilon0, epsilon1, alpha, delta, gamma, c, n_icu, p_icu, CFR0, CFR1, N, epsilon0, epsilon1 = parms\n",
    "    S,E,P,I0,I1,R0,R1 = init\n",
    "    # ODEs\n",
    "    I = I0 + I1\n",
    "    if I > 0:\n",
    "        CFR = CFR1 - min(1, n_icu / (N*I*p_icu))*(CFR1 - CFR0)\n",
    "    else:\n",
    "        CFR = CFR0\n",
    "    dS = -beta*S*(epsilon0*P + I0 + epsilon1*I1)\n",
    "    dE = beta*S*(epsilon0*P + I0 + epsilon1*I1) - alpha*E\n",
    "    dP = alpha*E - delta*P\n",
    "    dI0 = delta*P - (gamma + c)*I0\n",
    "    dI1 = c*I0 - gamma*I1\n",
    "    dR0 = gamma*(1-CFR)*I0\n",
    "    dR1 = gamma*(1-CFR)*I1\n",
    "    return [dS,dE,dP,dI0,dI1,dR0,dR1]"
   ]
  },
  {
   "cell_type": "code",
   "execution_count": 333,
   "metadata": {},
   "outputs": [],
   "source": [
    "N = 8000000\n",
    "reproduction_num = 2.5\n",
    "alpha = 0.25\n",
    "epsilon0 = 0.15\n",
    "epsilon1 = 1\n",
    "delta = 1\n",
    "gamma = 0.1\n",
    "c = 0.1\n",
    "CFR0 = 0.01\n",
    "CFR1 = 0.02\n",
    "p_icu = 0.0125\n",
    "n_icu = 300 # beds\n",
    "\n",
    "\n",
    "beta = reproduction_num/(epsilon0/delta + 1/gamma)\n",
    "\n",
    "parms = [beta, epsilon0, epsilon1, alpha, delta, gamma, c, n_icu, p_icu, CFR0, CFR1, N, epsilon0, epsilon1]\n",
    "S = 1 - 20/N\n",
    "E = 20/N\n",
    "P = 0\n",
    "I0 = 0\n",
    "I1 = 0\n",
    "R0 = 0\n",
    "R1 = 0\n",
    "init = [S,E,P,I0,I1,R0,R1]\n",
    "times = np.linspace(0,300,2000)"
   ]
  },
  {
   "cell_type": "code",
   "execution_count": 334,
   "metadata": {},
   "outputs": [],
   "source": [
    "sir_sol = solve_ivp(fun=lambda t, y: sir_ode(t, y, parms), t_span=[min(times),max(times)], y0=init, t_eval=times, rtol=1e-8)"
   ]
  },
  {
   "cell_type": "code",
   "execution_count": 335,
   "metadata": {},
   "outputs": [
    {
     "data": {
      "text/plain": [
       "  message: 'The solver successfully reached the end of the integration interval.'\n",
       "     nfev: 590\n",
       "     njev: 0\n",
       "      nlu: 0\n",
       "      sol: None\n",
       "   status: 0\n",
       "  success: True\n",
       "        t: array([0.00000000e+00, 1.50075038e-01, 3.00150075e-01, ...,\n",
       "       2.99699850e+02, 2.99849925e+02, 3.00000000e+02])\n",
       " t_events: None\n",
       "        y: array([[9.99997500e-01, 9.99997500e-01, 9.99997498e-01, ...,\n",
       "        1.07432846e-01, 1.07432122e-01, 1.07431402e-01],\n",
       "       [2.50000000e-06, 2.40826672e-06, 2.32078639e-06, ...,\n",
       "        2.58220201e-05, 2.55805803e-05, 2.53442213e-05],\n",
       "       [0.00000000e+00, 8.54562157e-08, 1.55873850e-07, ...,\n",
       "        6.19467961e-06, 6.10008263e-06, 6.08807415e-06],\n",
       "       ...,\n",
       "       [0.00000000e+00, 3.44957522e-11, 2.52017918e-10, ...,\n",
       "        1.32207906e-04, 1.30974604e-04, 1.29764332e-04],\n",
       "       [0.00000000e+00, 3.41604220e-11, 2.51317119e-10, ...,\n",
       "        4.37571884e-01, 4.37572620e-01, 4.37573360e-01],\n",
       "       [0.00000000e+00, 9.62729571e-15, 1.81938024e-12, ...,\n",
       "        4.37476108e-01, 4.37478065e-01, 4.37480002e-01]])\n",
       " y_events: None"
      ]
     },
     "execution_count": 335,
     "metadata": {},
     "output_type": "execute_result"
    }
   ],
   "source": [
    "sir_sol"
   ]
  },
  {
   "cell_type": "code",
   "execution_count": 336,
   "metadata": {},
   "outputs": [],
   "source": [
    "sir_out = pd.DataFrame({\"t\":sir_sol[\"t\"],\"S\":sir_sol[\"y\"][0],\"E\":sir_sol[\"y\"][1],\"P\":sir_sol[\"y\"][2],\"I0\":sir_sol[\"y\"][3],\"I1\":sir_sol[\"y\"][4],\"R0\":sir_sol[\"y\"][5],\"R1\":sir_sol[\"y\"][6]})"
   ]
  },
  {
   "cell_type": "code",
   "execution_count": 337,
   "metadata": {},
   "outputs": [],
   "source": [
    "sir_out[\"D\"] = 1 - sir_out[\"S\"] - sir_out[\"E\"] - sir_out[\"P\"] - sir_out[\"I0\"] - sir_out[\"I1\"] - sir_out[\"R0\"] - sir_out[\"R1\"]"
   ]
  },
  {
   "cell_type": "code",
   "execution_count": 338,
   "metadata": {},
   "outputs": [],
   "source": [
    "sir_out = sir_out * N\n",
    "sir_out['t'] = sir_out['t']/N"
   ]
  },
  {
   "cell_type": "markdown",
   "metadata": {},
   "source": [
    "#### Visualisation"
   ]
  },
  {
   "cell_type": "code",
   "execution_count": 339,
   "metadata": {},
   "outputs": [],
   "source": [
    "import matplotlib.pyplot as plt"
   ]
  },
  {
   "cell_type": "code",
   "execution_count": 340,
   "metadata": {},
   "outputs": [],
   "source": [
    "plt.style.use(\"ggplot\")"
   ]
  },
  {
   "cell_type": "code",
   "execution_count": 341,
   "metadata": {},
   "outputs": [
    {
     "data": {
      "image/png": "[encoded data removed]",
      "text/plain": [
       "<Figure size 432x288 with 1 Axes>"
      ]
     },
     "metadata": {},
     "output_type": "display_data"
    }
   ],
   "source": [
    "sline = plt.plot(\"t\",\"S\",\"\",data=sir_out,color=\"red\",linewidth=2)\n",
    "iline = plt.plot(\"t\",\"E\",\"\",data=sir_out,color=\"green\",linewidth=2)\n",
    "rline = plt.plot(\"t\",\"P\",\"\",data=sir_out,color=\"blue\",linewidth=2)\n",
    "rline = plt.plot(\"t\",\"I0\",\"\",data=sir_out,color=\"yellow\",linewidth=2)\n",
    "rline = plt.plot(\"t\",\"I1\",\"\",data=sir_out,color=\"magenta\",linewidth=2)\n",
    "rline = plt.plot(\"t\",\"R0\",\"\",data=sir_out,color=\"cyan\",linewidth=2)\n",
    "rline = plt.plot(\"t\",\"R1\",\"\",data=sir_out,color=\"purple\",linewidth=2)\n",
    "rline = plt.plot(\"t\",\"D\",\"\",data=sir_out,color=\"black\",linewidth=2)\n",
    "plt.xlabel(\"Time\",fontweight=\"bold\")\n",
    "plt.ylabel(\"Number\",fontweight=\"bold\")\n",
    "legend = plt.legend(title=\"Population\",loc=5,bbox_to_anchor=(1.25,0.5))\n",
    "frame = legend.get_frame()\n",
    "frame.set_facecolor(\"white\")\n",
    "frame.set_linewidth(0)"
   ]
  },
  {
   "cell_type": "code",
   "execution_count": 342,
   "metadata": {},
   "outputs": [],
   "source": [
    "sir_out[\"total\"] = sir_out[\"S\"] + sir_out[\"E\"] + sir_out[\"P\"] + sir_out[\"I0\"] + sir_out[\"I1\"] + sir_out[\"R0\"] + sir_out[\"R1\"]"
   ]
  },
  {
   "cell_type": "code",
   "execution_count": 343,
   "metadata": {},
   "outputs": [
    {
     "data": {
      "text/html": [
       "<div>\n",
       "<style scoped>\n",
       "    .dataframe tbody tr th:only-of-type {\n",
       "        vertical-align: middle;\n",
       "    }\n",
       "\n",
       "    .dataframe tbody tr th {\n",
       "        vertical-align: top;\n",
       "    }\n",
       "\n",
       "    .dataframe thead th {\n",
       "        text-align: right;\n",
       "    }\n",
       "</style>\n",
       "<table border=\"1\" class=\"dataframe\">\n",
       "  <thead>\n",
       "    <tr style=\"text-align: right;\">\n",
       "      <th></th>\n",
       "      <th>t</th>\n",
       "      <th>S</th>\n",
       "      <th>E</th>\n",
       "      <th>P</th>\n",
       "      <th>I0</th>\n",
       "      <th>I1</th>\n",
       "      <th>R0</th>\n",
       "      <th>R1</th>\n",
       "      <th>D</th>\n",
       "      <th>total</th>\n",
       "    </tr>\n",
       "  </thead>\n",
       "  <tbody>\n",
       "    <tr>\n",
       "      <td>0</td>\n",
       "      <td>0.000000</td>\n",
       "      <td>7.999980e+06</td>\n",
       "      <td>20.000000</td>\n",
       "      <td>0.000000</td>\n",
       "      <td>0.000000</td>\n",
       "      <td>0.000000</td>\n",
       "      <td>0.000000e+00</td>\n",
       "      <td>0.000000e+00</td>\n",
       "      <td>1.310224e-10</td>\n",
       "      <td>8.000000e+06</td>\n",
       "    </tr>\n",
       "    <tr>\n",
       "      <td>1</td>\n",
       "      <td>0.150075</td>\n",
       "      <td>7.999980e+06</td>\n",
       "      <td>19.266134</td>\n",
       "      <td>0.683650</td>\n",
       "      <td>0.052297</td>\n",
       "      <td>0.000276</td>\n",
       "      <td>2.732834e-04</td>\n",
       "      <td>7.701837e-08</td>\n",
       "      <td>2.761282e-06</td>\n",
       "      <td>8.000000e+06</td>\n",
       "    </tr>\n",
       "    <tr>\n",
       "      <td>2</td>\n",
       "      <td>0.300150</td>\n",
       "      <td>7.999980e+06</td>\n",
       "      <td>18.566291</td>\n",
       "      <td>1.246991</td>\n",
       "      <td>0.195051</td>\n",
       "      <td>0.002016</td>\n",
       "      <td>2.010537e-03</td>\n",
       "      <td>1.455504e-05</td>\n",
       "      <td>2.045599e-05</td>\n",
       "      <td>8.000000e+06</td>\n",
       "    </tr>\n",
       "    <tr>\n",
       "      <td>3</td>\n",
       "      <td>0.450225</td>\n",
       "      <td>7.999980e+06</td>\n",
       "      <td>17.901617</td>\n",
       "      <td>1.708011</td>\n",
       "      <td>0.409150</td>\n",
       "      <td>0.006401</td>\n",
       "      <td>6.411419e-03</td>\n",
       "      <td>7.422163e-05</td>\n",
       "      <td>6.551131e-05</td>\n",
       "      <td>8.000000e+06</td>\n",
       "    </tr>\n",
       "    <tr>\n",
       "      <td>4</td>\n",
       "      <td>0.600300</td>\n",
       "      <td>7.999980e+06</td>\n",
       "      <td>17.323448</td>\n",
       "      <td>2.223508</td>\n",
       "      <td>0.484820</td>\n",
       "      <td>0.036751</td>\n",
       "      <td>3.444662e-02</td>\n",
       "      <td>-1.936820e-03</td>\n",
       "      <td>3.283819e-04</td>\n",
       "      <td>8.000000e+06</td>\n",
       "    </tr>\n",
       "    <tr>\n",
       "      <td>...</td>\n",
       "      <td>...</td>\n",
       "      <td>...</td>\n",
       "      <td>...</td>\n",
       "      <td>...</td>\n",
       "      <td>...</td>\n",
       "      <td>...</td>\n",
       "      <td>...</td>\n",
       "      <td>...</td>\n",
       "      <td>...</td>\n",
       "      <td>...</td>\n",
       "    </tr>\n",
       "    <tr>\n",
       "      <td>1995</td>\n",
       "      <td>299.399700</td>\n",
       "      <td>8.594745e+05</td>\n",
       "      <td>210.537790</td>\n",
       "      <td>52.361002</td>\n",
       "      <td>412.626472</td>\n",
       "      <td>1077.854044</td>\n",
       "      <td>3.500563e+06</td>\n",
       "      <td>3.499777e+06</td>\n",
       "      <td>1.384318e+05</td>\n",
       "      <td>7.861568e+06</td>\n",
       "    </tr>\n",
       "    <tr>\n",
       "      <td>1996</td>\n",
       "      <td>299.549775</td>\n",
       "      <td>8.594686e+05</td>\n",
       "      <td>208.542338</td>\n",
       "      <td>50.797570</td>\n",
       "      <td>410.147997</td>\n",
       "      <td>1067.689596</td>\n",
       "      <td>3.500569e+06</td>\n",
       "      <td>3.499793e+06</td>\n",
       "      <td>1.384320e+05</td>\n",
       "      <td>7.861568e+06</td>\n",
       "    </tr>\n",
       "    <tr>\n",
       "      <td>1997</td>\n",
       "      <td>299.699850</td>\n",
       "      <td>8.594628e+05</td>\n",
       "      <td>206.576160</td>\n",
       "      <td>49.557437</td>\n",
       "      <td>407.302427</td>\n",
       "      <td>1057.663247</td>\n",
       "      <td>3.500575e+06</td>\n",
       "      <td>3.499809e+06</td>\n",
       "      <td>1.384322e+05</td>\n",
       "      <td>7.861568e+06</td>\n",
       "    </tr>\n",
       "    <tr>\n",
       "      <td>1998</td>\n",
       "      <td>299.849925</td>\n",
       "      <td>8.594570e+05</td>\n",
       "      <td>204.644643</td>\n",
       "      <td>48.800661</td>\n",
       "      <td>403.887111</td>\n",
       "      <td>1047.796835</td>\n",
       "      <td>3.500581e+06</td>\n",
       "      <td>3.499825e+06</td>\n",
       "      <td>1.384324e+05</td>\n",
       "      <td>7.861568e+06</td>\n",
       "    </tr>\n",
       "    <tr>\n",
       "      <td>1999</td>\n",
       "      <td>300.000000</td>\n",
       "      <td>8.594512e+05</td>\n",
       "      <td>202.753770</td>\n",
       "      <td>48.704593</td>\n",
       "      <td>399.677549</td>\n",
       "      <td>1038.114656</td>\n",
       "      <td>3.500587e+06</td>\n",
       "      <td>3.499840e+06</td>\n",
       "      <td>1.384326e+05</td>\n",
       "      <td>7.861567e+06</td>\n",
       "    </tr>\n",
       "  </tbody>\n",
       "</table>\n",
       "<p>2000 rows × 10 columns</p>\n",
       "</div>"
      ],
      "text/plain": [
       "               t             S           E          P          I0  \\\n",
       "0       0.000000  7.999980e+06   20.000000   0.000000    0.000000   \n",
       "1       0.150075  7.999980e+06   19.266134   0.683650    0.052297   \n",
       "2       0.300150  7.999980e+06   18.566291   1.246991    0.195051   \n",
       "3       0.450225  7.999980e+06   17.901617   1.708011    0.409150   \n",
       "4       0.600300  7.999980e+06   17.323448   2.223508    0.484820   \n",
       "...          ...           ...         ...        ...         ...   \n",
       "1995  299.399700  8.594745e+05  210.537790  52.361002  412.626472   \n",
       "1996  299.549775  8.594686e+05  208.542338  50.797570  410.147997   \n",
       "1997  299.699850  8.594628e+05  206.576160  49.557437  407.302427   \n",
       "1998  299.849925  8.594570e+05  204.644643  48.800661  403.887111   \n",
       "1999  300.000000  8.594512e+05  202.753770  48.704593  399.677549   \n",
       "\n",
       "               I1            R0            R1             D         total  \n",
       "0        0.000000  0.000000e+00  0.000000e+00  1.310224e-10  8.000000e+06  \n",
       "1        0.000276  2.732834e-04  7.701837e-08  2.761282e-06  8.000000e+06  \n",
       "2        0.002016  2.010537e-03  1.455504e-05  2.045599e-05  8.000000e+06  \n",
       "3        0.006401  6.411419e-03  7.422163e-05  6.551131e-05  8.000000e+06  \n",
       "4        0.036751  3.444662e-02 -1.936820e-03  3.283819e-04  8.000000e+06  \n",
       "...           ...           ...           ...           ...           ...  \n",
       "1995  1077.854044  3.500563e+06  3.499777e+06  1.384318e+05  7.861568e+06  \n",
       "1996  1067.689596  3.500569e+06  3.499793e+06  1.384320e+05  7.861568e+06  \n",
       "1997  1057.663247  3.500575e+06  3.499809e+06  1.384322e+05  7.861568e+06  \n",
       "1998  1047.796835  3.500581e+06  3.499825e+06  1.384324e+05  7.861568e+06  \n",
       "1999  1038.114656  3.500587e+06  3.499840e+06  1.384326e+05  7.861567e+06  \n",
       "\n",
       "[2000 rows x 10 columns]"
      ]
     },
     "execution_count": 343,
     "metadata": {},
     "output_type": "execute_result"
    }
   ],
   "source": [
    "sir_out"
   ]
  },
  {
   "cell_type": "code",
   "execution_count": null,
   "metadata": {},
   "outputs": [],
   "source": []
  },
  {
   "cell_type": "code",
   "execution_count": null,
   "metadata": {},
   "outputs": [],
   "source": []
  },
  {
   "cell_type": "code",
   "execution_count": null,
   "metadata": {},
   "outputs": [],
   "source": []
  }
 ],
 "metadata": {
  "kernelspec": {
   "display_name": "Python 3",
   "language": "python",
   "name": "python3"
  },
  "language_info": {
   "codemirror_mode": {
    "name": "ipython",
    "version": 3
   },
   "file_extension": ".py",
   "mimetype": "text/x-python",
   "name": "python",
   "nbconvert_exporter": "python",
   "pygments_lexer": "ipython3",
   "version": "3.7.6"
  }
 },
 "nbformat": 4,
 "nbformat_minor": 4
}
