{
 "cells": [
  {
   "cell_type": "code",
   "execution_count": 54,
   "metadata": {},
   "outputs": [],
   "source": [
    "import pandas\n",
    "import altair as alt\n",
    "from scipy.optimize import curve_fit\n",
    "import numpy\n",
    "import datetime"
   ]
  },
  {
   "cell_type": "code",
   "execution_count": 55,
   "metadata": {},
   "outputs": [],
   "source": [
    "state = 'NY'\n",
    "data = pandas.read_csv(\"https://covidtracking.com/api/states/daily.csv\")\n",
    "data['date'] =  pandas.to_datetime(data['date'], format='%Y%m%d')\n",
    "data = data[data['state'] == state][['date','positive','negative']].sort_values('date')\n"
   ]
  },
  {
   "cell_type": "code",
   "execution_count": 56,
   "metadata": {},
   "outputs": [],
   "source": [
    "data['new cases'] = data['positive'].diff()"
   ]
  },
  {
   "cell_type": "code",
   "execution_count": 57,
   "metadata": {},
   "outputs": [
    {
     "data": {
      "text/html": [
       "<div>\n",
       "<style scoped>\n",
       "    .dataframe tbody tr th:only-of-type {\n",
       "        vertical-align: middle;\n",
       "    }\n",
       "\n",
       "    .dataframe tbody tr th {\n",
       "        vertical-align: top;\n",
       "    }\n",
       "\n",
       "    .dataframe thead th {\n",
       "        text-align: right;\n",
       "    }\n",
       "</style>\n",
       "<table border=\"1\" class=\"dataframe\">\n",
       "  <thead>\n",
       "    <tr style=\"text-align: right;\">\n",
       "      <th></th>\n",
       "      <th>date</th>\n",
       "      <th>positive</th>\n",
       "      <th>negative</th>\n",
       "      <th>new cases</th>\n",
       "    </tr>\n",
       "  </thead>\n",
       "  <tbody>\n",
       "    <tr>\n",
       "      <td>1367</td>\n",
       "      <td>2020-03-04</td>\n",
       "      <td>6.0</td>\n",
       "      <td>48.0</td>\n",
       "      <td>NaN</td>\n",
       "    </tr>\n",
       "    <tr>\n",
       "      <td>1350</td>\n",
       "      <td>2020-03-05</td>\n",
       "      <td>22.0</td>\n",
       "      <td>76.0</td>\n",
       "      <td>16.0</td>\n",
       "    </tr>\n",
       "    <tr>\n",
       "      <td>1323</td>\n",
       "      <td>2020-03-06</td>\n",
       "      <td>33.0</td>\n",
       "      <td>92.0</td>\n",
       "      <td>11.0</td>\n",
       "    </tr>\n",
       "    <tr>\n",
       "      <td>1282</td>\n",
       "      <td>2020-03-07</td>\n",
       "      <td>76.0</td>\n",
       "      <td>92.0</td>\n",
       "      <td>43.0</td>\n",
       "    </tr>\n",
       "    <tr>\n",
       "      <td>1231</td>\n",
       "      <td>2020-03-08</td>\n",
       "      <td>105.0</td>\n",
       "      <td>92.0</td>\n",
       "      <td>29.0</td>\n",
       "    </tr>\n",
       "    <tr>\n",
       "      <td>1180</td>\n",
       "      <td>2020-03-09</td>\n",
       "      <td>142.0</td>\n",
       "      <td>92.0</td>\n",
       "      <td>37.0</td>\n",
       "    </tr>\n",
       "    <tr>\n",
       "      <td>1129</td>\n",
       "      <td>2020-03-10</td>\n",
       "      <td>173.0</td>\n",
       "      <td>92.0</td>\n",
       "      <td>31.0</td>\n",
       "    </tr>\n",
       "    <tr>\n",
       "      <td>1078</td>\n",
       "      <td>2020-03-11</td>\n",
       "      <td>216.0</td>\n",
       "      <td>92.0</td>\n",
       "      <td>43.0</td>\n",
       "    </tr>\n",
       "    <tr>\n",
       "      <td>1027</td>\n",
       "      <td>2020-03-12</td>\n",
       "      <td>216.0</td>\n",
       "      <td>92.0</td>\n",
       "      <td>0.0</td>\n",
       "    </tr>\n",
       "    <tr>\n",
       "      <td>976</td>\n",
       "      <td>2020-03-13</td>\n",
       "      <td>421.0</td>\n",
       "      <td>2779.0</td>\n",
       "      <td>205.0</td>\n",
       "    </tr>\n",
       "    <tr>\n",
       "      <td>925</td>\n",
       "      <td>2020-03-14</td>\n",
       "      <td>524.0</td>\n",
       "      <td>2779.0</td>\n",
       "      <td>103.0</td>\n",
       "    </tr>\n",
       "    <tr>\n",
       "      <td>874</td>\n",
       "      <td>2020-03-15</td>\n",
       "      <td>729.0</td>\n",
       "      <td>4543.0</td>\n",
       "      <td>205.0</td>\n",
       "    </tr>\n",
       "    <tr>\n",
       "      <td>821</td>\n",
       "      <td>2020-03-16</td>\n",
       "      <td>950.0</td>\n",
       "      <td>4543.0</td>\n",
       "      <td>221.0</td>\n",
       "    </tr>\n",
       "    <tr>\n",
       "      <td>765</td>\n",
       "      <td>2020-03-17</td>\n",
       "      <td>1700.0</td>\n",
       "      <td>5506.0</td>\n",
       "      <td>750.0</td>\n",
       "    </tr>\n",
       "    <tr>\n",
       "      <td>709</td>\n",
       "      <td>2020-03-18</td>\n",
       "      <td>2382.0</td>\n",
       "      <td>12215.0</td>\n",
       "      <td>682.0</td>\n",
       "    </tr>\n",
       "    <tr>\n",
       "      <td>653</td>\n",
       "      <td>2020-03-19</td>\n",
       "      <td>4152.0</td>\n",
       "      <td>18132.0</td>\n",
       "      <td>1770.0</td>\n",
       "    </tr>\n",
       "    <tr>\n",
       "      <td>597</td>\n",
       "      <td>2020-03-20</td>\n",
       "      <td>7102.0</td>\n",
       "      <td>25325.0</td>\n",
       "      <td>2950.0</td>\n",
       "    </tr>\n",
       "    <tr>\n",
       "      <td>541</td>\n",
       "      <td>2020-03-21</td>\n",
       "      <td>10356.0</td>\n",
       "      <td>35081.0</td>\n",
       "      <td>3254.0</td>\n",
       "    </tr>\n",
       "    <tr>\n",
       "      <td>485</td>\n",
       "      <td>2020-03-22</td>\n",
       "      <td>15168.0</td>\n",
       "      <td>46233.0</td>\n",
       "      <td>4812.0</td>\n",
       "    </tr>\n",
       "    <tr>\n",
       "      <td>429</td>\n",
       "      <td>2020-03-23</td>\n",
       "      <td>20875.0</td>\n",
       "      <td>57414.0</td>\n",
       "      <td>5707.0</td>\n",
       "    </tr>\n",
       "    <tr>\n",
       "      <td>373</td>\n",
       "      <td>2020-03-24</td>\n",
       "      <td>25665.0</td>\n",
       "      <td>65605.0</td>\n",
       "      <td>4790.0</td>\n",
       "    </tr>\n",
       "    <tr>\n",
       "      <td>317</td>\n",
       "      <td>2020-03-25</td>\n",
       "      <td>30811.0</td>\n",
       "      <td>72668.0</td>\n",
       "      <td>5146.0</td>\n",
       "    </tr>\n",
       "    <tr>\n",
       "      <td>261</td>\n",
       "      <td>2020-03-26</td>\n",
       "      <td>37258.0</td>\n",
       "      <td>84846.0</td>\n",
       "      <td>6447.0</td>\n",
       "    </tr>\n",
       "    <tr>\n",
       "      <td>205</td>\n",
       "      <td>2020-03-27</td>\n",
       "      <td>44635.0</td>\n",
       "      <td>101118.0</td>\n",
       "      <td>7377.0</td>\n",
       "    </tr>\n",
       "    <tr>\n",
       "      <td>149</td>\n",
       "      <td>2020-03-28</td>\n",
       "      <td>52318.0</td>\n",
       "      <td>103616.0</td>\n",
       "      <td>7683.0</td>\n",
       "    </tr>\n",
       "    <tr>\n",
       "      <td>93</td>\n",
       "      <td>2020-03-29</td>\n",
       "      <td>59513.0</td>\n",
       "      <td>112847.0</td>\n",
       "      <td>7195.0</td>\n",
       "    </tr>\n",
       "    <tr>\n",
       "      <td>37</td>\n",
       "      <td>2020-03-30</td>\n",
       "      <td>66497.0</td>\n",
       "      <td>119971.0</td>\n",
       "      <td>6984.0</td>\n",
       "    </tr>\n",
       "  </tbody>\n",
       "</table>\n",
       "</div>"
      ],
      "text/plain": [
       "           date  positive  negative  new cases\n",
       "1367 2020-03-04       6.0      48.0        NaN\n",
       "1350 2020-03-05      22.0      76.0       16.0\n",
       "1323 2020-03-06      33.0      92.0       11.0\n",
       "1282 2020-03-07      76.0      92.0       43.0\n",
       "1231 2020-03-08     105.0      92.0       29.0\n",
       "1180 2020-03-09     142.0      92.0       37.0\n",
       "1129 2020-03-10     173.0      92.0       31.0\n",
       "1078 2020-03-11     216.0      92.0       43.0\n",
       "1027 2020-03-12     216.0      92.0        0.0\n",
       "976  2020-03-13     421.0    2779.0      205.0\n",
       "925  2020-03-14     524.0    2779.0      103.0\n",
       "874  2020-03-15     729.0    4543.0      205.0\n",
       "821  2020-03-16     950.0    4543.0      221.0\n",
       "765  2020-03-17    1700.0    5506.0      750.0\n",
       "709  2020-03-18    2382.0   12215.0      682.0\n",
       "653  2020-03-19    4152.0   18132.0     1770.0\n",
       "597  2020-03-20    7102.0   25325.0     2950.0\n",
       "541  2020-03-21   10356.0   35081.0     3254.0\n",
       "485  2020-03-22   15168.0   46233.0     4812.0\n",
       "429  2020-03-23   20875.0   57414.0     5707.0\n",
       "373  2020-03-24   25665.0   65605.0     4790.0\n",
       "317  2020-03-25   30811.0   72668.0     5146.0\n",
       "261  2020-03-26   37258.0   84846.0     6447.0\n",
       "205  2020-03-27   44635.0  101118.0     7377.0\n",
       "149  2020-03-28   52318.0  103616.0     7683.0\n",
       "93   2020-03-29   59513.0  112847.0     7195.0\n",
       "37   2020-03-30   66497.0  119971.0     6984.0"
      ]
     },
     "execution_count": 57,
     "metadata": {},
     "output_type": "execute_result"
    }
   ],
   "source": [
    "data"
   ]
  },
  {
   "cell_type": "code",
   "execution_count": 58,
   "metadata": {},
   "outputs": [],
   "source": [
    "melted = data.melt('date')"
   ]
  },
  {
   "cell_type": "code",
   "execution_count": 59,
   "metadata": {},
   "outputs": [
    {
     "data": {
      "application/vnd.vegalite.v3+json": {
       "$schema": "https://vega.github.io/schema/vega-lite/v3.4.0.json",
       "config": {
        "mark": {
         "tooltip": null
        },
        "view": {
         "height": 300,
         "width": 400
        }
       },
       "data": {
        "name": "data-1e7864e719bc7912b655132efa0296ee"
       },
       "datasets": {
        "data-1e7864e719bc7912b655132efa0296ee": [
         {
          "date": "2020-03-04T00:00:00",
          "value": 6,
          "variable": "positive"
         },
         {
          "date": "2020-03-05T00:00:00",
          "value": 22,
          "variable": "positive"
         },
         {
          "date": "2020-03-06T00:00:00",
          "value": 33,
          "variable": "positive"
         },
         {
          "date": "2020-03-07T00:00:00",
          "value": 76,
          "variable": "positive"
         },
         {
          "date": "2020-03-08T00:00:00",
          "value": 105,
          "variable": "positive"
         },
         {
          "date": "2020-03-09T00:00:00",
          "value": 142,
          "variable": "positive"
         },
         {
          "date": "2020-03-10T00:00:00",
          "value": 173,
          "variable": "positive"
         },
         {
          "date": "2020-03-11T00:00:00",
          "value": 216,
          "variable": "positive"
         },
         {
          "date": "2020-03-12T00:00:00",
          "value": 216,
          "variable": "positive"
         },
         {
          "date": "2020-03-13T00:00:00",
          "value": 421,
          "variable": "positive"
         },
         {
          "date": "2020-03-14T00:00:00",
          "value": 524,
          "variable": "positive"
         },
         {
          "date": "2020-03-15T00:00:00",
          "value": 729,
          "variable": "positive"
         },
         {
          "date": "2020-03-16T00:00:00",
          "value": 950,
          "variable": "positive"
         },
         {
          "date": "2020-03-17T00:00:00",
          "value": 1700,
          "variable": "positive"
         },
         {
          "date": "2020-03-18T00:00:00",
          "value": 2382,
          "variable": "positive"
         },
         {
          "date": "2020-03-19T00:00:00",
          "value": 4152,
          "variable": "positive"
         },
         {
          "date": "2020-03-20T00:00:00",
          "value": 7102,
          "variable": "positive"
         },
         {
          "date": "2020-03-21T00:00:00",
          "value": 10356,
          "variable": "positive"
         },
         {
          "date": "2020-03-22T00:00:00",
          "value": 15168,
          "variable": "positive"
         },
         {
          "date": "2020-03-23T00:00:00",
          "value": 20875,
          "variable": "positive"
         },
         {
          "date": "2020-03-24T00:00:00",
          "value": 25665,
          "variable": "positive"
         },
         {
          "date": "2020-03-25T00:00:00",
          "value": 30811,
          "variable": "positive"
         },
         {
          "date": "2020-03-26T00:00:00",
          "value": 37258,
          "variable": "positive"
         },
         {
          "date": "2020-03-27T00:00:00",
          "value": 44635,
          "variable": "positive"
         },
         {
          "date": "2020-03-28T00:00:00",
          "value": 52318,
          "variable": "positive"
         },
         {
          "date": "2020-03-29T00:00:00",
          "value": 59513,
          "variable": "positive"
         },
         {
          "date": "2020-03-30T00:00:00",
          "value": 66497,
          "variable": "positive"
         },
         {
          "date": "2020-03-04T00:00:00",
          "value": 48,
          "variable": "negative"
         },
         {
          "date": "2020-03-05T00:00:00",
          "value": 76,
          "variable": "negative"
         },
         {
          "date": "2020-03-06T00:00:00",
          "value": 92,
          "variable": "negative"
         },
         {
          "date": "2020-03-07T00:00:00",
          "value": 92,
          "variable": "negative"
         },
         {
          "date": "2020-03-08T00:00:00",
          "value": 92,
          "variable": "negative"
         },
         {
          "date": "2020-03-09T00:00:00",
          "value": 92,
          "variable": "negative"
         },
         {
          "date": "2020-03-10T00:00:00",
          "value": 92,
          "variable": "negative"
         },
         {
          "date": "2020-03-11T00:00:00",
          "value": 92,
          "variable": "negative"
         },
         {
          "date": "2020-03-12T00:00:00",
          "value": 92,
          "variable": "negative"
         },
         {
          "date": "2020-03-13T00:00:00",
          "value": 2779,
          "variable": "negative"
         },
         {
          "date": "2020-03-14T00:00:00",
          "value": 2779,
          "variable": "negative"
         },
         {
          "date": "2020-03-15T00:00:00",
          "value": 4543,
          "variable": "negative"
         },
         {
          "date": "2020-03-16T00:00:00",
          "value": 4543,
          "variable": "negative"
         },
         {
          "date": "2020-03-17T00:00:00",
          "value": 5506,
          "variable": "negative"
         },
         {
          "date": "2020-03-18T00:00:00",
          "value": 12215,
          "variable": "negative"
         },
         {
          "date": "2020-03-19T00:00:00",
          "value": 18132,
          "variable": "negative"
         },
         {
          "date": "2020-03-20T00:00:00",
          "value": 25325,
          "variable": "negative"
         },
         {
          "date": "2020-03-21T00:00:00",
          "value": 35081,
          "variable": "negative"
         },
         {
          "date": "2020-03-22T00:00:00",
          "value": 46233,
          "variable": "negative"
         },
         {
          "date": "2020-03-23T00:00:00",
          "value": 57414,
          "variable": "negative"
         },
         {
          "date": "2020-03-24T00:00:00",
          "value": 65605,
          "variable": "negative"
         },
         {
          "date": "2020-03-25T00:00:00",
          "value": 72668,
          "variable": "negative"
         },
         {
          "date": "2020-03-26T00:00:00",
          "value": 84846,
          "variable": "negative"
         },
         {
          "date": "2020-03-27T00:00:00",
          "value": 101118,
          "variable": "negative"
         },
         {
          "date": "2020-03-28T00:00:00",
          "value": 103616,
          "variable": "negative"
         },
         {
          "date": "2020-03-29T00:00:00",
          "value": 112847,
          "variable": "negative"
         },
         {
          "date": "2020-03-30T00:00:00",
          "value": 119971,
          "variable": "negative"
         },
         {
          "date": "2020-03-04T00:00:00",
          "value": null,
          "variable": "new cases"
         },
         {
          "date": "2020-03-05T00:00:00",
          "value": 16,
          "variable": "new cases"
         },
         {
          "date": "2020-03-06T00:00:00",
          "value": 11,
          "variable": "new cases"
         },
         {
          "date": "2020-03-07T00:00:00",
          "value": 43,
          "variable": "new cases"
         },
         {
          "date": "2020-03-08T00:00:00",
          "value": 29,
          "variable": "new cases"
         },
         {
          "date": "2020-03-09T00:00:00",
          "value": 37,
          "variable": "new cases"
         },
         {
          "date": "2020-03-10T00:00:00",
          "value": 31,
          "variable": "new cases"
         },
         {
          "date": "2020-03-11T00:00:00",
          "value": 43,
          "variable": "new cases"
         },
         {
          "date": "2020-03-12T00:00:00",
          "value": 0,
          "variable": "new cases"
         },
         {
          "date": "2020-03-13T00:00:00",
          "value": 205,
          "variable": "new cases"
         },
         {
          "date": "2020-03-14T00:00:00",
          "value": 103,
          "variable": "new cases"
         },
         {
          "date": "2020-03-15T00:00:00",
          "value": 205,
          "variable": "new cases"
         },
         {
          "date": "2020-03-16T00:00:00",
          "value": 221,
          "variable": "new cases"
         },
         {
          "date": "2020-03-17T00:00:00",
          "value": 750,
          "variable": "new cases"
         },
         {
          "date": "2020-03-18T00:00:00",
          "value": 682,
          "variable": "new cases"
         },
         {
          "date": "2020-03-19T00:00:00",
          "value": 1770,
          "variable": "new cases"
         },
         {
          "date": "2020-03-20T00:00:00",
          "value": 2950,
          "variable": "new cases"
         },
         {
          "date": "2020-03-21T00:00:00",
          "value": 3254,
          "variable": "new cases"
         },
         {
          "date": "2020-03-22T00:00:00",
          "value": 4812,
          "variable": "new cases"
         },
         {
          "date": "2020-03-23T00:00:00",
          "value": 5707,
          "variable": "new cases"
         },
         {
          "date": "2020-03-24T00:00:00",
          "value": 4790,
          "variable": "new cases"
         },
         {
          "date": "2020-03-25T00:00:00",
          "value": 5146,
          "variable": "new cases"
         },
         {
          "date": "2020-03-26T00:00:00",
          "value": 6447,
          "variable": "new cases"
         },
         {
          "date": "2020-03-27T00:00:00",
          "value": 7377,
          "variable": "new cases"
         },
         {
          "date": "2020-03-28T00:00:00",
          "value": 7683,
          "variable": "new cases"
         },
         {
          "date": "2020-03-29T00:00:00",
          "value": 7195,
          "variable": "new cases"
         },
         {
          "date": "2020-03-30T00:00:00",
          "value": 6984,
          "variable": "new cases"
         }
        ]
       },
       "encoding": {
        "color": {
         "field": "variable",
         "legend": {
          "title": ""
         },
         "type": "nominal"
        },
        "x": {
         "field": "date",
         "type": "temporal"
        },
        "y": {
         "field": "value",
         "type": "quantitative"
        }
       },
       "mark": "line",
       "title": "Coronavirus in NY"
      },
      "image/png": "[encoded data removed]",
      "text/plain": [
       "<VegaLite 3 object>\n",
       "\n",
       "If you see this message, it means the renderer has not been properly enabled\n",
       "for the frontend that you are using. For more information, see\n",
       "https://altair-viz.github.io/user_guide/troubleshooting.html\n"
      ]
     },
     "execution_count": 59,
     "metadata": {},
     "output_type": "execute_result"
    }
   ],
   "source": [
    "alt.Chart(melted).mark_line().encode(\n",
    "    x='date',\n",
    "    y='value',\n",
    "    color=alt.Color('variable', legend=alt.Legend(title=\"\"))\n",
    ").properties(\n",
    "    title='Coronavirus in ' + state\n",
    ")"
   ]
  },
  {
   "cell_type": "code",
   "execution_count": 60,
   "metadata": {},
   "outputs": [
    {
     "data": {
      "application/vnd.vegalite.v3+json": {
       "$schema": "https://vega.github.io/schema/vega-lite/v3.4.0.json",
       "config": {
        "mark": {
         "tooltip": null
        },
        "view": {
         "height": 300,
         "width": 400
        }
       },
       "datasets": {
        "data-58222a4522d23a130c62d283cc5dbb9a": [
         {
          "date": "2020-03-04T00:00:00",
          "new cases": null
         },
         {
          "date": "2020-03-05T00:00:00",
          "new cases": 16
         },
         {
          "date": "2020-03-06T00:00:00",
          "new cases": 11
         },
         {
          "date": "2020-03-07T00:00:00",
          "new cases": 43
         },
         {
          "date": "2020-03-08T00:00:00",
          "new cases": 29
         },
         {
          "date": "2020-03-09T00:00:00",
          "new cases": 37
         },
         {
          "date": "2020-03-10T00:00:00",
          "new cases": 31
         },
         {
          "date": "2020-03-11T00:00:00",
          "new cases": 43
         },
         {
          "date": "2020-03-12T00:00:00",
          "new cases": 0
         },
         {
          "date": "2020-03-13T00:00:00",
          "new cases": 205
         },
         {
          "date": "2020-03-14T00:00:00",
          "new cases": 103
         },
         {
          "date": "2020-03-15T00:00:00",
          "new cases": 205
         },
         {
          "date": "2020-03-16T00:00:00",
          "new cases": 221
         },
         {
          "date": "2020-03-17T00:00:00",
          "new cases": 750
         },
         {
          "date": "2020-03-18T00:00:00",
          "new cases": 682
         },
         {
          "date": "2020-03-19T00:00:00",
          "new cases": 1770
         },
         {
          "date": "2020-03-20T00:00:00",
          "new cases": 2950
         },
         {
          "date": "2020-03-21T00:00:00",
          "new cases": 3254
         },
         {
          "date": "2020-03-22T00:00:00",
          "new cases": 4812
         },
         {
          "date": "2020-03-23T00:00:00",
          "new cases": 5707
         },
         {
          "date": "2020-03-24T00:00:00",
          "new cases": 4790
         },
         {
          "date": "2020-03-25T00:00:00",
          "new cases": 5146
         },
         {
          "date": "2020-03-26T00:00:00",
          "new cases": 6447
         },
         {
          "date": "2020-03-27T00:00:00",
          "new cases": 7377
         },
         {
          "date": "2020-03-28T00:00:00",
          "new cases": 7683
         },
         {
          "date": "2020-03-29T00:00:00",
          "new cases": 7195
         },
         {
          "date": "2020-03-30T00:00:00",
          "new cases": 6984
         }
        ],
        "data-dee9c4b11d884f6bf5f8dc43ede98d2a": [
         {
          "date": "2020-03-04T00:00:00",
          "positive": 6
         },
         {
          "date": "2020-03-05T00:00:00",
          "positive": 22
         },
         {
          "date": "2020-03-06T00:00:00",
          "positive": 33
         },
         {
          "date": "2020-03-07T00:00:00",
          "positive": 76
         },
         {
          "date": "2020-03-08T00:00:00",
          "positive": 105
         },
         {
          "date": "2020-03-09T00:00:00",
          "positive": 142
         },
         {
          "date": "2020-03-10T00:00:00",
          "positive": 173
         },
         {
          "date": "2020-03-11T00:00:00",
          "positive": 216
         },
         {
          "date": "2020-03-12T00:00:00",
          "positive": 216
         },
         {
          "date": "2020-03-13T00:00:00",
          "positive": 421
         },
         {
          "date": "2020-03-14T00:00:00",
          "positive": 524
         },
         {
          "date": "2020-03-15T00:00:00",
          "positive": 729
         },
         {
          "date": "2020-03-16T00:00:00",
          "positive": 950
         },
         {
          "date": "2020-03-17T00:00:00",
          "positive": 1700
         },
         {
          "date": "2020-03-18T00:00:00",
          "positive": 2382
         },
         {
          "date": "2020-03-19T00:00:00",
          "positive": 4152
         },
         {
          "date": "2020-03-20T00:00:00",
          "positive": 7102
         },
         {
          "date": "2020-03-21T00:00:00",
          "positive": 10356
         },
         {
          "date": "2020-03-22T00:00:00",
          "positive": 15168
         },
         {
          "date": "2020-03-23T00:00:00",
          "positive": 20875
         },
         {
          "date": "2020-03-24T00:00:00",
          "positive": 25665
         },
         {
          "date": "2020-03-25T00:00:00",
          "positive": 30811
         },
         {
          "date": "2020-03-26T00:00:00",
          "positive": 37258
         },
         {
          "date": "2020-03-27T00:00:00",
          "positive": 44635
         },
         {
          "date": "2020-03-28T00:00:00",
          "positive": 52318
         },
         {
          "date": "2020-03-29T00:00:00",
          "positive": 59513
         },
         {
          "date": "2020-03-30T00:00:00",
          "positive": 66497
         }
        ]
       },
       "layer": [
        {
         "data": {
          "name": "data-dee9c4b11d884f6bf5f8dc43ede98d2a"
         },
         "encoding": {
          "x": {
           "field": "date",
           "type": "temporal"
          },
          "y": {
           "field": "positive",
           "type": "quantitative"
          }
         },
         "mark": "line"
        },
        {
         "data": {
          "name": "data-58222a4522d23a130c62d283cc5dbb9a"
         },
         "encoding": {
          "x": {
           "field": "date",
           "type": "temporal"
          },
          "y": {
           "field": "new cases",
           "type": "quantitative"
          }
         },
         "mark": "bar",
         "title": "Coronavirus in NY"
        }
       ]
      },
      "image/png": "[encoded data removed]",
      "text/plain": [
       "<VegaLite 3 object>\n",
       "\n",
       "If you see this message, it means the renderer has not been properly enabled\n",
       "for the frontend that you are using. For more information, see\n",
       "https://altair-viz.github.io/user_guide/troubleshooting.html\n"
      ]
     },
     "execution_count": 60,
     "metadata": {},
     "output_type": "execute_result"
    }
   ],
   "source": [
    "alt.Chart(data[['date', 'positive']]).mark_line().encode(\n",
    "    x='date',\n",
    "    y='positive'\n",
    ") + alt.Chart(data[['date', 'new cases']]).mark_bar().encode(\n",
    "    x='date',\n",
    "    y='new cases'\n",
    ").properties(\n",
    "    title='Coronavirus in ' + state\n",
    ") \n",
    "\n",
    "\n"
   ]
  },
  {
   "cell_type": "code",
   "execution_count": 61,
   "metadata": {},
   "outputs": [
    {
     "data": {
      "application/vnd.vegalite.v3+json": {
       "$schema": "https://vega.github.io/schema/vega-lite/v3.4.0.json",
       "config": {
        "mark": {
         "tooltip": null
        },
        "view": {
         "height": 300,
         "width": 400
        }
       },
       "data": {
        "name": "data-d2a38466864bc792df0702aa4326dea4"
       },
       "datasets": {
        "data-d2a38466864bc792df0702aa4326dea4": [
         {
          "date": "2020-03-04T00:00:00",
          "negative": 48,
          "new cases": null,
          "positive": 6
         },
         {
          "date": "2020-03-05T00:00:00",
          "negative": 76,
          "new cases": 16,
          "positive": 22
         },
         {
          "date": "2020-03-06T00:00:00",
          "negative": 92,
          "new cases": 11,
          "positive": 33
         },
         {
          "date": "2020-03-07T00:00:00",
          "negative": 92,
          "new cases": 43,
          "positive": 76
         },
         {
          "date": "2020-03-08T00:00:00",
          "negative": 92,
          "new cases": 29,
          "positive": 105
         },
         {
          "date": "2020-03-09T00:00:00",
          "negative": 92,
          "new cases": 37,
          "positive": 142
         },
         {
          "date": "2020-03-10T00:00:00",
          "negative": 92,
          "new cases": 31,
          "positive": 173
         },
         {
          "date": "2020-03-11T00:00:00",
          "negative": 92,
          "new cases": 43,
          "positive": 216
         },
         {
          "date": "2020-03-12T00:00:00",
          "negative": 92,
          "new cases": 0,
          "positive": 216
         },
         {
          "date": "2020-03-13T00:00:00",
          "negative": 2779,
          "new cases": 205,
          "positive": 421
         },
         {
          "date": "2020-03-14T00:00:00",
          "negative": 2779,
          "new cases": 103,
          "positive": 524
         },
         {
          "date": "2020-03-15T00:00:00",
          "negative": 4543,
          "new cases": 205,
          "positive": 729
         },
         {
          "date": "2020-03-16T00:00:00",
          "negative": 4543,
          "new cases": 221,
          "positive": 950
         },
         {
          "date": "2020-03-17T00:00:00",
          "negative": 5506,
          "new cases": 750,
          "positive": 1700
         },
         {
          "date": "2020-03-18T00:00:00",
          "negative": 12215,
          "new cases": 682,
          "positive": 2382
         },
         {
          "date": "2020-03-19T00:00:00",
          "negative": 18132,
          "new cases": 1770,
          "positive": 4152
         },
         {
          "date": "2020-03-20T00:00:00",
          "negative": 25325,
          "new cases": 2950,
          "positive": 7102
         },
         {
          "date": "2020-03-21T00:00:00",
          "negative": 35081,
          "new cases": 3254,
          "positive": 10356
         },
         {
          "date": "2020-03-22T00:00:00",
          "negative": 46233,
          "new cases": 4812,
          "positive": 15168
         },
         {
          "date": "2020-03-23T00:00:00",
          "negative": 57414,
          "new cases": 5707,
          "positive": 20875
         },
         {
          "date": "2020-03-24T00:00:00",
          "negative": 65605,
          "new cases": 4790,
          "positive": 25665
         },
         {
          "date": "2020-03-25T00:00:00",
          "negative": 72668,
          "new cases": 5146,
          "positive": 30811
         },
         {
          "date": "2020-03-26T00:00:00",
          "negative": 84846,
          "new cases": 6447,
          "positive": 37258
         },
         {
          "date": "2020-03-27T00:00:00",
          "negative": 101118,
          "new cases": 7377,
          "positive": 44635
         },
         {
          "date": "2020-03-28T00:00:00",
          "negative": 103616,
          "new cases": 7683,
          "positive": 52318
         },
         {
          "date": "2020-03-29T00:00:00",
          "negative": 112847,
          "new cases": 7195,
          "positive": 59513
         },
         {
          "date": "2020-03-30T00:00:00",
          "negative": 119971,
          "new cases": 6984,
          "positive": 66497
         }
        ]
       },
       "encoding": {
        "x": {
         "field": "date",
         "type": "temporal"
        },
        "y": {
         "field": "new cases",
         "type": "quantitative"
        }
       },
       "height": 100,
       "mark": "bar",
       "title": "New Cases per Day in NY"
      },
      "image/png": "[encoded data removed]",
      "text/plain": [
       "<VegaLite 3 object>\n",
       "\n",
       "If you see this message, it means the renderer has not been properly enabled\n",
       "for the frontend that you are using. For more information, see\n",
       "https://altair-viz.github.io/user_guide/troubleshooting.html\n"
      ]
     },
     "execution_count": 61,
     "metadata": {},
     "output_type": "execute_result"
    }
   ],
   "source": [
    "alt.Chart(data, height=100).mark_bar().encode(\n",
    "    x='date',\n",
    "    y='new cases'\n",
    ").properties(\n",
    "    title='New Cases per Day in ' + state\n",
    ")"
   ]
  },
  {
   "cell_type": "code",
   "execution_count": null,
   "metadata": {},
   "outputs": [],
   "source": []
  },
  {
   "cell_type": "code",
   "execution_count": null,
   "metadata": {},
   "outputs": [],
   "source": []
  },
  {
   "cell_type": "code",
   "execution_count": null,
   "metadata": {},
   "outputs": [],
   "source": []
  },
  {
   "cell_type": "code",
   "execution_count": null,
   "metadata": {},
   "outputs": [],
   "source": []
  }
 ],
 "metadata": {
  "kernelspec": {
   "display_name": "Python 3",
   "language": "python",
   "name": "python3"
  },
  "language_info": {
   "codemirror_mode": {
    "name": "ipython",
    "version": 3
   },
   "file_extension": ".py",
   "mimetype": "text/x-python",
   "name": "python",
   "nbconvert_exporter": "python",
   "pygments_lexer": "ipython3",
   "version": "3.7.6"
  }
 },
 "nbformat": 4,
 "nbformat_minor": 4
}
