{
 "cells": [
  {
   "cell_type": "code",
   "execution_count": 101,
   "metadata": {},
   "outputs": [],
   "source": [
    "import pandas\n",
    "import altair as alt\n",
    "from scipy.optimize import curve_fit\n",
    "import numpy\n",
    "import datetime"
   ]
  },
  {
   "cell_type": "code",
   "execution_count": 102,
   "metadata": {},
   "outputs": [],
   "source": [
    "data = pandas.read_csv(\"https://covidtracking.com/api/states/daily.csv\")\n",
    "data['date'] =  pandas.to_datetime(data['date'], format='%Y%m%d')\n",
    "data = data[data['state'] == 'NY'][['date','positive','negative']].sort_values('date')\n"
   ]
  },
  {
   "cell_type": "code",
   "execution_count": 103,
   "metadata": {},
   "outputs": [],
   "source": [
    "data['new cases'] = data['positive'].diff()"
   ]
  },
  {
   "cell_type": "code",
   "execution_count": 104,
   "metadata": {},
   "outputs": [
    {
     "data": {
      "text/html": [
       "<div>\n",
       "<style scoped>\n",
       "    .dataframe tbody tr th:only-of-type {\n",
       "        vertical-align: middle;\n",
       "    }\n",
       "\n",
       "    .dataframe tbody tr th {\n",
       "        vertical-align: top;\n",
       "    }\n",
       "\n",
       "    .dataframe thead th {\n",
       "        text-align: right;\n",
       "    }\n",
       "</style>\n",
       "<table border=\"1\" class=\"dataframe\">\n",
       "  <thead>\n",
       "    <tr style=\"text-align: right;\">\n",
       "      <th></th>\n",
       "      <th>date</th>\n",
       "      <th>positive</th>\n",
       "      <th>negative</th>\n",
       "      <th>new cases</th>\n",
       "    </tr>\n",
       "  </thead>\n",
       "  <tbody>\n",
       "    <tr>\n",
       "      <td>1143</td>\n",
       "      <td>2020-03-04</td>\n",
       "      <td>6.0</td>\n",
       "      <td>48.0</td>\n",
       "      <td>NaN</td>\n",
       "    </tr>\n",
       "    <tr>\n",
       "      <td>1126</td>\n",
       "      <td>2020-03-05</td>\n",
       "      <td>22.0</td>\n",
       "      <td>76.0</td>\n",
       "      <td>16.0</td>\n",
       "    </tr>\n",
       "    <tr>\n",
       "      <td>1099</td>\n",
       "      <td>2020-03-06</td>\n",
       "      <td>33.0</td>\n",
       "      <td>92.0</td>\n",
       "      <td>11.0</td>\n",
       "    </tr>\n",
       "    <tr>\n",
       "      <td>1058</td>\n",
       "      <td>2020-03-07</td>\n",
       "      <td>76.0</td>\n",
       "      <td>92.0</td>\n",
       "      <td>43.0</td>\n",
       "    </tr>\n",
       "    <tr>\n",
       "      <td>1007</td>\n",
       "      <td>2020-03-08</td>\n",
       "      <td>105.0</td>\n",
       "      <td>92.0</td>\n",
       "      <td>29.0</td>\n",
       "    </tr>\n",
       "    <tr>\n",
       "      <td>956</td>\n",
       "      <td>2020-03-09</td>\n",
       "      <td>142.0</td>\n",
       "      <td>92.0</td>\n",
       "      <td>37.0</td>\n",
       "    </tr>\n",
       "    <tr>\n",
       "      <td>905</td>\n",
       "      <td>2020-03-10</td>\n",
       "      <td>173.0</td>\n",
       "      <td>92.0</td>\n",
       "      <td>31.0</td>\n",
       "    </tr>\n",
       "    <tr>\n",
       "      <td>854</td>\n",
       "      <td>2020-03-11</td>\n",
       "      <td>216.0</td>\n",
       "      <td>92.0</td>\n",
       "      <td>43.0</td>\n",
       "    </tr>\n",
       "    <tr>\n",
       "      <td>803</td>\n",
       "      <td>2020-03-12</td>\n",
       "      <td>216.0</td>\n",
       "      <td>92.0</td>\n",
       "      <td>0.0</td>\n",
       "    </tr>\n",
       "    <tr>\n",
       "      <td>752</td>\n",
       "      <td>2020-03-13</td>\n",
       "      <td>421.0</td>\n",
       "      <td>2779.0</td>\n",
       "      <td>205.0</td>\n",
       "    </tr>\n",
       "    <tr>\n",
       "      <td>701</td>\n",
       "      <td>2020-03-14</td>\n",
       "      <td>524.0</td>\n",
       "      <td>2779.0</td>\n",
       "      <td>103.0</td>\n",
       "    </tr>\n",
       "    <tr>\n",
       "      <td>650</td>\n",
       "      <td>2020-03-15</td>\n",
       "      <td>729.0</td>\n",
       "      <td>4543.0</td>\n",
       "      <td>205.0</td>\n",
       "    </tr>\n",
       "    <tr>\n",
       "      <td>597</td>\n",
       "      <td>2020-03-16</td>\n",
       "      <td>950.0</td>\n",
       "      <td>4543.0</td>\n",
       "      <td>221.0</td>\n",
       "    </tr>\n",
       "    <tr>\n",
       "      <td>541</td>\n",
       "      <td>2020-03-17</td>\n",
       "      <td>1700.0</td>\n",
       "      <td>5506.0</td>\n",
       "      <td>750.0</td>\n",
       "    </tr>\n",
       "    <tr>\n",
       "      <td>485</td>\n",
       "      <td>2020-03-18</td>\n",
       "      <td>2382.0</td>\n",
       "      <td>12215.0</td>\n",
       "      <td>682.0</td>\n",
       "    </tr>\n",
       "    <tr>\n",
       "      <td>429</td>\n",
       "      <td>2020-03-19</td>\n",
       "      <td>4152.0</td>\n",
       "      <td>18132.0</td>\n",
       "      <td>1770.0</td>\n",
       "    </tr>\n",
       "    <tr>\n",
       "      <td>373</td>\n",
       "      <td>2020-03-20</td>\n",
       "      <td>7102.0</td>\n",
       "      <td>25325.0</td>\n",
       "      <td>2950.0</td>\n",
       "    </tr>\n",
       "    <tr>\n",
       "      <td>317</td>\n",
       "      <td>2020-03-21</td>\n",
       "      <td>10356.0</td>\n",
       "      <td>35081.0</td>\n",
       "      <td>3254.0</td>\n",
       "    </tr>\n",
       "    <tr>\n",
       "      <td>261</td>\n",
       "      <td>2020-03-22</td>\n",
       "      <td>15168.0</td>\n",
       "      <td>46233.0</td>\n",
       "      <td>4812.0</td>\n",
       "    </tr>\n",
       "    <tr>\n",
       "      <td>205</td>\n",
       "      <td>2020-03-23</td>\n",
       "      <td>20875.0</td>\n",
       "      <td>57414.0</td>\n",
       "      <td>5707.0</td>\n",
       "    </tr>\n",
       "    <tr>\n",
       "      <td>149</td>\n",
       "      <td>2020-03-24</td>\n",
       "      <td>25665.0</td>\n",
       "      <td>65605.0</td>\n",
       "      <td>4790.0</td>\n",
       "    </tr>\n",
       "    <tr>\n",
       "      <td>93</td>\n",
       "      <td>2020-03-25</td>\n",
       "      <td>30811.0</td>\n",
       "      <td>72668.0</td>\n",
       "      <td>5146.0</td>\n",
       "    </tr>\n",
       "    <tr>\n",
       "      <td>37</td>\n",
       "      <td>2020-03-26</td>\n",
       "      <td>37258.0</td>\n",
       "      <td>84846.0</td>\n",
       "      <td>6447.0</td>\n",
       "    </tr>\n",
       "  </tbody>\n",
       "</table>\n",
       "</div>"
      ],
      "text/plain": [
       "           date  positive  negative  new cases\n",
       "1143 2020-03-04       6.0      48.0        NaN\n",
       "1126 2020-03-05      22.0      76.0       16.0\n",
       "1099 2020-03-06      33.0      92.0       11.0\n",
       "1058 2020-03-07      76.0      92.0       43.0\n",
       "1007 2020-03-08     105.0      92.0       29.0\n",
       "956  2020-03-09     142.0      92.0       37.0\n",
       "905  2020-03-10     173.0      92.0       31.0\n",
       "854  2020-03-11     216.0      92.0       43.0\n",
       "803  2020-03-12     216.0      92.0        0.0\n",
       "752  2020-03-13     421.0    2779.0      205.0\n",
       "701  2020-03-14     524.0    2779.0      103.0\n",
       "650  2020-03-15     729.0    4543.0      205.0\n",
       "597  2020-03-16     950.0    4543.0      221.0\n",
       "541  2020-03-17    1700.0    5506.0      750.0\n",
       "485  2020-03-18    2382.0   12215.0      682.0\n",
       "429  2020-03-19    4152.0   18132.0     1770.0\n",
       "373  2020-03-20    7102.0   25325.0     2950.0\n",
       "317  2020-03-21   10356.0   35081.0     3254.0\n",
       "261  2020-03-22   15168.0   46233.0     4812.0\n",
       "205  2020-03-23   20875.0   57414.0     5707.0\n",
       "149  2020-03-24   25665.0   65605.0     4790.0\n",
       "93   2020-03-25   30811.0   72668.0     5146.0\n",
       "37   2020-03-26   37258.0   84846.0     6447.0"
      ]
     },
     "execution_count": 104,
     "metadata": {},
     "output_type": "execute_result"
    }
   ],
   "source": [
    "data"
   ]
  },
  {
   "cell_type": "code",
   "execution_count": 105,
   "metadata": {},
   "outputs": [],
   "source": [
    "melted = data.melt('date')"
   ]
  },
  {
   "cell_type": "code",
   "execution_count": 106,
   "metadata": {},
   "outputs": [
    {
     "data": {
      "application/vnd.vegalite.v3+json": {
       "$schema": "https://vega.github.io/schema/vega-lite/v3.4.0.json",
       "config": {
        "mark": {
         "tooltip": null
        },
        "view": {
         "height": 300,
         "width": 400
        }
       },
       "data": {
        "name": "data-dcb8941c7533015306210016470827c4"
       },
       "datasets": {
        "data-dcb8941c7533015306210016470827c4": [
         {
          "date": "2020-03-04T00:00:00",
          "value": 6,
          "variable": "positive"
         },
         {
          "date": "2020-03-05T00:00:00",
          "value": 22,
          "variable": "positive"
         },
         {
          "date": "2020-03-06T00:00:00",
          "value": 33,
          "variable": "positive"
         },
         {
          "date": "2020-03-07T00:00:00",
          "value": 76,
          "variable": "positive"
         },
         {
          "date": "2020-03-08T00:00:00",
          "value": 105,
          "variable": "positive"
         },
         {
          "date": "2020-03-09T00:00:00",
          "value": 142,
          "variable": "positive"
         },
         {
          "date": "2020-03-10T00:00:00",
          "value": 173,
          "variable": "positive"
         },
         {
          "date": "2020-03-11T00:00:00",
          "value": 216,
          "variable": "positive"
         },
         {
          "date": "2020-03-12T00:00:00",
          "value": 216,
          "variable": "positive"
         },
         {
          "date": "2020-03-13T00:00:00",
          "value": 421,
          "variable": "positive"
         },
         {
          "date": "2020-03-14T00:00:00",
          "value": 524,
          "variable": "positive"
         },
         {
          "date": "2020-03-15T00:00:00",
          "value": 729,
          "variable": "positive"
         },
         {
          "date": "2020-03-16T00:00:00",
          "value": 950,
          "variable": "positive"
         },
         {
          "date": "2020-03-17T00:00:00",
          "value": 1700,
          "variable": "positive"
         },
         {
          "date": "2020-03-18T00:00:00",
          "value": 2382,
          "variable": "positive"
         },
         {
          "date": "2020-03-19T00:00:00",
          "value": 4152,
          "variable": "positive"
         },
         {
          "date": "2020-03-20T00:00:00",
          "value": 7102,
          "variable": "positive"
         },
         {
          "date": "2020-03-21T00:00:00",
          "value": 10356,
          "variable": "positive"
         },
         {
          "date": "2020-03-22T00:00:00",
          "value": 15168,
          "variable": "positive"
         },
         {
          "date": "2020-03-23T00:00:00",
          "value": 20875,
          "variable": "positive"
         },
         {
          "date": "2020-03-24T00:00:00",
          "value": 25665,
          "variable": "positive"
         },
         {
          "date": "2020-03-25T00:00:00",
          "value": 30811,
          "variable": "positive"
         },
         {
          "date": "2020-03-26T00:00:00",
          "value": 37258,
          "variable": "positive"
         },
         {
          "date": "2020-03-04T00:00:00",
          "value": 48,
          "variable": "negative"
         },
         {
          "date": "2020-03-05T00:00:00",
          "value": 76,
          "variable": "negative"
         },
         {
          "date": "2020-03-06T00:00:00",
          "value": 92,
          "variable": "negative"
         },
         {
          "date": "2020-03-07T00:00:00",
          "value": 92,
          "variable": "negative"
         },
         {
          "date": "2020-03-08T00:00:00",
          "value": 92,
          "variable": "negative"
         },
         {
          "date": "2020-03-09T00:00:00",
          "value": 92,
          "variable": "negative"
         },
         {
          "date": "2020-03-10T00:00:00",
          "value": 92,
          "variable": "negative"
         },
         {
          "date": "2020-03-11T00:00:00",
          "value": 92,
          "variable": "negative"
         },
         {
          "date": "2020-03-12T00:00:00",
          "value": 92,
          "variable": "negative"
         },
         {
          "date": "2020-03-13T00:00:00",
          "value": 2779,
          "variable": "negative"
         },
         {
          "date": "2020-03-14T00:00:00",
          "value": 2779,
          "variable": "negative"
         },
         {
          "date": "2020-03-15T00:00:00",
          "value": 4543,
          "variable": "negative"
         },
         {
          "date": "2020-03-16T00:00:00",
          "value": 4543,
          "variable": "negative"
         },
         {
          "date": "2020-03-17T00:00:00",
          "value": 5506,
          "variable": "negative"
         },
         {
          "date": "2020-03-18T00:00:00",
          "value": 12215,
          "variable": "negative"
         },
         {
          "date": "2020-03-19T00:00:00",
          "value": 18132,
          "variable": "negative"
         },
         {
          "date": "2020-03-20T00:00:00",
          "value": 25325,
          "variable": "negative"
         },
         {
          "date": "2020-03-21T00:00:00",
          "value": 35081,
          "variable": "negative"
         },
         {
          "date": "2020-03-22T00:00:00",
          "value": 46233,
          "variable": "negative"
         },
         {
          "date": "2020-03-23T00:00:00",
          "value": 57414,
          "variable": "negative"
         },
         {
          "date": "2020-03-24T00:00:00",
          "value": 65605,
          "variable": "negative"
         },
         {
          "date": "2020-03-25T00:00:00",
          "value": 72668,
          "variable": "negative"
         },
         {
          "date": "2020-03-26T00:00:00",
          "value": 84846,
          "variable": "negative"
         },
         {
          "date": "2020-03-04T00:00:00",
          "value": null,
          "variable": "new cases"
         },
         {
          "date": "2020-03-05T00:00:00",
          "value": 16,
          "variable": "new cases"
         },
         {
          "date": "2020-03-06T00:00:00",
          "value": 11,
          "variable": "new cases"
         },
         {
          "date": "2020-03-07T00:00:00",
          "value": 43,
          "variable": "new cases"
         },
         {
          "date": "2020-03-08T00:00:00",
          "value": 29,
          "variable": "new cases"
         },
         {
          "date": "2020-03-09T00:00:00",
          "value": 37,
          "variable": "new cases"
         },
         {
          "date": "2020-03-10T00:00:00",
          "value": 31,
          "variable": "new cases"
         },
         {
          "date": "2020-03-11T00:00:00",
          "value": 43,
          "variable": "new cases"
         },
         {
          "date": "2020-03-12T00:00:00",
          "value": 0,
          "variable": "new cases"
         },
         {
          "date": "2020-03-13T00:00:00",
          "value": 205,
          "variable": "new cases"
         },
         {
          "date": "2020-03-14T00:00:00",
          "value": 103,
          "variable": "new cases"
         },
         {
          "date": "2020-03-15T00:00:00",
          "value": 205,
          "variable": "new cases"
         },
         {
          "date": "2020-03-16T00:00:00",
          "value": 221,
          "variable": "new cases"
         },
         {
          "date": "2020-03-17T00:00:00",
          "value": 750,
          "variable": "new cases"
         },
         {
          "date": "2020-03-18T00:00:00",
          "value": 682,
          "variable": "new cases"
         },
         {
          "date": "2020-03-19T00:00:00",
          "value": 1770,
          "variable": "new cases"
         },
         {
          "date": "2020-03-20T00:00:00",
          "value": 2950,
          "variable": "new cases"
         },
         {
          "date": "2020-03-21T00:00:00",
          "value": 3254,
          "variable": "new cases"
         },
         {
          "date": "2020-03-22T00:00:00",
          "value": 4812,
          "variable": "new cases"
         },
         {
          "date": "2020-03-23T00:00:00",
          "value": 5707,
          "variable": "new cases"
         },
         {
          "date": "2020-03-24T00:00:00",
          "value": 4790,
          "variable": "new cases"
         },
         {
          "date": "2020-03-25T00:00:00",
          "value": 5146,
          "variable": "new cases"
         },
         {
          "date": "2020-03-26T00:00:00",
          "value": 6447,
          "variable": "new cases"
         }
        ]
       },
       "encoding": {
        "color": {
         "field": "variable",
         "legend": {
          "title": ""
         },
         "type": "nominal"
        },
        "x": {
         "field": "date",
         "type": "temporal"
        },
        "y": {
         "field": "value",
         "type": "quantitative"
        }
       },
       "mark": "line",
       "title": "Coronavirus in California"
      },
      "image/png": "[encoded data removed]",
      "text/plain": [
       "<VegaLite 3 object>\n",
       "\n",
       "If you see this message, it means the renderer has not been properly enabled\n",
       "for the frontend that you are using. For more information, see\n",
       "https://altair-viz.github.io/user_guide/troubleshooting.html\n"
      ]
     },
     "execution_count": 106,
     "metadata": {},
     "output_type": "execute_result"
    }
   ],
   "source": [
    "alt.Chart(melted).mark_line().encode(\n",
    "    x='date',\n",
    "    y='value',\n",
    "    color=alt.Color('variable', legend=alt.Legend(title=\"\"))\n",
    ").properties(\n",
    "    title='Coronavirus in California'\n",
    ")"
   ]
  },
  {
   "cell_type": "code",
   "execution_count": 107,
   "metadata": {},
   "outputs": [
    {
     "data": {
      "application/vnd.vegalite.v3+json": {
       "$schema": "https://vega.github.io/schema/vega-lite/v3.4.0.json",
       "config": {
        "mark": {
         "tooltip": null
        },
        "view": {
         "height": 300,
         "width": 400
        }
       },
       "data": {
        "name": "data-5ddd573883bc1961fcb864789eb1b957"
       },
       "datasets": {
        "data-5ddd573883bc1961fcb864789eb1b957": [
         {
          "date": "2020-03-04T00:00:00",
          "value": 6,
          "variable": "positive"
         },
         {
          "date": "2020-03-05T00:00:00",
          "value": 22,
          "variable": "positive"
         },
         {
          "date": "2020-03-06T00:00:00",
          "value": 33,
          "variable": "positive"
         },
         {
          "date": "2020-03-07T00:00:00",
          "value": 76,
          "variable": "positive"
         },
         {
          "date": "2020-03-08T00:00:00",
          "value": 105,
          "variable": "positive"
         },
         {
          "date": "2020-03-09T00:00:00",
          "value": 142,
          "variable": "positive"
         },
         {
          "date": "2020-03-10T00:00:00",
          "value": 173,
          "variable": "positive"
         },
         {
          "date": "2020-03-11T00:00:00",
          "value": 216,
          "variable": "positive"
         },
         {
          "date": "2020-03-12T00:00:00",
          "value": 216,
          "variable": "positive"
         },
         {
          "date": "2020-03-13T00:00:00",
          "value": 421,
          "variable": "positive"
         },
         {
          "date": "2020-03-14T00:00:00",
          "value": 524,
          "variable": "positive"
         },
         {
          "date": "2020-03-15T00:00:00",
          "value": 729,
          "variable": "positive"
         },
         {
          "date": "2020-03-16T00:00:00",
          "value": 950,
          "variable": "positive"
         },
         {
          "date": "2020-03-17T00:00:00",
          "value": 1700,
          "variable": "positive"
         },
         {
          "date": "2020-03-18T00:00:00",
          "value": 2382,
          "variable": "positive"
         },
         {
          "date": "2020-03-19T00:00:00",
          "value": 4152,
          "variable": "positive"
         },
         {
          "date": "2020-03-20T00:00:00",
          "value": 7102,
          "variable": "positive"
         },
         {
          "date": "2020-03-21T00:00:00",
          "value": 10356,
          "variable": "positive"
         },
         {
          "date": "2020-03-22T00:00:00",
          "value": 15168,
          "variable": "positive"
         },
         {
          "date": "2020-03-23T00:00:00",
          "value": 20875,
          "variable": "positive"
         },
         {
          "date": "2020-03-24T00:00:00",
          "value": 25665,
          "variable": "positive"
         },
         {
          "date": "2020-03-25T00:00:00",
          "value": 30811,
          "variable": "positive"
         },
         {
          "date": "2020-03-26T00:00:00",
          "value": 37258,
          "variable": "positive"
         },
         {
          "date": "2020-03-04T00:00:00",
          "value": null,
          "variable": "new cases"
         },
         {
          "date": "2020-03-05T00:00:00",
          "value": 16,
          "variable": "new cases"
         },
         {
          "date": "2020-03-06T00:00:00",
          "value": 11,
          "variable": "new cases"
         },
         {
          "date": "2020-03-07T00:00:00",
          "value": 43,
          "variable": "new cases"
         },
         {
          "date": "2020-03-08T00:00:00",
          "value": 29,
          "variable": "new cases"
         },
         {
          "date": "2020-03-09T00:00:00",
          "value": 37,
          "variable": "new cases"
         },
         {
          "date": "2020-03-10T00:00:00",
          "value": 31,
          "variable": "new cases"
         },
         {
          "date": "2020-03-11T00:00:00",
          "value": 43,
          "variable": "new cases"
         },
         {
          "date": "2020-03-12T00:00:00",
          "value": 0,
          "variable": "new cases"
         },
         {
          "date": "2020-03-13T00:00:00",
          "value": 205,
          "variable": "new cases"
         },
         {
          "date": "2020-03-14T00:00:00",
          "value": 103,
          "variable": "new cases"
         },
         {
          "date": "2020-03-15T00:00:00",
          "value": 205,
          "variable": "new cases"
         },
         {
          "date": "2020-03-16T00:00:00",
          "value": 221,
          "variable": "new cases"
         },
         {
          "date": "2020-03-17T00:00:00",
          "value": 750,
          "variable": "new cases"
         },
         {
          "date": "2020-03-18T00:00:00",
          "value": 682,
          "variable": "new cases"
         },
         {
          "date": "2020-03-19T00:00:00",
          "value": 1770,
          "variable": "new cases"
         },
         {
          "date": "2020-03-20T00:00:00",
          "value": 2950,
          "variable": "new cases"
         },
         {
          "date": "2020-03-21T00:00:00",
          "value": 3254,
          "variable": "new cases"
         },
         {
          "date": "2020-03-22T00:00:00",
          "value": 4812,
          "variable": "new cases"
         },
         {
          "date": "2020-03-23T00:00:00",
          "value": 5707,
          "variable": "new cases"
         },
         {
          "date": "2020-03-24T00:00:00",
          "value": 4790,
          "variable": "new cases"
         },
         {
          "date": "2020-03-25T00:00:00",
          "value": 5146,
          "variable": "new cases"
         },
         {
          "date": "2020-03-26T00:00:00",
          "value": 6447,
          "variable": "new cases"
         }
        ]
       },
       "encoding": {
        "color": {
         "field": "variable",
         "legend": {
          "title": ""
         },
         "type": "nominal"
        },
        "x": {
         "field": "date",
         "type": "temporal"
        },
        "y": {
         "field": "value",
         "type": "quantitative"
        }
       },
       "mark": "line",
       "title": "Coronavirus in California"
      },
      "image/png": "[encoded data removed]",
      "text/plain": [
       "<VegaLite 3 object>\n",
       "\n",
       "If you see this message, it means the renderer has not been properly enabled\n",
       "for the frontend that you are using. For more information, see\n",
       "https://altair-viz.github.io/user_guide/troubleshooting.html\n"
      ]
     },
     "execution_count": 107,
     "metadata": {},
     "output_type": "execute_result"
    }
   ],
   "source": [
    "alt.Chart(melted[melted['variable']!='negative']).mark_line().encode(\n",
    "    x='date',\n",
    "    y='value',\n",
    "    color=alt.Color('variable', legend=alt.Legend(title=\"\"))\n",
    ").properties(\n",
    "    title='Coronavirus in California'\n",
    ")"
   ]
  },
  {
   "cell_type": "code",
   "execution_count": 108,
   "metadata": {},
   "outputs": [
    {
     "data": {
      "application/vnd.vegalite.v3+json": {
       "$schema": "https://vega.github.io/schema/vega-lite/v3.4.0.json",
       "config": {
        "mark": {
         "tooltip": null
        },
        "view": {
         "height": 300,
         "width": 400
        }
       },
       "data": {
        "name": "data-3c59ffbf60e4836ee4651b8a38040c72"
       },
       "datasets": {
        "data-3c59ffbf60e4836ee4651b8a38040c72": [
         {
          "date": "2020-03-04T00:00:00",
          "negative": 48,
          "new cases": null,
          "positive": 6
         },
         {
          "date": "2020-03-05T00:00:00",
          "negative": 76,
          "new cases": 16,
          "positive": 22
         },
         {
          "date": "2020-03-06T00:00:00",
          "negative": 92,
          "new cases": 11,
          "positive": 33
         },
         {
          "date": "2020-03-07T00:00:00",
          "negative": 92,
          "new cases": 43,
          "positive": 76
         },
         {
          "date": "2020-03-08T00:00:00",
          "negative": 92,
          "new cases": 29,
          "positive": 105
         },
         {
          "date": "2020-03-09T00:00:00",
          "negative": 92,
          "new cases": 37,
          "positive": 142
         },
         {
          "date": "2020-03-10T00:00:00",
          "negative": 92,
          "new cases": 31,
          "positive": 173
         },
         {
          "date": "2020-03-11T00:00:00",
          "negative": 92,
          "new cases": 43,
          "positive": 216
         },
         {
          "date": "2020-03-12T00:00:00",
          "negative": 92,
          "new cases": 0,
          "positive": 216
         },
         {
          "date": "2020-03-13T00:00:00",
          "negative": 2779,
          "new cases": 205,
          "positive": 421
         },
         {
          "date": "2020-03-14T00:00:00",
          "negative": 2779,
          "new cases": 103,
          "positive": 524
         },
         {
          "date": "2020-03-15T00:00:00",
          "negative": 4543,
          "new cases": 205,
          "positive": 729
         },
         {
          "date": "2020-03-16T00:00:00",
          "negative": 4543,
          "new cases": 221,
          "positive": 950
         },
         {
          "date": "2020-03-17T00:00:00",
          "negative": 5506,
          "new cases": 750,
          "positive": 1700
         },
         {
          "date": "2020-03-18T00:00:00",
          "negative": 12215,
          "new cases": 682,
          "positive": 2382
         },
         {
          "date": "2020-03-19T00:00:00",
          "negative": 18132,
          "new cases": 1770,
          "positive": 4152
         },
         {
          "date": "2020-03-20T00:00:00",
          "negative": 25325,
          "new cases": 2950,
          "positive": 7102
         },
         {
          "date": "2020-03-21T00:00:00",
          "negative": 35081,
          "new cases": 3254,
          "positive": 10356
         },
         {
          "date": "2020-03-22T00:00:00",
          "negative": 46233,
          "new cases": 4812,
          "positive": 15168
         },
         {
          "date": "2020-03-23T00:00:00",
          "negative": 57414,
          "new cases": 5707,
          "positive": 20875
         },
         {
          "date": "2020-03-24T00:00:00",
          "negative": 65605,
          "new cases": 4790,
          "positive": 25665
         },
         {
          "date": "2020-03-25T00:00:00",
          "negative": 72668,
          "new cases": 5146,
          "positive": 30811
         },
         {
          "date": "2020-03-26T00:00:00",
          "negative": 84846,
          "new cases": 6447,
          "positive": 37258
         }
        ]
       },
       "encoding": {
        "x": {
         "field": "date",
         "type": "temporal"
        },
        "y": {
         "field": "new cases",
         "type": "quantitative"
        }
       },
       "mark": "line",
       "title": "New Cases per Day in California"
      },
      "image/png": "[encoded data removed]",
      "text/plain": [
       "<VegaLite 3 object>\n",
       "\n",
       "If you see this message, it means the renderer has not been properly enabled\n",
       "for the frontend that you are using. For more information, see\n",
       "https://altair-viz.github.io/user_guide/troubleshooting.html\n"
      ]
     },
     "execution_count": 108,
     "metadata": {},
     "output_type": "execute_result"
    }
   ],
   "source": [
    "alt.Chart(data).mark_line().encode(\n",
    "    x='date',\n",
    "    y='new cases'\n",
    ").properties(\n",
    "    title='New Cases per Day in California'\n",
    ")"
   ]
  },
  {
   "cell_type": "code",
   "execution_count": null,
   "metadata": {},
   "outputs": [],
   "source": []
  },
  {
   "cell_type": "code",
   "execution_count": null,
   "metadata": {},
   "outputs": [],
   "source": []
  }
 ],
 "metadata": {
  "kernelspec": {
   "display_name": "Python 3",
   "language": "python",
   "name": "python3"
  },
  "language_info": {
   "codemirror_mode": {
    "name": "ipython",
    "version": 3
   },
   "file_extension": ".py",
   "mimetype": "text/x-python",
   "name": "python",
   "nbconvert_exporter": "python",
   "pygments_lexer": "ipython3",
   "version": "3.7.6"
  }
 },
 "nbformat": 4,
 "nbformat_minor": 4
}
