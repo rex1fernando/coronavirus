{
 "cells": [
  {
   "cell_type": "code",
   "execution_count": 1,
   "metadata": {},
   "outputs": [],
   "source": [
    "import pandas\n",
    "import altair as alt\n",
    "from scipy.optimize import curve_fit\n",
    "import numpy\n",
    "import datetime"
   ]
  },
  {
   "cell_type": "code",
   "execution_count": 2,
   "metadata": {},
   "outputs": [],
   "source": [
    "state = 'CA'\n",
    "data = pandas.read_csv(\"https://covidtracking.com/api/states/daily.csv\")\n",
    "data['date'] =  pandas.to_datetime(data['date'], format='%Y%m%d')\n",
    "data = data[data['state'] == state][['date','positive','negative']].sort_values('date')\n"
   ]
  },
  {
   "cell_type": "code",
   "execution_count": 3,
   "metadata": {},
   "outputs": [],
   "source": [
    "data['new cases'] = data['positive'].diff()"
   ]
  },
  {
   "cell_type": "code",
   "execution_count": 4,
   "metadata": {},
   "outputs": [
    {
     "data": {
      "text/html": [
       "<div>\n",
       "<style scoped>\n",
       "    .dataframe tbody tr th:only-of-type {\n",
       "        vertical-align: middle;\n",
       "    }\n",
       "\n",
       "    .dataframe tbody tr th {\n",
       "        vertical-align: top;\n",
       "    }\n",
       "\n",
       "    .dataframe thead th {\n",
       "        text-align: right;\n",
       "    }\n",
       "</style>\n",
       "<table border=\"1\" class=\"dataframe\">\n",
       "  <thead>\n",
       "    <tr style=\"text-align: right;\">\n",
       "      <th></th>\n",
       "      <th>date</th>\n",
       "      <th>positive</th>\n",
       "      <th>negative</th>\n",
       "      <th>new cases</th>\n",
       "    </tr>\n",
       "  </thead>\n",
       "  <tbody>\n",
       "    <tr>\n",
       "      <td>1416</td>\n",
       "      <td>2020-03-04</td>\n",
       "      <td>53.0</td>\n",
       "      <td>462.0</td>\n",
       "      <td>NaN</td>\n",
       "    </tr>\n",
       "    <tr>\n",
       "      <td>1392</td>\n",
       "      <td>2020-03-05</td>\n",
       "      <td>53.0</td>\n",
       "      <td>462.0</td>\n",
       "      <td>0.0</td>\n",
       "    </tr>\n",
       "    <tr>\n",
       "      <td>1358</td>\n",
       "      <td>2020-03-06</td>\n",
       "      <td>60.0</td>\n",
       "      <td>462.0</td>\n",
       "      <td>7.0</td>\n",
       "    </tr>\n",
       "    <tr>\n",
       "      <td>1308</td>\n",
       "      <td>2020-03-07</td>\n",
       "      <td>69.0</td>\n",
       "      <td>462.0</td>\n",
       "      <td>9.0</td>\n",
       "    </tr>\n",
       "    <tr>\n",
       "      <td>1257</td>\n",
       "      <td>2020-03-08</td>\n",
       "      <td>88.0</td>\n",
       "      <td>462.0</td>\n",
       "      <td>19.0</td>\n",
       "    </tr>\n",
       "    <tr>\n",
       "      <td>1206</td>\n",
       "      <td>2020-03-09</td>\n",
       "      <td>114.0</td>\n",
       "      <td>690.0</td>\n",
       "      <td>26.0</td>\n",
       "    </tr>\n",
       "    <tr>\n",
       "      <td>1155</td>\n",
       "      <td>2020-03-10</td>\n",
       "      <td>133.0</td>\n",
       "      <td>690.0</td>\n",
       "      <td>19.0</td>\n",
       "    </tr>\n",
       "    <tr>\n",
       "      <td>1104</td>\n",
       "      <td>2020-03-11</td>\n",
       "      <td>157.0</td>\n",
       "      <td>916.0</td>\n",
       "      <td>24.0</td>\n",
       "    </tr>\n",
       "    <tr>\n",
       "      <td>1053</td>\n",
       "      <td>2020-03-12</td>\n",
       "      <td>202.0</td>\n",
       "      <td>916.0</td>\n",
       "      <td>45.0</td>\n",
       "    </tr>\n",
       "    <tr>\n",
       "      <td>1002</td>\n",
       "      <td>2020-03-13</td>\n",
       "      <td>202.0</td>\n",
       "      <td>916.0</td>\n",
       "      <td>0.0</td>\n",
       "    </tr>\n",
       "    <tr>\n",
       "      <td>951</td>\n",
       "      <td>2020-03-14</td>\n",
       "      <td>252.0</td>\n",
       "      <td>916.0</td>\n",
       "      <td>50.0</td>\n",
       "    </tr>\n",
       "    <tr>\n",
       "      <td>900</td>\n",
       "      <td>2020-03-15</td>\n",
       "      <td>293.0</td>\n",
       "      <td>916.0</td>\n",
       "      <td>41.0</td>\n",
       "    </tr>\n",
       "    <tr>\n",
       "      <td>845</td>\n",
       "      <td>2020-03-16</td>\n",
       "      <td>335.0</td>\n",
       "      <td>7981.0</td>\n",
       "      <td>42.0</td>\n",
       "    </tr>\n",
       "    <tr>\n",
       "      <td>789</td>\n",
       "      <td>2020-03-17</td>\n",
       "      <td>483.0</td>\n",
       "      <td>7981.0</td>\n",
       "      <td>148.0</td>\n",
       "    </tr>\n",
       "    <tr>\n",
       "      <td>733</td>\n",
       "      <td>2020-03-18</td>\n",
       "      <td>611.0</td>\n",
       "      <td>7981.0</td>\n",
       "      <td>128.0</td>\n",
       "    </tr>\n",
       "    <tr>\n",
       "      <td>677</td>\n",
       "      <td>2020-03-19</td>\n",
       "      <td>924.0</td>\n",
       "      <td>8787.0</td>\n",
       "      <td>313.0</td>\n",
       "    </tr>\n",
       "    <tr>\n",
       "      <td>621</td>\n",
       "      <td>2020-03-20</td>\n",
       "      <td>1063.0</td>\n",
       "      <td>10424.0</td>\n",
       "      <td>139.0</td>\n",
       "    </tr>\n",
       "    <tr>\n",
       "      <td>565</td>\n",
       "      <td>2020-03-21</td>\n",
       "      <td>1279.0</td>\n",
       "      <td>11249.0</td>\n",
       "      <td>216.0</td>\n",
       "    </tr>\n",
       "    <tr>\n",
       "      <td>509</td>\n",
       "      <td>2020-03-22</td>\n",
       "      <td>1536.0</td>\n",
       "      <td>11304.0</td>\n",
       "      <td>257.0</td>\n",
       "    </tr>\n",
       "    <tr>\n",
       "      <td>453</td>\n",
       "      <td>2020-03-23</td>\n",
       "      <td>1733.0</td>\n",
       "      <td>12567.0</td>\n",
       "      <td>197.0</td>\n",
       "    </tr>\n",
       "    <tr>\n",
       "      <td>397</td>\n",
       "      <td>2020-03-24</td>\n",
       "      <td>2102.0</td>\n",
       "      <td>13452.0</td>\n",
       "      <td>369.0</td>\n",
       "    </tr>\n",
       "    <tr>\n",
       "      <td>341</td>\n",
       "      <td>2020-03-25</td>\n",
       "      <td>2355.0</td>\n",
       "      <td>15921.0</td>\n",
       "      <td>253.0</td>\n",
       "    </tr>\n",
       "    <tr>\n",
       "      <td>285</td>\n",
       "      <td>2020-03-26</td>\n",
       "      <td>3006.0</td>\n",
       "      <td>17380.0</td>\n",
       "      <td>651.0</td>\n",
       "    </tr>\n",
       "    <tr>\n",
       "      <td>229</td>\n",
       "      <td>2020-03-27</td>\n",
       "      <td>3879.0</td>\n",
       "      <td>17380.0</td>\n",
       "      <td>873.0</td>\n",
       "    </tr>\n",
       "    <tr>\n",
       "      <td>173</td>\n",
       "      <td>2020-03-28</td>\n",
       "      <td>4643.0</td>\n",
       "      <td>20549.0</td>\n",
       "      <td>764.0</td>\n",
       "    </tr>\n",
       "    <tr>\n",
       "      <td>117</td>\n",
       "      <td>2020-03-29</td>\n",
       "      <td>5708.0</td>\n",
       "      <td>20549.0</td>\n",
       "      <td>1065.0</td>\n",
       "    </tr>\n",
       "    <tr>\n",
       "      <td>61</td>\n",
       "      <td>2020-03-30</td>\n",
       "      <td>6447.0</td>\n",
       "      <td>20549.0</td>\n",
       "      <td>739.0</td>\n",
       "    </tr>\n",
       "    <tr>\n",
       "      <td>5</td>\n",
       "      <td>2020-03-31</td>\n",
       "      <td>7482.0</td>\n",
       "      <td>21772.0</td>\n",
       "      <td>1035.0</td>\n",
       "    </tr>\n",
       "  </tbody>\n",
       "</table>\n",
       "</div>"
      ],
      "text/plain": [
       "           date  positive  negative  new cases\n",
       "1416 2020-03-04      53.0     462.0        NaN\n",
       "1392 2020-03-05      53.0     462.0        0.0\n",
       "1358 2020-03-06      60.0     462.0        7.0\n",
       "1308 2020-03-07      69.0     462.0        9.0\n",
       "1257 2020-03-08      88.0     462.0       19.0\n",
       "1206 2020-03-09     114.0     690.0       26.0\n",
       "1155 2020-03-10     133.0     690.0       19.0\n",
       "1104 2020-03-11     157.0     916.0       24.0\n",
       "1053 2020-03-12     202.0     916.0       45.0\n",
       "1002 2020-03-13     202.0     916.0        0.0\n",
       "951  2020-03-14     252.0     916.0       50.0\n",
       "900  2020-03-15     293.0     916.0       41.0\n",
       "845  2020-03-16     335.0    7981.0       42.0\n",
       "789  2020-03-17     483.0    7981.0      148.0\n",
       "733  2020-03-18     611.0    7981.0      128.0\n",
       "677  2020-03-19     924.0    8787.0      313.0\n",
       "621  2020-03-20    1063.0   10424.0      139.0\n",
       "565  2020-03-21    1279.0   11249.0      216.0\n",
       "509  2020-03-22    1536.0   11304.0      257.0\n",
       "453  2020-03-23    1733.0   12567.0      197.0\n",
       "397  2020-03-24    2102.0   13452.0      369.0\n",
       "341  2020-03-25    2355.0   15921.0      253.0\n",
       "285  2020-03-26    3006.0   17380.0      651.0\n",
       "229  2020-03-27    3879.0   17380.0      873.0\n",
       "173  2020-03-28    4643.0   20549.0      764.0\n",
       "117  2020-03-29    5708.0   20549.0     1065.0\n",
       "61   2020-03-30    6447.0   20549.0      739.0\n",
       "5    2020-03-31    7482.0   21772.0     1035.0"
      ]
     },
     "execution_count": 4,
     "metadata": {},
     "output_type": "execute_result"
    }
   ],
   "source": [
    "data"
   ]
  },
  {
   "cell_type": "code",
   "execution_count": 5,
   "metadata": {},
   "outputs": [],
   "source": [
    "melted = data.melt('date')"
   ]
  },
  {
   "cell_type": "code",
   "execution_count": 6,
   "metadata": {},
   "outputs": [
    {
     "data": {
      "application/vnd.vegalite.v3+json": {
       "$schema": "https://vega.github.io/schema/vega-lite/v3.4.0.json",
       "config": {
        "mark": {
         "tooltip": null
        },
        "view": {
         "height": 300,
         "width": 400
        }
       },
       "data": {
        "name": "data-91861bdddc4c3d7d62975b1666278f13"
       },
       "datasets": {
        "data-91861bdddc4c3d7d62975b1666278f13": [
         {
          "date": "2020-03-04T00:00:00",
          "value": 53,
          "variable": "positive"
         },
         {
          "date": "2020-03-05T00:00:00",
          "value": 53,
          "variable": "positive"
         },
         {
          "date": "2020-03-06T00:00:00",
          "value": 60,
          "variable": "positive"
         },
         {
          "date": "2020-03-07T00:00:00",
          "value": 69,
          "variable": "positive"
         },
         {
          "date": "2020-03-08T00:00:00",
          "value": 88,
          "variable": "positive"
         },
         {
          "date": "2020-03-09T00:00:00",
          "value": 114,
          "variable": "positive"
         },
         {
          "date": "2020-03-10T00:00:00",
          "value": 133,
          "variable": "positive"
         },
         {
          "date": "2020-03-11T00:00:00",
          "value": 157,
          "variable": "positive"
         },
         {
          "date": "2020-03-12T00:00:00",
          "value": 202,
          "variable": "positive"
         },
         {
          "date": "2020-03-13T00:00:00",
          "value": 202,
          "variable": "positive"
         },
         {
          "date": "2020-03-14T00:00:00",
          "value": 252,
          "variable": "positive"
         },
         {
          "date": "2020-03-15T00:00:00",
          "value": 293,
          "variable": "positive"
         },
         {
          "date": "2020-03-16T00:00:00",
          "value": 335,
          "variable": "positive"
         },
         {
          "date": "2020-03-17T00:00:00",
          "value": 483,
          "variable": "positive"
         },
         {
          "date": "2020-03-18T00:00:00",
          "value": 611,
          "variable": "positive"
         },
         {
          "date": "2020-03-19T00:00:00",
          "value": 924,
          "variable": "positive"
         },
         {
          "date": "2020-03-20T00:00:00",
          "value": 1063,
          "variable": "positive"
         },
         {
          "date": "2020-03-21T00:00:00",
          "value": 1279,
          "variable": "positive"
         },
         {
          "date": "2020-03-22T00:00:00",
          "value": 1536,
          "variable": "positive"
         },
         {
          "date": "2020-03-23T00:00:00",
          "value": 1733,
          "variable": "positive"
         },
         {
          "date": "2020-03-24T00:00:00",
          "value": 2102,
          "variable": "positive"
         },
         {
          "date": "2020-03-25T00:00:00",
          "value": 2355,
          "variable": "positive"
         },
         {
          "date": "2020-03-26T00:00:00",
          "value": 3006,
          "variable": "positive"
         },
         {
          "date": "2020-03-27T00:00:00",
          "value": 3879,
          "variable": "positive"
         },
         {
          "date": "2020-03-28T00:00:00",
          "value": 4643,
          "variable": "positive"
         },
         {
          "date": "2020-03-29T00:00:00",
          "value": 5708,
          "variable": "positive"
         },
         {
          "date": "2020-03-30T00:00:00",
          "value": 6447,
          "variable": "positive"
         },
         {
          "date": "2020-03-31T00:00:00",
          "value": 7482,
          "variable": "positive"
         },
         {
          "date": "2020-03-04T00:00:00",
          "value": 462,
          "variable": "negative"
         },
         {
          "date": "2020-03-05T00:00:00",
          "value": 462,
          "variable": "negative"
         },
         {
          "date": "2020-03-06T00:00:00",
          "value": 462,
          "variable": "negative"
         },
         {
          "date": "2020-03-07T00:00:00",
          "value": 462,
          "variable": "negative"
         },
         {
          "date": "2020-03-08T00:00:00",
          "value": 462,
          "variable": "negative"
         },
         {
          "date": "2020-03-09T00:00:00",
          "value": 690,
          "variable": "negative"
         },
         {
          "date": "2020-03-10T00:00:00",
          "value": 690,
          "variable": "negative"
         },
         {
          "date": "2020-03-11T00:00:00",
          "value": 916,
          "variable": "negative"
         },
         {
          "date": "2020-03-12T00:00:00",
          "value": 916,
          "variable": "negative"
         },
         {
          "date": "2020-03-13T00:00:00",
          "value": 916,
          "variable": "negative"
         },
         {
          "date": "2020-03-14T00:00:00",
          "value": 916,
          "variable": "negative"
         },
         {
          "date": "2020-03-15T00:00:00",
          "value": 916,
          "variable": "negative"
         },
         {
          "date": "2020-03-16T00:00:00",
          "value": 7981,
          "variable": "negative"
         },
         {
          "date": "2020-03-17T00:00:00",
          "value": 7981,
          "variable": "negative"
         },
         {
          "date": "2020-03-18T00:00:00",
          "value": 7981,
          "variable": "negative"
         },
         {
          "date": "2020-03-19T00:00:00",
          "value": 8787,
          "variable": "negative"
         },
         {
          "date": "2020-03-20T00:00:00",
          "value": 10424,
          "variable": "negative"
         },
         {
          "date": "2020-03-21T00:00:00",
          "value": 11249,
          "variable": "negative"
         },
         {
          "date": "2020-03-22T00:00:00",
          "value": 11304,
          "variable": "negative"
         },
         {
          "date": "2020-03-23T00:00:00",
          "value": 12567,
          "variable": "negative"
         },
         {
          "date": "2020-03-24T00:00:00",
          "value": 13452,
          "variable": "negative"
         },
         {
          "date": "2020-03-25T00:00:00",
          "value": 15921,
          "variable": "negative"
         },
         {
          "date": "2020-03-26T00:00:00",
          "value": 17380,
          "variable": "negative"
         },
         {
          "date": "2020-03-27T00:00:00",
          "value": 17380,
          "variable": "negative"
         },
         {
          "date": "2020-03-28T00:00:00",
          "value": 20549,
          "variable": "negative"
         },
         {
          "date": "2020-03-29T00:00:00",
          "value": 20549,
          "variable": "negative"
         },
         {
          "date": "2020-03-30T00:00:00",
          "value": 20549,
          "variable": "negative"
         },
         {
          "date": "2020-03-31T00:00:00",
          "value": 21772,
          "variable": "negative"
         },
         {
          "date": "2020-03-04T00:00:00",
          "value": null,
          "variable": "new cases"
         },
         {
          "date": "2020-03-05T00:00:00",
          "value": 0,
          "variable": "new cases"
         },
         {
          "date": "2020-03-06T00:00:00",
          "value": 7,
          "variable": "new cases"
         },
         {
          "date": "2020-03-07T00:00:00",
          "value": 9,
          "variable": "new cases"
         },
         {
          "date": "2020-03-08T00:00:00",
          "value": 19,
          "variable": "new cases"
         },
         {
          "date": "2020-03-09T00:00:00",
          "value": 26,
          "variable": "new cases"
         },
         {
          "date": "2020-03-10T00:00:00",
          "value": 19,
          "variable": "new cases"
         },
         {
          "date": "2020-03-11T00:00:00",
          "value": 24,
          "variable": "new cases"
         },
         {
          "date": "2020-03-12T00:00:00",
          "value": 45,
          "variable": "new cases"
         },
         {
          "date": "2020-03-13T00:00:00",
          "value": 0,
          "variable": "new cases"
         },
         {
          "date": "2020-03-14T00:00:00",
          "value": 50,
          "variable": "new cases"
         },
         {
          "date": "2020-03-15T00:00:00",
          "value": 41,
          "variable": "new cases"
         },
         {
          "date": "2020-03-16T00:00:00",
          "value": 42,
          "variable": "new cases"
         },
         {
          "date": "2020-03-17T00:00:00",
          "value": 148,
          "variable": "new cases"
         },
         {
          "date": "2020-03-18T00:00:00",
          "value": 128,
          "variable": "new cases"
         },
         {
          "date": "2020-03-19T00:00:00",
          "value": 313,
          "variable": "new cases"
         },
         {
          "date": "2020-03-20T00:00:00",
          "value": 139,
          "variable": "new cases"
         },
         {
          "date": "2020-03-21T00:00:00",
          "value": 216,
          "variable": "new cases"
         },
         {
          "date": "2020-03-22T00:00:00",
          "value": 257,
          "variable": "new cases"
         },
         {
          "date": "2020-03-23T00:00:00",
          "value": 197,
          "variable": "new cases"
         },
         {
          "date": "2020-03-24T00:00:00",
          "value": 369,
          "variable": "new cases"
         },
         {
          "date": "2020-03-25T00:00:00",
          "value": 253,
          "variable": "new cases"
         },
         {
          "date": "2020-03-26T00:00:00",
          "value": 651,
          "variable": "new cases"
         },
         {
          "date": "2020-03-27T00:00:00",
          "value": 873,
          "variable": "new cases"
         },
         {
          "date": "2020-03-28T00:00:00",
          "value": 764,
          "variable": "new cases"
         },
         {
          "date": "2020-03-29T00:00:00",
          "value": 1065,
          "variable": "new cases"
         },
         {
          "date": "2020-03-30T00:00:00",
          "value": 739,
          "variable": "new cases"
         },
         {
          "date": "2020-03-31T00:00:00",
          "value": 1035,
          "variable": "new cases"
         }
        ]
       },
       "encoding": {
        "color": {
         "field": "variable",
         "legend": {
          "title": ""
         },
         "type": "nominal"
        },
        "x": {
         "field": "date",
         "type": "temporal"
        },
        "y": {
         "field": "value",
         "type": "quantitative"
        }
       },
       "mark": "line",
       "title": "Coronavirus in CA"
      },
      "image/png": "[encoded data removed]",
      "text/plain": [
       "<VegaLite 3 object>\n",
       "\n",
       "If you see this message, it means the renderer has not been properly enabled\n",
       "for the frontend that you are using. For more information, see\n",
       "https://altair-viz.github.io/user_guide/troubleshooting.html\n"
      ]
     },
     "execution_count": 6,
     "metadata": {},
     "output_type": "execute_result"
    }
   ],
   "source": [
    "alt.Chart(melted).mark_line().encode(\n",
    "    x='date',\n",
    "    y='value',\n",
    "    color=alt.Color('variable', legend=alt.Legend(title=\"\"))\n",
    ").properties(\n",
    "    title='Coronavirus in ' + state\n",
    ")"
   ]
  },
  {
   "cell_type": "code",
   "execution_count": 7,
   "metadata": {},
   "outputs": [
    {
     "data": {
      "application/vnd.vegalite.v3+json": {
       "$schema": "https://vega.github.io/schema/vega-lite/v3.4.0.json",
       "config": {
        "mark": {
         "tooltip": null
        },
        "view": {
         "height": 300,
         "width": 400
        }
       },
       "datasets": {
        "data-de6a5cee6ea2612b93d49cb36f6b2873": [
         {
          "date": "2020-03-04T00:00:00",
          "positive": 53
         },
         {
          "date": "2020-03-05T00:00:00",
          "positive": 53
         },
         {
          "date": "2020-03-06T00:00:00",
          "positive": 60
         },
         {
          "date": "2020-03-07T00:00:00",
          "positive": 69
         },
         {
          "date": "2020-03-08T00:00:00",
          "positive": 88
         },
         {
          "date": "2020-03-09T00:00:00",
          "positive": 114
         },
         {
          "date": "2020-03-10T00:00:00",
          "positive": 133
         },
         {
          "date": "2020-03-11T00:00:00",
          "positive": 157
         },
         {
          "date": "2020-03-12T00:00:00",
          "positive": 202
         },
         {
          "date": "2020-03-13T00:00:00",
          "positive": 202
         },
         {
          "date": "2020-03-14T00:00:00",
          "positive": 252
         },
         {
          "date": "2020-03-15T00:00:00",
          "positive": 293
         },
         {
          "date": "2020-03-16T00:00:00",
          "positive": 335
         },
         {
          "date": "2020-03-17T00:00:00",
          "positive": 483
         },
         {
          "date": "2020-03-18T00:00:00",
          "positive": 611
         },
         {
          "date": "2020-03-19T00:00:00",
          "positive": 924
         },
         {
          "date": "2020-03-20T00:00:00",
          "positive": 1063
         },
         {
          "date": "2020-03-21T00:00:00",
          "positive": 1279
         },
         {
          "date": "2020-03-22T00:00:00",
          "positive": 1536
         },
         {
          "date": "2020-03-23T00:00:00",
          "positive": 1733
         },
         {
          "date": "2020-03-24T00:00:00",
          "positive": 2102
         },
         {
          "date": "2020-03-25T00:00:00",
          "positive": 2355
         },
         {
          "date": "2020-03-26T00:00:00",
          "positive": 3006
         },
         {
          "date": "2020-03-27T00:00:00",
          "positive": 3879
         },
         {
          "date": "2020-03-28T00:00:00",
          "positive": 4643
         },
         {
          "date": "2020-03-29T00:00:00",
          "positive": 5708
         },
         {
          "date": "2020-03-30T00:00:00",
          "positive": 6447
         },
         {
          "date": "2020-03-31T00:00:00",
          "positive": 7482
         }
        ],
        "data-e83c29f7a725cb3784c0ff36fcf796d2": [
         {
          "date": "2020-03-04T00:00:00",
          "new cases": null
         },
         {
          "date": "2020-03-05T00:00:00",
          "new cases": 0
         },
         {
          "date": "2020-03-06T00:00:00",
          "new cases": 7
         },
         {
          "date": "2020-03-07T00:00:00",
          "new cases": 9
         },
         {
          "date": "2020-03-08T00:00:00",
          "new cases": 19
         },
         {
          "date": "2020-03-09T00:00:00",
          "new cases": 26
         },
         {
          "date": "2020-03-10T00:00:00",
          "new cases": 19
         },
         {
          "date": "2020-03-11T00:00:00",
          "new cases": 24
         },
         {
          "date": "2020-03-12T00:00:00",
          "new cases": 45
         },
         {
          "date": "2020-03-13T00:00:00",
          "new cases": 0
         },
         {
          "date": "2020-03-14T00:00:00",
          "new cases": 50
         },
         {
          "date": "2020-03-15T00:00:00",
          "new cases": 41
         },
         {
          "date": "2020-03-16T00:00:00",
          "new cases": 42
         },
         {
          "date": "2020-03-17T00:00:00",
          "new cases": 148
         },
         {
          "date": "2020-03-18T00:00:00",
          "new cases": 128
         },
         {
          "date": "2020-03-19T00:00:00",
          "new cases": 313
         },
         {
          "date": "2020-03-20T00:00:00",
          "new cases": 139
         },
         {
          "date": "2020-03-21T00:00:00",
          "new cases": 216
         },
         {
          "date": "2020-03-22T00:00:00",
          "new cases": 257
         },
         {
          "date": "2020-03-23T00:00:00",
          "new cases": 197
         },
         {
          "date": "2020-03-24T00:00:00",
          "new cases": 369
         },
         {
          "date": "2020-03-25T00:00:00",
          "new cases": 253
         },
         {
          "date": "2020-03-26T00:00:00",
          "new cases": 651
         },
         {
          "date": "2020-03-27T00:00:00",
          "new cases": 873
         },
         {
          "date": "2020-03-28T00:00:00",
          "new cases": 764
         },
         {
          "date": "2020-03-29T00:00:00",
          "new cases": 1065
         },
         {
          "date": "2020-03-30T00:00:00",
          "new cases": 739
         },
         {
          "date": "2020-03-31T00:00:00",
          "new cases": 1035
         }
        ]
       },
       "layer": [
        {
         "data": {
          "name": "data-de6a5cee6ea2612b93d49cb36f6b2873"
         },
         "encoding": {
          "x": {
           "field": "date",
           "type": "temporal"
          },
          "y": {
           "field": "positive",
           "type": "quantitative"
          }
         },
         "mark": "line"
        },
        {
         "data": {
          "name": "data-e83c29f7a725cb3784c0ff36fcf796d2"
         },
         "encoding": {
          "x": {
           "field": "date",
           "type": "temporal"
          },
          "y": {
           "field": "new cases",
           "type": "quantitative"
          }
         },
         "mark": "bar",
         "title": "Coronavirus in CA"
        }
       ]
      },
      "image/png": "[encoded data removed]",
      "text/plain": [
       "<VegaLite 3 object>\n",
       "\n",
       "If you see this message, it means the renderer has not been properly enabled\n",
       "for the frontend that you are using. For more information, see\n",
       "https://altair-viz.github.io/user_guide/troubleshooting.html\n"
      ]
     },
     "execution_count": 7,
     "metadata": {},
     "output_type": "execute_result"
    }
   ],
   "source": [
    "alt.Chart(data[['date', 'positive']]).mark_line().encode(\n",
    "    x='date',\n",
    "    y='positive'\n",
    ") + alt.Chart(data[['date', 'new cases']]).mark_bar().encode(\n",
    "    x='date',\n",
    "    y='new cases'\n",
    ").properties(\n",
    "    title='Coronavirus in ' + state\n",
    ") \n",
    "\n",
    "\n"
   ]
  },
  {
   "cell_type": "code",
   "execution_count": 9,
   "metadata": {},
   "outputs": [
    {
     "data": {
      "application/vnd.vegalite.v3+json": {
       "$schema": "https://vega.github.io/schema/vega-lite/v3.4.0.json",
       "config": {
        "mark": {
         "tooltip": null
        },
        "view": {
         "height": 300,
         "width": 400
        }
       },
       "data": {
        "name": "data-af4095a713b2e0326786545e11578f2a"
       },
       "datasets": {
        "data-af4095a713b2e0326786545e11578f2a": [
         {
          "date": "2020-03-04T00:00:00",
          "negative": 462,
          "new cases": null,
          "positive": 53
         },
         {
          "date": "2020-03-05T00:00:00",
          "negative": 462,
          "new cases": 0,
          "positive": 53
         },
         {
          "date": "2020-03-06T00:00:00",
          "negative": 462,
          "new cases": 7,
          "positive": 60
         },
         {
          "date": "2020-03-07T00:00:00",
          "negative": 462,
          "new cases": 9,
          "positive": 69
         },
         {
          "date": "2020-03-08T00:00:00",
          "negative": 462,
          "new cases": 19,
          "positive": 88
         },
         {
          "date": "2020-03-09T00:00:00",
          "negative": 690,
          "new cases": 26,
          "positive": 114
         },
         {
          "date": "2020-03-10T00:00:00",
          "negative": 690,
          "new cases": 19,
          "positive": 133
         },
         {
          "date": "2020-03-11T00:00:00",
          "negative": 916,
          "new cases": 24,
          "positive": 157
         },
         {
          "date": "2020-03-12T00:00:00",
          "negative": 916,
          "new cases": 45,
          "positive": 202
         },
         {
          "date": "2020-03-13T00:00:00",
          "negative": 916,
          "new cases": 0,
          "positive": 202
         },
         {
          "date": "2020-03-14T00:00:00",
          "negative": 916,
          "new cases": 50,
          "positive": 252
         },
         {
          "date": "2020-03-15T00:00:00",
          "negative": 916,
          "new cases": 41,
          "positive": 293
         },
         {
          "date": "2020-03-16T00:00:00",
          "negative": 7981,
          "new cases": 42,
          "positive": 335
         },
         {
          "date": "2020-03-17T00:00:00",
          "negative": 7981,
          "new cases": 148,
          "positive": 483
         },
         {
          "date": "2020-03-18T00:00:00",
          "negative": 7981,
          "new cases": 128,
          "positive": 611
         },
         {
          "date": "2020-03-19T00:00:00",
          "negative": 8787,
          "new cases": 313,
          "positive": 924
         },
         {
          "date": "2020-03-20T00:00:00",
          "negative": 10424,
          "new cases": 139,
          "positive": 1063
         },
         {
          "date": "2020-03-21T00:00:00",
          "negative": 11249,
          "new cases": 216,
          "positive": 1279
         },
         {
          "date": "2020-03-22T00:00:00",
          "negative": 11304,
          "new cases": 257,
          "positive": 1536
         },
         {
          "date": "2020-03-23T00:00:00",
          "negative": 12567,
          "new cases": 197,
          "positive": 1733
         },
         {
          "date": "2020-03-24T00:00:00",
          "negative": 13452,
          "new cases": 369,
          "positive": 2102
         },
         {
          "date": "2020-03-25T00:00:00",
          "negative": 15921,
          "new cases": 253,
          "positive": 2355
         },
         {
          "date": "2020-03-26T00:00:00",
          "negative": 17380,
          "new cases": 651,
          "positive": 3006
         },
         {
          "date": "2020-03-27T00:00:00",
          "negative": 17380,
          "new cases": 873,
          "positive": 3879
         },
         {
          "date": "2020-03-28T00:00:00",
          "negative": 20549,
          "new cases": 764,
          "positive": 4643
         },
         {
          "date": "2020-03-29T00:00:00",
          "negative": 20549,
          "new cases": 1065,
          "positive": 5708
         },
         {
          "date": "2020-03-30T00:00:00",
          "negative": 20549,
          "new cases": 739,
          "positive": 6447
         },
         {
          "date": "2020-03-31T00:00:00",
          "negative": 21772,
          "new cases": 1035,
          "positive": 7482
         }
        ]
       },
       "encoding": {
        "x": {
         "field": "date",
         "type": "temporal"
        },
        "y": {
         "field": "new cases",
         "type": "quantitative"
        }
       },
       "height": 100,
       "mark": "bar",
       "title": "New Cases per Day in CA"
      },
      "image/png": "[encoded data removed]",
      "text/plain": [
       "<VegaLite 3 object>\n",
       "\n",
       "If you see this message, it means the renderer has not been properly enabled\n",
       "for the frontend that you are using. For more information, see\n",
       "https://altair-viz.github.io/user_guide/troubleshooting.html\n"
      ]
     },
     "execution_count": 9,
     "metadata": {},
     "output_type": "execute_result"
    }
   ],
   "source": [
    "alt.Chart(data, height=100).mark_bar().encode(\n",
    "    x='date',\n",
    "    y='new cases'\n",
    ").properties(\n",
    "    title='New Cases per Day in ' + state\n",
    ")"
   ]
  }
 ],
 "metadata": {
  "kernelspec": {
   "display_name": "Python 3",
   "language": "python",
   "name": "python3"
  },
  "language_info": {
   "codemirror_mode": {
    "name": "ipython",
    "version": 3
   },
   "file_extension": ".py",
   "mimetype": "text/x-python",
   "name": "python",
   "nbconvert_exporter": "python",
   "pygments_lexer": "ipython3",
   "version": "3.7.6"
  }
 },
 "nbformat": 4,
 "nbformat_minor": 4
}
